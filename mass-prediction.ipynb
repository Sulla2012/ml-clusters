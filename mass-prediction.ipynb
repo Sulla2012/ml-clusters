{
 "cells": [
  {
   "cell_type": "code",
   "execution_count": 3,
   "id": "76fc5a93",
   "metadata": {},
   "outputs": [
    {
     "name": "stdout",
     "output_type": "stream",
     "text": [
      "The autoreload extension is already loaded. To reload it, use:\n",
      "  %reload_ext autoreload\n"
     ]
    },
    {
     "name": "stderr",
     "output_type": "stream",
     "text": [
      "2023-01-04 14:08:45.370253: I tensorflow/core/common_runtime/gpu/gpu_device.cc:1525] Created device /job:localhost/replica:0/task:0/device:GPU:0 with 24753 MB memory:  -> device: 0, name: Tesla V100-SXM2-32GB, pci bus id: 0004:04:00.0, compute capability: 7.0\n",
      "2023-01-04 14:08:45.372549: I tensorflow/core/common_runtime/gpu/gpu_device.cc:1525] Created device /job:localhost/replica:0/task:0/device:GPU:1 with 31016 MB memory:  -> device: 1, name: Tesla V100-SXM2-32GB, pci bus id: 0004:05:00.0, compute capability: 7.0\n",
      "2023-01-04 14:08:45.374830: I tensorflow/core/common_runtime/gpu/gpu_device.cc:1525] Created device /job:localhost/replica:0/task:0/device:GPU:2 with 31016 MB memory:  -> device: 2, name: Tesla V100-SXM2-32GB, pci bus id: 0035:03:00.0, compute capability: 7.0\n",
      "2023-01-04 14:08:45.377111: I tensorflow/core/common_runtime/gpu/gpu_device.cc:1525] Created device /job:localhost/replica:0/task:0/device:GPU:3 with 31016 MB memory:  -> device: 3, name: Tesla V100-SXM2-32GB, pci bus id: 0035:04:00.0, compute capability: 7.0\n"
     ]
    }
   ],
   "source": [
    "import pickle as pk\n",
    "import tensorflow as tf\n",
    "import numpy as np\n",
    "import tensorflow as tf\n",
    "from tensorflow.keras import regularizers\n",
    "\n",
    "config = tf.compat.v1.ConfigProto()\n",
    "config.gpu_options.allow_growth = True\n",
    "session = tf.compat.v1.Session(config=config)\n",
    "\n",
    "import os, sys, pathlib, h5py, time\n",
    "\n",
    "from models import make_model\n",
    "\n",
    "import pickle as pk\n",
    "\n",
    "from astropy.nddata import block_reduce\n",
    "\n",
    "from matplotlib import pyplot as plt\n",
    "\n",
    "from astropy.io import fits\n",
    "\n",
    "%load_ext autoreload\n",
    "%autoreload 2\n",
    "\n",
    "%matplotlib inline"
   ]
  },
  {
   "cell_type": "markdown",
   "id": "66ab36b2",
   "metadata": {},
   "source": [
    "# Load and perform some cuts on data"
   ]
  },
  {
   "cell_type": "code",
   "execution_count": 4,
   "id": "0d05c1a2",
   "metadata": {},
   "outputs": [],
   "source": [
    "data_dir = '/project/r/rbond/jorlo/datasets/act_freq_stamps/'\n",
    "\n",
    "with np.load(data_dir + 'all_clusters.npz') as data:\n",
    "    stamps = data['arr_0']\n"
   ]
  },
  {
   "cell_type": "code",
   "execution_count": 5,
   "id": "5a8844ed",
   "metadata": {},
   "outputs": [
    {
     "data": {
      "text/plain": [
       "(4195, 41, 41, 3)"
      ]
     },
     "execution_count": 5,
     "metadata": {},
     "output_type": "execute_result"
    }
   ],
   "source": [
    "stamps.shape"
   ]
  },
  {
   "cell_type": "code",
   "execution_count": 6,
   "id": "a44df28a",
   "metadata": {},
   "outputs": [],
   "source": [
    "#cuts out any maps that have nans in them\n",
    "flags = []\n",
    "for i in range(stamps.shape[0]):\n",
    "        if np.any(np.isnan(stamps[i,...])):\n",
    "                flags.append(i)\n",
    "\n",
    "stamps = np.delete(stamps, flags, axis = 0)"
   ]
  },
  {
   "cell_type": "code",
   "execution_count": 7,
   "id": "a19f59c5",
   "metadata": {},
   "outputs": [
    {
     "data": {
      "text/plain": [
       "<matplotlib.colorbar.Colorbar at 0x7ffc8805d670>"
      ]
     },
     "execution_count": 7,
     "metadata": {},
     "output_type": "execute_result"
    },
    {
     "data": {
      "image/png": "[encoded data removed]",
      "text/plain": [
       "<Figure size 432x288 with 2 Axes>"
      ]
     },
     "metadata": {
      "needs_background": "light"
     },
     "output_type": "display_data"
    }
   ],
   "source": [
    "plt.imshow(stamps[50,...,0])\n",
    "plt.colorbar()"
   ]
  },
  {
   "cell_type": "code",
   "execution_count": 8,
   "id": "74cc6812",
   "metadata": {},
   "outputs": [],
   "source": [
    "stamps /= 300"
   ]
  },
  {
   "cell_type": "code",
   "execution_count": 9,
   "id": "d5d5df1f",
   "metadata": {},
   "outputs": [
    {
     "name": "stderr",
     "output_type": "stream",
     "text": [
      "2023-01-04 14:08:50.368590: I tensorflow/core/common_runtime/gpu/gpu_device.cc:1525] Created device /job:localhost/replica:0/task:0/device:GPU:0 with 24753 MB memory:  -> device: 0, name: Tesla V100-SXM2-32GB, pci bus id: 0004:04:00.0, compute capability: 7.0\n",
      "2023-01-04 14:08:50.370888: I tensorflow/core/common_runtime/gpu/gpu_device.cc:1525] Created device /job:localhost/replica:0/task:0/device:GPU:1 with 31016 MB memory:  -> device: 1, name: Tesla V100-SXM2-32GB, pci bus id: 0004:05:00.0, compute capability: 7.0\n",
      "2023-01-04 14:08:50.373155: I tensorflow/core/common_runtime/gpu/gpu_device.cc:1525] Created device /job:localhost/replica:0/task:0/device:GPU:2 with 31016 MB memory:  -> device: 2, name: Tesla V100-SXM2-32GB, pci bus id: 0035:03:00.0, compute capability: 7.0\n",
      "2023-01-04 14:08:50.375420: I tensorflow/core/common_runtime/gpu/gpu_device.cc:1525] Created device /job:localhost/replica:0/task:0/device:GPU:3 with 31016 MB memory:  -> device: 3, name: Tesla V100-SXM2-32GB, pci bus id: 0035:04:00.0, compute capability: 7.0\n"
     ]
    }
   ],
   "source": [
    "tot = stamps.shape[0]\n",
    "train_size = int(0.7 * tot)\n",
    "val_size = int(0.15 * tot)\n",
    "test_size = int(0.15 * tot)\n",
    "\n",
    "train_stamps = stamps[:train_size]\n",
    "val_stamps = stamps[train_size:train_size + val_size]\n",
    "test_stamps = stamps[train_size + val_size:]\n",
    "\n",
    "input_shape = train_stamps.shape[1:]\n",
    "\n",
    "act_catalog = fits.open('/gpfs/fs0/project/r/rbond/jorlo/cluster_catalogs/DR5_cluster-catalog_v1.0b2.fits')\n",
    "\n",
    "labels = act_catalog[1].data['M500Cal']\n",
    "\n",
    "train_labels = labels[:train_size]\n",
    "val_labels = labels[train_size:train_size + val_size]\n",
    "test_labels = labels[train_size + val_size:]\n",
    "\n",
    "#This just sets the # of samples we include in a trianing epoch, which is called the batch size. Autotune is a bit\n",
    "#of magic that allows tf to dynamically set some hyperparameters in an optimal way. See https://www.tensorflow.org/guide/data_performance\n",
    "batch_size = 500\n",
    "AUTOTUNE = tf.data.AUTOTUNE\n",
    "\n",
    "train_dataset = tf.data.Dataset.from_tensor_slices((train_stamps, train_labels))\n",
    "val_dataset = tf.data.Dataset.from_tensor_slices((val_stamps, val_labels))\n",
    "test_dataset = tf.data.Dataset.from_tensor_slices((test_stamps, test_labels))\n",
    "\n",
    "#We shuffle our data (i.e. just mix up the order) and batch it\n",
    "train_dataset = train_dataset.shuffle(buffer_size=1024).batch(batch_size)\n",
    "val_dataset = val_dataset.shuffle(buffer_size=1024).batch(batch_size)\n",
    "test_dataset = test_dataset.shuffle(buffer_size=1024).batch(batch_size)\n",
    "\n",
    "#Preloads data into memory\n",
    "train_dataset = train_dataset.prefetch(buffer_size=AUTOTUNE)\n",
    "val_dataset = val_dataset.prefetch(buffer_size=AUTOTUNE)\n",
    "test_dataset = test_dataset.prefetch(buffer_size=AUTOTUNE)"
   ]
  },
  {
   "cell_type": "markdown",
   "id": "30758007",
   "metadata": {},
   "source": [
    "# CNN Model"
   ]
  },
  {
   "cell_type": "code",
   "execution_count": 56,
   "id": "191c759d",
   "metadata": {},
   "outputs": [],
   "source": [
    "#Very simple model, this is just from the TF tutorial\n",
    "\n",
    "from tensorflow.keras import layers\n",
    "\n",
    "model = tf.keras.models.Sequential()\n",
    "model.add(layers.Conv2D(32, (3, 3), activation='relu', input_shape=input_shape))\n",
    "model.add(layers.MaxPooling2D((2, 2)))\n",
    "model.add(layers.Conv2D(64, (3, 3), activation='relu'))\n",
    "model.add(layers.MaxPooling2D((2, 2)))\n",
    "model.add(layers.Conv2D(64, (3, 3), activation='relu'))\n",
    "model.add(layers.Flatten())\n",
    "model.add(layers.Dense(64, activation='relu'))\n",
    "model.add(layers.Dense(1))\n",
    "\n",
    "model.compile(loss='mean_absolute_error',\n",
    "                optimizer=tf.keras.optimizers.Adam(0.001))"
   ]
  },
  {
   "cell_type": "code",
   "execution_count": 57,
   "id": "3349e4d4",
   "metadata": {},
   "outputs": [
    {
     "name": "stdout",
     "output_type": "stream",
     "text": [
      "Epoch 1/50\n"
     ]
    },
    {
     "name": "stderr",
     "output_type": "stream",
     "text": [
      "2022-12-02 17:14:48.153909: I tensorflow/stream_executor/cuda/cuda_dnn.cc:368] Loaded cuDNN version 8101\n",
      "2022-12-02 17:15:06.995527: I tensorflow/core/platform/default/subprocess.cc:304] Start cannot spawn child process: No such file or directory\n",
      "2022-12-02 17:15:06.996197: I tensorflow/core/platform/default/subprocess.cc:304] Start cannot spawn child process: No such file or directory\n",
      "2022-12-02 17:15:06.996230: W tensorflow/stream_executor/gpu/asm_compiler.cc:80] Couldn't get ptxas version string: INTERNAL: Couldn't invoke ptxas --version\n",
      "2022-12-02 17:15:06.996813: I tensorflow/core/platform/default/subprocess.cc:304] Start cannot spawn child process: No such file or directory\n",
      "2022-12-02 17:15:06.996877: W tensorflow/stream_executor/gpu/redzone_allocator.cc:314] INTERNAL: Failed to launch ptxas\n",
      "Relying on driver to perform ptx compilation. \n",
      "Modify $PATH to customize ptxas location.\n",
      "This message will be only logged once.\n"
     ]
    },
    {
     "name": "stdout",
     "output_type": "stream",
     "text": [
      "6/6 [==============================] - 35s 115ms/step - loss: 1.8759 - val_loss: 1.3473\n",
      "Epoch 2/50\n",
      "6/6 [==============================] - 0s 30ms/step - loss: 1.1238 - val_loss: 0.9743\n",
      "Epoch 3/50\n",
      "6/6 [==============================] - 0s 29ms/step - loss: 1.0241 - val_loss: 1.0253\n",
      "Epoch 4/50\n",
      "6/6 [==============================] - 0s 28ms/step - loss: 0.9366 - val_loss: 1.0009\n",
      "Epoch 5/50\n",
      "6/6 [==============================] - 0s 29ms/step - loss: 0.9197 - val_loss: 0.9164\n",
      "Epoch 6/50\n",
      "6/6 [==============================] - 0s 27ms/step - loss: 0.8630 - val_loss: 0.9224\n",
      "Epoch 7/50\n",
      "6/6 [==============================] - 0s 28ms/step - loss: 0.8142 - val_loss: 0.9000\n",
      "Epoch 8/50\n",
      "6/6 [==============================] - 0s 28ms/step - loss: 0.7948 - val_loss: 0.8958\n",
      "Epoch 9/50\n",
      "6/6 [==============================] - 0s 29ms/step - loss: 0.7981 - val_loss: 0.9261\n",
      "Epoch 10/50\n",
      "6/6 [==============================] - 0s 28ms/step - loss: 0.8317 - val_loss: 0.8892\n",
      "Epoch 11/50\n",
      "6/6 [==============================] - 0s 29ms/step - loss: 0.8085 - val_loss: 0.8841\n",
      "Epoch 12/50\n",
      "6/6 [==============================] - 0s 30ms/step - loss: 0.7670 - val_loss: 0.8877\n",
      "Epoch 13/50\n",
      "6/6 [==============================] - 0s 29ms/step - loss: 0.7317 - val_loss: 0.8798\n",
      "Epoch 14/50\n",
      "6/6 [==============================] - 0s 30ms/step - loss: 0.7329 - val_loss: 0.8925\n",
      "Epoch 15/50\n",
      "6/6 [==============================] - 0s 31ms/step - loss: 0.7695 - val_loss: 0.8986\n",
      "Epoch 16/50\n",
      "6/6 [==============================] - 0s 29ms/step - loss: 0.7949 - val_loss: 0.8777\n",
      "Epoch 17/50\n",
      "6/6 [==============================] - 0s 27ms/step - loss: 0.7523 - val_loss: 0.8761\n",
      "Epoch 18/50\n",
      "6/6 [==============================] - 0s 30ms/step - loss: 0.7182 - val_loss: 0.8812\n",
      "Epoch 19/50\n",
      "6/6 [==============================] - 0s 28ms/step - loss: 0.6895 - val_loss: 0.8781\n",
      "Epoch 20/50\n",
      "6/6 [==============================] - 0s 27ms/step - loss: 0.7149 - val_loss: 0.8834\n",
      "Epoch 21/50\n",
      "6/6 [==============================] - 0s 28ms/step - loss: 0.7554 - val_loss: 0.8745\n",
      "Epoch 22/50\n",
      "6/6 [==============================] - 0s 27ms/step - loss: 0.7530 - val_loss: 0.8747\n",
      "Epoch 23/50\n",
      "6/6 [==============================] - 0s 29ms/step - loss: 0.6991 - val_loss: 0.8624\n",
      "Epoch 24/50\n",
      "6/6 [==============================] - 0s 30ms/step - loss: 0.6734 - val_loss: 0.8633\n",
      "Epoch 25/50\n",
      "6/6 [==============================] - 0s 29ms/step - loss: 0.6975 - val_loss: 0.8694\n",
      "Epoch 26/50\n",
      "6/6 [==============================] - 0s 27ms/step - loss: 0.7230 - val_loss: 0.8559\n",
      "Epoch 27/50\n",
      "6/6 [==============================] - 0s 27ms/step - loss: 0.6919 - val_loss: 0.8602\n",
      "Epoch 28/50\n",
      "6/6 [==============================] - 0s 28ms/step - loss: 0.6758 - val_loss: 0.8487\n",
      "Epoch 29/50\n",
      "6/6 [==============================] - 0s 28ms/step - loss: 0.6788 - val_loss: 0.8572\n",
      "Epoch 30/50\n",
      "6/6 [==============================] - 0s 28ms/step - loss: 0.6516 - val_loss: 0.8489\n",
      "Epoch 31/50\n",
      "6/6 [==============================] - 0s 30ms/step - loss: 0.6585 - val_loss: 0.8534\n",
      "Epoch 32/50\n",
      "6/6 [==============================] - 0s 29ms/step - loss: 0.6771 - val_loss: 0.8448\n",
      "Epoch 33/50\n",
      "6/6 [==============================] - 0s 29ms/step - loss: 0.6667 - val_loss: 0.8426\n",
      "Epoch 34/50\n",
      "6/6 [==============================] - 0s 26ms/step - loss: 0.6225 - val_loss: 0.8481\n",
      "Epoch 35/50\n",
      "6/6 [==============================] - 0s 28ms/step - loss: 0.6483 - val_loss: 0.8535\n",
      "Epoch 36/50\n",
      "6/6 [==============================] - 0s 30ms/step - loss: 0.6948 - val_loss: 0.8394\n",
      "Epoch 37/50\n",
      "6/6 [==============================] - 0s 28ms/step - loss: 0.6717 - val_loss: 0.8346\n",
      "Epoch 38/50\n",
      "6/6 [==============================] - 0s 28ms/step - loss: 0.6483 - val_loss: 0.8326\n",
      "Epoch 39/50\n",
      "6/6 [==============================] - 0s 29ms/step - loss: 0.6375 - val_loss: 0.8279\n",
      "Epoch 40/50\n",
      "6/6 [==============================] - 0s 31ms/step - loss: 0.6268 - val_loss: 0.8328\n",
      "Epoch 41/50\n",
      "6/6 [==============================] - 0s 30ms/step - loss: 0.6349 - val_loss: 0.8274\n",
      "Epoch 42/50\n",
      "6/6 [==============================] - 0s 34ms/step - loss: 0.6524 - val_loss: 0.8306\n",
      "Epoch 43/50\n",
      "6/6 [==============================] - 0s 32ms/step - loss: 0.6274 - val_loss: 0.8214\n",
      "Epoch 44/50\n",
      "6/6 [==============================] - 0s 29ms/step - loss: 0.6073 - val_loss: 0.8177\n",
      "Epoch 45/50\n",
      "6/6 [==============================] - 0s 31ms/step - loss: 0.6203 - val_loss: 0.8263\n",
      "Epoch 46/50\n",
      "6/6 [==============================] - 0s 30ms/step - loss: 0.6258 - val_loss: 0.8239\n",
      "Epoch 47/50\n",
      "6/6 [==============================] - 0s 31ms/step - loss: 0.6064 - val_loss: 0.8162\n",
      "Epoch 48/50\n",
      "6/6 [==============================] - 0s 30ms/step - loss: 0.6068 - val_loss: 0.8248\n",
      "Epoch 49/50\n",
      "6/6 [==============================] - 0s 28ms/step - loss: 0.5858 - val_loss: 0.8138\n",
      "Epoch 50/50\n",
      "6/6 [==============================] - 0s 27ms/step - loss: 0.5982 - val_loss: 0.8302\n",
      "Distributed time:  45.35399055480957\n",
      "2/2 - 0s - loss: 0.8132 - 89ms/epoch - 45ms/step\n"
     ]
    }
   ],
   "source": [
    "toc = time.time()\n",
    "#Actually fits the model to the data. data_augmentation.flow generates augmented data sets from the data sets we pass it.\n",
    "#Epochs sets the number of rounds of fitting to perform. \n",
    "history = model.fit(train_dataset, epochs=int(50), \n",
    "                    validation_data=val_dataset)\n",
    "tic = time.time()\n",
    "\n",
    "print('Distributed time: ', tic-toc)\n",
    "\n",
    "#Evaluate how well our model does\n",
    "test_loss = model.evaluate(test_dataset, verbose=2)"
   ]
  },
  {
   "cell_type": "code",
   "execution_count": null,
   "id": "6dc1d325",
   "metadata": {},
   "outputs": [],
   "source": []
  },
  {
   "cell_type": "code",
   "execution_count": 32,
   "id": "7359c10e",
   "metadata": {},
   "outputs": [],
   "source": [
    "from tensorflow.keras import optimizers, layers, models, regularizers\n",
    "\n",
    "model = tf.keras.models.Sequential([\n",
    "layers.Conv2D(16, 3, padding='same', activation='relu', kernel_regularizer= regularizers.l2(0.001), input_shape=input_shape),\n",
    "layers.MaxPooling2D(),\n",
    "layers.Dropout(0.2),\n",
    "layers.Conv2D(32, 3, padding='same', activation='relu', kernel_regularizer = regularizers.l2(0.001)),\n",
    "layers.MaxPooling2D(),\n",
    "layers.Conv2D(64, 3, padding='same', activation='relu', kernel_regularizer = regularizers.l2(0.001)),\n",
    "layers.MaxPooling2D(),\n",
    "layers.Dropout(0.2),\n",
    "layers.Flatten(),\n",
    "layers.Dense(512, activation='relu', kernel_regularizer = regularizers.l2(0.001)),\n",
    "layers.Dense(2)])\n",
    "\n",
    "model.compile(loss='mean_absolute_error',\n",
    "                optimizer=tf.keras.optimizers.Adam(0.001))\n",
    "\n"
   ]
  },
  {
   "cell_type": "code",
   "execution_count": 35,
   "id": "3b2875be",
   "metadata": {
    "scrolled": true
   },
   "outputs": [
    {
     "name": "stdout",
     "output_type": "stream",
     "text": [
      "Epoch 1/50\n",
      "92/92 [==============================] - 3s 23ms/step - loss: 0.9632 - val_loss: 0.9910\n",
      "Epoch 2/50\n",
      "92/92 [==============================] - 2s 24ms/step - loss: 0.8939 - val_loss: 0.9876\n",
      "Epoch 3/50\n",
      "92/92 [==============================] - 2s 24ms/step - loss: 0.8773 - val_loss: 0.9375\n",
      "Epoch 4/50\n",
      "92/92 [==============================] - 2s 23ms/step - loss: 0.8628 - val_loss: 1.0255\n",
      "Epoch 5/50\n",
      "92/92 [==============================] - 2s 23ms/step - loss: 0.8110 - val_loss: 0.9692\n",
      "Epoch 6/50\n",
      "92/92 [==============================] - 2s 23ms/step - loss: 0.8129 - val_loss: 0.9733\n",
      "Epoch 7/50\n",
      "92/92 [==============================] - 2s 23ms/step - loss: 0.7913 - val_loss: 0.9357\n",
      "Epoch 8/50\n",
      "92/92 [==============================] - 2s 24ms/step - loss: 0.7803 - val_loss: 0.8934\n",
      "Epoch 9/50\n",
      "92/92 [==============================] - 2s 24ms/step - loss: 0.7693 - val_loss: 0.8994\n",
      "Epoch 10/50\n",
      "92/92 [==============================] - 2s 23ms/step - loss: 0.7721 - val_loss: 0.8937\n",
      "Epoch 11/50\n",
      "92/92 [==============================] - 2s 23ms/step - loss: 0.7606 - val_loss: 0.9456\n",
      "Epoch 12/50\n",
      "92/92 [==============================] - 2s 23ms/step - loss: 0.7574 - val_loss: 0.9081\n",
      "Epoch 13/50\n",
      "92/92 [==============================] - 2s 23ms/step - loss: 0.7606 - val_loss: 0.8781\n",
      "Epoch 14/50\n",
      "92/92 [==============================] - 2s 23ms/step - loss: 0.7608 - val_loss: 0.9418\n",
      "Epoch 15/50\n",
      "92/92 [==============================] - 2s 23ms/step - loss: 0.7313 - val_loss: 0.9510\n",
      "Epoch 16/50\n",
      "92/92 [==============================] - 2s 23ms/step - loss: 0.7390 - val_loss: 0.8716\n",
      "Epoch 17/50\n",
      "92/92 [==============================] - 2s 23ms/step - loss: 0.7284 - val_loss: 0.8790\n",
      "Epoch 18/50\n",
      "92/92 [==============================] - 2s 23ms/step - loss: 0.7339 - val_loss: 0.8809\n",
      "Epoch 19/50\n",
      "92/92 [==============================] - 2s 23ms/step - loss: 0.7223 - val_loss: 0.8957\n",
      "Epoch 20/50\n",
      "92/92 [==============================] - 2s 23ms/step - loss: 0.7303 - val_loss: 0.8960\n",
      "Epoch 21/50\n",
      "92/92 [==============================] - 2s 24ms/step - loss: 0.7358 - val_loss: 0.8667\n",
      "Epoch 22/50\n",
      "92/92 [==============================] - 2s 24ms/step - loss: 0.7427 - val_loss: 0.8840\n",
      "Epoch 23/50\n",
      "92/92 [==============================] - 2s 23ms/step - loss: 0.7265 - val_loss: 0.8934\n",
      "Epoch 24/50\n",
      "92/92 [==============================] - 2s 23ms/step - loss: 0.7244 - val_loss: 0.8947\n",
      "Epoch 25/50\n",
      "92/92 [==============================] - 2s 23ms/step - loss: 0.7160 - val_loss: 0.8576\n",
      "Epoch 26/50\n",
      "92/92 [==============================] - 2s 23ms/step - loss: 0.7183 - val_loss: 0.8579\n",
      "Epoch 27/50\n",
      "92/92 [==============================] - 2s 23ms/step - loss: 0.7235 - val_loss: 0.8581\n",
      "Epoch 28/50\n",
      "92/92 [==============================] - 2s 23ms/step - loss: 0.7179 - val_loss: 0.8875\n",
      "Epoch 29/50\n",
      "92/92 [==============================] - 2s 23ms/step - loss: 0.7182 - val_loss: 0.8534\n",
      "Epoch 30/50\n",
      "92/92 [==============================] - 2s 23ms/step - loss: 0.7191 - val_loss: 0.9039\n",
      "Epoch 31/50\n",
      "92/92 [==============================] - 2s 23ms/step - loss: 0.7080 - val_loss: 0.8758\n",
      "Epoch 32/50\n",
      "92/92 [==============================] - 2s 23ms/step - loss: 0.7043 - val_loss: 0.8668\n",
      "Epoch 33/50\n",
      "92/92 [==============================] - 2s 23ms/step - loss: 0.6987 - val_loss: 0.8674\n",
      "Epoch 34/50\n",
      "92/92 [==============================] - 2s 23ms/step - loss: 0.7097 - val_loss: 0.8563\n",
      "Epoch 35/50\n",
      "92/92 [==============================] - 2s 23ms/step - loss: 0.7072 - val_loss: 0.8944\n",
      "Epoch 36/50\n",
      "92/92 [==============================] - 2s 23ms/step - loss: 0.7072 - val_loss: 0.8622\n",
      "Epoch 37/50\n",
      "92/92 [==============================] - 2s 23ms/step - loss: 0.7265 - val_loss: 0.8794\n",
      "Epoch 38/50\n",
      "92/92 [==============================] - 2s 23ms/step - loss: 0.7048 - val_loss: 0.8507\n",
      "Epoch 39/50\n",
      "92/92 [==============================] - 2s 23ms/step - loss: 0.7098 - val_loss: 0.8817\n",
      "Epoch 40/50\n",
      "92/92 [==============================] - 2s 23ms/step - loss: 0.7049 - val_loss: 0.8487\n",
      "Epoch 41/50\n",
      "92/92 [==============================] - 2s 23ms/step - loss: 0.7019 - val_loss: 0.9014\n",
      "Epoch 42/50\n",
      "92/92 [==============================] - 2s 23ms/step - loss: 0.7216 - val_loss: 0.8730\n",
      "Epoch 43/50\n",
      "92/92 [==============================] - 2s 23ms/step - loss: 0.7120 - val_loss: 0.8558\n",
      "Epoch 44/50\n",
      "92/92 [==============================] - 2s 23ms/step - loss: 0.7026 - val_loss: 0.8674\n",
      "Epoch 45/50\n",
      "92/92 [==============================] - 2s 23ms/step - loss: 0.7032 - val_loss: 0.8727\n",
      "Epoch 46/50\n",
      "92/92 [==============================] - 2s 23ms/step - loss: 0.7022 - val_loss: 0.8459\n",
      "Epoch 47/50\n",
      "92/92 [==============================] - 2s 23ms/step - loss: 0.7150 - val_loss: 0.9237\n",
      "Epoch 48/50\n",
      "92/92 [==============================] - 2s 23ms/step - loss: 0.6952 - val_loss: 0.8677\n",
      "Epoch 49/50\n",
      "92/92 [==============================] - 2s 23ms/step - loss: 0.7045 - val_loss: 0.8556\n",
      "Epoch 50/50\n",
      "92/92 [==============================] - 2s 23ms/step - loss: 0.6887 - val_loss: 0.8443\n",
      "Distributed time:  110.40149569511414\n",
      "2/2 - 0s - loss: 0.9211 - 63ms/epoch - 32ms/step\n"
     ]
    }
   ],
   "source": [
    "toc = time.time()\n",
    "#Actually fits the model to the data. data_augmentation.flow generates augmented data sets from the data sets we pass it.\n",
    "#Epochs sets the number of rounds of fitting to perform. \n",
    "\n",
    "data_augmentation = tf.keras.preprocessing.image.ImageDataGenerator(rotation_range=360, width_shift_range=4,\n",
    "    height_shift_range=4,zoom_range=0.3)\n",
    "\n",
    "\n",
    "history = model.fit(data_augmentation.flow(train_stamps, train_labels), epochs=int(50), \n",
    "                    validation_data=val_dataset)\n",
    "tic = time.time()\n",
    "\n",
    "print('Distributed time: ', tic-toc)\n",
    "\n",
    "#Evaluate how well our model does\n",
    "test_loss = model.evaluate(test_dataset, verbose=2)"
   ]
  },
  {
   "cell_type": "markdown",
   "id": "39a39570",
   "metadata": {},
   "source": [
    "## Ntampka Freqs"
   ]
  },
  {
   "cell_type": "code",
   "execution_count": 10,
   "id": "7f0baddc",
   "metadata": {},
   "outputs": [],
   "source": [
    "from tensorflow.keras import layers\n",
    "\n",
    "model = tf.keras.models.Sequential()\n",
    "model.add(layers.Conv2D(16, (3, 3), activation='relu', input_shape=input_shape))\n",
    "model.add(layers.MaxPooling2D((2, 2), strides = 2))\n",
    "#model.add(layers.Conv2D(64, (3, 3), activation='relu'))\n",
    "#model.add(layers.MaxPooling2D((2, 2)))\n",
    "#model.add(layers.Conv2D(64, (3, 3), activation='relu'))\n",
    "model.add(layers.Flatten())\n",
    "model.add(layers.Dense(64, activation='relu'))\n",
    "model.add(layers.Dense(1))\n",
    "\n",
    "model.compile(loss='mean_squared_error',\n",
    "                optimizer=tf.keras.optimizers.Adam(0.0005))"
   ]
  },
  {
   "cell_type": "code",
   "execution_count": 14,
   "id": "1ee5324b",
   "metadata": {
    "scrolled": true
   },
   "outputs": [
    {
     "name": "stdout",
     "output_type": "stream",
     "text": [
      "Epoch 1/50\n",
      "6/6 [==============================] - 7s 60ms/step - loss: 5.9197 - val_loss: 3.2983\n",
      "Epoch 2/50\n",
      "6/6 [==============================] - 0s 24ms/step - loss: 3.4832 - val_loss: 2.2958\n",
      "Epoch 3/50\n",
      "6/6 [==============================] - 0s 25ms/step - loss: 2.5855 - val_loss: 2.2507\n",
      "Epoch 4/50\n",
      "6/6 [==============================] - 0s 24ms/step - loss: 2.3220 - val_loss: 2.0964\n",
      "Epoch 5/50\n",
      "6/6 [==============================] - 0s 25ms/step - loss: 1.8588 - val_loss: 1.7375\n",
      "Epoch 6/50\n",
      "6/6 [==============================] - 0s 25ms/step - loss: 1.9862 - val_loss: 1.6757\n",
      "Epoch 7/50\n",
      "6/6 [==============================] - 0s 24ms/step - loss: 1.6580 - val_loss: 1.5635\n",
      "Epoch 8/50\n",
      "6/6 [==============================] - 0s 23ms/step - loss: 1.6516 - val_loss: 1.4456\n",
      "Epoch 9/50\n",
      "6/6 [==============================] - 0s 23ms/step - loss: 1.4124 - val_loss: 1.2994\n",
      "Epoch 10/50\n",
      "6/6 [==============================] - 0s 23ms/step - loss: 1.4118 - val_loss: 1.2241\n",
      "Epoch 11/50\n",
      "6/6 [==============================] - 0s 24ms/step - loss: 1.2161 - val_loss: 1.1432\n",
      "Epoch 12/50\n",
      "6/6 [==============================] - 0s 25ms/step - loss: 1.2016 - val_loss: 1.0512\n",
      "Epoch 13/50\n",
      "6/6 [==============================] - 0s 24ms/step - loss: 1.0788 - val_loss: 0.9782\n",
      "Epoch 14/50\n",
      "6/6 [==============================] - 0s 24ms/step - loss: 1.0200 - val_loss: 0.9227\n",
      "Epoch 15/50\n",
      "6/6 [==============================] - 0s 24ms/step - loss: 0.9730 - val_loss: 0.8823\n",
      "Epoch 16/50\n",
      "6/6 [==============================] - 0s 23ms/step - loss: 0.8819 - val_loss: 0.8327\n",
      "Epoch 17/50\n",
      "6/6 [==============================] - 0s 25ms/step - loss: 0.8769 - val_loss: 0.7911\n",
      "Epoch 18/50\n",
      "6/6 [==============================] - 0s 25ms/step - loss: 0.8390 - val_loss: 0.7604\n",
      "Epoch 19/50\n",
      "6/6 [==============================] - 0s 25ms/step - loss: 0.7804 - val_loss: 0.7277\n",
      "Epoch 20/50\n",
      "6/6 [==============================] - 0s 25ms/step - loss: 0.7626 - val_loss: 0.7132\n",
      "Epoch 21/50\n",
      "6/6 [==============================] - 0s 26ms/step - loss: 0.7812 - val_loss: 0.6965\n",
      "Epoch 22/50\n",
      "6/6 [==============================] - 0s 23ms/step - loss: 0.7461 - val_loss: 0.6666\n",
      "Epoch 23/50\n",
      "6/6 [==============================] - 0s 24ms/step - loss: 0.7028 - val_loss: 0.6453\n",
      "Epoch 24/50\n",
      "6/6 [==============================] - 0s 25ms/step - loss: 0.6725 - val_loss: 0.6365\n",
      "Epoch 25/50\n",
      "6/6 [==============================] - 0s 26ms/step - loss: 0.6929 - val_loss: 0.6345\n",
      "Epoch 26/50\n",
      "6/6 [==============================] - 0s 25ms/step - loss: 0.6769 - val_loss: 0.6073\n",
      "Epoch 27/50\n",
      "6/6 [==============================] - 0s 25ms/step - loss: 0.6126 - val_loss: 0.5865\n",
      "Epoch 28/50\n",
      "6/6 [==============================] - 0s 24ms/step - loss: 0.6197 - val_loss: 0.5959\n",
      "Epoch 29/50\n",
      "6/6 [==============================] - 0s 24ms/step - loss: 0.6291 - val_loss: 0.5733\n",
      "Epoch 30/50\n",
      "6/6 [==============================] - 0s 23ms/step - loss: 0.5819 - val_loss: 0.5525\n",
      "Epoch 31/50\n",
      "6/6 [==============================] - 0s 24ms/step - loss: 0.5619 - val_loss: 0.5569\n",
      "Epoch 32/50\n",
      "6/6 [==============================] - 0s 25ms/step - loss: 0.5727 - val_loss: 0.5468\n",
      "Epoch 33/50\n",
      "6/6 [==============================] - 0s 24ms/step - loss: 0.5614 - val_loss: 0.5308\n",
      "Epoch 34/50\n",
      "6/6 [==============================] - 0s 23ms/step - loss: 0.5358 - val_loss: 0.5210\n",
      "Epoch 35/50\n",
      "6/6 [==============================] - 0s 23ms/step - loss: 0.5128 - val_loss: 0.5170\n",
      "Epoch 36/50\n",
      "6/6 [==============================] - 0s 24ms/step - loss: 0.4942 - val_loss: 0.5172\n",
      "Epoch 37/50\n",
      "6/6 [==============================] - 0s 24ms/step - loss: 0.5115 - val_loss: 0.5125\n",
      "Epoch 38/50\n",
      "6/6 [==============================] - 0s 25ms/step - loss: 0.4888 - val_loss: 0.4863\n",
      "Epoch 39/50\n",
      "6/6 [==============================] - 0s 25ms/step - loss: 0.4714 - val_loss: 0.4916\n",
      "Epoch 40/50\n",
      "6/6 [==============================] - 0s 24ms/step - loss: 0.4634 - val_loss: 0.4818\n",
      "Epoch 41/50\n",
      "6/6 [==============================] - 0s 25ms/step - loss: 0.4566 - val_loss: 0.4959\n",
      "Epoch 42/50\n",
      "6/6 [==============================] - 0s 23ms/step - loss: 0.4672 - val_loss: 0.4873\n",
      "Epoch 43/50\n",
      "6/6 [==============================] - 0s 23ms/step - loss: 0.4474 - val_loss: 0.4670\n",
      "Epoch 44/50\n",
      "6/6 [==============================] - 0s 23ms/step - loss: 0.4331 - val_loss: 0.4610\n",
      "Epoch 45/50\n",
      "6/6 [==============================] - 0s 25ms/step - loss: 0.4154 - val_loss: 0.4557\n",
      "Epoch 46/50\n",
      "6/6 [==============================] - 0s 24ms/step - loss: 0.4070 - val_loss: 0.4513\n",
      "Epoch 47/50\n",
      "6/6 [==============================] - 0s 23ms/step - loss: 0.4015 - val_loss: 0.4428\n",
      "Epoch 48/50\n",
      "6/6 [==============================] - 0s 24ms/step - loss: 0.3925 - val_loss: 0.4345\n",
      "Epoch 49/50\n",
      "6/6 [==============================] - 0s 25ms/step - loss: 0.3928 - val_loss: 0.4346\n",
      "Epoch 50/50\n",
      "6/6 [==============================] - 0s 25ms/step - loss: 0.3917 - val_loss: 0.4431\n"
     ]
    }
   ],
   "source": [
    "#data_augmentation = tf.keras.preprocessing.image.ImageDataGenerator(rotation_range=360, width_shift_range=4,\n",
    "#    height_shift_range=4,zoom_range=0.3)\n",
    "\n",
    "\n",
    "history = model.fit(train_dataset, epochs=int(50), \n",
    "                    validation_data=val_dataset)"
   ]
  },
  {
   "cell_type": "code",
   "execution_count": 15,
   "id": "a4031b79",
   "metadata": {},
   "outputs": [],
   "source": [
    "errs_test = []\n",
    "for thing in test_dataset:\n",
    "    for i in range(thing[1].shape[0]):\n",
    "        truth = thing[1][i]\n",
    "        pred = model.predict(np.expand_dims(thing[0][i], axis = 0))\n",
    "        errs_test.append((truth.numpy()-pred)/pred)\n",
    "        \n",
    "errs_val = []\n",
    "for thing in val_dataset:\n",
    "    for i in range(thing[1].shape[0]):\n",
    "        truth = thing[1][i]\n",
    "        pred = model.predict(np.expand_dims(thing[0][i], axis = 0))\n",
    "        errs_val.append((truth.numpy()-pred)/pred)"
   ]
  },
  {
   "cell_type": "code",
   "execution_count": 16,
   "id": "3fbe8d9e",
   "metadata": {},
   "outputs": [
    {
     "name": "stdout",
     "output_type": "stream",
     "text": [
      "0.1430503\n",
      "0.14009583\n"
     ]
    }
   ],
   "source": [
    "print(np.mean(np.abs(errs_test)))\n",
    "print(np.mean(np.abs(errs_val)))"
   ]
  },
  {
   "cell_type": "markdown",
   "id": "17ce8070",
   "metadata": {},
   "source": [
    "# Compton y"
   ]
  },
  {
   "cell_type": "code",
   "execution_count": 17,
   "id": "efe7a3a3",
   "metadata": {},
   "outputs": [],
   "source": [
    "data_dir = '/project/r/rbond/jorlo/datasets/act_y_stamps/'\n",
    "\n",
    "with np.load(data_dir + 'all_clusters.npz') as data:\n",
    "    stamps = data['arr_0']"
   ]
  },
  {
   "cell_type": "code",
   "execution_count": 18,
   "id": "e9a9968a",
   "metadata": {},
   "outputs": [
    {
     "data": {
      "text/plain": [
       "<matplotlib.colorbar.Colorbar at 0x7ffc482e4d60>"
      ]
     },
     "execution_count": 18,
     "metadata": {},
     "output_type": "execute_result"
    },
    {
     "data": {
      "image/png": "[encoded data removed]",
      "text/plain": [
       "<Figure size 432x288 with 2 Axes>"
      ]
     },
     "metadata": {
      "needs_background": "light"
     },
     "output_type": "display_data"
    }
   ],
   "source": [
    "plt.imshow(stamps[50])\n",
    "plt.colorbar()"
   ]
  },
  {
   "cell_type": "code",
   "execution_count": 19,
   "id": "cc6391e9",
   "metadata": {},
   "outputs": [],
   "source": [
    "#cuts out any maps that have nans in them\n",
    "flags = []\n",
    "for i in range(stamps.shape[0]):\n",
    "        if np.any(np.isnan(stamps[i,...])):\n",
    "                flags.append(i)\n",
    "\n",
    "stamps = np.delete(stamps, flags, axis = 0)"
   ]
  },
  {
   "cell_type": "code",
   "execution_count": 20,
   "id": "e10dc22f",
   "metadata": {},
   "outputs": [],
   "source": [
    "factor = 2\n",
    "\n",
    "stamps *= factor"
   ]
  },
  {
   "cell_type": "code",
   "execution_count": 21,
   "id": "6771819d",
   "metadata": {},
   "outputs": [],
   "source": [
    "tot = stamps.shape[0]\n",
    "train_size = int(0.7 * tot)\n",
    "val_size = int(0.15 * tot)\n",
    "test_size = int(0.15 * tot)\n",
    "\n",
    "train_stamps = stamps[:train_size]\n",
    "val_stamps = stamps[train_size:train_size + val_size]\n",
    "test_stamps = stamps[train_size + val_size:]\n",
    "\n",
    "input_shape = train_stamps.shape[1:]\n",
    "\n",
    "act_catalog = fits.open('/gpfs/fs0/project/r/rbond/jorlo/cluster_catalogs/DR5_cluster-catalog_v1.0b2.fits')\n",
    "\n",
    "labels = act_catalog[1].data['M500Cal'][:tot]\n",
    "\n",
    "train_labels = labels[:train_size]\n",
    "val_labels = labels[train_size:train_size + val_size]\n",
    "test_labels = labels[train_size + val_size:]\n",
    "\n",
    "#This just sets the # of samples we include in a trianing epoch, which is called the batch size. Autotune is a bit\n",
    "#of magic that allows tf to dynamically set some hyperparameters in an optimal way. See https://www.tensorflow.org/guide/data_performance\n",
    "batch_size = 500\n",
    "AUTOTUNE = tf.data.AUTOTUNE\n",
    "\n",
    "train_dataset = tf.data.Dataset.from_tensor_slices((train_stamps, train_labels))\n",
    "val_dataset = tf.data.Dataset.from_tensor_slices((val_stamps, val_labels))\n",
    "test_dataset = tf.data.Dataset.from_tensor_slices((test_stamps, test_labels))\n",
    "\n",
    "#We shuffle our data (i.e. just mix up the order) and batch it\n",
    "train_dataset = train_dataset.shuffle(buffer_size=1024).batch(batch_size)\n",
    "val_dataset = val_dataset.shuffle(buffer_size=1024).batch(batch_size)\n",
    "test_dataset = test_dataset.shuffle(buffer_size=1024).batch(batch_size)\n",
    "\n",
    "#Preloads data into memory\n",
    "train_dataset = train_dataset.prefetch(buffer_size=AUTOTUNE)\n",
    "val_dataset = val_dataset.prefetch(buffer_size=AUTOTUNE)\n",
    "test_dataset = test_dataset.prefetch(buffer_size=AUTOTUNE)"
   ]
  },
  {
   "cell_type": "code",
   "execution_count": 22,
   "id": "caf6beb9",
   "metadata": {},
   "outputs": [],
   "source": [
    "model = tf.keras.Sequential([\n",
    "      tf.keras.layers.Flatten(input_shape=input_shape),\n",
    "      tf.keras.layers.Dense(32, activation='relu'),\n",
    "      tf.keras.layers.Dense(32, activation='relu'),\n",
    "      tf.keras.layers.Dense(1)\n",
    "  ])\n",
    "\n",
    "model.compile(loss='mean_absolute_error',\n",
    "                optimizer=tf.keras.optimizers.Adam(0.001))"
   ]
  },
  {
   "cell_type": "code",
   "execution_count": 23,
   "id": "79a3b133",
   "metadata": {
    "scrolled": true
   },
   "outputs": [
    {
     "name": "stdout",
     "output_type": "stream",
     "text": [
      "Epoch 1/50\n",
      "6/6 [==============================] - 1s 36ms/step - loss: 3.3862 - val_loss: 2.8140\n",
      "Epoch 2/50\n",
      "6/6 [==============================] - 0s 19ms/step - loss: 2.4829 - val_loss: 1.7023\n",
      "Epoch 3/50\n",
      "6/6 [==============================] - 0s 17ms/step - loss: 1.2793 - val_loss: 0.6766\n",
      "Epoch 4/50\n",
      "6/6 [==============================] - 0s 16ms/step - loss: 0.7680 - val_loss: 0.9709\n",
      "Epoch 5/50\n",
      "6/6 [==============================] - 0s 18ms/step - loss: 0.8797 - val_loss: 0.7144\n",
      "Epoch 6/50\n",
      "6/6 [==============================] - 0s 18ms/step - loss: 0.6484 - val_loss: 0.5803\n",
      "Epoch 7/50\n",
      "6/6 [==============================] - 0s 18ms/step - loss: 0.6187 - val_loss: 0.5449\n",
      "Epoch 8/50\n",
      "6/6 [==============================] - 0s 18ms/step - loss: 0.5356 - val_loss: 0.5019\n",
      "Epoch 9/50\n",
      "6/6 [==============================] - 0s 18ms/step - loss: 0.5210 - val_loss: 0.4608\n",
      "Epoch 10/50\n",
      "6/6 [==============================] - 0s 19ms/step - loss: 0.4786 - val_loss: 0.4512\n",
      "Epoch 11/50\n",
      "6/6 [==============================] - 0s 17ms/step - loss: 0.4393 - val_loss: 0.4104\n",
      "Epoch 12/50\n",
      "6/6 [==============================] - 0s 19ms/step - loss: 0.4115 - val_loss: 0.3897\n",
      "Epoch 13/50\n",
      "6/6 [==============================] - 0s 19ms/step - loss: 0.3762 - val_loss: 0.3544\n",
      "Epoch 14/50\n",
      "6/6 [==============================] - 0s 17ms/step - loss: 0.3448 - val_loss: 0.3301\n",
      "Epoch 15/50\n",
      "6/6 [==============================] - 0s 17ms/step - loss: 0.3110 - val_loss: 0.2988\n",
      "Epoch 16/50\n",
      "6/6 [==============================] - 0s 19ms/step - loss: 0.2834 - val_loss: 0.2775\n",
      "Epoch 17/50\n",
      "6/6 [==============================] - 0s 16ms/step - loss: 0.2556 - val_loss: 0.2572\n",
      "Epoch 18/50\n",
      "6/6 [==============================] - 0s 18ms/step - loss: 0.2371 - val_loss: 0.2426\n",
      "Epoch 19/50\n",
      "6/6 [==============================] - 0s 17ms/step - loss: 0.2271 - val_loss: 0.2295\n",
      "Epoch 20/50\n",
      "6/6 [==============================] - 0s 19ms/step - loss: 0.2174 - val_loss: 0.2182\n",
      "Epoch 21/50\n",
      "6/6 [==============================] - 0s 19ms/step - loss: 0.2050 - val_loss: 0.2118\n",
      "Epoch 22/50\n",
      "6/6 [==============================] - 0s 19ms/step - loss: 0.1975 - val_loss: 0.2078\n",
      "Epoch 23/50\n",
      "6/6 [==============================] - 0s 16ms/step - loss: 0.1935 - val_loss: 0.2025\n",
      "Epoch 24/50\n",
      "6/6 [==============================] - 0s 16ms/step - loss: 0.1898 - val_loss: 0.1991\n",
      "Epoch 25/50\n",
      "6/6 [==============================] - 0s 19ms/step - loss: 0.1869 - val_loss: 0.1944\n",
      "Epoch 26/50\n",
      "6/6 [==============================] - 0s 18ms/step - loss: 0.1805 - val_loss: 0.1920\n",
      "Epoch 27/50\n",
      "6/6 [==============================] - 0s 17ms/step - loss: 0.1775 - val_loss: 0.1892\n",
      "Epoch 28/50\n",
      "6/6 [==============================] - 0s 18ms/step - loss: 0.1756 - val_loss: 0.1858\n",
      "Epoch 29/50\n",
      "6/6 [==============================] - 0s 18ms/step - loss: 0.1745 - val_loss: 0.1868\n",
      "Epoch 30/50\n",
      "6/6 [==============================] - 0s 17ms/step - loss: 0.1717 - val_loss: 0.1858\n",
      "Epoch 31/50\n",
      "6/6 [==============================] - 0s 17ms/step - loss: 0.1704 - val_loss: 0.1830\n",
      "Epoch 32/50\n",
      "6/6 [==============================] - 0s 18ms/step - loss: 0.1681 - val_loss: 0.1820\n",
      "Epoch 33/50\n",
      "6/6 [==============================] - 0s 18ms/step - loss: 0.1641 - val_loss: 0.1819\n",
      "Epoch 34/50\n",
      "6/6 [==============================] - 0s 18ms/step - loss: 0.1624 - val_loss: 0.1852\n",
      "Epoch 35/50\n",
      "6/6 [==============================] - 0s 19ms/step - loss: 0.1662 - val_loss: 0.1867\n",
      "Epoch 36/50\n",
      "6/6 [==============================] - 0s 17ms/step - loss: 0.1679 - val_loss: 0.1837\n",
      "Epoch 37/50\n",
      "6/6 [==============================] - 0s 19ms/step - loss: 0.1662 - val_loss: 0.1799\n",
      "Epoch 38/50\n",
      "6/6 [==============================] - 0s 18ms/step - loss: 0.1643 - val_loss: 0.1789\n",
      "Epoch 39/50\n",
      "6/6 [==============================] - 0s 20ms/step - loss: 0.1628 - val_loss: 0.1782\n",
      "Epoch 40/50\n",
      "6/6 [==============================] - 0s 20ms/step - loss: 0.1626 - val_loss: 0.1780\n",
      "Epoch 41/50\n",
      "6/6 [==============================] - 0s 19ms/step - loss: 0.1666 - val_loss: 0.1808\n",
      "Epoch 42/50\n",
      "6/6 [==============================] - 0s 19ms/step - loss: 0.1653 - val_loss: 0.1750\n",
      "Epoch 43/50\n",
      "6/6 [==============================] - 0s 19ms/step - loss: 0.1627 - val_loss: 0.1752\n",
      "Epoch 44/50\n",
      "6/6 [==============================] - 0s 19ms/step - loss: 0.1573 - val_loss: 0.1749\n",
      "Epoch 45/50\n",
      "6/6 [==============================] - 0s 20ms/step - loss: 0.1567 - val_loss: 0.1760\n",
      "Epoch 46/50\n",
      "6/6 [==============================] - 0s 18ms/step - loss: 0.1562 - val_loss: 0.1798\n",
      "Epoch 47/50\n",
      "6/6 [==============================] - 0s 17ms/step - loss: 0.1575 - val_loss: 0.1832\n",
      "Epoch 48/50\n",
      "6/6 [==============================] - 0s 17ms/step - loss: 0.1596 - val_loss: 0.1822\n",
      "Epoch 49/50\n",
      "6/6 [==============================] - 0s 19ms/step - loss: 0.1612 - val_loss: 0.1756\n",
      "Epoch 50/50\n",
      "6/6 [==============================] - 0s 18ms/step - loss: 0.1601 - val_loss: 0.1745\n",
      "Distributed time:  7.380202293395996\n",
      "2/2 - 0s - loss: 0.2044 - 45ms/epoch - 23ms/step\n"
     ]
    }
   ],
   "source": [
    "toc = time.time()\n",
    "#Actually fits the model to the data. data_augmentation.flow generates augmented data sets from the data sets we pass it.\n",
    "#Epochs sets the number of rounds of fitting to perform. \n",
    "history = model.fit(train_dataset, epochs=int(50), \n",
    "                    validation_data=val_dataset)\n",
    "tic = time.time()\n",
    "\n",
    "print('Distributed time: ', tic-toc)\n",
    "\n",
    "#Evaluate how well our model does\n",
    "test_loss = model.evaluate(test_dataset, verbose=2)\n"
   ]
  },
  {
   "cell_type": "code",
   "execution_count": 24,
   "id": "25593fcb",
   "metadata": {},
   "outputs": [],
   "source": [
    "predictions = model.predict(train_dataset)\n",
    "\n",
    "errs = []\n",
    "for i in range(len(train_labels)):\n",
    "    errs.append((train_labels[i]-predictions[i])/predictions[i])"
   ]
  },
  {
   "cell_type": "code",
   "execution_count": 25,
   "id": "a122d097",
   "metadata": {},
   "outputs": [
    {
     "data": {
      "text/plain": [
       "0.37209642"
      ]
     },
     "execution_count": 25,
     "metadata": {},
     "output_type": "execute_result"
    }
   ],
   "source": [
    "np.mean(np.abs(errs))"
   ]
  },
  {
   "cell_type": "markdown",
   "id": "7c6e50f8",
   "metadata": {},
   "source": [
    "# Compton-y CNN"
   ]
  },
  {
   "cell_type": "code",
   "execution_count": 26,
   "id": "480006e6",
   "metadata": {},
   "outputs": [],
   "source": [
    "data_dir = '/project/r/rbond/jorlo/datasets/act_y_stamps/'\n",
    "\n",
    "with np.load(data_dir + 'all_clusters.npz') as data:\n",
    "    stamps = data['arr_0']"
   ]
  },
  {
   "cell_type": "code",
   "execution_count": 27,
   "id": "6910cc9b",
   "metadata": {},
   "outputs": [],
   "source": [
    "#cuts out any maps that have nans in them\n",
    "flags = []\n",
    "for i in range(stamps.shape[0]):\n",
    "        if np.any(np.isnan(stamps[i,...])):\n",
    "                flags.append(i)\n",
    "\n",
    "stamps = np.delete(stamps, flags, axis = 0)"
   ]
  },
  {
   "cell_type": "code",
   "execution_count": 28,
   "id": "ee4c865a",
   "metadata": {},
   "outputs": [],
   "source": [
    "factor = 2\n",
    "stamps *=factor"
   ]
  },
  {
   "cell_type": "code",
   "execution_count": 29,
   "id": "9cf70abf",
   "metadata": {},
   "outputs": [],
   "source": [
    "stamps = np.expand_dims(stamps, axis=-1)\n"
   ]
  },
  {
   "cell_type": "code",
   "execution_count": 30,
   "id": "d51815cb",
   "metadata": {},
   "outputs": [],
   "source": [
    "tot = stamps.shape[0]\n",
    "train_size = int(0.7 * tot)\n",
    "val_size = int(0.15 * tot)\n",
    "test_size = int(0.15 * tot)\n",
    "\n",
    "train_stamps = stamps[:train_size]\n",
    "val_stamps = stamps[train_size:train_size + val_size]\n",
    "test_stamps = stamps[train_size + val_size:]\n",
    "\n",
    "input_shape = train_stamps.shape[1:]\n",
    "\n",
    "act_catalog = fits.open('/gpfs/fs0/project/r/rbond/jorlo/cluster_catalogs/DR5_cluster-catalog_v1.0b2.fits')\n",
    "\n",
    "labels = act_catalog[1].data['M500Cal'][:tot]\n",
    "\n",
    "train_labels = labels[:train_size]\n",
    "val_labels = labels[train_size:train_size + val_size]\n",
    "test_labels = labels[train_size + val_size:]\n",
    "\n",
    "#This just sets the # of samples we include in a trianing epoch, which is called the batch size. Autotune is a bit\n",
    "#of magic that allows tf to dynamically set some hyperparameters in an optimal way. See https://www.tensorflow.org/guide/data_performance\n",
    "batch_size = 100\n",
    "AUTOTUNE = tf.data.AUTOTUNE\n",
    "\n",
    "train_dataset = tf.data.Dataset.from_tensor_slices((train_stamps, train_labels))\n",
    "val_dataset = tf.data.Dataset.from_tensor_slices((val_stamps, val_labels))\n",
    "test_dataset = tf.data.Dataset.from_tensor_slices((test_stamps, test_labels))\n",
    "\n",
    "#We shuffle our data (i.e. just mix up the order) and batch it\n",
    "train_dataset = train_dataset.shuffle(buffer_size=1024).batch(batch_size)\n",
    "val_dataset = val_dataset.shuffle(buffer_size=1024).batch(batch_size)\n",
    "test_dataset = test_dataset.shuffle(buffer_size=1024).batch(batch_size)\n",
    "\n",
    "#Preloads data into memory\n",
    "train_dataset = train_dataset.prefetch(buffer_size=AUTOTUNE)\n",
    "val_dataset = val_dataset.prefetch(buffer_size=AUTOTUNE)\n",
    "test_dataset = test_dataset.prefetch(buffer_size=AUTOTUNE)"
   ]
  },
  {
   "cell_type": "code",
   "execution_count": 31,
   "id": "0d5a601f",
   "metadata": {},
   "outputs": [],
   "source": [
    "#Very simple model, this is just from the TF tutorial\n",
    "\n",
    "from tensorflow.keras import layers\n",
    "\n",
    "model = tf.keras.models.Sequential()\n",
    "model.add(layers.Conv2D(32, (3, 3), activation='relu', input_shape=input_shape))\n",
    "model.add(layers.MaxPooling2D((2, 2)))\n",
    "model.add(layers.Conv2D(64, (3, 3), activation='relu'))\n",
    "model.add(layers.MaxPooling2D((2, 2)))\n",
    "model.add(layers.Conv2D(64, (3, 3), activation='relu'))\n",
    "model.add(layers.Flatten())\n",
    "model.add(layers.Dense(64, activation='relu'))\n",
    "model.add(layers.Dense(1))\n",
    "\n",
    "model.compile(loss='mean_squared_error',\n",
    "                optimizer=tf.keras.optimizers.Adam(0.001))"
   ]
  },
  {
   "cell_type": "code",
   "execution_count": 32,
   "id": "fcde651b",
   "metadata": {
    "scrolled": true
   },
   "outputs": [
    {
     "name": "stdout",
     "output_type": "stream",
     "text": [
      "Epoch 1/50\n",
      "30/30 [==============================] - 2s 16ms/step - loss: 3.1265 - val_loss: 0.2178\n",
      "Epoch 2/50\n",
      "30/30 [==============================] - 0s 7ms/step - loss: 0.1756 - val_loss: 0.1944\n",
      "Epoch 3/50\n",
      "30/30 [==============================] - 0s 7ms/step - loss: 0.1299 - val_loss: 0.1894\n",
      "Epoch 4/50\n",
      "30/30 [==============================] - 0s 7ms/step - loss: 0.1232 - val_loss: 0.1642\n",
      "Epoch 5/50\n",
      "30/30 [==============================] - 0s 7ms/step - loss: 0.1164 - val_loss: 0.1562\n",
      "Epoch 6/50\n",
      "30/30 [==============================] - 0s 7ms/step - loss: 0.1055 - val_loss: 0.2324\n",
      "Epoch 7/50\n",
      "30/30 [==============================] - 0s 7ms/step - loss: 0.1176 - val_loss: 0.2151\n",
      "Epoch 8/50\n",
      "30/30 [==============================] - 0s 7ms/step - loss: 0.1200 - val_loss: 0.1443\n",
      "Epoch 9/50\n",
      "30/30 [==============================] - 0s 7ms/step - loss: 0.1064 - val_loss: 0.1363\n",
      "Epoch 10/50\n",
      "30/30 [==============================] - 0s 7ms/step - loss: 0.0870 - val_loss: 0.1370\n",
      "Epoch 11/50\n",
      "30/30 [==============================] - 0s 7ms/step - loss: 0.0787 - val_loss: 0.1402\n",
      "Epoch 12/50\n",
      "30/30 [==============================] - 0s 7ms/step - loss: 0.0828 - val_loss: 0.1370\n",
      "Epoch 13/50\n",
      "30/30 [==============================] - 0s 7ms/step - loss: 0.0703 - val_loss: 0.1305\n",
      "Epoch 14/50\n",
      "30/30 [==============================] - 0s 7ms/step - loss: 0.0671 - val_loss: 0.1280\n",
      "Epoch 15/50\n",
      "30/30 [==============================] - 0s 7ms/step - loss: 0.0657 - val_loss: 0.1225\n",
      "Epoch 16/50\n",
      "30/30 [==============================] - 0s 7ms/step - loss: 0.0659 - val_loss: 0.1226\n",
      "Epoch 17/50\n",
      "30/30 [==============================] - 0s 7ms/step - loss: 0.0598 - val_loss: 0.1246\n",
      "Epoch 18/50\n",
      "30/30 [==============================] - 0s 7ms/step - loss: 0.0598 - val_loss: 0.1260\n",
      "Epoch 19/50\n",
      "30/30 [==============================] - 0s 7ms/step - loss: 0.0534 - val_loss: 0.1309\n",
      "Epoch 20/50\n",
      "30/30 [==============================] - 0s 7ms/step - loss: 0.0710 - val_loss: 0.1280\n",
      "Epoch 21/50\n",
      "30/30 [==============================] - 0s 7ms/step - loss: 0.0691 - val_loss: 0.1307\n",
      "Epoch 22/50\n",
      "30/30 [==============================] - 0s 7ms/step - loss: 0.0572 - val_loss: 0.1271\n",
      "Epoch 23/50\n",
      "30/30 [==============================] - 0s 7ms/step - loss: 0.0629 - val_loss: 0.2168\n",
      "Epoch 24/50\n",
      "30/30 [==============================] - 0s 7ms/step - loss: 0.0656 - val_loss: 0.1213\n",
      "Epoch 25/50\n",
      "30/30 [==============================] - 0s 7ms/step - loss: 0.0543 - val_loss: 0.1313\n",
      "Epoch 26/50\n",
      "30/30 [==============================] - 0s 7ms/step - loss: 0.0570 - val_loss: 0.1218\n",
      "Epoch 27/50\n",
      "30/30 [==============================] - 0s 7ms/step - loss: 0.0528 - val_loss: 0.1402\n",
      "Epoch 28/50\n",
      "30/30 [==============================] - 0s 6ms/step - loss: 0.0595 - val_loss: 0.1360\n",
      "Epoch 29/50\n",
      "30/30 [==============================] - 0s 7ms/step - loss: 0.0526 - val_loss: 0.1300\n",
      "Epoch 30/50\n",
      "30/30 [==============================] - 0s 7ms/step - loss: 0.0543 - val_loss: 0.1704\n",
      "Epoch 31/50\n",
      "30/30 [==============================] - 0s 7ms/step - loss: 0.0734 - val_loss: 0.1223\n",
      "Epoch 32/50\n",
      "30/30 [==============================] - 0s 7ms/step - loss: 0.0547 - val_loss: 0.1195\n",
      "Epoch 33/50\n",
      "30/30 [==============================] - 0s 7ms/step - loss: 0.0687 - val_loss: 0.1292\n",
      "Epoch 34/50\n",
      "30/30 [==============================] - 0s 7ms/step - loss: 0.0531 - val_loss: 0.1204\n",
      "Epoch 35/50\n",
      "30/30 [==============================] - 0s 7ms/step - loss: 0.0555 - val_loss: 0.1255\n",
      "Epoch 36/50\n",
      "30/30 [==============================] - 0s 7ms/step - loss: 0.0613 - val_loss: 0.1430\n",
      "Epoch 37/50\n",
      "30/30 [==============================] - 0s 7ms/step - loss: 0.0708 - val_loss: 0.1294\n",
      "Epoch 38/50\n",
      "30/30 [==============================] - 0s 7ms/step - loss: 0.0612 - val_loss: 0.1767\n",
      "Epoch 39/50\n",
      "30/30 [==============================] - 0s 7ms/step - loss: 0.0633 - val_loss: 0.1195\n",
      "Epoch 40/50\n",
      "30/30 [==============================] - 0s 7ms/step - loss: 0.0542 - val_loss: 0.1195\n",
      "Epoch 41/50\n",
      "30/30 [==============================] - 0s 7ms/step - loss: 0.0564 - val_loss: 0.1820\n",
      "Epoch 42/50\n",
      "30/30 [==============================] - 0s 7ms/step - loss: 0.0673 - val_loss: 0.1337\n",
      "Epoch 43/50\n",
      "30/30 [==============================] - 0s 7ms/step - loss: 0.0564 - val_loss: 0.1186\n",
      "Epoch 44/50\n",
      "30/30 [==============================] - 0s 7ms/step - loss: 0.0551 - val_loss: 0.1190\n",
      "Epoch 45/50\n",
      "30/30 [==============================] - 0s 7ms/step - loss: 0.0527 - val_loss: 0.1162\n",
      "Epoch 46/50\n",
      "30/30 [==============================] - 0s 7ms/step - loss: 0.0488 - val_loss: 0.1178\n",
      "Epoch 47/50\n",
      "30/30 [==============================] - 0s 7ms/step - loss: 0.0589 - val_loss: 0.1290\n",
      "Epoch 48/50\n",
      "30/30 [==============================] - 0s 7ms/step - loss: 0.0675 - val_loss: 0.1342\n",
      "Epoch 49/50\n",
      "30/30 [==============================] - 0s 7ms/step - loss: 0.0501 - val_loss: 0.1246\n",
      "Epoch 50/50\n",
      "30/30 [==============================] - 0s 7ms/step - loss: 0.0521 - val_loss: 0.1202\n",
      "Distributed time:  13.559996366500854\n",
      "7/7 - 0s - loss: 0.0672 - 111ms/epoch - 16ms/step\n"
     ]
    }
   ],
   "source": [
    "toc = time.time()\n",
    "#Actually fits the model to the data. data_augmentation.flow generates augmented data sets from the data sets we pass it.\n",
    "#Epochs sets the number of rounds of fitting to perform. \n",
    "history = model.fit(train_dataset, epochs=int(50), \n",
    "                    validation_data=val_dataset)\n",
    "tic = time.time()\n",
    "\n",
    "print('Distributed time: ', tic-toc)\n",
    "\n",
    "#Evaluate how well our model does\n",
    "test_loss = model.evaluate(test_dataset, verbose=2)"
   ]
  },
  {
   "cell_type": "code",
   "execution_count": 33,
   "id": "edf31cbe",
   "metadata": {},
   "outputs": [
    {
     "ename": "TypeError",
     "evalue": "'PrefetchDataset' object is not subscriptable",
     "output_type": "error",
     "traceback": [
      "\u001b[0;31m---------------------------------------------------------------------------\u001b[0m",
      "\u001b[0;31mTypeError\u001b[0m                                 Traceback (most recent call last)",
      "Input \u001b[0;32mIn [33]\u001b[0m, in \u001b[0;36m<cell line: 8>\u001b[0;34m()\u001b[0m\n\u001b[1;32m      7\u001b[0m errs \u001b[38;5;241m=\u001b[39m []\n\u001b[1;32m      8\u001b[0m \u001b[38;5;28;01mfor\u001b[39;00m i \u001b[38;5;129;01min\u001b[39;00m \u001b[38;5;28mrange\u001b[39m(\u001b[38;5;28mlen\u001b[39m(comp)):\n\u001b[0;32m----> 9\u001b[0m     errs\u001b[38;5;241m.\u001b[39mappend((\u001b[43mcomp\u001b[49m\u001b[43m[\u001b[49m\u001b[43mi\u001b[49m\u001b[43m]\u001b[49m\u001b[38;5;241m-\u001b[39mpredictions[i])\u001b[38;5;241m/\u001b[39mpredictions[i])\n",
      "\u001b[0;31mTypeError\u001b[0m: 'PrefetchDataset' object is not subscriptable"
     ]
    }
   ],
   "source": [
    "comp = test_dataset\n",
    "\n",
    "predictions = model.predict(comp)\n",
    "\n",
    "\n",
    "\n",
    "errs = []\n",
    "for i in range(len(comp)):\n",
    "    errs.append((comp[i]-predictions[i])/predictions[i])"
   ]
  },
  {
   "cell_type": "code",
   "execution_count": 34,
   "id": "5b113708",
   "metadata": {},
   "outputs": [
    {
     "name": "stderr",
     "output_type": "stream",
     "text": [
      "/home/r/rbond/jorlo/.conda/envs/ml-clusters/lib/python3.8/site-packages/numpy/core/fromnumeric.py:3474: RuntimeWarning: Mean of empty slice.\n",
      "  return _methods._mean(a, axis=axis, dtype=dtype,\n",
      "/home/r/rbond/jorlo/.conda/envs/ml-clusters/lib/python3.8/site-packages/numpy/core/_methods.py:189: RuntimeWarning: invalid value encountered in double_scalars\n",
      "  ret = ret.dtype.type(ret / rcount)\n"
     ]
    },
    {
     "data": {
      "text/plain": [
       "nan"
      ]
     },
     "execution_count": 34,
     "metadata": {},
     "output_type": "execute_result"
    }
   ],
   "source": [
    "np.mean(np.abs(errs))"
   ]
  },
  {
   "cell_type": "markdown",
   "id": "54f0e0c8",
   "metadata": {},
   "source": [
    "## Ntampaka"
   ]
  },
  {
   "cell_type": "code",
   "execution_count": 35,
   "id": "9ff0b447",
   "metadata": {},
   "outputs": [],
   "source": [
    "from tensorflow.keras import layers\n",
    "\n",
    "model = tf.keras.models.Sequential()\n",
    "model.add(layers.Conv2D(16, (3, 3), activation='relu', input_shape=input_shape))\n",
    "model.add(layers.MaxPooling2D((2, 2), strides = 2))\n",
    "model.add(layers.Conv2D(64, (3, 3), activation='relu'))\n",
    "model.add(layers.MaxPooling2D((2, 2)))\n",
    "model.add(layers.Conv2D(64, (3, 3), activation='relu'))\n",
    "model.add(layers.Flatten())\n",
    "model.add(layers.Dense(64, activation='relu'))\n",
    "model.add(layers.Dense(1))\n",
    "\n",
    "model.compile(loss='mean_squared_error',\n",
    "                optimizer=tf.keras.optimizers.Adam(0.0005))"
   ]
  },
  {
   "cell_type": "code",
   "execution_count": 36,
   "id": "96b4c8f6",
   "metadata": {
    "scrolled": true
   },
   "outputs": [
    {
     "name": "stdout",
     "output_type": "stream",
     "text": [
      "Epoch 1/50\n",
      "30/30 [==============================] - 1s 12ms/step - loss: 5.3527 - val_loss: 0.8549\n",
      "Epoch 2/50\n",
      "30/30 [==============================] - 0s 6ms/step - loss: 0.2531 - val_loss: 0.2402\n",
      "Epoch 3/50\n",
      "30/30 [==============================] - 0s 6ms/step - loss: 0.1474 - val_loss: 0.1872\n",
      "Epoch 4/50\n",
      "30/30 [==============================] - 0s 6ms/step - loss: 0.1337 - val_loss: 0.1839\n",
      "Epoch 5/50\n",
      "30/30 [==============================] - 0s 6ms/step - loss: 0.1252 - val_loss: 0.1767\n",
      "Epoch 6/50\n",
      "30/30 [==============================] - 0s 7ms/step - loss: 0.1224 - val_loss: 0.1716\n",
      "Epoch 7/50\n",
      "30/30 [==============================] - 0s 6ms/step - loss: 0.1191 - val_loss: 0.1663\n",
      "Epoch 8/50\n",
      "30/30 [==============================] - 0s 6ms/step - loss: 0.1142 - val_loss: 0.1788\n",
      "Epoch 9/50\n",
      "30/30 [==============================] - 0s 6ms/step - loss: 0.1194 - val_loss: 0.1586\n",
      "Epoch 10/50\n",
      "30/30 [==============================] - 0s 7ms/step - loss: 0.1041 - val_loss: 0.1645\n",
      "Epoch 11/50\n",
      "30/30 [==============================] - 0s 6ms/step - loss: 0.1081 - val_loss: 0.1490\n",
      "Epoch 12/50\n",
      "30/30 [==============================] - 0s 6ms/step - loss: 0.0938 - val_loss: 0.1458\n",
      "Epoch 13/50\n",
      "30/30 [==============================] - 0s 6ms/step - loss: 0.0913 - val_loss: 0.1426\n",
      "Epoch 14/50\n",
      "30/30 [==============================] - 0s 7ms/step - loss: 0.0875 - val_loss: 0.1368\n",
      "Epoch 15/50\n",
      "30/30 [==============================] - 0s 6ms/step - loss: 0.0754 - val_loss: 0.1317\n",
      "Epoch 16/50\n",
      "30/30 [==============================] - 0s 6ms/step - loss: 0.0792 - val_loss: 0.1313\n",
      "Epoch 17/50\n",
      "30/30 [==============================] - 0s 6ms/step - loss: 0.0748 - val_loss: 0.1350\n",
      "Epoch 18/50\n",
      "30/30 [==============================] - 0s 7ms/step - loss: 0.0689 - val_loss: 0.1380\n",
      "Epoch 19/50\n",
      "30/30 [==============================] - 0s 7ms/step - loss: 0.0733 - val_loss: 0.1325\n",
      "Epoch 20/50\n",
      "30/30 [==============================] - 0s 6ms/step - loss: 0.0648 - val_loss: 0.1466\n",
      "Epoch 21/50\n",
      "30/30 [==============================] - 0s 6ms/step - loss: 0.0641 - val_loss: 0.1290\n",
      "Epoch 22/50\n",
      "30/30 [==============================] - 0s 6ms/step - loss: 0.0621 - val_loss: 0.1253\n",
      "Epoch 23/50\n",
      "30/30 [==============================] - 0s 7ms/step - loss: 0.0603 - val_loss: 0.1303\n",
      "Epoch 24/50\n",
      "30/30 [==============================] - 0s 6ms/step - loss: 0.0641 - val_loss: 0.1261\n",
      "Epoch 25/50\n",
      "30/30 [==============================] - 0s 6ms/step - loss: 0.0569 - val_loss: 0.1285\n",
      "Epoch 26/50\n",
      "30/30 [==============================] - 0s 7ms/step - loss: 0.0589 - val_loss: 0.1256\n",
      "Epoch 27/50\n",
      "30/30 [==============================] - 0s 6ms/step - loss: 0.0622 - val_loss: 0.1247\n",
      "Epoch 28/50\n",
      "30/30 [==============================] - 0s 7ms/step - loss: 0.0570 - val_loss: 0.1240\n",
      "Epoch 29/50\n",
      "30/30 [==============================] - 0s 6ms/step - loss: 0.0576 - val_loss: 0.1228\n",
      "Epoch 30/50\n",
      "30/30 [==============================] - 0s 6ms/step - loss: 0.0555 - val_loss: 0.1327\n",
      "Epoch 31/50\n",
      "30/30 [==============================] - 0s 6ms/step - loss: 0.0544 - val_loss: 0.1233\n",
      "Epoch 32/50\n",
      "30/30 [==============================] - 0s 6ms/step - loss: 0.0542 - val_loss: 0.1237\n",
      "Epoch 33/50\n",
      "30/30 [==============================] - 0s 6ms/step - loss: 0.0553 - val_loss: 0.1263\n",
      "Epoch 34/50\n",
      "30/30 [==============================] - 0s 6ms/step - loss: 0.0548 - val_loss: 0.1229\n",
      "Epoch 35/50\n",
      "30/30 [==============================] - 0s 6ms/step - loss: 0.0575 - val_loss: 0.1391\n",
      "Epoch 36/50\n",
      "30/30 [==============================] - 0s 7ms/step - loss: 0.0585 - val_loss: 0.1218\n",
      "Epoch 37/50\n",
      "30/30 [==============================] - 0s 7ms/step - loss: 0.0532 - val_loss: 0.1243\n",
      "Epoch 38/50\n",
      "30/30 [==============================] - 0s 6ms/step - loss: 0.0521 - val_loss: 0.1245\n",
      "Epoch 39/50\n",
      "30/30 [==============================] - 0s 6ms/step - loss: 0.0590 - val_loss: 0.1212\n",
      "Epoch 40/50\n",
      "30/30 [==============================] - 0s 6ms/step - loss: 0.0529 - val_loss: 0.1226\n",
      "Epoch 41/50\n",
      "30/30 [==============================] - 0s 7ms/step - loss: 0.0508 - val_loss: 0.1275\n",
      "Epoch 42/50\n",
      "30/30 [==============================] - 0s 6ms/step - loss: 0.0509 - val_loss: 0.1219\n",
      "Epoch 43/50\n",
      "30/30 [==============================] - 0s 6ms/step - loss: 0.0585 - val_loss: 0.1294\n",
      "Epoch 44/50\n",
      "30/30 [==============================] - 0s 6ms/step - loss: 0.0598 - val_loss: 0.1265\n",
      "Epoch 45/50\n",
      "30/30 [==============================] - 0s 7ms/step - loss: 0.0517 - val_loss: 0.1212\n",
      "Epoch 46/50\n",
      "30/30 [==============================] - 0s 7ms/step - loss: 0.0531 - val_loss: 0.1213\n",
      "Epoch 47/50\n",
      "30/30 [==============================] - 0s 6ms/step - loss: 0.0556 - val_loss: 0.1339\n",
      "Epoch 48/50\n",
      "30/30 [==============================] - 0s 6ms/step - loss: 0.0559 - val_loss: 0.1247\n",
      "Epoch 49/50\n",
      "30/30 [==============================] - 0s 6ms/step - loss: 0.0529 - val_loss: 0.1385\n",
      "Epoch 50/50\n",
      "30/30 [==============================] - 0s 6ms/step - loss: 0.0584 - val_loss: 0.1239\n",
      "Distributed time:  12.59705924987793\n",
      "7/7 - 0s - loss: 0.0781 - 66ms/epoch - 9ms/step\n"
     ]
    }
   ],
   "source": [
    "toc = time.time()\n",
    "#Actually fits the model to the data. data_augmentation.flow generates augmented data sets from the data sets we pass it.\n",
    "#Epochs sets the number of rounds of fitting to perform. \n",
    "history = model.fit(train_dataset, epochs=int(50), \n",
    "                    validation_data=val_dataset)\n",
    "tic = time.time()\n",
    "\n",
    "print('Distributed time: ', tic-toc)\n",
    "\n",
    "#Evaluate how well our model does\n",
    "test_loss = model.evaluate(test_dataset, verbose=2)"
   ]
  },
  {
   "cell_type": "code",
   "execution_count": 37,
   "id": "92a364cc",
   "metadata": {},
   "outputs": [
    {
     "name": "stdout",
     "output_type": "stream",
     "text": [
      "0.040601697\n",
      "0.041812766\n"
     ]
    }
   ],
   "source": [
    "errs_test = []\n",
    "for thing in test_dataset:\n",
    "    for i in range(thing[1].shape[0]):\n",
    "        truth = thing[1][i]\n",
    "        pred = model.predict(np.expand_dims(thing[0][i], axis = 0))\n",
    "        errs_test.append((truth.numpy()-pred)/pred)\n",
    "        \n",
    "errs_val = []\n",
    "for thing in val_dataset:\n",
    "    for i in range(thing[1].shape[0]):\n",
    "        truth = thing[1][i]\n",
    "        pred = model.predict(np.expand_dims(thing[0][i], axis = 0))\n",
    "        errs_val.append((truth.numpy()-pred)/pred)\n",
    "        \n",
    "print(np.mean(np.abs(errs_test)))\n",
    "print(np.mean(np.abs(errs_val)))"
   ]
  },
  {
   "cell_type": "code",
   "execution_count": 203,
   "id": "ef902812",
   "metadata": {
    "scrolled": true
   },
   "outputs": [
    {
     "name": "stdout",
     "output_type": "stream",
     "text": [
      "Epoch 1/50\n",
      "92/92 [==============================] - 2s 14ms/step - loss: 0.2221 - val_loss: 0.1426\n",
      "Epoch 2/50\n",
      "92/92 [==============================] - 1s 14ms/step - loss: 0.1434 - val_loss: 0.1479\n",
      "Epoch 3/50\n",
      "92/92 [==============================] - 1s 14ms/step - loss: 0.1315 - val_loss: 0.2901\n",
      "Epoch 4/50\n",
      "92/92 [==============================] - 1s 14ms/step - loss: 0.1538 - val_loss: 0.1509\n",
      "Epoch 5/50\n",
      "92/92 [==============================] - 1s 14ms/step - loss: 0.1415 - val_loss: 0.1995\n",
      "Epoch 6/50\n",
      "92/92 [==============================] - 1s 14ms/step - loss: 0.1329 - val_loss: 0.2254\n",
      "Epoch 7/50\n",
      "92/92 [==============================] - 1s 14ms/step - loss: 0.1122 - val_loss: 0.1455\n",
      "Epoch 8/50\n",
      "92/92 [==============================] - 1s 14ms/step - loss: 0.1472 - val_loss: 0.9802\n",
      "Epoch 9/50\n",
      "92/92 [==============================] - 1s 14ms/step - loss: 0.1450 - val_loss: 0.1447\n",
      "Epoch 10/50\n",
      "92/92 [==============================] - 1s 14ms/step - loss: 0.1157 - val_loss: 0.1344\n",
      "Epoch 11/50\n",
      "92/92 [==============================] - 1s 14ms/step - loss: 0.1308 - val_loss: 0.1444\n",
      "Epoch 12/50\n",
      "92/92 [==============================] - 1s 14ms/step - loss: 0.1280 - val_loss: 0.4403\n",
      "Epoch 13/50\n",
      "92/92 [==============================] - 1s 14ms/step - loss: 0.1079 - val_loss: 0.1314\n",
      "Epoch 14/50\n",
      "92/92 [==============================] - 1s 14ms/step - loss: 0.0910 - val_loss: 0.1420\n",
      "Epoch 15/50\n",
      "92/92 [==============================] - 1s 14ms/step - loss: 0.0737 - val_loss: 0.1355\n",
      "Epoch 16/50\n",
      "92/92 [==============================] - 1s 14ms/step - loss: 0.0843 - val_loss: 0.1389\n",
      "Epoch 17/50\n",
      "92/92 [==============================] - 1s 14ms/step - loss: 0.0738 - val_loss: 0.1363\n",
      "Epoch 18/50\n",
      "92/92 [==============================] - 1s 14ms/step - loss: 0.1025 - val_loss: 0.1275\n",
      "Epoch 19/50\n",
      "92/92 [==============================] - 1s 14ms/step - loss: 0.0926 - val_loss: 0.1884\n",
      "Epoch 20/50\n",
      "92/92 [==============================] - 1s 14ms/step - loss: 0.0887 - val_loss: 0.1390\n",
      "Epoch 21/50\n",
      "92/92 [==============================] - 1s 14ms/step - loss: 0.0956 - val_loss: 0.1348\n",
      "Epoch 22/50\n",
      "92/92 [==============================] - 1s 14ms/step - loss: 0.0899 - val_loss: 0.1271\n",
      "Epoch 23/50\n",
      "92/92 [==============================] - 1s 14ms/step - loss: 0.0859 - val_loss: 0.1326\n",
      "Epoch 24/50\n",
      "92/92 [==============================] - 1s 14ms/step - loss: 0.0687 - val_loss: 0.1518\n",
      "Epoch 25/50\n",
      "92/92 [==============================] - 1s 14ms/step - loss: 0.0897 - val_loss: 0.1272\n",
      "Epoch 26/50\n",
      "92/92 [==============================] - 1s 14ms/step - loss: 0.0949 - val_loss: 0.2231\n",
      "Epoch 27/50\n",
      "92/92 [==============================] - 1s 14ms/step - loss: 0.1100 - val_loss: 0.1588\n",
      "Epoch 28/50\n",
      "92/92 [==============================] - 1s 14ms/step - loss: 0.0886 - val_loss: 0.1325\n",
      "Epoch 29/50\n",
      "92/92 [==============================] - 1s 14ms/step - loss: 0.1434 - val_loss: 0.1424\n",
      "Epoch 30/50\n",
      "92/92 [==============================] - 1s 14ms/step - loss: 0.0845 - val_loss: 0.1959\n",
      "Epoch 31/50\n",
      "92/92 [==============================] - 1s 14ms/step - loss: 0.0934 - val_loss: 0.1290\n",
      "Epoch 32/50\n",
      "92/92 [==============================] - 1s 14ms/step - loss: 0.0837 - val_loss: 0.1372\n",
      "Epoch 33/50\n",
      "92/92 [==============================] - 1s 15ms/step - loss: 0.0671 - val_loss: 0.1282\n",
      "Epoch 34/50\n",
      "92/92 [==============================] - 1s 14ms/step - loss: 0.0662 - val_loss: 0.1330\n",
      "Epoch 35/50\n",
      "92/92 [==============================] - 1s 14ms/step - loss: 0.0801 - val_loss: 0.1301\n",
      "Epoch 36/50\n",
      "92/92 [==============================] - 1s 14ms/step - loss: 0.0969 - val_loss: 0.1430\n",
      "Epoch 37/50\n",
      "92/92 [==============================] - 1s 14ms/step - loss: 0.1028 - val_loss: 0.1394\n",
      "Epoch 38/50\n",
      "92/92 [==============================] - 1s 14ms/step - loss: 0.0868 - val_loss: 0.1449\n",
      "Epoch 39/50\n",
      "92/92 [==============================] - 1s 14ms/step - loss: 0.0803 - val_loss: 0.1280\n",
      "Epoch 40/50\n",
      "92/92 [==============================] - 1s 14ms/step - loss: 0.0773 - val_loss: 0.1221\n",
      "Epoch 41/50\n",
      "92/92 [==============================] - 1s 14ms/step - loss: 0.0765 - val_loss: 0.1370\n",
      "Epoch 42/50\n",
      "92/92 [==============================] - 1s 14ms/step - loss: 0.0864 - val_loss: 0.1520\n",
      "Epoch 43/50\n",
      "92/92 [==============================] - 1s 14ms/step - loss: 0.1105 - val_loss: 0.3361\n",
      "Epoch 44/50\n",
      "92/92 [==============================] - 1s 14ms/step - loss: 0.1127 - val_loss: 0.1371\n",
      "Epoch 45/50\n",
      "92/92 [==============================] - 1s 14ms/step - loss: 0.0835 - val_loss: 0.1840\n",
      "Epoch 46/50\n",
      "92/92 [==============================] - 1s 14ms/step - loss: 0.0728 - val_loss: 0.1248\n",
      "Epoch 47/50\n",
      "92/92 [==============================] - 1s 15ms/step - loss: 0.0818 - val_loss: 0.1540\n",
      "Epoch 48/50\n",
      "92/92 [==============================] - 1s 14ms/step - loss: 0.0689 - val_loss: 0.1337\n",
      "Epoch 49/50\n",
      "92/92 [==============================] - 1s 14ms/step - loss: 0.0780 - val_loss: 0.1542\n",
      "Epoch 50/50\n",
      "92/92 [==============================] - 1s 14ms/step - loss: 0.0674 - val_loss: 0.1749\n"
     ]
    }
   ],
   "source": [
    "\n",
    "\n",
    "data_augmentation = tf.keras.preprocessing.image.ImageDataGenerator(rotation_range=360, width_shift_range=4,\n",
    "    height_shift_range=4,zoom_range=0.3)\n",
    "\n",
    "\n",
    "history = model.fit(data_augmentation.flow(train_stamps, train_labels), epochs=int(50), \n",
    "                    validation_data=val_dataset)"
   ]
  },
  {
   "cell_type": "code",
   "execution_count": 224,
   "id": "4dcc0ab2",
   "metadata": {},
   "outputs": [],
   "source": [
    "errs_test = []\n",
    "for thing in test_dataset:\n",
    "    for i in range(thing[1].shape[0]):\n",
    "        truth = thing[1][i]\n",
    "        pred = model.predict(np.expand_dims(thing[0][i], axis = 0))\n",
    "        errs_test.append((truth.numpy()-pred)/pred)\n",
    "        \n",
    "errs_val = []\n",
    "for thing in val_dataset:\n",
    "    for i in range(thing[1].shape[0]):\n",
    "        truth = thing[1][i]\n",
    "        pred = model.predict(np.expand_dims(thing[0][i], axis = 0))\n",
    "        errs_val.append((truth.numpy()-pred)/pred)"
   ]
  },
  {
   "cell_type": "code",
   "execution_count": 226,
   "id": "ef877a46",
   "metadata": {},
   "outputs": [
    {
     "name": "stdout",
     "output_type": "stream",
     "text": [
      "0.055931102\n",
      "0.06512552\n"
     ]
    }
   ],
   "source": [
    "print(np.mean(np.abs(errs_test)))\n",
    "print(np.mean(np.abs(errs_val)))"
   ]
  },
  {
   "cell_type": "markdown",
   "id": "ae1154d6",
   "metadata": {},
   "source": [
    "# ILC Ntampka"
   ]
  },
  {
   "cell_type": "code",
   "execution_count": 47,
   "id": "045e04c2",
   "metadata": {},
   "outputs": [],
   "source": [
    "data_dir = '/project/r/rbond/jorlo/datasets/act_y_stamps/'\n",
    "\n",
    "with np.load(data_dir + 'all_clusters.npz') as data:\n",
    "    stamps = data['arr_0']"
   ]
  },
  {
   "cell_type": "code",
   "execution_count": 48,
   "id": "826cd135",
   "metadata": {},
   "outputs": [],
   "source": [
    "#cuts out any maps that have nans in them\n",
    "flags = []\n",
    "for i in range(stamps.shape[0]):\n",
    "        if np.any(np.isnan(stamps[i,...])):\n",
    "                flags.append(i)\n",
    "\n",
    "stamps = np.delete(stamps, flags, axis = 0)\n",
    "stamps = np.expand_dims(stamps, axis=-1)\n",
    "stamps = stamps/np.amax(stamps)"
   ]
  },
  {
   "cell_type": "code",
   "execution_count": 49,
   "id": "3a6dcd11",
   "metadata": {},
   "outputs": [
    {
     "data": {
      "text/plain": [
       "(4195, 37, 37, 1)"
      ]
     },
     "execution_count": 49,
     "metadata": {},
     "output_type": "execute_result"
    }
   ],
   "source": [
    "stamps.shape"
   ]
  },
  {
   "cell_type": "code",
   "execution_count": null,
   "id": "b1cd6d1b",
   "metadata": {},
   "outputs": [],
   "source": []
  },
  {
   "cell_type": "code",
   "execution_count": 50,
   "id": "3db0103a",
   "metadata": {},
   "outputs": [],
   "source": [
    "tot = stamps.shape[0]\n",
    "train_size = int(0.7 * tot)\n",
    "val_size = int(0.15 * tot)\n",
    "test_size = int(0.15 * tot)\n",
    "\n",
    "train_stamps = stamps[:train_size]\n",
    "val_stamps = stamps[train_size:train_size + val_size]\n",
    "test_stamps = stamps[train_size + val_size:]\n",
    "\n",
    "input_shape = train_stamps.shape[1:]\n",
    "\n",
    "act_catalog = fits.open('/gpfs/fs0/project/r/rbond/jorlo/cluster_catalogs/DR5_cluster-catalog_v1.0b2.fits')\n",
    "\n",
    "labels = act_catalog[1].data['M500Cal'][:tot]\n",
    "\n",
    "train_labels = labels[:train_size]\n",
    "val_labels = labels[train_size:train_size + val_size]\n",
    "test_labels = labels[train_size + val_size:]\n",
    "\n",
    "#This just sets the # of samples we include in a trianing epoch, which is called the batch size. Autotune is a bit\n",
    "#of magic that allows tf to dynamically set some hyperparameters in an optimal way. See https://www.tensorflow.org/guide/data_performance\n",
    "batch_size = 100\n",
    "AUTOTUNE = tf.data.AUTOTUNE\n",
    "\n",
    "train_dataset = tf.data.Dataset.from_tensor_slices((train_stamps, train_labels))\n",
    "val_dataset = tf.data.Dataset.from_tensor_slices((val_stamps, val_labels))\n",
    "test_dataset = tf.data.Dataset.from_tensor_slices((test_stamps, test_labels))\n",
    "\n",
    "#We shuffle our data (i.e. just mix up the order) and batch it\n",
    "train_dataset = train_dataset.shuffle(buffer_size=1024).batch(batch_size)\n",
    "val_dataset = val_dataset.shuffle(buffer_size=1024).batch(batch_size)\n",
    "test_dataset = test_dataset.shuffle(buffer_size=1024).batch(batch_size)\n",
    "\n",
    "#Preloads data into memory\n",
    "train_dataset = train_dataset.prefetch(buffer_size=AUTOTUNE)\n",
    "val_dataset = val_dataset.prefetch(buffer_size=AUTOTUNE)\n",
    "test_dataset = test_dataset.prefetch(buffer_size=AUTOTUNE)"
   ]
  },
  {
   "cell_type": "code",
   "execution_count": 51,
   "id": "eb689ee1",
   "metadata": {},
   "outputs": [],
   "source": [
    "from tensorflow.keras import layers\n",
    "\n",
    "model = tf.keras.models.Sequential()\n",
    "model.add(layers.Conv2D(16, (3, 3), activation='relu', input_shape=input_shape))\n",
    "model.add(layers.MaxPooling2D((2, 2), strides = 2))\n",
    "model.add(layers.Conv2D(64, (3, 3), activation='relu'))\n",
    "model.add(layers.MaxPooling2D((2, 2)))\n",
    "model.add(layers.Conv2D(64, (3, 3), activation='relu'))\n",
    "model.add(layers.Flatten())\n",
    "model.add(layers.Dense(64, activation='relu'))\n",
    "model.add(layers.Dense(1))\n",
    "\n",
    "model.compile(loss='mean_squared_error',\n",
    "                optimizer=tf.keras.optimizers.Adam(0.0005))"
   ]
  },
  {
   "cell_type": "code",
   "execution_count": 52,
   "id": "87583e59",
   "metadata": {
    "scrolled": true
   },
   "outputs": [
    {
     "name": "stdout",
     "output_type": "stream",
     "text": [
      "Epoch 1/50\n",
      "30/30 [==============================] - 1s 10ms/step - loss: 7.0380 - val_loss: 0.6276\n",
      "Epoch 2/50\n",
      "30/30 [==============================] - 0s 7ms/step - loss: 0.3841 - val_loss: 0.2195\n",
      "Epoch 3/50\n",
      "30/30 [==============================] - 0s 6ms/step - loss: 0.1562 - val_loss: 0.2180\n",
      "Epoch 4/50\n",
      "30/30 [==============================] - 0s 6ms/step - loss: 0.1388 - val_loss: 0.1993\n",
      "Epoch 5/50\n",
      "30/30 [==============================] - 0s 7ms/step - loss: 0.1297 - val_loss: 0.1851\n",
      "Epoch 6/50\n",
      "30/30 [==============================] - 0s 6ms/step - loss: 0.1215 - val_loss: 0.1826\n",
      "Epoch 7/50\n",
      "30/30 [==============================] - 0s 7ms/step - loss: 0.1180 - val_loss: 0.1831\n",
      "Epoch 8/50\n",
      "30/30 [==============================] - 0s 7ms/step - loss: 0.1127 - val_loss: 0.1711\n",
      "Epoch 9/50\n",
      "30/30 [==============================] - 0s 7ms/step - loss: 0.1052 - val_loss: 0.1543\n",
      "Epoch 10/50\n",
      "30/30 [==============================] - 0s 7ms/step - loss: 0.1020 - val_loss: 0.1622\n",
      "Epoch 11/50\n",
      "30/30 [==============================] - 0s 6ms/step - loss: 0.0966 - val_loss: 0.1561\n",
      "Epoch 12/50\n",
      "30/30 [==============================] - 0s 7ms/step - loss: 0.0973 - val_loss: 0.1464\n",
      "Epoch 13/50\n",
      "30/30 [==============================] - 0s 6ms/step - loss: 0.0907 - val_loss: 0.1482\n",
      "Epoch 14/50\n",
      "30/30 [==============================] - 0s 6ms/step - loss: 0.0897 - val_loss: 0.1594\n",
      "Epoch 15/50\n",
      "30/30 [==============================] - 0s 6ms/step - loss: 0.0963 - val_loss: 0.1414\n",
      "Epoch 16/50\n",
      "30/30 [==============================] - 0s 6ms/step - loss: 0.0853 - val_loss: 0.1326\n",
      "Epoch 17/50\n",
      "30/30 [==============================] - 0s 6ms/step - loss: 0.0819 - val_loss: 0.1333\n",
      "Epoch 18/50\n",
      "30/30 [==============================] - 0s 7ms/step - loss: 0.0876 - val_loss: 0.1332\n",
      "Epoch 19/50\n",
      "30/30 [==============================] - 0s 7ms/step - loss: 0.0749 - val_loss: 0.1279\n",
      "Epoch 20/50\n",
      "30/30 [==============================] - 0s 7ms/step - loss: 0.0843 - val_loss: 0.1322\n",
      "Epoch 21/50\n",
      "30/30 [==============================] - 0s 6ms/step - loss: 0.0726 - val_loss: 0.1267\n",
      "Epoch 22/50\n",
      "30/30 [==============================] - 0s 7ms/step - loss: 0.0714 - val_loss: 0.1292\n",
      "Epoch 23/50\n",
      "30/30 [==============================] - 0s 6ms/step - loss: 0.0723 - val_loss: 0.1276\n",
      "Epoch 24/50\n",
      "30/30 [==============================] - 0s 6ms/step - loss: 0.0746 - val_loss: 0.1284\n",
      "Epoch 25/50\n",
      "30/30 [==============================] - 0s 6ms/step - loss: 0.0693 - val_loss: 0.1325\n",
      "Epoch 26/50\n",
      "30/30 [==============================] - 0s 6ms/step - loss: 0.0707 - val_loss: 0.1406\n",
      "Epoch 27/50\n",
      "30/30 [==============================] - 0s 7ms/step - loss: 0.0676 - val_loss: 0.1265\n",
      "Epoch 28/50\n",
      "30/30 [==============================] - 0s 7ms/step - loss: 0.0748 - val_loss: 0.1462\n",
      "Epoch 29/50\n",
      "30/30 [==============================] - 0s 6ms/step - loss: 0.0746 - val_loss: 0.1530\n",
      "Epoch 30/50\n",
      "30/30 [==============================] - 0s 6ms/step - loss: 0.0732 - val_loss: 0.1424\n",
      "Epoch 31/50\n",
      "30/30 [==============================] - 0s 6ms/step - loss: 0.0648 - val_loss: 0.1314\n",
      "Epoch 32/50\n",
      "30/30 [==============================] - 0s 7ms/step - loss: 0.0641 - val_loss: 0.1266\n",
      "Epoch 33/50\n",
      "30/30 [==============================] - 0s 6ms/step - loss: 0.0660 - val_loss: 0.1333\n",
      "Epoch 34/50\n",
      "30/30 [==============================] - 0s 6ms/step - loss: 0.0698 - val_loss: 0.1336\n",
      "Epoch 35/50\n",
      "30/30 [==============================] - 0s 6ms/step - loss: 0.0629 - val_loss: 0.1302\n",
      "Epoch 36/50\n",
      "30/30 [==============================] - 0s 7ms/step - loss: 0.0625 - val_loss: 0.1286\n",
      "Epoch 37/50\n",
      "30/30 [==============================] - 0s 6ms/step - loss: 0.0683 - val_loss: 0.1284\n",
      "Epoch 38/50\n",
      "30/30 [==============================] - 0s 7ms/step - loss: 0.0629 - val_loss: 0.1556\n",
      "Epoch 39/50\n",
      "30/30 [==============================] - 0s 6ms/step - loss: 0.0682 - val_loss: 0.1305\n",
      "Epoch 40/50\n",
      "30/30 [==============================] - 0s 6ms/step - loss: 0.0611 - val_loss: 0.1242\n",
      "Epoch 41/50\n",
      "30/30 [==============================] - 0s 7ms/step - loss: 0.0622 - val_loss: 0.1304\n",
      "Epoch 42/50\n",
      "30/30 [==============================] - 0s 6ms/step - loss: 0.0630 - val_loss: 0.1299\n",
      "Epoch 43/50\n",
      "30/30 [==============================] - 0s 7ms/step - loss: 0.0593 - val_loss: 0.1268\n",
      "Epoch 44/50\n",
      "30/30 [==============================] - 0s 6ms/step - loss: 0.0578 - val_loss: 0.1348\n",
      "Epoch 45/50\n",
      "30/30 [==============================] - 0s 7ms/step - loss: 0.0621 - val_loss: 0.1244\n",
      "Epoch 46/50\n",
      "30/30 [==============================] - 0s 7ms/step - loss: 0.0554 - val_loss: 0.1306\n",
      "Epoch 47/50\n",
      "30/30 [==============================] - 0s 6ms/step - loss: 0.0554 - val_loss: 0.1235\n",
      "Epoch 48/50\n",
      "30/30 [==============================] - 0s 6ms/step - loss: 0.0589 - val_loss: 0.1258\n",
      "Epoch 49/50\n",
      "30/30 [==============================] - 0s 6ms/step - loss: 0.0602 - val_loss: 0.1236\n",
      "Epoch 50/50\n",
      "30/30 [==============================] - 0s 6ms/step - loss: 0.0611 - val_loss: 0.1256\n",
      "Distributed time:  12.285459995269775\n",
      "7/7 - 0s - loss: 0.0704 - 54ms/epoch - 8ms/step\n"
     ]
    }
   ],
   "source": [
    "toc = time.time()\n",
    "#Actually fits the model to the data. data_augmentation.flow generates augmented data sets from the data sets we pass it.\n",
    "#Epochs sets the number of rounds of fitting to perform. \n",
    "history = model.fit(train_dataset, epochs=int(50), \n",
    "                    validation_data=val_dataset)\n",
    "tic = time.time()\n",
    "\n",
    "print('Distributed time: ', tic-toc)\n",
    "\n",
    "#Evaluate how well our model does\n",
    "test_loss = model.evaluate(test_dataset, verbose=2)"
   ]
  },
  {
   "cell_type": "code",
   "execution_count": 53,
   "id": "d10aa1cd",
   "metadata": {},
   "outputs": [
    {
     "name": "stdout",
     "output_type": "stream",
     "text": [
      "0.04027386\n",
      "0.04067154\n"
     ]
    }
   ],
   "source": [
    "errs_test = []\n",
    "for thing in test_dataset:\n",
    "    for i in range(thing[1].shape[0]):\n",
    "        truth = thing[1][i]\n",
    "        pred = model.predict(np.expand_dims(thing[0][i], axis = 0))\n",
    "        errs_test.append((truth.numpy()-pred)/pred)\n",
    "        \n",
    "errs_val = []\n",
    "for thing in val_dataset:\n",
    "    for i in range(thing[1].shape[0]):\n",
    "        truth = thing[1][i]\n",
    "        pred = model.predict(np.expand_dims(thing[0][i], axis = 0))\n",
    "        errs_val.append((truth.numpy()-pred)/pred)\n",
    "        \n",
    "print(np.mean(np.abs(errs_test)))\n",
    "print(np.mean(np.abs(errs_val)))"
   ]
  },
  {
   "cell_type": "code",
   "execution_count": 35,
   "id": "987f53cb",
   "metadata": {},
   "outputs": [
    {
     "data": {
      "image/png": "[encoded data removed]",
      "text/plain": [
       "<Figure size 432x288 with 2 Axes>"
      ]
     },
     "metadata": {
      "needs_background": "light"
     },
     "output_type": "display_data"
    },
    {
     "data": {
      "image/png": "[encoded data removed]",
      "text/plain": [
       "<Figure size 432x288 with 2 Axes>"
      ]
     },
     "metadata": {
      "needs_background": "light"
     },
     "output_type": "display_data"
    },
    {
     "data": {
      "image/png": "[encoded data removed]",
      "text/plain": [
       "<Figure size 432x288 with 2 Axes>"
      ]
     },
     "metadata": {
      "needs_background": "light"
     },
     "output_type": "display_data"
    },
    {
     "data": {
      "image/png": "[encoded data removed]",
      "text/plain": [
       "<Figure size 432x288 with 2 Axes>"
      ]
     },
     "metadata": {
      "needs_background": "light"
     },
     "output_type": "display_data"
    },
    {
     "data": {
      "image/png": "[encoded data removed]",
      "text/plain": [
       "<Figure size 432x288 with 2 Axes>"
      ]
     },
     "metadata": {
      "needs_background": "light"
     },
     "output_type": "display_data"
    },
    {
     "data": {
      "image/png": "[encoded data removed]",
      "text/plain": [
       "<Figure size 432x288 with 2 Axes>"
      ]
     },
     "metadata": {
      "needs_background": "light"
     },
     "output_type": "display_data"
    },
    {
     "data": {
      "image/png": "[encoded data removed]",
      "text/plain": [
       "<Figure size 432x288 with 2 Axes>"
      ]
     },
     "metadata": {
      "needs_background": "light"
     },
     "output_type": "display_data"
    },
    {
     "data": {
      "image/png": "[encoded data removed]",
      "text/plain": [
       "<Figure size 432x288 with 2 Axes>"
      ]
     },
     "metadata": {
      "needs_background": "light"
     },
     "output_type": "display_data"
    },
    {
     "data": {
      "image/png": "[encoded data removed]",
      "text/plain": [
       "<Figure size 432x288 with 2 Axes>"
      ]
     },
     "metadata": {
      "needs_background": "light"
     },
     "output_type": "display_data"
    },
    {
     "data": {
      "image/png": "[encoded data removed]",
      "text/plain": [
       "<Figure size 432x288 with 2 Axes>"
      ]
     },
     "metadata": {
      "needs_background": "light"
     },
     "output_type": "display_data"
    }
   ],
   "source": [
    "for i in range(10):\n",
    "    plt.imshow(stamps[i,...,0])\n",
    "    plt.colorbar()\n",
    "    plt.show()\n",
    "    plt.close()"
   ]
  },
  {
   "cell_type": "code",
   "execution_count": 45,
   "id": "4a93caec",
   "metadata": {
    "scrolled": true
   },
   "outputs": [
    {
     "name": "stdout",
     "output_type": "stream",
     "text": [
      "Epoch 1/50\n",
      "76/76 [==============================] - 2s 14ms/step - loss: 2.3533 - val_loss: 2.0953\n",
      "Epoch 2/50\n",
      "76/76 [==============================] - 1s 14ms/step - loss: 2.3910 - val_loss: 2.0895\n",
      "Epoch 3/50\n",
      "76/76 [==============================] - 1s 14ms/step - loss: 2.3191 - val_loss: 2.2337\n",
      "Epoch 4/50\n",
      "76/76 [==============================] - 1s 14ms/step - loss: 2.3270 - val_loss: 1.7170\n",
      "Epoch 5/50\n",
      "76/76 [==============================] - 1s 14ms/step - loss: 2.3595 - val_loss: 2.1278\n",
      "Epoch 6/50\n",
      "76/76 [==============================] - 1s 14ms/step - loss: 2.3451 - val_loss: 2.3051\n",
      "Epoch 7/50\n",
      "76/76 [==============================] - 1s 14ms/step - loss: 2.3439 - val_loss: 2.0507\n",
      "Epoch 8/50\n",
      "76/76 [==============================] - 1s 14ms/step - loss: 2.3169 - val_loss: 2.4958\n",
      "Epoch 9/50\n",
      "76/76 [==============================] - 1s 14ms/step - loss: 2.3496 - val_loss: 2.0693\n",
      "Epoch 10/50\n",
      "76/76 [==============================] - 1s 14ms/step - loss: 2.3344 - val_loss: 1.9988\n",
      "Epoch 11/50\n",
      "76/76 [==============================] - 1s 14ms/step - loss: 2.3251 - val_loss: 2.0402\n",
      "Epoch 12/50\n",
      "76/76 [==============================] - 1s 14ms/step - loss: 2.3206 - val_loss: 2.3130\n",
      "Epoch 13/50\n",
      "76/76 [==============================] - 1s 14ms/step - loss: 2.3198 - val_loss: 2.0483\n",
      "Epoch 14/50\n",
      "76/76 [==============================] - 1s 14ms/step - loss: 2.3024 - val_loss: 1.8045\n",
      "Epoch 15/50\n",
      "76/76 [==============================] - 1s 14ms/step - loss: 2.3766 - val_loss: 1.7863\n",
      "Epoch 16/50\n",
      "76/76 [==============================] - 1s 14ms/step - loss: 2.3000 - val_loss: 2.0665\n",
      "Epoch 17/50\n",
      "76/76 [==============================] - 1s 14ms/step - loss: 2.3136 - val_loss: 1.8119\n",
      "Epoch 18/50\n",
      "76/76 [==============================] - 1s 14ms/step - loss: 2.3094 - val_loss: 1.8243\n",
      "Epoch 19/50\n",
      "76/76 [==============================] - 1s 14ms/step - loss: 2.3152 - val_loss: 2.2143\n",
      "Epoch 20/50\n",
      "76/76 [==============================] - 1s 14ms/step - loss: 2.3291 - val_loss: 1.8308\n",
      "Epoch 21/50\n",
      "76/76 [==============================] - 1s 14ms/step - loss: 2.3803 - val_loss: 1.8973\n",
      "Epoch 22/50\n",
      "76/76 [==============================] - 1s 14ms/step - loss: 2.3009 - val_loss: 2.1980\n",
      "Epoch 23/50\n",
      "76/76 [==============================] - 1s 14ms/step - loss: 2.3249 - val_loss: 2.5778\n",
      "Epoch 24/50\n",
      "76/76 [==============================] - 1s 14ms/step - loss: 2.3144 - val_loss: 2.0035\n",
      "Epoch 25/50\n",
      "76/76 [==============================] - 1s 14ms/step - loss: 2.3055 - val_loss: 2.0536\n",
      "Epoch 26/50\n",
      "76/76 [==============================] - 1s 14ms/step - loss: 2.3134 - val_loss: 1.9328\n",
      "Epoch 27/50\n",
      "76/76 [==============================] - 1s 14ms/step - loss: 2.3105 - val_loss: 2.0118\n",
      "Epoch 28/50\n",
      "76/76 [==============================] - 1s 14ms/step - loss: 2.3146 - val_loss: 2.0242\n",
      "Epoch 29/50\n",
      "76/76 [==============================] - 1s 14ms/step - loss: 2.3141 - val_loss: 2.0377\n",
      "Epoch 30/50\n",
      "76/76 [==============================] - 1s 14ms/step - loss: 2.3407 - val_loss: 1.8309\n",
      "Epoch 31/50\n",
      "76/76 [==============================] - 1s 14ms/step - loss: 2.3147 - val_loss: 1.8509\n",
      "Epoch 32/50\n",
      "76/76 [==============================] - 1s 14ms/step - loss: 2.3262 - val_loss: 1.9869\n",
      "Epoch 33/50\n",
      "76/76 [==============================] - 1s 14ms/step - loss: 2.3026 - val_loss: 1.8667\n",
      "Epoch 34/50\n",
      "76/76 [==============================] - 1s 14ms/step - loss: 2.3209 - val_loss: 1.8869\n",
      "Epoch 35/50\n",
      "76/76 [==============================] - 1s 15ms/step - loss: 2.3058 - val_loss: 1.9268\n",
      "Epoch 36/50\n",
      "76/76 [==============================] - 1s 14ms/step - loss: 2.3117 - val_loss: 1.9537\n",
      "Epoch 37/50\n",
      "76/76 [==============================] - 1s 15ms/step - loss: 2.3072 - val_loss: 3.0419\n",
      "Epoch 38/50\n",
      "76/76 [==============================] - 1s 14ms/step - loss: 2.3584 - val_loss: 1.9186\n",
      "Epoch 39/50\n",
      "76/76 [==============================] - 1s 14ms/step - loss: 2.3001 - val_loss: 2.1681\n",
      "Epoch 40/50\n",
      "76/76 [==============================] - 1s 14ms/step - loss: 2.3379 - val_loss: 1.7469\n",
      "Epoch 41/50\n",
      "76/76 [==============================] - 1s 14ms/step - loss: 2.3126 - val_loss: 2.2734\n",
      "Epoch 42/50\n",
      "76/76 [==============================] - 1s 14ms/step - loss: 2.3399 - val_loss: 2.5947\n",
      "Epoch 43/50\n",
      "76/76 [==============================] - 1s 14ms/step - loss: 2.3074 - val_loss: 2.4440\n",
      "Epoch 44/50\n",
      "76/76 [==============================] - 1s 14ms/step - loss: 2.3121 - val_loss: 2.1318\n",
      "Epoch 45/50\n",
      "76/76 [==============================] - 1s 14ms/step - loss: 2.2999 - val_loss: 2.0660\n",
      "Epoch 46/50\n",
      "76/76 [==============================] - 1s 14ms/step - loss: 2.2999 - val_loss: 1.9750\n",
      "Epoch 47/50\n",
      "76/76 [==============================] - 1s 14ms/step - loss: 2.3071 - val_loss: 2.2864\n",
      "Epoch 48/50\n",
      "76/76 [==============================] - 1s 14ms/step - loss: 2.3014 - val_loss: 1.9196\n",
      "Epoch 49/50\n",
      "76/76 [==============================] - 1s 14ms/step - loss: 2.3057 - val_loss: 2.0677\n",
      "Epoch 50/50\n",
      "76/76 [==============================] - 1s 14ms/step - loss: 2.3371 - val_loss: 1.9505\n"
     ]
    }
   ],
   "source": [
    "data_augmentation = tf.keras.preprocessing.image.ImageDataGenerator(rotation_range=360, width_shift_range=4,\n",
    "    height_shift_range=4,zoom_range=0.3)\n",
    "\n",
    "\n",
    "history = model.fit(data_augmentation.flow(train_stamps, train_labels), epochs=int(50), \n",
    "                    validation_data=val_dataset)"
   ]
  },
  {
   "cell_type": "code",
   "execution_count": 46,
   "id": "ac46c68f",
   "metadata": {},
   "outputs": [
    {
     "name": "stdout",
     "output_type": "stream",
     "text": [
      "0.29979357\n",
      "0.2898087\n"
     ]
    }
   ],
   "source": [
    "errs_test = []\n",
    "for thing in test_dataset:\n",
    "    for i in range(thing[1].shape[0]):\n",
    "        truth = thing[1][i]\n",
    "        pred = model.predict(np.expand_dims(thing[0][i], axis = 0))\n",
    "        errs_test.append((truth.numpy()-pred)/pred)\n",
    "        \n",
    "errs_val = []\n",
    "for thing in val_dataset:\n",
    "    for i in range(thing[1].shape[0]):\n",
    "        truth = thing[1][i]\n",
    "        pred = model.predict(np.expand_dims(thing[0][i], axis = 0))\n",
    "        errs_val.append((truth.numpy()-pred)/pred)\n",
    "        \n",
    "print(np.mean(np.abs(errs_test)))\n",
    "print(np.mean(np.abs(errs_val)))"
   ]
  },
  {
   "cell_type": "code",
   "execution_count": 32,
   "id": "5555502c",
   "metadata": {},
   "outputs": [
    {
     "data": {
      "text/plain": [
       "0.00023466302192399463"
      ]
     },
     "execution_count": 32,
     "metadata": {},
     "output_type": "execute_result"
    }
   ],
   "source": []
  },
  {
   "cell_type": "code",
   "execution_count": null,
   "id": "2eef214f",
   "metadata": {},
   "outputs": [],
   "source": []
  }
 ],
 "metadata": {
  "kernelspec": {
   "display_name": "ml-clusters",
   "language": "python",
   "name": "ml-clusters"
  },
  "language_info": {
   "codemirror_mode": {
    "name": "ipython",
    "version": 3
   },
   "file_extension": ".py",
   "mimetype": "text/x-python",
   "name": "python",
   "nbconvert_exporter": "python",
   "pygments_lexer": "ipython3",
   "version": "3.8.13"
  }
 },
 "nbformat": 4,
 "nbformat_minor": 5
}

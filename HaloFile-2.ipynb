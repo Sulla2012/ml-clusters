{
 "cells": [
  {
   "cell_type": "code",
   "execution_count": 1,
   "id": "846ac3b6-13f2-494e-b561-f4bba2f2d94d",
   "metadata": {},
   "outputs": [],
   "source": [
    "#More or less general imports\n",
    "import numpy as np\n",
    "import matplotlib.pyplot as plt\n",
    "from astropy.io import fits\n",
    "import os\n",
    "#from past.utils import old_div\n",
    "import time\n",
    "\n",
    "#Imports for Creating WebSky Maps \n",
    "import h5py    \n",
    "import healpy as hp\n",
    "from pixell import enmap,utils, reproject, bunch, curvedsky, enplot\n",
    "import os, sys\n",
    "import dill as dl\n",
    "#from cosmology import *\n",
    "from scipy.interpolate import *\n",
    "#Unit conversion\n",
    "from astropy import units as u\n",
    "from astropy.constants import k_B, h\n",
    "\n",
    "#Imports for Torch\n",
    "import torch\n",
    "import torchvision\n",
    "from torch import nn, optim\n",
    "from torch.utils.data import DataLoader, TensorDataset\n",
    "from torchvision import datasets\n",
    "from torchvision.transforms import ToTensor\n",
    "import torch.nn.functional as F\n",
    "\n",
    "#Creating Stamps\n",
    "from astropy import wcs\n",
    "from astropy.nddata import Cutout2D\n",
    "import pickle as pk\n",
    "from astropy.convolution import Gaussian2DKernel, convolve\n",
    "from astropy.coordinates import SkyCoord\n",
    "import yaml\n",
    "from pixell import enmap,utils, reproject, enplot\n",
    "from scipy import interpolate\n",
    "import random\n",
    "from astropy.nddata import block_reduce, block_replicate\n",
    "import ipyparallel as ipp\n",
    "from mpi4py import MPI\n",
    "from PIL import Image\n",
    "from astLib import astWCS, astImages\n",
    "from scipy import ndimage\n",
    "from pixell.enmap import sky2pix\n",
    "from astropy.wcs import WCS\n",
    "from astropy.wcs.utils import skycoord_to_pixel\n",
    "from astropy.wcs.utils import proj_plane_pixel_scales\n",
    "from astroquery.skyview import SkyView\n",
    "import astropy.io.fits as pyfits\n",
    "from stamping_utils import autotiler, getTileCoordsDict, make_jpg, normalize_map, make_mask_wise, _make_jpg, make_stamp, make_mask\n",
    "import glob\n",
    "\n",
    "%load_ext autoreload\n",
    "%autoreload 2\n",
    "\n",
    "%matplotlib inline"
   ]
  },
  {
   "cell_type": "code",
   "execution_count": 2,
   "id": "101820b6-a3fc-42c0-8fc5-588476bae133",
   "metadata": {},
   "outputs": [
    {
     "name": "stdout",
     "output_type": "stream",
     "text": [
      "[[0.         0.        ]\n",
      " [0.         0.02617994]\n",
      " [0.         0.05235988]\n",
      " ...\n",
      " [1.20427718 6.23082543]\n",
      " [1.20427718 6.25700537]\n",
      " [1.20427718 6.28318531]]\n"
     ]
    }
   ],
   "source": [
    "def generate_coords():\n",
    "    # Arccosine helper function\n",
    "    def arccos_arange(start, finish, steps):\n",
    "        \"\"\"\n",
    "        Converts an arange array of angles (in degrees) to their arccosine values in radians.\n",
    "        Returns:\n",
    "        Array of arccosine values in radians.\n",
    "        \"\"\"\n",
    "        degrees_array = np.arange(start, finish, steps)\n",
    "        radians_array = np.deg2rad(degrees_array)\n",
    "        # (arccosine values will be between -1 and 1)\n",
    "        cosine_values = np.cos(radians_array)\n",
    "        y = np.arccos(cosine_values)\n",
    "        return y\n",
    "    \n",
    "    # Coordinates\n",
    "    x = np.arange(0, 361 * utils.degree, 1.5 * utils.degree)\n",
    "    y = arccos_arange(-69, 70, 1.5)\n",
    "    \n",
    "    # Array of coordinates\n",
    "    decy, rax = np.meshgrid(y, x)\n",
    "    \n",
    "    # Flatten the meshgrid arrays and combine them into pairs of positions\n",
    "    coords = np.array([decy.ravel(), rax.ravel()]).T\n",
    "    coords = np.unique(coords, axis=0)\n",
    "    \n",
    "    return coords\n",
    "    \n",
    "coords = generate_coords()\n",
    "print(coords)"
   ]
  },
  {
   "cell_type": "code",
   "execution_count": 3,
   "id": "d297f99c-2f2d-4576-92fb-33d2a5072062",
   "metadata": {},
   "outputs": [],
   "source": [
    "#Global Constants\n",
    "TCMB    = 2.726 #Kelvin\n",
    "TCMB_uK = 2.726e6 #micro-Kelvin\n",
    "hplanck = 6.626068e-34 #MKS\n",
    "kboltz  = 1.3806503e-23 #MKS\n",
    "clight  = 299792458.0 #MKS\n",
    "#Access to WebSky Data\n",
    "path    = \"/mnt/welch/USERS/cwhitaker/maps/websky/\"\n",
    "#Unit conversion provided by Mat\n",
    "def dBnudT(nu_ghz):\n",
    "    nu = 1.e9*np.asarray(nu_ghz)\n",
    "    X = hplanck*nu/(kboltz*TCMB)\n",
    "    return (2.*hplanck*nu**3.)/clight**2. * (np.exp(X))/(np.exp(X)-1.)**2. * X/TCMB_uK * 1e26\n",
    "\n",
    "def ItoDeltaT(nu_ghz):\n",
    "    return 1./dBnudT(nu_ghz)\n",
    "\n",
    "\n",
    "#Creating a websky map of some frequency\n",
    "def create_websky_map(freq):\n",
    "    # Shape and WCS of the maps\n",
    "    #For FullSky\n",
    "    shape, wcs = enmap.fullsky_geometry(res=np.deg2rad(0.5 / 60))\n",
    "\n",
    "    #Unit conversion provided by Mat\n",
    "    def dBnudT(nu_ghz):\n",
    "        nu = 1.e9*np.asarray(nu_ghz)\n",
    "        X = hplanck*nu/(kboltz*TCMB)\n",
    "        return (2.*hplanck*nu**3.)/clight**2. * (np.exp(X))/(np.exp(X)-1.)**2. * X/TCMB_uK * 1e26\n",
    "\n",
    "    def ItoDeltaT(nu_ghz):\n",
    "        return 1./dBnudT(nu_ghz)\n",
    "    #Access to WebSky Data\n",
    "    #path = \"/mnt/welch/USERS/cwhitaker/maps/websky/\"\n",
    "    \n",
    "    # CMB\n",
    "    alm = hp.read_alm(path + 'lensed_alm.fits', hdu=(1, 2, 3))\n",
    "    cmb_map = curvedsky.alm2map(alm.astype(np.complex128)[0, :], enmap.empty(shape, wcs, dtype=np.float32))\n",
    "    \n",
    "    # kSZ Effect\n",
    "    ksz_map = hp.read_map(path + \"ksz.fits\")\n",
    "    npix = ksz_map.size  # assuming single healpix map\n",
    "    nside = hp.npix2nside(npix)\n",
    "    lmax = 3 * nside\n",
    "    ksz_map = reproject.healpix2map(ksz_map, shape=cmb_map.shape, wcs=cmb_map.wcs, lmax=lmax)\n",
    "    \n",
    "    # tSZ Effect\n",
    "    tsz_map = hp.read_map(path + \"tsz_8192.fits\")\n",
    "    npix = tsz_map.size  # assuming single healpix map\n",
    "    nside = hp.npix2nside(npix)\n",
    "    lmax = 3 * nside\n",
    "    tsz_map = reproject.healpix2map(tsz_map, shape=cmb_map.shape, wcs=cmb_map.wcs, lmax=lmax)\n",
    "    \n",
    "    if 90 <= freq <= 90.2:\n",
    "        cib_map    = enmap.read_map(path + \"cib_90.2_car.fits\")\n",
    "        radio_map  = enmap.read_map(path + \"/map_radio_0.5arcmin_f90.2.fits\")\n",
    "        tsz_factor = -4.2840 * 1e6 #tSZ conversion for 90 GHz\n",
    "        cib_factor = 2.5947 * 1e3\n",
    "    elif 150 <= freq <= 153:\n",
    "        cib_map    = enmap.read_map(path + \"cib_153_car.fits\")\n",
    "        radio_map  = enmap.read_map(path + \"/map_radio_0.5arcmin_f143.0.fits\")\n",
    "        tsz_factor = -2.7685 * 1e6 #tSZ conversion for 150 GHz\n",
    "        cib_factor = 4.6831 * 1e3\n",
    "    # Conversion factors\n",
    "    elif 217 <= freq <= 225:\n",
    "        cib_map = enmap.read_map(path + \"cib_217_car.fits\")\n",
    "        radio_map = enmap.read_map(path + \"/map_radio_0.5arcmin_f217.0.fits\")\n",
    "        tsz_factor = 3.1517 * 1e5 #tSZ conversion for 220 GHz\n",
    "        cib_factor = 2.0676 * 1e3\n",
    "        #cib_225 = 2.0716 * 1e3\n",
    "    \n",
    "    # CIB conversions to temperature map in uK\n",
    "    # Combine maps\n",
    "    websky_map = radio_map*ItoDeltaT(freq) + cmb_map + ksz_map + tsz_map*tsz_factor + cib_map*cib_factor \n",
    "    return websky_map, wcs"
   ]
  },
  {
   "cell_type": "code",
   "execution_count": 4,
   "id": "c25f9bcd-8677-4407-87fb-5ce461c300a7",
   "metadata": {},
   "outputs": [],
   "source": [
    "omegab = 0.049\n",
    "omegac = 0.261\n",
    "omegam = omegab + omegac\n",
    "h      = 0.68\n",
    "ns     = 0.965\n",
    "sigma8 = 0.81\n",
    "\n",
    "c = 3e5\n",
    "\n",
    "H0 = 100*h\n",
    "nz = 100000\n",
    "z1 = 0.0\n",
    "z2 = 6.0\n",
    "za = np.linspace(z1,z2,nz)\n",
    "dz = za[1]-za[0]\n",
    "\n",
    "H      = lambda z: H0*np.sqrt(omegam*(1+z)**3+1-omegam)\n",
    "dchidz = lambda z: c/H(z)\n",
    "\n",
    "chia = np.cumsum(dchidz(za))*dz\n",
    "\n",
    "zofchi = interp1d(chia,za)"
   ]
  },
  {
   "cell_type": "code",
   "execution_count": 5,
   "id": "9c1d7d4e-c7fb-4ea1-90f1-1fe275bcf7c9",
   "metadata": {},
   "outputs": [],
   "source": [
    "#Access to WebSky data\n",
    "path = \"/mnt/welch/USERS/cwhitaker/maps/websky/\""
   ]
  },
  {
   "cell_type": "code",
   "execution_count": 22,
   "id": "d9bf2740-99a7-4f46-a002-32a8ee773789",
   "metadata": {},
   "outputs": [],
   "source": [
    "cluster_catalog=open(path + 'halos.pksc')\n",
    "N = np.fromfile(cluster_catalog,count=3,dtype=np.int32)[0]\n",
    "# only take first five entries for testing (there are ~8e8 halos total...)\n",
    "# comment the following line to read in all halos\n",
    "N = 2463790\n",
    "catalog=np.fromfile(cluster_catalog,count=N*10,dtype=np.float32)\n",
    "catalog=np.reshape(catalog,(N,10))\n",
    "x  = catalog[:,0];  y = catalog[:,1];  z = catalog[:,2] # Mpc (comoving)\n",
    "vx = catalog[:,3]; vy = catalog[:,4]; vz = catalog[:,5] # km/sec\n",
    "R  = catalog[:,6] # Mpc\n",
    "#print(catalog)"
   ]
  },
  {
   "cell_type": "code",
   "execution_count": 23,
   "id": "093573f7-3694-4ba4-9fe1-cf0c46dbf4c5",
   "metadata": {},
   "outputs": [],
   "source": [
    "# Constants\n",
    "rho      = 2.775e11*omegam*h**2 # Msun/Mpc^3\n",
    "# this is M200m (mean density 200 times mean) in Msun\n",
    "M        = 4*np.pi/3.*rho*R**3\n",
    "chi      = np.sqrt(x**2+y**2+z**2)    # Mpc\n",
    "redshift = zofchi(chi)"
   ]
  },
  {
   "cell_type": "code",
   "execution_count": 24,
   "id": "c54c8d12-ca2e-4562-b00e-376e88b1eadb",
   "metadata": {},
   "outputs": [],
   "source": [
    "theta,phi = hp.vec2ang(np.column_stack((x,y,z))) # in (not with utils.degree) radians"
   ]
  },
  {
   "cell_type": "code",
   "execution_count": 25,
   "id": "fd2711f9-111e-4198-b419-4b60b8214c14",
   "metadata": {},
   "outputs": [],
   "source": [
    "ra      = phi\n",
    "dec     = np.pi/2. - theta"
   ]
  },
  {
   "cell_type": "code",
   "execution_count": 26,
   "id": "fb1c6367-ac19-434b-9f3f-bfe381b78f8c",
   "metadata": {},
   "outputs": [],
   "source": [
    "#Limit to how bright/massive the clusters can be\n",
    "#New cut at 1e14\n",
    "#Less bright / massive clusters = 3.0e14\n",
    "cluster_cut = 2.0e14\n",
    "\n",
    "cluster_flags = np.where((M >= cluster_cut))[0]\n",
    "#Limit on parameters of clusters\n",
    "M            = M[cluster_flags]\n",
    "redshift     = redshift[cluster_flags]\n",
    "cluster_decs = dec[cluster_flags] * 180/np.pi\n",
    "cluster_ras  = ra[cluster_flags] * 180/np.pi\n",
    "r = R[cluster_flags]"
   ]
  },
  {
   "cell_type": "code",
   "execution_count": 27,
   "id": "0fae3843-d106-447b-a2c1-a08f2384efd9",
   "metadata": {},
   "outputs": [],
   "source": [
    "chi = chi[cluster_flags]"
   ]
  },
  {
   "cell_type": "code",
   "execution_count": 28,
   "id": "d9411c25-bbf1-4cff-b9cd-c64394227b62",
   "metadata": {},
   "outputs": [
    {
     "name": "stdout",
     "output_type": "stream",
     "text": [
      "(246381,)\n"
     ]
    }
   ],
   "source": [
    "print(r.shape)"
   ]
  },
  {
   "cell_type": "markdown",
   "id": "fc6246d8-dc46-4622-b74f-5f95cb4b7bc0",
   "metadata": {},
   "source": [
    "### Creating Stamps and Mask"
   ]
  },
  {
   "cell_type": "markdown",
   "id": "29ecb2ea-267f-4448-a738-22a018cf2f94",
   "metadata": {},
   "source": [
    "Creating tiles and corresponding stamps centered around celestial coordinates. In this code 313 boxes are created"
   ]
  },
  {
   "cell_type": "raw",
   "id": "76b9e9c7-50c5-4110-8f19-1b27161e64fd",
   "metadata": {},
   "source": [
    "def tile_mpi():\n",
    "    comm = MPI.COMM_WORLD\n",
    "    myrank = comm.Get_rank()\n",
    "    nproc = comm.Get_size()\n",
    "    freqs = [\"090\", \"150\", \"220\"]\n",
    "    r = 2 * utils.degree\n",
    "    count = 0\n",
    "    for coord in coords:\n",
    "        deks, ras = coord\n",
    "        decmin, ramin = deks - r, ras - r\n",
    "        decmax, ramax = deks + r, ras + r\n",
    "        in_image = np.where((ramin < cluster_ras) & (cluster_ras < ramax) & (decmin < cluster_decs) & (cluster_decs < decmax))[0]\n",
    "        if len(in_image) == 0:\n",
    "            continue\n",
    "    \n",
    "        if ramax < ramin:\n",
    "            ramin -= 360 * utils.degree\n",
    "        \n",
    "        box = np.array([[decmin, ramin],[decmax, ramax]])\n",
    "        #Make stamp of box\n",
    "        stamp, cur_wcs = make_stamp('/mnt/welch/USERS/cwhitaker/maps/websky/websky_f*_map.fits', box, freqs, normalize= False)\n",
    "        if type(stamp) == int: continue\n",
    "        enmap.write_map(\"/mnt/welch/USERS/cwhitaker/ml-clusters/websky_tiles/websky_stamps/stamp_{}.fits\".format(count), stamp)\n",
    "        mask = make_mask(stamp, cluster_ras, cluster_decs, box, cur_wcs, size=2.4)\n",
    "        np.savez_compressed(\"/mnt/welch/USERS/cwhitaker/ml-clusters/websky_tiles/websky_masks/mask_{}\".format(count), mask)\n",
    "        count += 1\n",
    "    return 0\n",
    "\n",
    "with ipp.Cluster(controller_ip=\"*\", engines=\"mpi\", n=24) as rc:\n",
    "    # get a broadcast_view on the cluster which is best\n",
    "    # suited for MPI style computation\n",
    "    view = rc.broadcast_view()\n",
    "    # run the mpi_example function on all engines in parallel\n",
    "    r = view.apply_sync(tile_mpi())\n",
    "    # Retrieve and print the result from the engines\n",
    "    #print(\"\\n\".join(r))"
   ]
  },
  {
   "cell_type": "markdown",
   "id": "85827d4a-9f42-4422-b304-8788adb2ed29",
   "metadata": {},
   "source": [
    "#### Individual Frequency cutouts"
   ]
  },
  {
   "cell_type": "markdown",
   "id": "737af4ad-1a4d-4538-a80e-cd4ab1c56e95",
   "metadata": {},
   "source": [
    "def freq_stamper(ras, decs):\n",
    "    comm = MPI.COMM_WORLD\n",
    "    myrank = comm.Get_rank()\n",
    "    nproc = comm.Get_size()\n",
    "    freqs = [\"090\", \"150\", \"220\"]\n",
    "    #Radius of box\n",
    "    dr = 30*u.arcmin\n",
    "    count = 0\n",
    "    \n",
    "    for i in range(myrank, len(ras), nproc):\n",
    "        print(i, end=\"\\r\")\n",
    "        offset_ra, offset_dec = np.random.rand()*5*u.arcmin, np.random.rand()*5*u.arcmin\n",
    "        ra_cent = cluster_ras[i]*u.deg+offset_ra\n",
    "        dec_cent = cluster_decs[i]*u.deg+offset_dec\n",
    "\n",
    "        ra_min, ra_max = ra_cent - dr, ra_cent + dr\n",
    "        dec_min, dec_max = dec_cent - dr, dec_cent + dr\n",
    "    \n",
    "        if ra_max < ra_min:\n",
    "            ra_min -= 360\n",
    "        \n",
    "        box = np.array([[dec_min.value, ra_min.value],[dec_max.value, ra_max.value]]) * utils.degree\n",
    "    \n",
    "        #Make stamp of box\n",
    "        stamp, cur_wcs = make_stamp('/mnt/welch/USERS/jorlo/maps/20240323_simple/act_planck_*_f*_daynight_map_srcfree.fits', box, freqs, normalize = False)\n",
    "        if type(stamp) == int: continue\n",
    "        #np.savez_compressed(\"/mnt/welch/USERS/jorlo/ml-clusters/ACT_tiles/indv_freq_stamps/{}\".format(str(i).zfill(4)), jpg)\n",
    "        enmap.write_map(\"/mnt/welch/USERS/cwhitaker/ml-clusters/websky_tiles/freq_tiles/indv_freq_{}.fits\".format(count), stamp)\n",
    "        mask = make_mask(stamp, cluster_ras, cluster_decs, box, cur_wcs, size=2.4)\n",
    "        #print(mask.shape)\n",
    "        np.savez_compressed(\"/mnt/welch/USERS/jorlo/ml-clusters/ACT_tiles/indv_freq_masks/{}_mask\".format(str(i).zfill(4)), mask)\n",
    "        count += 1\n",
    "    \n",
    "\n",
    "with ipp.Cluster(controller_ip=\"*\", engines=\"mpi\", n=24) as rc:\n",
    "    view = rc.broadcast_view()\n",
    "    r = view.apply_sync(freq_stamper(ras, decs))\n",
    "    print(\"\\n\".join(r))"
   ]
  },
  {
   "cell_type": "markdown",
   "id": "361b16c1-1b71-4dc0-88a7-240e9325c783",
   "metadata": {},
   "source": [
    "comm = MPI.COMM_WORLD\n",
    "myrank = comm.Get_rank()\n",
    "nproc = comm.Get_size()\n",
    "freqs = [\"090\", \"150\", \"220\"]\n",
    "\n",
    "dr = 30*u.arcmin\n",
    "    \n",
    "for i in range(myrank, len(cluster_ras[:3]), nproc):\n",
    "    print(i, end=\"\\r\")\n",
    "    offset_ra, offset_dec = np.random.rand()*5*u.arcmin, np.random.rand()*5*u.arcmin\n",
    "    ra_cent = cluster_ras[i]*u.deg+offset_ra\n",
    "    dec_cent = cluster_decs[i]*u.deg+offset_dec\n",
    "\n",
    "    ra_min, ra_max = ra_cent - dr, ra_cent + dr\n",
    "    dec_min, dec_max = dec_cent - dr, dec_cent + dr\n",
    "    \n",
    "    if ra_max < ra_min:\n",
    "        ra_min -= 360\n",
    "        \n",
    "    box = np.array([[dec_min.value, ra_min.value],[dec_max.value, ra_max.value]])# * utils.degree\n",
    "    print(box)    \n",
    "        #Make stamp of box\n",
    "    stamp, cur_wcs = make_stamp('/mnt/welch/USERS/cwhitaker/maps/websky/websky_f*_map.fits', box, freqs, normalize= False)\n",
    "    if type(stamp) == int: continue\n",
    "    \n",
    "        #np.savez_compressed(\"/mnt/welch/USERS/jorlo/ml-clusters/ACT_tiles/indv_freq_stamps/{}\".format(str(i).zfill(4)), jpg)\n",
    "   # enmap.write_map(\"/mnt/welch/USERS/jorlo/ml-clusters/ACT_tiles/indv_freq_stamps/{}.fits\".format(str(i).zfill(4)), stamp)\n",
    "  #  mask = make_mask(stamp, act_catalog, [[ra_min.value, ra_max.value], [dec_min.value, dec_max.value]], cur_wcs, size = 4.8)"
   ]
  },
  {
   "cell_type": "code",
   "execution_count": null,
   "id": "da694d5e-2718-4f70-95df-7714c381d9c9",
   "metadata": {},
   "outputs": [],
   "source": []
  },
  {
   "cell_type": "code",
   "execution_count": 29,
   "id": "51a3fe01-74e4-4b21-91cb-07d412cdf6ec",
   "metadata": {},
   "outputs": [
    {
     "name": "stdout",
     "output_type": "stream",
     "text": [
      "[ 848.37257162  515.39545626 1021.35202279 ...  963.87491317 1479.85341655\n",
      " 1731.3620764 ]\n",
      "[111.42438742 183.03498429  92.01153603 ...  37.90417001  24.68814516\n",
      "  21.10177502]\n"
     ]
    }
   ],
   "source": [
    "from astropy.cosmology import Planck15 as cosmo\n",
    "d_A = cosmo.angular_diameter_distance(z=redshift)\n",
    "d_C = cosmo.comoving_distance(z=redshift)\n",
    "d_C = d_C.value\n",
    "d_A = d_A.value\n",
    "theta = (r / d_A) * (180 * 60 / np.pi)\n",
    "print(d_A)\n",
    "print(theta)"
   ]
  },
  {
   "cell_type": "code",
   "execution_count": 30,
   "id": "ebebf6da-5aca-4b15-ad65-ca50bacfb085",
   "metadata": {},
   "outputs": [
    {
     "name": "stdout",
     "output_type": "stream",
     "text": [
      "tan:{cdelt:[-0.008333,0.008333],crval:[0,0],crpix:[21.00,21.00]}\n"
     ]
    }
   ],
   "source": [
    "comm = MPI.COMM_WORLD\n",
    "myrank = comm.Get_rank()\n",
    "nproc = comm.Get_size()\n",
    "freqs = [\"090\", \"150\", \"220\"]\n",
    "\n",
    "dr = 10*u.arcmin\n",
    "offset_ra, offset_dec = np.random.rand()*5*u.arcmin, np.random.rand()*5*u.arcmin\n",
    "ra_cent = cluster_ras[246379]*u.deg+offset_ra\n",
    "dec_cent = cluster_decs[246379]*u.deg+offset_dec\n",
    "ra_min, ra_max = ra_cent - dr, ra_cent + dr\n",
    "dec_min, dec_max = dec_cent - dr, dec_cent + dr\n",
    "box = np.array([[dec_min.value, ra_min.value],[dec_max.value, ra_max.value]]) * utils.degree\n",
    "stamp, cur_wcs = make_stamp('/mnt/welch/USERS/cwhitaker/maps/websky/websky_f*_map.fits', box, freqs, normalize = False)\n",
    "mask = make_mask(stamp, cluster_ras, cluster_decs, box, cur_wcs, size = 3)\n",
    "#print(chi[0],theta[0])"
   ]
  },
  {
   "cell_type": "code",
   "execution_count": 31,
   "id": "cbbe3ec0-0851-47c4-b665-746a57ff0dac",
   "metadata": {},
   "outputs": [
    {
     "data": {
      "image/png": "[encoded data removed]",
      "text/plain": [
       "<Figure size 640x480 with 1 Axes>"
      ]
     },
     "metadata": {},
     "output_type": "display_data"
    }
   ],
   "source": [
    "#lims=10000\n",
    "plt.imshow(mask)#, vmin=-lims, vmax=lims)\n",
    "plt.savefig('mask_stamp_size')"
   ]
  },
  {
   "cell_type": "code",
   "execution_count": 32,
   "id": "f7c8da59-8ffe-4365-8f5f-f08cccd38c38",
   "metadata": {},
   "outputs": [
    {
     "data": {
      "image/png": "[encoded data removed]",
      "text/plain": [
       "<Figure size 640x480 with 1 Axes>"
      ]
     },
     "metadata": {},
     "output_type": "display_data"
    }
   ],
   "source": [
    "#lims=1000\n",
    "plt.imshow(stamp[0])#, vmin=-lims, vmax=lims)\n",
    "plt.savefig('freq_stamp_size')"
   ]
  },
  {
   "cell_type": "code",
   "execution_count": 33,
   "id": "3cdbc1b9-7eb2-4b92-a0e9-4292955844cb",
   "metadata": {},
   "outputs": [
    {
     "name": "stderr",
     "output_type": "stream",
     "text": [
      "/tmp/ipykernel_526699/444339520.py:7: UserWarning: No artists with labels found to put in legend.  Note that artists whose label start with an underscore are ignored when legend() is called with no argument.\n",
      "  plt.legend()\n"
     ]
    },
    {
     "data": {
      "image/png": "[encoded data removed]",
      "text/plain": [
       "<Figure size 640x480 with 1 Axes>"
      ]
     },
     "metadata": {},
     "output_type": "display_data"
    }
   ],
   "source": [
    "redshift = np.sort(redshift)\n",
    "d_A = np.sort(d_A)\n",
    "plt.plot(redshift,d_A)\n",
    "plt.xlabel(\"redshift\")\n",
    "plt.ylabel(\"d_A\")\n",
    "plt.savefig('d_A vs redshift')\n",
    "plt.legend()\n",
    "# Show the plot\n",
    "plt.show()"
   ]
  },
  {
   "cell_type": "code",
   "execution_count": null,
   "id": "caa6fb5c-8e47-4b07-8e22-39d7a289bf96",
   "metadata": {},
   "outputs": [],
   "source": []
  },
  {
   "cell_type": "code",
   "execution_count": null,
   "id": "ca35c02d-eced-4f95-9cab-47e58d782820",
   "metadata": {},
   "outputs": [],
   "source": []
  },
  {
   "cell_type": "code",
   "execution_count": null,
   "id": "03cf9313-1bef-4428-bd3f-29bf499c1282",
   "metadata": {},
   "outputs": [],
   "source": []
  },
  {
   "cell_type": "code",
   "execution_count": null,
   "id": "d9901457-4e99-4928-8d4c-6baf47b7b761",
   "metadata": {},
   "outputs": [],
   "source": []
  },
  {
   "cell_type": "code",
   "execution_count": null,
   "id": "c3405b8a-68b9-416e-b4e1-7b1d2287211b",
   "metadata": {},
   "outputs": [],
   "source": []
  },
  {
   "cell_type": "code",
   "execution_count": null,
   "id": "0bebce9e-a7c7-485c-bb42-5e8c06820fdf",
   "metadata": {},
   "outputs": [],
   "source": []
  }
 ],
 "metadata": {
  "kernelspec": {
   "display_name": "Python 3 (ipykernel)",
   "language": "python",
   "name": "python3"
  },
  "language_info": {
   "codemirror_mode": {
    "name": "ipython",
    "version": 3
   },
   "file_extension": ".py",
   "mimetype": "text/x-python",
   "name": "python",
   "nbconvert_exporter": "python",
   "pygments_lexer": "ipython3",
   "version": "3.12.0"
  }
 },
 "nbformat": 4,
 "nbformat_minor": 5
}

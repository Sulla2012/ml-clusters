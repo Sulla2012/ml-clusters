{
 "cells": [
  {
   "cell_type": "code",
   "execution_count": 7,
   "id": "846ac3b6-13f2-494e-b561-f4bba2f2d94d",
   "metadata": {},
   "outputs": [
    {
     "name": "stdout",
     "output_type": "stream",
     "text": [
      "The autoreload extension is already loaded. To reload it, use:\n",
      "  %reload_ext autoreload\n"
     ]
    }
   ],
   "source": [
    "#More or less general imports\n",
    "import numpy as np, matplotlib.pyplot as plt, os\n",
    "from astropy.io import fits\n",
    "#from past.utils import old_div\n",
    "import time\n",
    "#Imports for Creating WebSky Maps \n",
    "import h5py, healpy as hp, os, sys\n",
    "from pixell import enmap,utils, reproject, bunch, curvedsky, enplot\n",
    "#from cosmology import *\n",
    "from scipy.interpolate import *\n",
    "from astropy.cosmology import Planck15 as cosmo\n",
    "#Unit conversion\n",
    "from astropy import units as u\n",
    "from astropy.constants import k_B, h\n",
    "#Creating Stamps\n",
    "from astropy import wcs\n",
    "from astropy.nddata import Cutout2D\n",
    "from astropy.convolution import Gaussian2DKernel, convolve\n",
    "from astropy.coordinates import SkyCoord\n",
    "import yaml\n",
    "from pixell import enmap,utils, reproject, enplot\n",
    "from scipy import interpolate\n",
    "import random\n",
    "from astropy.nddata import block_reduce, block_replicate\n",
    "\n",
    "#import ipyparallel as ipp\n",
    "#from mpi4py import MPI\n",
    "\n",
    "from PIL import Image\n",
    "from astLib import astWCS, astImages\n",
    "from scipy import ndimage\n",
    "from pixell.enmap import sky2pix\n",
    "from astropy.wcs import WCS\n",
    "from astropy.wcs.utils import proj_plane_pixel_scales, skycoord_to_pixel\n",
    "import astropy.io.fits as pyfits\n",
    "from stamping_utils import make_stamp, make_mask\n",
    "import glob\n",
    "\n",
    "%load_ext autoreload\n",
    "%autoreload 2\n",
    "\n",
    "%matplotlib inline"
   ]
  },
  {
   "cell_type": "code",
   "execution_count": 4,
   "id": "c25f9bcd-8677-4407-87fb-5ce461c300a7",
   "metadata": {},
   "outputs": [],
   "source": [
    "# Cosmology Constants\n",
    "omegab = 0.049\n",
    "omegac = 0.261\n",
    "omegam = omegab + omegac\n",
    "h      = 0.68\n",
    "ns     = 0.965\n",
    "sigma8 = 0.81\n",
    "c = 3e5\n",
    "\n",
    "H0 = 100*h\n",
    "nz = 100000\n",
    "z1 = 0.0\n",
    "z2 = 6.0\n",
    "za = np.linspace(z1,z2,nz)\n",
    "dz = za[1]-za[0]\n",
    "\n",
    "H      = lambda z: H0*np.sqrt(omegam*(1+z)**3+1-omegam)\n",
    "dchidz = lambda z: c/H(z)\n",
    "\n",
    "chia = np.cumsum(dchidz(za))*dz\n",
    "\n",
    "zofchi = interp1d(chia,za)"
   ]
  },
  {
   "cell_type": "code",
   "execution_count": 5,
   "id": "9c1d7d4e-c7fb-4ea1-90f1-1fe275bcf7c9",
   "metadata": {},
   "outputs": [],
   "source": [
    "#Access to WebSky data\n",
    "path = \"/mnt/welch/USERS/cwhitaker/maps/websky/\""
   ]
  },
  {
   "cell_type": "code",
   "execution_count": 6,
   "id": "d9bf2740-99a7-4f46-a002-32a8ee773789",
   "metadata": {},
   "outputs": [],
   "source": [
    "#This will take a little over 2 and a half mins \n",
    "cluster_catalog=open(path + 'halos.pksc')\n",
    "N = np.fromfile(cluster_catalog,count=3,dtype=np.int32)[0]\n",
    "# only take first five entries for testing (there are ~8e8 halos total...)\n",
    "# comment the following line to read in all halos\n",
    "#N = 10\n",
    "catalog=np.fromfile(cluster_catalog,count=N*10,dtype=np.float32)\n",
    "catalog=np.reshape(catalog,(N,10))\n",
    "x  = catalog[:,0];  y = catalog[:,1];  z = catalog[:,2] # Mpc (comoving)\n",
    "vx = catalog[:,3]; vy = catalog[:,4]; vz = catalog[:,5] # km/sec\n",
    "R  = catalog[:,6] # Mpc\n",
    "\n",
    "# Constants\n",
    "rho      = 2.775e11*omegam*h**2 # Msun/Mpc^3\n",
    "# this is M200m (mean density 200 times mean) in Msun\n",
    "M        = 4*np.pi/3.*rho*R**3\n",
    "chi      = np.sqrt(x**2+y**2+z**2)    # Mpc\n",
    "redshift = zofchi(chi)\n",
    "\n",
    "theta,phi = hp.vec2ang(np.column_stack((x,y,z))) # in (not with utils.degree) radians"
   ]
  },
  {
   "cell_type": "code",
   "execution_count": 66,
   "id": "fb1c6367-ac19-434b-9f3f-bfe381b78f8c",
   "metadata": {},
   "outputs": [
    {
     "name": "stdout",
     "output_type": "stream",
     "text": [
      "(246381,)\n"
     ]
    }
   ],
   "source": [
    "ra      = phi\n",
    "dec     = np.pi/2. - theta\n",
    "#Limit to how bright/massive the clusters can be\n",
    "#New cut at 1e14\n",
    "#Less bright / massive clusters = 3.0e14\n",
    "cluster_cut = 2.0e14\n",
    "\n",
    "cluster_flags = np.where((M >= cluster_cut))[0]\n",
    "#Limit on parameters of clusters\n",
    "M            = M[cluster_flags]\n",
    "redshift     = redshift[cluster_flags]\n",
    "cluster_decs = dec[cluster_flags] * 180/np.pi\n",
    "cluster_ras  = ra[cluster_flags] * 180/np.pi\n",
    "r = R[cluster_flags]\n",
    "#chi = chi[cluster_flags]\n",
    "print(r.shape)"
   ]
  },
  {
   "cell_type": "code",
   "execution_count": 77,
   "id": "51a3fe01-74e4-4b21-91cb-07d412cdf6ec",
   "metadata": {},
   "outputs": [
    {
     "name": "stdout",
     "output_type": "stream",
     "text": [
      "[ 848.37257162  515.39545626 1021.35202279 ...  963.87491317 1479.85341655\n",
      " 1731.3620764 ]\n",
      "[111.42438742 183.03498429  92.01153603 ...  37.90417001  24.68814516\n",
      "  21.10177502]\n"
     ]
    }
   ],
   "source": [
    "d_A = cosmo.angular_diameter_distance(z=redshift)\n",
    "d_C = cosmo.comoving_distance(z=redshift)\n",
    "d_C = d_C.value\n",
    "d_A = d_A.value\n",
    "theta2 = (r / d_A) * (180 * 60 / np.pi)\n",
    "print(d_A)\n",
    "print(theta2)"
   ]
  },
  {
   "cell_type": "markdown",
   "id": "fad1f621-6d26-4039-9414-a38d65a2687b",
   "metadata": {},
   "source": [
    "### The Mask Map Size Issue"
   ]
  },
  {
   "cell_type": "code",
   "execution_count": 68,
   "id": "ebebf6da-5aca-4b15-ad65-ca50bacfb085",
   "metadata": {},
   "outputs": [
    {
     "name": "stdout",
     "output_type": "stream",
     "text": [
      "0.499999999999998\n",
      "3.000000000000012\n",
      "0.499999999999998\n",
      "3.000000000000012\n"
     ]
    }
   ],
   "source": [
    "#comm = MPI.COMM_WORLD\n",
    "#myrank = comm.Get_rank()\n",
    "#nproc = comm.Get_size()\n",
    "freqs = [\"090\", \"150\", \"220\"]\n",
    "\n",
    "dr = 10*u.arcmin\n",
    "offset_ra, offset_dec = np.random.rand()*5*u.arcmin, np.random.rand()*5*u.arcmin\n",
    "ra_cent = cluster_ras[454]*u.deg+offset_ra\n",
    "dec_cent = cluster_decs[454]*u.deg+offset_dec\n",
    "ra_min, ra_max = ra_cent - dr, ra_cent + dr\n",
    "dec_min, dec_max = dec_cent - dr, dec_cent + dr\n",
    "box = np.array([[dec_min.value, ra_min.value],[dec_max.value, ra_max.value]]) * utils.degree\n",
    "stamp, cur_wcs = make_stamp(path + '/websky_f*_map.fits', box, freqs, normalize = False)\n",
    "mask = make_mask(stamp, cluster_ras, cluster_decs, box, cur_wcs, size = 3)\n",
    "#print(chi[0],theta[0])"
   ]
  },
  {
   "cell_type": "code",
   "execution_count": 69,
   "id": "cbbe3ec0-0851-47c4-b665-746a57ff0dac",
   "metadata": {},
   "outputs": [
    {
     "data": {
      "text/plain": [
       "<matplotlib.image.AxesImage at 0x7f4927bdba00>"
      ]
     },
     "execution_count": 69,
     "metadata": {},
     "output_type": "execute_result"
    },
    {
     "data": {
      "image/png": "[encoded data removed]",
      "text/plain": [
       "<Figure size 640x480 with 1 Axes>"
      ]
     },
     "metadata": {},
     "output_type": "display_data"
    }
   ],
   "source": [
    "#lims=\n",
    "plt.imshow(mask)#, vmin=-lims, vmax=lims)\n",
    "#plt.savefig('mask_stamp_size')"
   ]
  },
  {
   "cell_type": "code",
   "execution_count": 81,
   "id": "f7c8da59-8ffe-4365-8f5f-f08cccd38c38",
   "metadata": {},
   "outputs": [
    {
     "data": {
      "text/plain": [
       "<matplotlib.image.AxesImage at 0x7f4ac3259f10>"
      ]
     },
     "execution_count": 81,
     "metadata": {},
     "output_type": "execute_result"
    },
    {
     "data": {
      "image/png": "[encoded data removed]",
      "text/plain": [
       "<Figure size 640x480 with 1 Axes>"
      ]
     },
     "metadata": {},
     "output_type": "display_data"
    }
   ],
   "source": [
    "#lims=300\n",
    "# stamp[0], stamp[1], stamp[2] are frequencies 90, 150, 220 respectively\n",
    "plt.imshow(stamp[0])#, vmin=-lims, vmax=lims)\n",
    "#plt.savefig('freq_stamp_size')"
   ]
  },
  {
   "cell_type": "markdown",
   "id": "fc6246d8-dc46-4622-b74f-5f95cb4b7bc0",
   "metadata": {},
   "source": [
    "### Creating Stamps and Mask (All of this is for later)"
   ]
  },
  {
   "cell_type": "markdown",
   "id": "29ecb2ea-267f-4448-a738-22a018cf2f94",
   "metadata": {},
   "source": [
    "For later\n",
    "\n",
    "Creating tiles and corresponding stamps centered around celestial coordinates. In this code 313 boxes are created."
   ]
  },
  {
   "cell_type": "raw",
   "id": "a105fa9c-9a1d-41ff-a8c9-86f348003413",
   "metadata": {},
   "source": [
    "def freq_stamper(ras, decs):\n",
    "    comm = MPI.COMM_WORLD\n",
    "    myrank = comm.Get_rank()\n",
    "    nproc = comm.Get_size()\n",
    "    freqs = [\"090\", \"150\", \"220\"]\n",
    "    #Radius of box\n",
    "    dr = 30*u.arcmin\n",
    "    count = 0\n",
    "    \n",
    "    for i in range(myrank, len(ras), nproc):\n",
    "        print(i, end=\"\\r\")\n",
    "        offset_ra, offset_dec = np.random.rand()*5*u.arcmin, np.random.rand()*5*u.arcmin\n",
    "        ra_cent = cluster_ras[i]*u.deg+offset_ra\n",
    "        dec_cent = cluster_decs[i]*u.deg+offset_dec\n",
    "\n",
    "        ra_min, ra_max = ra_cent - dr, ra_cent + dr\n",
    "        dec_min, dec_max = dec_cent - dr, dec_cent + dr\n",
    "    \n",
    "        if ra_max < ra_min:\n",
    "            ra_min -= 360\n",
    "        \n",
    "        box = np.array([[dec_min.value, ra_min.value],[dec_max.value, ra_max.value]]) * utils.degree\n",
    "    \n",
    "        #Make stamp of box\n",
    "        stamp, cur_wcs = make_stamp('/mnt/welch/USERS/jorlo/maps/20240323_simple/act_planck_*_f*_daynight_map_srcfree.fits', box, freqs, normalize = False)\n",
    "        if type(stamp) == int: continue\n",
    "        #np.savez_compressed(\"/mnt/welch/USERS/jorlo/ml-clusters/ACT_tiles/indv_freq_stamps/{}\".format(str(i).zfill(4)), jpg)\n",
    "        enmap.write_map(\"/mnt/welch/USERS/cwhitaker/ml-clusters/websky_tiles/freq_tiles/indv_freq_{}.fits\".format(count), stamp)\n",
    "        mask = make_mask(stamp, cluster_ras, cluster_decs, box, cur_wcs, size=2.4)\n",
    "        #print(mask.shape)\n",
    "        np.savez_compressed(\"/mnt/welch/USERS/jorlo/ml-clusters/ACT_tiles/indv_freq_masks/{}_mask\".format(str(i).zfill(4)), mask)\n",
    "        count += 1\n",
    "    \n",
    "\n",
    "with ipp.Cluster(controller_ip=\"*\", engines=\"mpi\", n=24) as rc:\n",
    "    view = rc.broadcast_view()\n",
    "    r = view.apply_sync(freq_stamper(ras, decs))\n",
    "    print(\"\\n\".join(r))"
   ]
  },
  {
   "cell_type": "markdown",
   "id": "6c21c08e-58bc-4dbf-ab4b-c52ca4f22e11",
   "metadata": {},
   "source": [
    "### Individual Freq Cuts"
   ]
  },
  {
   "cell_type": "raw",
   "id": "76b9e9c7-50c5-4110-8f19-1b27161e64fd",
   "metadata": {},
   "source": [
    "def tile_mpi():\n",
    "    comm = MPI.COMM_WORLD\n",
    "    myrank = comm.Get_rank()\n",
    "    nproc = comm.Get_size()\n",
    "    freqs = [\"090\", \"150\", \"220\"]\n",
    "    r = 2 * utils.degree\n",
    "    count = 0\n",
    "    for coord in coords:\n",
    "        deks, ras = coord\n",
    "        decmin, ramin = deks - r, ras - r\n",
    "        decmax, ramax = deks + r, ras + r\n",
    "        in_image = np.where((ramin < cluster_ras) & (cluster_ras < ramax) & (decmin < cluster_decs) & (cluster_decs < decmax))[0]\n",
    "        if len(in_image) == 0:\n",
    "            continue\n",
    "    \n",
    "        if ramax < ramin:\n",
    "            ramin -= 360 * utils.degree\n",
    "        \n",
    "        box = np.array([[decmin, ramin],[decmax, ramax]])\n",
    "        #Make stamp of box\n",
    "        stamp, cur_wcs = make_stamp('/mnt/welch/USERS/cwhitaker/maps/websky/websky_f*_map.fits', box, freqs, normalize= False)\n",
    "        if type(stamp) == int: continue\n",
    "        enmap.write_map(\"/mnt/welch/USERS/cwhitaker/ml-clusters/websky_tiles/websky_stamps/stamp_{}.fits\".format(count), stamp)\n",
    "        mask = make_mask(stamp, cluster_ras, cluster_decs, box, cur_wcs, size=2.4)\n",
    "        np.savez_compressed(\"/mnt/welch/USERS/cwhitaker/ml-clusters/websky_tiles/websky_masks/mask_{}\".format(count), mask)\n",
    "        count += 1\n",
    "    return 0\n",
    "\n",
    "with ipp.Cluster(controller_ip=\"*\", engines=\"mpi\", n=24) as rc:\n",
    "    # get a broadcast_view on the cluster which is best\n",
    "    # suited for MPI style computation\n",
    "    view = rc.broadcast_view()\n",
    "    # run the mpi_example function on all engines in parallel\n",
    "    r = view.apply_sync(tile_mpi())\n",
    "    # Retrieve and print the result from the engines\n",
    "    #print(\"\\n\".join(r))"
   ]
  },
  {
   "cell_type": "raw",
   "id": "84c25db8-c341-4825-a7d4-187bddb9ba09",
   "metadata": {},
   "source": [
    "comm = MPI.COMM_WORLD\n",
    "myrank = comm.Get_rank()\n",
    "nproc = comm.Get_size()\n",
    "freqs = [\"090\", \"150\", \"220\"]\n",
    "\n",
    "dr = 30*u.arcmin\n",
    "    \n",
    "for i in range(myrank, len(cluster_ras[:3]), nproc):\n",
    "    print(i, end=\"\\r\")\n",
    "    offset_ra, offset_dec = np.random.rand()*5*u.arcmin, np.random.rand()*5*u.arcmin\n",
    "    ra_cent = cluster_ras[i]*u.deg+offset_ra\n",
    "    dec_cent = cluster_decs[i]*u.deg+offset_dec\n",
    "\n",
    "    ra_min, ra_max = ra_cent - dr, ra_cent + dr\n",
    "    dec_min, dec_max = dec_cent - dr, dec_cent + dr\n",
    "    \n",
    "    if ra_max < ra_min:\n",
    "        ra_min -= 360\n",
    "        \n",
    "    box = np.array([[dec_min.value, ra_min.value],[dec_max.value, ra_max.value]])# * utils.degree\n",
    "    print(box)    \n",
    "        #Make stamp of box\n",
    "    stamp, cur_wcs = make_stamp('/mnt/welch/USERS/cwhitaker/maps/websky/websky_f*_map.fits', box, freqs, normalize= False)\n",
    "    if type(stamp) == int: continue\n",
    "    \n",
    "        #np.savez_compressed(\"/mnt/welch/USERS/jorlo/ml-clusters/ACT_tiles/indv_freq_stamps/{}\".format(str(i).zfill(4)), jpg)\n",
    "   # enmap.write_map(\"/mnt/welch/USERS/jorlo/ml-clusters/ACT_tiles/indv_freq_stamps/{}.fits\".format(str(i).zfill(4)), stamp)\n",
    "  #  mask = make_mask(stamp, act_catalog, [[ra_min.value, ra_max.value], [dec_min.value, dec_max.value]], cur_wcs, size = 4.8)"
   ]
  },
  {
   "cell_type": "markdown",
   "id": "d3ed0fbe-8f50-41ac-b9b7-7938a6c23d27",
   "metadata": {},
   "source": [
    "For git committing testing"
   ]
  },
  {
   "cell_type": "code",
   "execution_count": null,
   "id": "544f4035-bbb0-4d1d-95bd-e3f1b836aff4",
   "metadata": {},
   "outputs": [],
   "source": []
  }
 ],
 "metadata": {
  "kernelspec": {
   "display_name": "Python 3 (ipykernel)",
   "language": "python",
   "name": "python3"
  },
  "language_info": {
   "codemirror_mode": {
    "name": "ipython",
    "version": 3
   },
   "file_extension": ".py",
   "mimetype": "text/x-python",
   "name": "python",
   "nbconvert_exporter": "python",
   "pygments_lexer": "ipython3",
   "version": "3.9.23"
  }
 },
 "nbformat": 4,
 "nbformat_minor": 5
}

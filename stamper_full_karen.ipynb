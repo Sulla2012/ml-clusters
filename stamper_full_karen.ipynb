{
 "cells": [
  {
   "cell_type": "code",
   "execution_count": 1,
   "metadata": {},
   "outputs": [],
   "source": [
    "import DESTiler"
   ]
  },
  {
   "cell_type": "code",
   "execution_count": 4,
   "metadata": {},
   "outputs": [],
   "source": [
    "#tiler=DESTiler.DESTiler(\"DES_DR1_TILE_INFO.csv\")"
   ]
  },
  {
   "cell_type": "code",
   "execution_count": 54,
   "metadata": {},
   "outputs": [
    {
     "name": "stdout",
     "output_type": "stream",
     "text": [
      "The autoreload extension is already loaded. To reload it, use:\n",
      "  %reload_ext autoreload\n"
     ]
    }
   ],
   "source": [
    "import numpy as np\n",
    "import matplotlib.pyplot as plt\n",
    "import astropy.units as u\n",
    "from astropy.io import fits\n",
    "from astropy import wcs\n",
    "from astropy.nddata import Cutout2D\n",
    "import os, sys\n",
    "import pickle as pk\n",
    "from astropy.convolution import Gaussian2DKernel, convolve\n",
    "from astropy.coordinates import SkyCoord\n",
    "import yaml\n",
    "from pixell import enmap,utils, reproject, enplot\n",
    "from scipy import interpolate\n",
    "import random\n",
    "from astropy.nddata import block_reduce, block_replicate\n",
    "\n",
    "from PIL import Image\n",
    "\n",
    "from astLib import astWCS, astImages\n",
    "from scipy import ndimage\n",
    "\n",
    "\n",
    "%load_ext autoreload\n",
    "%autoreload 2\n",
    "\n",
    "%matplotlib inline\n",
    "\n"
   ]
  },
  {
   "cell_type": "code",
   "execution_count": 66,
   "metadata": {},
   "outputs": [],
   "source": [
    "tileDefinitions = {\"mask\": '/project/s/sievers/kaper/mlclusters/ml-clusters/DR5_cluster-search-area-mask_v1.0.fits',\n",
    "                  \"targetTileWidthDeg\": 10.0, \n",
    "                  \"targetTileHeightDeg\": 5.0}\n",
    "hdu = fits.open('/project/s/sievers/kaper/mlclusters/ml-clusters/DR5_cluster-search-area-mask_v1.0.fits')\n",
    "mask = hdu[1].data\n",
    "wcs_mask = astWCS.WCS(hdu[1].header,mode=\"pyfits\")\n",
    "tileOverlapDeg = 1"
   ]
  },
  {
   "cell_type": "code",
   "execution_count": 57,
   "metadata": {},
   "outputs": [],
   "source": [
    "def autotiler(surveyMask, wcs, targetTileWidth, targetTileHeight):\n",
    "    \"\"\"Given a survey mask (where values > 0 indicate valid area, and 0 indicates area to be ignored), \n",
    "    figure out an optimal tiling strategy to accommodate tiles of the given dimensions. The survey mask need\n",
    "    not be contiguous (e.g., AdvACT and SO maps, using the default pixelization, can be segmented into three\n",
    "    or more different regions).\n",
    "    \n",
    "    Args:\n",
    "        surveyMask (numpy.ndarray): Survey mask image (2d array). Values > 0 will be taken to define valid \n",
    "            area.\n",
    "        wcs (astWCS.WCS): WCS associated with survey mask image.\n",
    "        targetTileWidth (float): Desired tile width, in degrees (RA direction for CAR).\n",
    "        targetTileHeight (float): Desired tile height, in degrees (dec direction for CAR).\n",
    "    \n",
    "    Returns:\n",
    "        Dictionary list defining tiles in same format as config file.\n",
    "    \n",
    "    Note:\n",
    "        While this routine will try to match the target file sizes, it may not match exactly. Also,\n",
    "        :meth:`startUp.NemoConfig.getTileCoordsDict` will expand tiles by a user-specified amount such that\n",
    "        they overlap.\n",
    "    \n",
    "    \"\"\"\n",
    "    \n",
    "    # This deals with identifying boss vs. full AdvACT footprint maps \n",
    "    mapCentreRA, mapCentreDec=wcs.getCentreWCSCoords()    \n",
    "    skyWidth, skyHeight=wcs.getFullSizeSkyDeg()\n",
    "    if mapCentreRA < 0.1 and skyWidth < 0.1 or skyWidth > 359.9:\n",
    "        handle180Wrap=True\n",
    "    else:\n",
    "        handle180Wrap=False\n",
    "    \n",
    "    segMap=surveyMask\n",
    "    try:\n",
    "        numObjects=ndimage.label(segMap, output = segMap)\n",
    "    except:\n",
    "        raise Exception(\"surveyMask given for autotiler is probably too complicated (breaks into > 256 regions) - check your mask and/or config file.\")\n",
    "\n",
    "    # More memory efficient than previous version\n",
    "    fieldIDs=np.arange(1, numObjects+1, dtype = segMap.dtype)\n",
    "    maskSections=ndimage.find_objects(segMap)\n",
    "    tileList=[]\n",
    "    for maskSection, f in zip(maskSections, fieldIDs):\n",
    "        yMin=maskSection[0].start\n",
    "        yMax=maskSection[0].stop-1\n",
    "        if yMax-yMin < 1000:  # In case of stray individual pixels (e.g., combined with extended sources mask)\n",
    "            continue\n",
    "        xc=int((maskSection[1].start+(maskSection[1].stop-1))/2)\n",
    "\n",
    "        # Some people want to run on full sky CAR ... so we have to avoid that blowing up at the poles\n",
    "        decMin, decMax=np.nan, np.nan\n",
    "        deltaY=0\n",
    "        while np.isnan(decMin) and np.isnan(decMax):\n",
    "            RAc, decMin=wcs.pix2wcs(xc, yMin+deltaY)\n",
    "            RAc, decMax=wcs.pix2wcs(xc, yMax-deltaY)\n",
    "            deltaY=deltaY+0.01\n",
    "\n",
    "        numRows=int((decMax-decMin)/targetTileHeight)\n",
    "        if numRows == 0:\n",
    "            raise Exception(\"targetTileHeight is larger than the height of the map - edit your config file accordingly.\")\n",
    "        tileHeight=np.ceil(((decMax-decMin)/numRows)*100)/100\n",
    "\n",
    "        for i in range(numRows):\n",
    "            decBottom=decMin+i*tileHeight\n",
    "            decTop=decMin+(i+1)*tileHeight\n",
    "            xc, yBottom=wcs.wcs2pix(RAc, decBottom)\n",
    "            xc, yTop=wcs.wcs2pix(RAc, decTop)\n",
    "            yBottom=int(yBottom)\n",
    "            yTop=int(yTop)\n",
    "            yc=int((yTop+yBottom)/2)\n",
    "\n",
    "            strip=segMap[yBottom:yTop]\n",
    "            ys, xs=np.where(strip == f)\n",
    "            xMin=xs.min()\n",
    "            xMax=xs.max()\n",
    "            del ys, xs, strip\n",
    "            stripWidthDeg=(xMax-xMin)*wcs.getXPixelSizeDeg()\n",
    "            RAMax, decc=wcs.pix2wcs(xMin, yc)\n",
    "            RAMin, decc=wcs.pix2wcs(xMax, yc)\n",
    "            numCols=int(stripWidthDeg/targetTileWidth)\n",
    "            tileWidth=np.ceil((stripWidthDeg/numCols)*100)/100\n",
    "            #assert(tileWidth < targetTileWidth*1.1)\n",
    "\n",
    "            stretchFactor=1/np.cos(np.radians(decTop))\n",
    "            numCols=int(stripWidthDeg/(targetTileWidth*stretchFactor))\n",
    "            for j in range(numCols):\n",
    "                tileWidth=np.ceil((stripWidthDeg/numCols)*100)/100\n",
    "                RALeft=RAMax-j*tileWidth\n",
    "                RARight=RAMax-(j+1)*tileWidth\n",
    "                if RALeft < 0:\n",
    "                    RALeft=RALeft+360\n",
    "                if RARight < 0:\n",
    "                    RARight=RARight+360\n",
    "                # HACK: Edge-of-map handling\n",
    "                if handle180Wrap == True:\n",
    "                    if RARight < 180.01 and RALeft < 180+tileWidth and RALeft > 180.01:\n",
    "                        RARight=180.01\n",
    "                # NOTE: floats here to make tileDefinitions.yml readable\n",
    "                tileList.append({'tileName': '%d_%d_%d' % (f, i, j),\n",
    "                                 'RADecSection': [float(RARight), float(RALeft), float(decBottom), float(decTop)]})\n",
    "\n",
    "    return tileList"
   ]
  },
  {
   "cell_type": "code",
   "execution_count": 59,
   "metadata": {},
   "outputs": [],
   "source": [
    "tilelist = autotiler(mask,wcs_mask,tileDefinitions[\"targetTileWidthDeg\"],tileDefinitions[\"targetTileHeightDeg\"])"
   ]
  },
  {
   "cell_type": "code",
   "execution_count": 68,
   "metadata": {},
   "outputs": [],
   "source": [
    "def getTileCoordsDict(tileList,wcs_mask,tileOverlapDeg):\n",
    "    \"\"\"Construct a dictionary that describes how a large map is broken up into smaller tiles\n",
    "    (see :ref:`Tiling` for information on the relevant configuration file parameters).\n",
    "    Returns:\n",
    "        A dictionary indexed by tile name, where each entry is a dictionary containing information\n",
    "        on pixel coordinates of each tile within the larger map, and the WCS of each tile.\n",
    "    \"\"\"\n",
    "    # Spin through a map, figuring out the actual coords to clip based on the tile definitions\n",
    "    clipCoordsDict={}\n",
    "\n",
    "    # We can take any map, because we earlier verified they have consistent WCS and size\n",
    "    wcs=wcs_mask\n",
    "    # Tiled - this takes about 4 sec\n",
    "    tileNames=[]\n",
    "    coordsList=[]\n",
    "    for tileDict in tileList:\n",
    "            ra0, ra1, dec0, dec1=tileDict['RADecSection']\n",
    "            x0, y0=wcs.wcs2pix(ra0, dec0)\n",
    "            x1, y1=wcs.wcs2pix(ra1, dec1)\n",
    "            xMin=min([x0, x1])\n",
    "            xMax=max([x0, x1])\n",
    "            yMin=min([y0, y1])\n",
    "            yMax=max([y0, y1])\n",
    "            coordsList.append([xMin, xMax, yMin, yMax])\n",
    "            tileNames.append(tileDict['tileName'])\n",
    "            \n",
    "    # Define clip regions in terms of pixels, adding overlap region\n",
    "    tileOverlapDeg=tileOverlapDeg\n",
    "    mapData=np.ones([wcs.header['NAXIS2'], wcs.header['NAXIS1']], dtype = np.uint8)\n",
    "    for c, name, tileDict in zip(coordsList, tileNames, tileList):\n",
    "        y0=c[2]\n",
    "        y1=c[3]\n",
    "        x0=c[0]\n",
    "        x1=c[1]\n",
    "        ra0, dec0=wcs.pix2wcs(x0, y0)\n",
    "        ra1, dec1=wcs.pix2wcs(x1, y1)\n",
    "        # Be careful with signs here... and we're assuming approx pixel size is ok\n",
    "        if x0-tileOverlapDeg/wcs.getPixelSizeDeg() > 0:\n",
    "            ra0=ra0+tileOverlapDeg\n",
    "        if x1+tileOverlapDeg/wcs.getPixelSizeDeg() < mapData.shape[1]:\n",
    "            ra1=ra1-tileOverlapDeg\n",
    "        if y0-tileOverlapDeg/wcs.getPixelSizeDeg() > 0:\n",
    "            dec0=dec0-tileOverlapDeg\n",
    "        if y1+tileOverlapDeg/wcs.getPixelSizeDeg() < mapData.shape[0]:\n",
    "            dec1=dec1+tileOverlapDeg\n",
    "        if ra1 > ra0:\n",
    "            ra1=-(360-ra1)\n",
    "        clip=astImages.clipUsingRADecCoords(mapData, wcs, ra1, ra0, dec0, dec1)\n",
    "\n",
    "        # This bit is necessary to avoid Q -> 0.2 ish problem with Fourier filter\n",
    "        # (which happens if image dimensions are both odd)\n",
    "        # I _think_ this is related to the interpolation done in signals.fitQ\n",
    "        if (clip['data'].shape[0] % 2 != 0 and clip['data'].shape[1] % 2 != 0) == True:\n",
    "            newArr=np.zeros([clip['data'].shape[0]+1, clip['data'].shape[1]])\n",
    "            newArr[:clip['data'].shape[0], :]=clip['data']\n",
    "            newWCS=clip['wcs'].copy()\n",
    "            newWCS.header['NAXIS1']=newWCS.header['NAXIS1']+1\n",
    "            newWCS.updateFromHeader()\n",
    "            testClip=astImages.clipUsingRADecCoords(newArr, newWCS, ra1, ra0, dec0, dec1)\n",
    "            # Check if we see the same sky, if not and we trip this, we need to think about this more\n",
    "            assert((testClip['data']-clip['data']).sum() == 0)\n",
    "            clip['data']=newArr\n",
    "            clip['wcs']=newWCS\n",
    "\n",
    "        # Storing clip coords etc. so can stitch together later\n",
    "        # areaMaskSection here is used to define the region that would be kept (takes out overlap)\n",
    "        ra0, dec0=wcs.pix2wcs(x0, y0)\n",
    "        ra1, dec1=wcs.pix2wcs(x1, y1)\n",
    "        clip_x0, clip_y0=clip['wcs'].wcs2pix(ra0, dec0)\n",
    "        clip_x1, clip_y1=clip['wcs'].wcs2pix(ra1, dec1)\n",
    "        clip_x0=int(round(clip_x0))\n",
    "        clip_x1=int(round(clip_x1))\n",
    "        clip_y0=int(round(clip_y0))\n",
    "        clip_y1=int(round(clip_y1))\n",
    "        if name not in clipCoordsDict:\n",
    "            clipCoordsDict[name]={'clippedSection': clip['clippedSection'], 'header': clip['wcs'].header,\n",
    "                                  'areaMaskInClipSection': [clip_x0, clip_x1, clip_y0, clip_y1]}\n",
    "    return clipCoordsDict\n",
    "        \n"
   ]
  },
  {
   "cell_type": "code",
   "execution_count": 69,
   "metadata": {},
   "outputs": [],
   "source": [
    "clipCoordsDict=getTileCoordsDict(tilelist,wcs_mask,tileOverlapDeg)"
   ]
  },
  {
   "cell_type": "code",
   "execution_count": 6,
   "metadata": {},
   "outputs": [],
   "source": [
    "def make_jpg(path, box):\n",
    "    freqs = ['090', '150', '220']\n",
    "    \n",
    "    to_return = []\n",
    "    \n",
    "    for i, freq in enumerate(freqs):\n",
    "        cur_map = enmap.read_map(path + 'act_planck_daynight_f{}_map.fits'.format(freqs[i]), box=box)[0]\n",
    "        to_return.append(normalize_map(cur_map))\n",
    "    to_return = np.stack(to_return, axis=0)\n",
    "    \n",
    "    to_return = np.ascontiguousarray(to_return.transpose(1,2,0))\n",
    "    return to_return"
   ]
  },
  {
   "cell_type": "code",
   "execution_count": null,
   "metadata": {},
   "outputs": [],
   "source": [
    "ra_min_arr = np."
   ]
  },
  {
   "cell_type": "code",
   "execution_count": 7,
   "metadata": {},
   "outputs": [],
   "source": [
    "def normalize_map(imap):\n",
    "    temp_map = np.zeros(imap.shape)\n",
    "    for j in range(imap.shape[-1]):\n",
    "        temp = (imap[...,j]-np.mean(imap[...,j]))/np.std(imap[...,j])\n",
    "        temp_map[...,j] = temp\n",
    "\n",
    "    return temp_map\n",
    "\n",
    "def freq_cutout(ra, dec, freq_map, scale=399, width = 3.5*utils.arcmin):\n",
    "    stamp = freq_stamp(ra, dec, freq_map, width = width)\n",
    "    \n",
    "    highres = block_replicate(stamp, scale)\n",
    "    if stamp is None: return None\n",
    "    mymin,mymax = 0,stamp.shape[1]-1\n",
    "    X = np.linspace(mymin,mymax,stamp.shape[1])\n",
    "    Y = np.linspace(mymin,mymax,stamp.shape[1])\n",
    "\n",
    "    x,y = np.meshgrid(X,Y)\n",
    "\n",
    "    f = interpolate.interp2d(x,y,stamp[0],kind='linear')\n",
    "\n",
    "    Xnew, Ynew = np.linspace(0, stamp.shape[1], scale), np.linspace(0, stamp.shape[1], scale)\n",
    "\n",
    "    #print(Xnew)\n",
    "\n",
    "    highres = f(Xnew, Ynew)\n",
    "    return highres\n",
    "\n",
    "def freq_stamp(ra, dec, freq_map, width = 3.5*utils.arcmin):\n",
    "    ra, dec = ra*u.deg, dec*u.deg\n",
    "    stamp = reproject.thumbnails(freq_map, ( dec.to(u.radian).value,ra.to(u.radian).value), r=width)\n",
    "    \n",
    "    return stamp\n"
   ]
  },
  {
   "cell_type": "code",
   "execution_count": 8,
   "metadata": {},
   "outputs": [],
   "source": [
    "def cutout(ras,decs, freq_map_090, freq_map_150, freq_map_220, scale = 10):\n",
    "    names = os.listdir('/project/r/rbond/jorlo/datasets/DESTileImages/')\n",
    "    to_return = []\n",
    "    for i in range(len(ras)):\n",
    "        print(i, end = '\\r')\n",
    "        temp = np.zeros((380,380,8))\n",
    "        ra, dec= ras[i], decs[i]\n",
    "\n",
    "        tileName=tiler.getTileName(ra, dec)\n",
    "        if tileName == None: continue\n",
    "        for name in names:\n",
    "            if tileName in name:\n",
    "                fileName = name[:21]\n",
    "                break\n",
    "        bands = ['g', 'r', 'i', 'z', 'Y']\n",
    "        for j, band in enumerate(bands):\n",
    "            print('J: ', j)\n",
    "            hi_data = fits.open('/project/r/rbond/jorlo/datasets/DESTileImages/{}_{}.fits.fz'.format(fileName,band))\n",
    "            header = hi_data[1].header\n",
    "            w = wcs.WCS(header)\n",
    "            hdata = hi_data[1].data\n",
    "            c = SkyCoord(ra=ra*u.deg, dec=dec*u.deg)\n",
    "            px, py = wcs.utils.skycoord_to_pixel(c, w)\n",
    "            size = u.Quantity([scale, scale], u.arcmin)\n",
    "            print(size)\n",
    "            cutout = Cutout2D(hdata, (px,py), size,  wcs = w).data\n",
    "            print(cutout.shape)\n",
    "            if cutout.shape != (2281, 2281): continue\n",
    "            temp[...,j] = block_reduce(cutout, 6, func = np.mean)\n",
    "            \n",
    "\n",
    "        freqs = ['090', '150', '220']\n",
    "        \n",
    "        for i, freq in enumerate(freqs):\n",
    "            if freqs[i] == '090': freq_cut = freq_cutout(ra, dec, freq_map_090, scale = 380, width = scale/2*utils.arcmin)\n",
    "            elif freqs[i] == '150': freq_cut = freq_cutout(ra, dec, freq_map_150, scale = 380, width = scale/2*utils.arcmin)\n",
    "            elif freqs[i] == '220': freq_cut = freq_cutout(ra, dec, freq_map_220, scale = 380, width = scale/2*utils.arcmin)\n",
    "            if freq_cut is None: continue\n",
    "            temp[...,5+i] = freq_cut\n",
    "        temp = normalize_map(temp)\n",
    "        \"\"\"\n",
    "        if np.all(to_return) == 1:\n",
    "            to_return = temp\n",
    "        elif len(to_return.shape) == 3:\n",
    "            print('here')\n",
    "            to_return = np.stack((to_return, temp), axis = -1)\n",
    "        else:\n",
    "            to_return = np.append(to_return, temp, axis = -1)\n",
    "        \"\"\"\n",
    "        to_return.append(temp)\n",
    "    to_return = np.stack(to_return, axis=0)\n",
    "    return to_return\n"
   ]
  },
  {
   "cell_type": "code",
   "execution_count": null,
   "metadata": {},
   "outputs": [],
   "source": [
    "#path = '/home/r/rbond/sigurdkn/project/actpol/map_coadd/20200228/release2/'\n",
    "path = '/home/r/rbond/sigurdkn/project/actpol/map_coadd/20211219/release/'\n",
    "#path = '/project/r/rbond/jorlo/stitched_Beam_filteredMap.fits'\n",
    "freqs = ['220', '150', '090']\n",
    "\n",
    "#cur_map = enmap.read_map(path + 'act_planck_s08_s19_cmb_f{}_night_map.fits'.format(freqs[2]))\n",
    "cur_map = enmap.read_map(path + 'act_planck_daynight_f{}_map.fits'.format(freqs[2]))\n",
    "\n",
    "#plots = enplot.plot(cur_map,range=300,mask=0)\n",
    "\n",
    "#def eshow(x,**kwargs): enplot.show(enplot.plot(x,**kwargs))\n",
    "#eshow(cur_map)"
   ]
  },
  {
   "cell_type": "code",
   "execution_count": null,
   "metadata": {},
   "outputs": [],
   "source": [
    "ra_min = 0; ra_max = 10; dec_min=0; dec_max=10\n",
    "box = np.array([[dec_min,ra_min],[dec_max,ra_max]]) * utils.degree\n",
    "jpg = make_jpg('/home/r/rbond/sigurdkn/project/actpol/map_coadd/20211219/release/', box)\n",
    "\n",
    "im = Image.fromarray(jpg, 'RGB')\n",
    "im.save(\"test_jpg.jpeg\")"
   ]
  },
  {
   "cell_type": "code",
   "execution_count": null,
   "metadata": {},
   "outputs": [],
   "source": [
    "jpg.shape"
   ]
  },
  {
   "cell_type": "code",
   "execution_count": null,
   "metadata": {},
   "outputs": [],
   "source": [
    "for i in range(0, 360, 10):\n",
    "    ra_min = i; ra_max = i+10\n",
    "    dec_min = 0; dec_max = 10\n",
    "    #TODO: Galaxy masking\n",
    "    box = np.array([[dec_min,ra_min],[dec_max,ra_max]]) * utils.degree\n",
    "    cur_map = enmap.read_map(path + 'act_planck_daynight_f{}_map.fits'.format(freqs[2]), box=box)\n",
    "    plt.imshow(cur_map[0], vmin=-300, vmax = 300)\n",
    "    plt.show()\n",
    "    plt.close()"
   ]
  },
  {
   "cell_type": "code",
   "execution_count": null,
   "metadata": {},
   "outputs": [],
   "source": [
    "plt.imshow(cur_map[0], vmin=-300, vmax = 300)"
   ]
  },
  {
   "cell_type": "code",
   "execution_count": null,
   "metadata": {},
   "outputs": [],
   "source": [
    "act_catalog = fits.open('/gpfs/fs0/project/r/rbond/jorlo/cluster_catalogs/DR5_cluster-catalog_v1.0b2.fits')\n",
    "\n",
    "actRa = act_catalog[1].data['RADeg']\n",
    "actNames = act_catalog[1].data['name']\n",
    "actDec = act_catalog[1].data['decDeg']\n",
    "actRa, actDec = np.array(actRa), np.array(actDec)\n",
    "actSnr = act_catalog[1].data['fixed_SNR']\n",
    "actz = act_catalog[1].data['redshift']"
   ]
  },
  {
   "cell_type": "code",
   "execution_count": null,
   "metadata": {
    "scrolled": true
   },
   "outputs": [],
   "source": [
    "#path = '/project/r/rbond/jorlo/S18d_202006/filteredMaps/'\n",
    "\n",
    "#tileName = tileFinder(actRa[0], actDec[0], s18d)\n",
    "#tile = enmap.read_map(path+tileName+'/Arnaud_M2e14_z0p4#'+tileName+'_filteredMap.fits')\n",
    "ra, dec = actRa[0]*u.deg, actDec[0]*u.deg\n",
    "stamp = reproject.thumbnails(cur_map, ( dec.to(u.radian).value,ra.to(u.radian).value), r=5*utils.arcmin,\n",
    "                            apod = 2*utils.arcmin)#5.*np.pi/(60*180))\n",
    "#plot = enplot.plot(stamp)\n",
    "#enplot.show(plot)"
   ]
  },
  {
   "cell_type": "code",
   "execution_count": null,
   "metadata": {},
   "outputs": [],
   "source": [
    "plt.imshow(stamp[0])\n",
    "print(stamp.shape)\n",
    "plt.colorbar()"
   ]
  },
  {
   "cell_type": "code",
   "execution_count": null,
   "metadata": {},
   "outputs": [],
   "source": [
    "print(min(np.abs(stamp.wcs.wcs.cdelt))*utils.degree/2)\n",
    "print(min(np.abs(stamp.wcs.wcs.cdelt))*utils.degree/2*(3600 * 180)/np.pi)\n",
    "print(0.004167*(60 * 180)/np.pi)"
   ]
  },
  {
   "cell_type": "code",
   "execution_count": null,
   "metadata": {},
   "outputs": [],
   "source": [
    "print(10/41*60)"
   ]
  },
  {
   "cell_type": "code",
   "execution_count": null,
   "metadata": {},
   "outputs": [],
   "source": [
    "print(cur_map.wcs.wcs.cdelt)\n",
    "print(stamp.wcs.wcs.cdelt)"
   ]
  },
  {
   "cell_type": "code",
   "execution_count": null,
   "metadata": {},
   "outputs": [],
   "source": [
    "ra, dec = actRa[0], actDec[0]\n",
    "stamp1 = freq_cutout(ra, dec, cur_map, scale = 399, width = 5*utils.arcmin)\n",
    "plt.imshow(stamp1)\n",
    "print(stamp.shape)"
   ]
  },
  {
   "cell_type": "code",
   "execution_count": null,
   "metadata": {},
   "outputs": [],
   "source": [
    "stamp2 = freq_cutout(ra, dec, cur_map, scale = 399, width = 5*utils.arcmin)\n",
    "plt.imshow(stamp2)\n",
    "print(stamp.shape)"
   ]
  },
  {
   "cell_type": "code",
   "execution_count": null,
   "metadata": {},
   "outputs": [],
   "source": [
    "plt.imshow((stamp1-stamp2)/stamp1)\n",
    "plt.colorbar()\n",
    "\n"
   ]
  },
  {
   "cell_type": "code",
   "execution_count": null,
   "metadata": {},
   "outputs": [],
   "source": [
    "stamp = 0\n",
    "for i in range(len(actRa)):\n",
    "    ra, dec = actRa[i]*u.deg, actDec[i]*u.deg\n",
    "    full_box  = reproject.thumbnails(cur_map, (dec.to(u.radian).value, ra.to(u.radian).value), r=20.*np.pi/(60*180))\n",
    "    stamp+=full_box"
   ]
  },
  {
   "cell_type": "code",
   "execution_count": null,
   "metadata": {},
   "outputs": [],
   "source": []
  },
  {
   "cell_type": "code",
   "execution_count": null,
   "metadata": {},
   "outputs": [],
   "source": [
    "plt.imshow(stamp)"
   ]
  },
  {
   "cell_type": "code",
   "execution_count": null,
   "metadata": {},
   "outputs": [],
   "source": [
    "path = '/home/r/rbond/sigurdkn/project/actpol/map_coadd/20200228/release2/'\n",
    "\n",
    "freq_map_090 = enmap.read_map(path + 'act_planck_s08_s19_cmb_f090_night_map.fits')\n",
    "freq_map_150 = enmap.read_map(path + 'act_planck_s08_s19_cmb_f150_night_map.fits')\n",
    "freq_map_220 = enmap.read_map(path + 'act_planck_s08_s19_cmb_f220_night_map.fits')\n",
    "\n",
    "temp = cutout(actRa[:2], actDec[:2], freq_map_090, freq_map_150, freq_map_220, scale = 10)"
   ]
  },
  {
   "cell_type": "code",
   "execution_count": null,
   "metadata": {},
   "outputs": [],
   "source": []
  },
  {
   "cell_type": "code",
   "execution_count": null,
   "metadata": {},
   "outputs": [],
   "source": [
    "for i in range(8):\n",
    "    plt.imshow(temp[1][...,i])\n",
    "    plt.show()\n",
    "    plt.close()"
   ]
  },
  {
   "cell_type": "code",
   "execution_count": null,
   "metadata": {},
   "outputs": [],
   "source": [
    "temp[0][7]-temp[1][7]"
   ]
  },
  {
   "cell_type": "code",
   "execution_count": null,
   "metadata": {},
   "outputs": [],
   "source": [
    "temp[1][6]"
   ]
  },
  {
   "cell_type": "code",
   "execution_count": null,
   "metadata": {},
   "outputs": [],
   "source": []
  }
 ],
 "metadata": {
  "kernelspec": {
   "display_name": "ml_clusters",
   "language": "python",
   "name": "ml_clusters"
  },
  "language_info": {
   "codemirror_mode": {
    "name": "ipython",
    "version": 3
   },
   "file_extension": ".py",
   "mimetype": "text/x-python",
   "name": "python",
   "nbconvert_exporter": "python",
   "pygments_lexer": "ipython3",
   "version": "3.8.5"
  }
 },
 "nbformat": 4,
 "nbformat_minor": 4
}

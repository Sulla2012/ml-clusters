{
 "cells": [
  {
   "cell_type": "code",
   "execution_count": 4,
   "id": "846ac3b6-13f2-494e-b561-f4bba2f2d94d",
   "metadata": {},
   "outputs": [],
   "source": [
    "#More or less general imports\n",
    "import numpy as np\n",
    "import matplotlib.pyplot as plt\n",
    "from astropy.io import fits\n",
    "import os\n",
    "import time\n",
    "\n",
    "#Imports for Creating WebSky Maps \n",
    "import h5py    \n",
    "import healpy as hp\n",
    "from pixell import enmap,utils, reproject, bunch, curvedsky, enplot\n",
    "import os, sys\n",
    "import dill as dl\n",
    "from scipy.interpolate import *\n",
    "#Unit conversion\n",
    "from astropy import units as u\n",
    "from astropy.constants import k_B, h\n",
    "\n",
    "#Creating Stamps\n",
    "from astropy import wcs\n",
    "from astropy.nddata import Cutout2D\n",
    "import pickle as pk\n",
    "from astropy.convolution import Gaussian2DKernel, convolve\n",
    "from astropy.coordinates import SkyCoord\n",
    "import yaml\n",
    "from pixell import enmap,utils, reproject, enplot\n",
    "from scipy import interpolate\n",
    "import random\n",
    "from astropy.nddata import block_reduce, block_replicate\n",
    "import ipyparallel as ipp\n",
    "from mpi4py import MPI\n",
    "from PIL import Image\n",
    "from astLib import astWCS, astImages\n",
    "from scipy import ndimage\n",
    "from pixell.enmap import sky2pix\n",
    "from astropy.wcs import WCS\n",
    "from astropy.wcs.utils import skycoord_to_pixel\n",
    "from astropy.wcs.utils import proj_plane_pixel_scales\n",
    "from astroquery.skyview import SkyView\n",
    "import astropy.io.fits as pyfits\n",
    "from stamping_utils import autotiler, getTileCoordsDict, make_jpg, normalize_map, make_mask_wise, _make_jpg, make_stamp, make_mask\n",
    "import glob\n",
    "\n",
    "%load_ext autoreload\n",
    "%autoreload 2\n",
    "\n",
    "%matplotlib inline"
   ]
  },
  {
   "cell_type": "code",
   "execution_count": 5,
   "id": "c25f9bcd-8677-4407-87fb-5ce461c300a7",
   "metadata": {},
   "outputs": [],
   "source": [
    "omegab = 0.049\n",
    "omegac = 0.261\n",
    "omegam = omegab + omegac\n",
    "h      = 0.68\n",
    "ns     = 0.965\n",
    "sigma8 = 0.81\n",
    "\n",
    "c = 3e5\n",
    "\n",
    "H0 = 100*h\n",
    "nz = 100000\n",
    "z1 = 0.0\n",
    "z2 = 6.0\n",
    "za = np.linspace(z1,z2,nz)\n",
    "dz = za[1]-za[0]\n",
    "\n",
    "H      = lambda z: H0*np.sqrt(omegam*(1+z)**3+1-omegam)\n",
    "dchidz = lambda z: c/H(z)\n",
    "\n",
    "chia = np.cumsum(dchidz(za))*dz\n",
    "\n",
    "zofchi = interp1d(chia,za)"
   ]
  },
  {
   "cell_type": "code",
   "execution_count": 6,
   "id": "9c1d7d4e-c7fb-4ea1-90f1-1fe275bcf7c9",
   "metadata": {},
   "outputs": [],
   "source": [
    "#Access to WebSky data\n",
    "path = \"/mnt/welch/USERS/cwhitaker/maps/websky/\""
   ]
  },
  {
   "cell_type": "code",
   "execution_count": 7,
   "id": "d9bf2740-99a7-4f46-a002-32a8ee773789",
   "metadata": {},
   "outputs": [],
   "source": [
    "cluster_catalog=open(path + 'halos.pksc')\n",
    "N = np.fromfile(cluster_catalog,count=3,dtype=np.int32)[0]\n",
    "# only take first five entries for testing (there are ~8e8 halos total...)\n",
    "# comment the following line to read in all halos\n",
    "#N = 10\n",
    "catalog=np.fromfile(cluster_catalog,count=N*10,dtype=np.float32)\n",
    "catalog=np.reshape(catalog,(N,10))\n",
    "x  = catalog[:,0];  y = catalog[:,1];  z = catalog[:,2] # Mpc (comoving)\n",
    "vx = catalog[:,3]; vy = catalog[:,4]; vz = catalog[:,5] # km/sec\n",
    "R  = catalog[:,6] # Mpc\n",
    "#print(catalog)"
   ]
  },
  {
   "cell_type": "code",
   "execution_count": 8,
   "id": "093573f7-3694-4ba4-9fe1-cf0c46dbf4c5",
   "metadata": {},
   "outputs": [],
   "source": [
    "# Constants\n",
    "rho      = 2.775e11*omegam*h**2 # Msun/Mpc^3\n",
    "# this is M200m (mean density 200 times mean) in Msun\n",
    "M        = 4*np.pi/3.*rho*R**3\n",
    "chi      = np.sqrt(x**2+y**2+z**2)    # Mpc\n",
    "redshift = zofchi(chi)"
   ]
  },
  {
   "cell_type": "code",
   "execution_count": 9,
   "id": "c54c8d12-ca2e-4562-b00e-376e88b1eadb",
   "metadata": {},
   "outputs": [],
   "source": [
    "dec,ra = hp.vec2ang(np.column_stack((x,y,z))) # in (not with utils.degree) radians"
   ]
  },
  {
   "cell_type": "code",
   "execution_count": 10,
   "id": "b6f97c41-df9d-42cb-8da7-e0d4d197175e",
   "metadata": {},
   "outputs": [
    {
     "name": "stdout",
     "output_type": "stream",
     "text": [
      "[1.7712529  2.3051946  0.27119753 ... 2.714089   2.2073736  2.5505273 ]\n",
      "[4.674485   0.58030796 2.4672267  ... 2.9862423  5.285679   1.3658549 ]\n"
     ]
    }
   ],
   "source": [
    "print(dec)\n",
    "print(ra)"
   ]
  },
  {
   "cell_type": "code",
   "execution_count": 11,
   "id": "3477f3d9-0e81-4a19-88f8-7c7634912f17",
   "metadata": {},
   "outputs": [],
   "source": [
    "dec = np.where(dec > np.pi / 2 , dec - np.pi , dec)"
   ]
  },
  {
   "cell_type": "code",
   "execution_count": 12,
   "id": "3d61bfdf-6476-4ed6-bfc6-148f5eba3756",
   "metadata": {},
   "outputs": [],
   "source": [
    "ra = np.where(ra > np.pi, ra - 2*np.pi, ra)"
   ]
  },
  {
   "cell_type": "code",
   "execution_count": 13,
   "id": "bed8160f-b946-4ecf-b895-f4be784d66fe",
   "metadata": {},
   "outputs": [
    {
     "name": "stdout",
     "output_type": "stream",
     "text": [
      "[-1.6087003   0.58030796  2.4672267  ...  2.9862423  -0.9975066\n",
      "  1.3658549 ]\n"
     ]
    }
   ],
   "source": [
    "#print(dec)  * 180/np.pi\n",
    "print(ra)"
   ]
  },
  {
   "cell_type": "code",
   "execution_count": 14,
   "id": "608f17ad-87a7-43fc-baf0-0cf6523f8da1",
   "metadata": {},
   "outputs": [],
   "source": [
    "#ra = np.where(ra > np.pi, ra - 2*np.pi, ra)"
   ]
  },
  {
   "cell_type": "code",
   "execution_count": 15,
   "id": "fb1c6367-ac19-434b-9f3f-bfe381b78f8c",
   "metadata": {},
   "outputs": [],
   "source": [
    "#Limit to how bright/massive the clusters can be\n",
    "cluster_cut = 2.0e14\n",
    "\n",
    "cluster_flags = np.where((M >= cluster_cut))[0]\n",
    "#Limit on parameters of clusters\n",
    "M            = M[cluster_flags]\n",
    "redshift     = redshift[cluster_flags]\n",
    "cluster_decs = dec[cluster_flags] \n",
    "cluster_ras  = ra[cluster_flags]"
   ]
  },
  {
   "cell_type": "code",
   "execution_count": 16,
   "id": "a1d6805b-0cf6-4fa2-9346-9f0eb67389e7",
   "metadata": {},
   "outputs": [
    {
     "name": "stdout",
     "output_type": "stream",
     "text": [
      "[-1.3703399  -0.8363981   0.27119753 ... -0.6426151  -1.1381083\n",
      " -0.5619528 ]\n"
     ]
    }
   ],
   "source": [
    "print(cluster_decs)"
   ]
  },
  {
   "cell_type": "markdown",
   "id": "fc6246d8-dc46-4622-b74f-5f95cb4b7bc0",
   "metadata": {},
   "source": [
    "### Learning Machine Learning"
   ]
  },
  {
   "cell_type": "code",
   "execution_count": 17,
   "id": "099e9557-833c-4a21-b870-8d52ca17c088",
   "metadata": {},
   "outputs": [],
   "source": [
    "def generate_coords():\n",
    "    # Arccosine helper function\n",
    "    def arccos_arange(start, finish, steps):\n",
    "        \"\"\"\n",
    "        Converts an arange array of angles (in degrees) to their arccosine values in radians.\n",
    "        Returns:\n",
    "        Array of arccosine values in radians.\n",
    "        \"\"\"\n",
    "        degrees_array = np.arange(start, finish, steps)\n",
    "        radians_array = np.deg2rad(degrees_array)\n",
    "        # (arccosine values will be between -1 and 1)\n",
    "        cosine_values = np.cos(radians_array)\n",
    "        y = np.arccos(cosine_values)\n",
    "        return y\n",
    "    \n",
    "    # Coordinates\n",
    "    x = np.arange(-np.pi, 181 * utils.degree, 1.5 * utils.degree)\n",
    "    y = arccos_arange(-69, 69, 1.5)\n",
    "    \n",
    "    # Array of coordinates\n",
    "    dec, ra = np.meshgrid(y, x)\n",
    "    \n",
    "    # Flatten the meshgrid arrays and combine them into pairs of positions\n",
    "    coords = np.array([dec.ravel(), ra.ravel()]).T\n",
    "    coords = np.unique(coords, axis=0)\n",
    "    \n",
    "    return coords\n",
    "\n",
    "coords = generate_coords()"
   ]
  },
  {
   "cell_type": "code",
   "execution_count": 38,
   "id": "dc315ed6-c1e0-4069-8e57-9c036698efba",
   "metadata": {},
   "outputs": [],
   "source": [
    "def make_mask(image, cluster_ras, cluster_decs, box, cur_wcs, size = 2.4, jpg=False):\n",
    "    #Function which makes masks corresponding to clusters in a image. \n",
    "    if jpg: \n",
    "        mask = np.zeros(image[...,0].shape)\n",
    "    else:\n",
    "        mask = np.zeros(image[0].shape)\n",
    "        print(mask.shape)\n",
    "    min_ra, max_ra, min_dec, max_dec = box[0][0], box[0][1], box[1][0], box[1][1] \n",
    "\n",
    "    in_image = np.where((min_ra < cluster_ras) & (cluster_ras < max_ra) & (min_dec < cluster_decs) & (cluster_decs < max_dec))[0]\n",
    "    print(len(in_image))\n",
    "    if len(in_image) == 0:\n",
    "        return mask\n",
    " \n",
    "    for i in range(len(in_image)):\n",
    "        cur_cluster = in_image[i]\n",
    "        cur_center = SkyCoord(cluster_ras[cur_cluster], cluster_decs[cur_cluster], unit = \"rad\")\n",
    "        x,y = skycoord_to_pixel(cur_center, cur_wcs)\n",
    "        \n",
    "        x,y = np.round(x), np.round(y)\n",
    "        print(x,y)\n",
    "        pix_size = proj_plane_pixel_scales(cur_wcs)[0] * 60\n",
    "        r = size/2/pix_size\n",
    "        #print(mask.shape)\n",
    "        xx, yy = np.meshgrid(np.linspace(0, mask.shape[1]-1, mask.shape[1]), np.linspace(0, mask.shape[0]-1, mask.shape[0]))\n",
    "        #print(xx-x)\n",
    "        r_mask = (xx-x)**2 + (yy-y)**2 < r**2\n",
    "        mask += r_mask*(i+1)\n",
    "        doubled_mask = mask > i+1 #Un-double counts areas where clusters overlap\n",
    "        mask -= doubled_mask*(i+1)\n",
    "    \n",
    "    return mask"
   ]
  },
  {
   "cell_type": "code",
   "execution_count": 39,
   "id": "6aa54d63-3f51-457c-bfb5-844e18a0941a",
   "metadata": {},
   "outputs": [],
   "source": [
    "r = 2 * utils.degree\n",
    "coord=coords[0]\n",
    "decs, ras = coord\n",
    "decmin, ramin = decs - r, ras - r\n",
    "decmax, ramax = decs + r, ras + r\n",
    "box = np.array([[decmin, ramin],[decmax, ramax]])\n",
    "freqs = [\"090\", \"150\", \"220\"]\n",
    "jpg, cur_wcs = make_stamp('/mnt/welch/USERS/cwhitaker/maps/websky/websky_f*_map.fits', box, freqs, normalize= False)"
   ]
  },
  {
   "cell_type": "code",
   "execution_count": 40,
   "id": "c7b6a2ed-5be4-4732-9dd3-cc25c8f35d8a",
   "metadata": {},
   "outputs": [
    {
     "data": {
      "text/plain": [
       "car:{cdelt:[0.008333,0.008333],crval:[0.004167,0],crpix:[-21358.50,241.00]}"
      ]
     },
     "execution_count": 40,
     "metadata": {},
     "output_type": "execute_result"
    }
   ],
   "source": [
    "cur_wcs"
   ]
  },
  {
   "cell_type": "code",
   "execution_count": 48,
   "id": "9bd4848d-efb3-47ea-ba19-8b0f13f99303",
   "metadata": {},
   "outputs": [
    {
     "name": "stdout",
     "output_type": "stream",
     "text": [
      "[    72091    548259    737764 ... 862339747 862344819 862920475]\n"
     ]
    }
   ],
   "source": [
    "#min_ra, max_ra, min_dec, max_dec = box[0][0], box[0][1], box[1][0], box[1][1] \n",
    "in_image = np.where((ramin < ra) & (ra < ramax) & (decmin < dec) & (dec < decmax))[0]\n",
    "print(in_image)"
   ]
  },
  {
   "cell_type": "code",
   "execution_count": 49,
   "id": "395d6b16-bfd2-44db-9408-9c741b0f9ea8",
   "metadata": {},
   "outputs": [
    {
     "name": "stdout",
     "output_type": "stream",
     "text": [
      "(480, 480)\n",
      "1\n",
      "-42736.0 41.0\n"
     ]
    }
   ],
   "source": [
    "mask = make_mask(jpg, cluster_ras, cluster_decs, [[ramin, ramax], [decmin, decmax]], cur_wcs, size = 2.4)"
   ]
  },
  {
   "cell_type": "code",
   "execution_count": 50,
   "id": "651112aa-325d-4b33-8789-1f787a8e34e5",
   "metadata": {},
   "outputs": [
    {
     "data": {
      "text/plain": [
       "False"
      ]
     },
     "execution_count": 50,
     "metadata": {},
     "output_type": "execute_result"
    }
   ],
   "source": [
    "np.any(mask)"
   ]
  },
  {
   "cell_type": "code",
   "execution_count": 46,
   "id": "e3e29daf-f2f8-4362-9f69-bc20ae31fc9d",
   "metadata": {},
   "outputs": [
    {
     "data": {
      "text/plain": [
       "-3.1764992386296798"
      ]
     },
     "execution_count": 46,
     "metadata": {},
     "output_type": "execute_result"
    }
   ],
   "source": [
    "ramin"
   ]
  },
  {
   "cell_type": "code",
   "execution_count": 83,
   "id": "c016d5bd-7841-4873-8419-e3dad6ca88a3",
   "metadata": {},
   "outputs": [
    {
     "name": "stdout",
     "output_type": "stream",
     "text": [
      "[[-0.03490659 -3.17649924]\n",
      " [ 0.03490659 -3.10668607]]\n"
     ]
    }
   ],
   "source": [
    "print(box)"
   ]
  },
  {
   "cell_type": "code",
   "execution_count": 53,
   "id": "7365ac8a-52eb-4bcc-a63d-e621e757a781",
   "metadata": {},
   "outputs": [
    {
     "name": "stdout",
     "output_type": "stream",
     "text": [
      "<SkyCoord (ICRS): (ra, dec) in deg\n",
      "    (2.43840861, 2.87882996)>\n",
      "False\n"
     ]
    }
   ],
   "source": [
    "for i in range(len(in_image)):\n",
    "    cur_cluster = in_image[i]\n",
    "    cur_center = SkyCoord(cluster_ras[cur_cluster], cluster_decs[cur_cluster], unit = \"deg\")\n",
    "    x,y = skycoord_to_pixel(cur_center, cur_wcs)\n",
    "    x,y = np.round(x), np.round(y)\n",
    "    print(cur_center)\n",
    "    pix_size = proj_plane_pixel_scales(cur_wcs)[0] * 60\n",
    "    #print(pix_size)\n",
    "    size =2.4\n",
    "    r = size/2/pix_size\n",
    "    #print(r)\n",
    "    xx, yy = np.meshgrid(np.linspace(0, mask.shape[1]-1, mask.shape[1]), np.linspace(0, mask.shape[0]-1, mask.shape[0]))   \n",
    "    r_mask = (xx-x)**2 + (yy-y)**2 < r**2\n",
    "    print(np.any(r_mask))\n",
    "    mask += r_mask*(i+1)\n",
    "        #doubled_mask = mask > i+1 #Un-double counts areas where clusters overlap\n",
    "        #mask -= doubled_mask*(i+1)\n",
    "    \n",
    "    #return mask"
   ]
  },
  {
   "cell_type": "code",
   "execution_count": null,
   "id": "7e02ab07-3061-45d4-8777-3ad72db79a58",
   "metadata": {},
   "outputs": [],
   "source": [
    "for i in range(len(in_image)-10, len(in_image)):\n",
    "    cur_cluster = in_image[i]\n",
    "    cur_center = SkyCoord(cluster_ras[cur_cluster], cluster_decs[cur_cluster], unit = \"deg\")\n",
    "    x,y = skycoord_to_pixel(cur_center, cur_wcs)\n",
    "    x,y = np.round(x), np.round(y)\n",
    "    #print(x,y)\n",
    "    pix_size = proj_plane_pixel_scales(cur_wcs)[0] * 60 * utils.degree\n",
    "    #print(pix_size)\n",
    "    size =2.4\n",
    "    r = size/2/pix_size\n",
    "    #print(r)\n",
    "    xx, yy = np.meshgrid(np.linspace(0, mask.shape[1]-1, mask.shape[1]), np.linspace(0, mask.shape[0]-1, mask.shape[0]))   \n",
    "    #print(xx,yy)\n",
    "    r_mask = (xx-x)**2 + (yy-y)**2 < r**2\n",
    "    print((yy-y)**2)\n",
    "    mask += r_mask*(i+1)\n",
    "        #doubled_mask = mask > i+1 #Un-double counts areas where clusters overlap\n",
    "        #mask -= doubled_mask*(i+1)\n",
    "    \n",
    "    #return mask"
   ]
  },
  {
   "cell_type": "code",
   "execution_count": null,
   "id": "1eaba60f-3a64-47f9-b70f-58aeaec53460",
   "metadata": {},
   "outputs": [],
   "source": [
    "def tile_mpi():\n",
    "    comm = MPI.COMM_WORLD\n",
    "    myrank = comm.Get_rank()\n",
    "    nproc = comm.Get_size()\n",
    "    freqs = [\"090\", \"150\", \"220\"]\n",
    "    r = 2\n",
    "    for coord in coords:\n",
    "        decs, ras = coord\n",
    "        decmin, ramin = decs - r, ras - r\n",
    "        decmax, ramax = decs + r, ras + r\n",
    "        #print(ra_max, ra_min)\n",
    "        in_image = np.where((ramin < cluster_ras) & (cluster_ras < ramax) & (decmin < cluster_decs) & (cluster_decs < decmax))[0]\n",
    "        if len(in_image) == 0:\n",
    "            print('no clusters')\n",
    "            continue\n",
    "    \n",
    "        if ramax < ramin:\n",
    "            ramin -= 360\n",
    "        \n",
    "        box = np.array([[decmin, ramin],[decmax, ramax]])\n",
    "        #Make jpg of box\n",
    "        jpg, cur_wcs = make_stamp('/mnt/welch/USERS/cwhitaker/maps/websky/websky_f*_map.fits', box, freqs, normalize= False)\n",
    "        if type(jpg) == int: continue\n",
    "\n",
    "        mask = make_mask(jpg, catalog, box, cur_wcs, size = 2.4)\n",
    "    return 0\n",
    "\n",
    "with ipp.Cluster(controller_ip=\"*\", engines=\"mpi\", n=24) as rc:\n",
    "    # get a broadcast_view on the cluster which is best\n",
    "    # suited for MPI style computation\n",
    "    view = rc.broadcast_view()\n",
    "    # run the mpi_example function on all engines in parallel\n",
    "    r = view.apply_sync(tile_mpi())\n",
    "    # Retrieve and print the result from the engines\n",
    "    print(\"\\n\".join(r))"
   ]
  },
  {
   "cell_type": "markdown",
   "id": "2b5bd11d-1e3a-4830-916f-969439cdc637",
   "metadata": {},
   "source": [
    "freqs = [\"090\", \"150\", \"220\"]\n",
    "r = 2\n",
    "for i, coord in enumerate(coords):\n",
    "    if i >= 190:\n",
    "        break\n",
    "    decs, ras = coord\n",
    "    decmin, ramin = decs - r, ras - r\n",
    "    decmax, ramax = decs + r, ras + r\n",
    "        #print(ra_max, ra_min)\n",
    "    in_image = np.where((ramin < cluster_ras) & (cluster_ras < ramax) & (decmin < cluster_decs) & (cluster_decs < decmax))[0]\n",
    "    if len(in_image) == 0:\n",
    "        print('no clusters')\n",
    "        continue\n",
    "    \n",
    "    if ramax < ramin:\n",
    "        ramin -= 360\n",
    "        \n",
    "    box = np.array([[decmin, ramin],[decmax, ramax]])\n",
    "        #Make jpg of box\n",
    "    jpg, cur_wcs = make_stamp('/mnt/welch/USERS/cwhitaker/maps/websky/websky_f*_map.fits', box, freqs, normalize= False)\n",
    "    if type(jpg) == int: continue\n",
    "\n",
    "    mask = make_mask(jpg, catalog, box, cur_wcs, size = 2.4)"
   ]
  },
  {
   "cell_type": "code",
   "execution_count": 137,
   "id": "d80f12a1-1c77-48d7-90fe-d4f2709d8025",
   "metadata": {},
   "outputs": [
    {
     "name": "stdout",
     "output_type": "stream",
     "text": [
      "Pixel coordinates: x=27381.33319983929, y=49732.73911660097\n"
     ]
    }
   ],
   "source": [
    "# Create a WCS object\n",
    "wcs = WCS(naxis=2)\n",
    "wcs.wcs.crpix = [-21358.50,241.00]  # Reference pixel coordinates\n",
    "wcs.wcs.cdelt = np.array([-0.0066667, 0.0066667])  # Pixel scale (degrees per pixel)\n",
    "wcs.wcs.crval = [180, 0]  # Reference sky coordinates (RA, Dec)\n",
    "wcs.wcs.ctype = [\"RA---TAN\", \"DEC--TAN\"]  # Coordinate system type\n",
    "\n",
    "# Create a SkyCoord object with the sky coordinates\n",
    "sky_coord = SkyCoord(ra=100.0, dec=45.0, unit='deg')\n",
    "\n",
    "# Convert sky coordinates to pixel coordinates\n",
    "x, y = skycoord_to_pixel(sky_coord, wcs)\n",
    "\n",
    "print(f\"Pixel coordinates: x={x}, y={y}\")"
   ]
  },
  {
   "cell_type": "code",
   "execution_count": null,
   "id": "aaa5237c-ebb1-478a-9c9d-f58fcf7436b6",
   "metadata": {},
   "outputs": [],
   "source": []
  }
 ],
 "metadata": {
  "kernelspec": {
   "display_name": "Python 3 (ipykernel)",
   "language": "python",
   "name": "python3"
  },
  "language_info": {
   "codemirror_mode": {
    "name": "ipython",
    "version": 3
   },
   "file_extension": ".py",
   "mimetype": "text/x-python",
   "name": "python",
   "nbconvert_exporter": "python",
   "pygments_lexer": "ipython3",
   "version": "3.9.18"
  }
 },
 "nbformat": 4,
 "nbformat_minor": 5
}

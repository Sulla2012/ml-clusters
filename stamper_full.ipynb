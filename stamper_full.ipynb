{
 "cells": [
  {
   "cell_type": "code",
   "execution_count": 16,
   "metadata": {},
   "outputs": [],
   "source": [
    "import DESTiler\n",
    "\n",
    "#tiler=DESTiler.DESTiler(\"DES_DR1_TILE_INFO.csv\")\n"
   ]
  },
  {
   "cell_type": "code",
   "execution_count": 41,
   "metadata": {},
   "outputs": [
    {
     "name": "stdout",
     "output_type": "stream",
     "text": [
      "The autoreload extension is already loaded. To reload it, use:\n",
      "  %reload_ext autoreload\n"
     ]
    }
   ],
   "source": [
    "import numpy as np\n",
    "import matplotlib.pyplot as plt\n",
    "import astropy.units as u\n",
    "from astropy.io import fits\n",
    "from astropy import wcs\n",
    "from astropy.nddata import Cutout2D\n",
    "import os, sys\n",
    "import pickle as pk\n",
    "from astropy.convolution import Gaussian2DKernel, convolve\n",
    "from astropy.coordinates import SkyCoord\n",
    "import yaml\n",
    "from pixell import enmap,utils, reproject, enplot\n",
    "from scipy import interpolate\n",
    "import random\n",
    "from astropy.nddata import block_reduce, block_replicate\n",
    "\n",
    "import pickle as pk\n",
    "\n",
    "from PIL import Image\n",
    "\n",
    "from astLib import astWCS, astImages\n",
    "from scipy import ndimage\n",
    "\n",
    "from pixell.enmap import sky2pix\n",
    "\n",
    "from astropy.wcs import WCS\n",
    "\n",
    "from stamping_utils import autotiler, getTileCoordsDict, make_jpg, normalize_map\n",
    "\n",
    "%load_ext autoreload\n",
    "%autoreload 2\n",
    "\n",
    "%matplotlib inline\n",
    "\n"
   ]
  },
  {
   "cell_type": "code",
   "execution_count": 2,
   "metadata": {
    "scrolled": true
   },
   "outputs": [],
   "source": [
    "tileDefinitions = {\"mask\": '/project/s/sievers/kaper/mlclusters/ml-clusters/DR5_cluster-search-area-mask_v1.0.fits',\n",
    "                  \"targetTileWidthDeg\": 5.0, \n",
    "                  \"targetTileHeightDeg\": 5.0}\n",
    "hdu = fits.open('./DR5_cluster-search-area-mask_v1.0.fits')\n",
    "mask = hdu[1].data\n",
    "wcs_mask = astWCS.WCS(hdu[1].header,mode=\"pyfits\")\n",
    "w = WCS(hdu[1].header)\n",
    "tileOverlapDeg = 1"
   ]
  },
  {
   "cell_type": "code",
   "execution_count": 3,
   "metadata": {},
   "outputs": [],
   "source": [
    "tilelist = autotiler(mask,wcs_mask,tileDefinitions[\"targetTileWidthDeg\"],tileDefinitions[\"targetTileHeightDeg\"])"
   ]
  },
  {
   "cell_type": "code",
   "execution_count": 4,
   "metadata": {},
   "outputs": [],
   "source": [
    "clipCoordsDict=getTileCoordsDict(tilelist,wcs_mask,tileOverlapDeg)"
   ]
  },
  {
   "cell_type": "code",
   "execution_count": null,
   "metadata": {
    "scrolled": false
   },
   "outputs": [],
   "source": [
    "for key in clipCoordsDict.keys():\n",
    "    minX, maxX, minY, maxY=clipCoordsDict[key]['clippedSection']\n",
    "    ra_min, dec_max = wcs_mask.pix2wcs(maxX, maxY)\n",
    "    ra_max, dec_min = wcs_mask.pix2wcs(minX, minY)\n",
    "    print(ra_max, ra_min)\n",
    "\n",
    "    if ra_max < ra_min:\n",
    "        print('here')\n",
    "        ra_min -= 360\n",
    "    \n",
    "    box = np.array([[dec_min, ra_min],[dec_max, ra_max]]) * utils.degree\n",
    "    #c1 = SkyCoord(ra_min, dec_min, frame='icrs', unit='deg')\n",
    "    #c2 = SkyCoord(ra_max, dec_max, frame='icrs', unit='deg')\n",
    "\n",
    "    #print(dec_min, dec_max)\n",
    "    #print(c1.ra.hms, c2.ra.hms)\n",
    "    print(box)\n",
    "    #Make jpg of box\n",
    "    jpg = make_jpg('/home/r/rbond/sigurdkn/project/actpol/map_coadd/20211219/release/', box)\n",
    "    if type(jpg) == int: continue\n",
    "    #plt.imshow(jpg[...,0])\n",
    "    #plt.show()\n",
    "    #plt.close()\n",
    "    im = Image.fromarray(jpg, 'RGB')\n",
    "    im.save(\"/project/r/rbond/jorlo/datasets/ACT_tiles/{}.jpg\".format(key))\n",
    "    \n",
    "    #plt.imshow(jpg)\n",
    "    #plt.show()\n",
    "    #plt.close()"
   ]
  },
  {
   "cell_type": "markdown",
   "metadata": {},
   "source": [
    "# Cluster Centered Stamps"
   ]
  },
  {
   "cell_type": "code",
   "execution_count": 3,
   "metadata": {},
   "outputs": [],
   "source": [
    "act_catalog = fits.open('/gpfs/fs0/project/r/rbond/jorlo/cluster_catalogs/DR5_cluster-catalog_v1.0b2.fits')\n",
    "ras, decs = act_catalog[1].data['RADeg'], act_catalog[1].data['decDeg']"
   ]
  },
  {
   "cell_type": "code",
   "execution_count": 24,
   "metadata": {},
   "outputs": [],
   "source": [
    "to_return_90 = []\n",
    "\n",
    "map_path = '/home/r/rbond/sigurdkn/project/actpol/map_coadd/20211219/release/'\n",
    "\n",
    "cur_map = enmap.read_map(map_path + 'act_planck_daynight_f{}_map.fits'.format('090'))[0]\n",
    "\n",
    "for i, name in enumerate(act_catalog[1].data['name']):\n",
    "    width = 5.0*utils.arcmin\n",
    "    \n",
    "    ra, dec = ras[i]*u.deg, decs[i]*u.deg    \n",
    "\n",
    "    stamp = reproject.thumbnails(cur_map, ( dec.to(u.radian).value,ra.to(u.radian).value), r=width,\n",
    "                        apod = 2*utils.arcmin)\n",
    "    stamp = normalize_map(stamp)\n",
    "    to_return_90.append(stamp)\n",
    "    \n",
    "to_return_90 = np.stack(to_return_90, axis=0)\n",
    "\n",
    "to_return_150 = []\n",
    "\n",
    "map_path = '/home/r/rbond/sigurdkn/project/actpol/map_coadd/20211219/release/'\n",
    "\n",
    "cur_map = enmap.read_map(map_path + 'act_planck_daynight_f{}_map.fits'.format('150'))[0]\n",
    "\n",
    "for i, name in enumerate(act_catalog[1].data['name']):\n",
    "    width = 5.0*utils.arcmin\n",
    "    \n",
    "    ra, dec = ras[i]*u.deg, decs[i]*u.deg    \n",
    "\n",
    "    stamp = reproject.thumbnails(cur_map, ( dec.to(u.radian).value,ra.to(u.radian).value), r=width,\n",
    "                        apod = 2*utils.arcmin)\n",
    "    stamp = normalize_map(stamp)\n",
    "    to_return_150.append(stamp)\n",
    "    \n",
    "to_return_150 = np.stack(to_return_150, axis=0)\n",
    "\n",
    "to_return_220 = []\n",
    "\n",
    "map_path = '/home/r/rbond/sigurdkn/project/actpol/map_coadd/20211219/release/'\n",
    "\n",
    "cur_map = enmap.read_map(map_path + 'act_planck_daynight_f{}_map.fits'.format('220'))[0]\n",
    "\n",
    "for i, name in enumerate(act_catalog[1].data['name']):\n",
    "    width = 5.0*utils.arcmin\n",
    "    \n",
    "    ra, dec = ras[i]*u.deg, decs[i]*u.deg    \n",
    "\n",
    "    stamp = reproject.thumbnails(cur_map, ( dec.to(u.radian).value,ra.to(u.radian).value), r=width,\n",
    "                        apod = 2*utils.arcmin)\n",
    "    stamp = normalize_map(stamp)\n",
    "    to_return_220.append(stamp)\n",
    "    \n",
    "to_return_220 = np.stack(to_return_220, axis=0)"
   ]
  },
  {
   "cell_type": "code",
   "execution_count": 25,
   "metadata": {},
   "outputs": [],
   "source": [
    "to_return = np.stack([to_return_90, to_return_150, to_return_220], axis = -1)"
   ]
  },
  {
   "cell_type": "code",
   "execution_count": 27,
   "metadata": {},
   "outputs": [],
   "source": [
    "to_return.shape"
   ]
  },
  {
   "cell_type": "code",
   "execution_count": 28,
   "metadata": {},
   "outputs": [],
   "source": [
    "np.savez_compressed('/project/r/rbond/jorlo/datasets/act_freq_stamps/all_clusters.npz', to_return)"
   ]
  },
  {
   "cell_type": "markdown",
   "metadata": {},
   "source": [
    "# Single Cluster y stamps"
   ]
  },
  {
   "cell_type": "code",
   "execution_count": 18,
   "metadata": {},
   "outputs": [],
   "source": [
    "path = '/project/r/rbond/jorlo/S18d_202006/filteredMaps/'\n",
    "\n",
    "ymap = enmap.read_map(path + 'stitched_Arnaud_M2e14_z0p4_filteredMap.fits')"
   ]
  },
  {
   "cell_type": "code",
   "execution_count": 19,
   "metadata": {},
   "outputs": [],
   "source": [
    "act_catalog = fits.open('/gpfs/fs0/project/r/rbond/jorlo/cluster_catalogs/DR5_cluster-catalog_v1.0b2.fits')\n",
    "ras, decs = act_catalog[1].data['RADeg'], act_catalog[1].data['decDeg']"
   ]
  },
  {
   "cell_type": "code",
   "execution_count": 45,
   "metadata": {
    "collapsed": true
   },
   "outputs": [
    {
     "data": {
      "image/png": "[encoded data removed]",
      "text/plain": [
       "<Figure size 432x288 with 1 Axes>"
      ]
     },
     "metadata": {
      "needs_background": "light"
     },
     "output_type": "display_data"
    },
    {
     "data": {
      "image/png": "[encoded data removed]",
      "text/plain": [
       "<Figure size 432x288 with 1 Axes>"
      ]
     },
     "metadata": {
      "needs_background": "light"
     },
     "output_type": "display_data"
    },
    {
     "data": {
      "image/png": "[encoded data removed]",
      "text/plain": [
       "<Figure size 432x288 with 1 Axes>"
      ]
     },
     "metadata": {
      "needs_background": "light"
     },
     "output_type": "display_data"
    },
    {
     "data": {
      "image/png": "[encoded data removed]",
      "text/plain": [
       "<Figure size 432x288 with 1 Axes>"
      ]
     },
     "metadata": {
      "needs_background": "light"
     },
     "output_type": "display_data"
    },
    {
     "data": {
      "image/png": "[encoded data removed]",
      "text/plain": [
       "<Figure size 432x288 with 1 Axes>"
      ]
     },
     "metadata": {
      "needs_background": "light"
     },
     "output_type": "display_data"
    },
    {
     "data": {
      "image/png": "[encoded data removed]",
      "text/plain": [
       "<Figure size 432x288 with 1 Axes>"
      ]
     },
     "metadata": {
      "needs_background": "light"
     },
     "output_type": "display_data"
    },
    {
     "data": {
      "image/png": "[encoded data removed]",
      "text/plain": [
       "<Figure size 432x288 with 1 Axes>"
      ]
     },
     "metadata": {
      "needs_background": "light"
     },
     "output_type": "display_data"
    },
    {
     "data": {
      "image/png": "[encoded data removed]",
      "text/plain": [
       "<Figure size 432x288 with 1 Axes>"
      ]
     },
     "metadata": {
      "needs_background": "light"
     },
     "output_type": "display_data"
    },
    {
     "data": {
      "image/png": "[encoded data removed]",
      "text/plain": [
       "<Figure size 432x288 with 1 Axes>"
      ]
     },
     "metadata": {
      "needs_background": "light"
     },
     "output_type": "display_data"
    },
    {
     "data": {
      "image/png": "[encoded data removed]",
      "text/plain": [
       "<Figure size 432x288 with 1 Axes>"
      ]
     },
     "metadata": {
      "needs_background": "light"
     },
     "output_type": "display_data"
    }
   ],
   "source": [
    "to_return_y = []\n",
    "\n",
    "for i in range(10):\n",
    "    width = 5.0*utils.arcmin\n",
    "    \n",
    "    ra, dec = ras[i]*u.deg, decs[i]*u.deg    \n",
    "\n",
    "    stamp = reproject.thumbnails(ymap, ( dec.to(u.radian).value,ra.to(u.radian).value), r=width,\n",
    "                        apod = 2*utils.arcmin)\n",
    "    stamp = normalize_map(stamp)\n",
    "    plt.imshow(stamp)\n",
    "    plt.show()\n",
    "    plt.close()\n",
    "    #stamp = normalize_map(stamp)\n",
    "\n",
    "    to_return_y.append(stamp)\n",
    "to_return_y = np.stack(to_return_y, axis=0)\n",
    "\n",
    "pk.dump(to_return_y, open('/project/r/rbond/jorlo/datasets/act_y_stamps/test_clusters.pk', 'wb'))"
   ]
  },
  {
   "cell_type": "code",
   "execution_count": 46,
   "metadata": {},
   "outputs": [],
   "source": [
    "to_return_y = []\n",
    "\n",
    "for i, name in enumerate(act_catalog[1].data['name']):\n",
    "    width = 5.0*utils.arcmin\n",
    "    \n",
    "    ra, dec = ras[i]*u.deg, decs[i]*u.deg    \n",
    "\n",
    "    stamp = reproject.thumbnails(ymap, ( dec.to(u.radian).value,ra.to(u.radian).value), r=width,\n",
    "                        apod = 2*utils.arcmin)\n",
    "    #stamp = normalize_map(stamp)\n",
    "    to_return_y.append(stamp)\n",
    "\n",
    "to_return_y = np.stack(to_return_y, axis=0)"
   ]
  },
  {
   "cell_type": "code",
   "execution_count": 47,
   "metadata": {},
   "outputs": [
    {
     "data": {
      "text/plain": [
       "(4195, 41, 41)"
      ]
     },
     "execution_count": 47,
     "metadata": {},
     "output_type": "execute_result"
    }
   ],
   "source": [
    "to_return_y.shape"
   ]
  },
  {
   "cell_type": "code",
   "execution_count": 48,
   "metadata": {},
   "outputs": [],
   "source": [
    "np.savez_compressed('/project/r/rbond/jorlo/datasets/act_y_stamps/all_clusters.npz', to_return_y)"
   ]
  },
  {
   "cell_type": "code",
   "execution_count": null,
   "metadata": {},
   "outputs": [],
   "source": []
  },
  {
   "cell_type": "code",
   "execution_count": null,
   "metadata": {},
   "outputs": [],
   "source": []
  },
  {
   "cell_type": "code",
   "execution_count": null,
   "metadata": {},
   "outputs": [],
   "source": []
  },
  {
   "cell_type": "code",
   "execution_count": null,
   "metadata": {},
   "outputs": [],
   "source": []
  },
  {
   "cell_type": "code",
   "execution_count": null,
   "metadata": {},
   "outputs": [],
   "source": []
  },
  {
   "cell_type": "code",
   "execution_count": 5,
   "metadata": {},
   "outputs": [],
   "source": [
    "#Paths to a couple coadded maps\n",
    "\n",
    "#path = '/home/r/rbond/sigurdkn/project/actpol/map_coadd/20200228/release2/'\n",
    "path = '/home/r/rbond/sigurdkn/project/actpol/map_coadd/20211219/release/'\n",
    "#path = '/project/r/rbond/jorlo/stitched_Beam_filteredMap.fits'\n",
    "freqs = ['220', '150', '090']\n",
    "\n",
    "#Unused code for taking a look at the maps\n",
    "#cur_map = enmap.read_map(path + 'act_planck_s08_s19_cmb_f{}_night_map.fits'.format(freqs[2]))\n",
    "cur_map = enmap.read_map(path + 'act_planck_daynight_f{}_map.fits'.format(freqs[2]))\n",
    "\n",
    "cur_map = cur_map[0]\n",
    "\n",
    "#plots = enplot.plot(cur_map,range=300,mask=0)\n",
    "#enplot.write(\"plots_example\",plots)\n",
    "\n",
    "#def eshow(x,**kwargs): enplot.show(enplot.plot(x,**kwargs))\n",
    "#enplot.show(enplot.plot(cur_map))"
   ]
  },
  {
   "cell_type": "code",
   "execution_count": 6,
   "metadata": {},
   "outputs": [],
   "source": [
    "cur_map.wcs"
   ]
  },
  {
   "cell_type": "code",
   "execution_count": 11,
   "metadata": {},
   "outputs": [],
   "source": [
    "from astropy.utils.data import get_pkg_data_filename\n",
    "\n",
    "wcs = cur_map.wcs\n",
    "\n",
    "plt.subplot(projection=wcs)\n",
    "plt.imshow(cur_map, vmin=-300, vmax=300)#, origin='lower')\n",
    "plt.grid(color='white', ls='solid')\n",
    "plt.xlabel('Galactic Longitude')\n",
    "plt.ylabel('Galactic Latitude')"
   ]
  },
  {
   "cell_type": "code",
   "execution_count": 11,
   "metadata": {},
   "outputs": [],
   "source": [
    "hdu.header"
   ]
  },
  {
   "cell_type": "code",
   "execution_count": 12,
   "metadata": {},
   "outputs": [],
   "source": [
    "plt.imshow(cur_map[0], vmin = -300, vmax = 300)"
   ]
  },
  {
   "cell_type": "code",
   "execution_count": 26,
   "metadata": {
    "scrolled": true
   },
   "outputs": [],
   "source": [
    "\n",
    "#Create a box\n",
    "ra_min = 0; ra_max = 10; dec_min=0; dec_max=10\n",
    "box = np.array([[dec_min,ra_min],[dec_max,ra_max]]) * utils.degree\n",
    "box = [[-1.0645054,   0.94960714], [-0.93651459,  1.25052841]]\n",
    "print(box)\n",
    "#Make jpg of box\n",
    "jpg = make_jpg('/home/r/rbond/sigurdkn/project/actpol/map_coadd/20211219/release/', box)\n",
    "\n",
    "#The image package allows us to turn the array into a jpg for saving\n",
    "im = Image.fromarray(jpg, 'RGB')\n",
    "im.save(\"test_jpg.jpeg\")"
   ]
  },
  {
   "cell_type": "code",
   "execution_count": 27,
   "metadata": {},
   "outputs": [],
   "source": [
    "cur_map = enmap.read_map(path + 'act_planck_daynight_f{}_map.fits'.format(freqs[2]), box = box)\n",
    "\n",
    "cur_map = cur_map[0]\n",
    "\n",
    "from astropy.utils.data import get_pkg_data_filename\n",
    "\n",
    "wcs = cur_map.wcs\n",
    "\n",
    "plt.subplot(projection=wcs)\n",
    "plt.imshow(cur_map, vmin=-300, vmax=300)#, origin='lower')\n",
    "plt.grid(color='white', ls='solid')\n",
    "plt.xlabel('Galactic Longitude')\n",
    "plt.ylabel('Galactic Latitude')"
   ]
  },
  {
   "cell_type": "code",
   "execution_count": 25,
   "metadata": {},
   "outputs": [],
   "source": [
    "jpg.shape"
   ]
  },
  {
   "cell_type": "code",
   "execution_count": 14,
   "metadata": {},
   "outputs": [],
   "source": [
    "plt.imshow(jpg[...,2])\n",
    "plt.colorbar()"
   ]
  },
  {
   "cell_type": "code",
   "execution_count": 15,
   "metadata": {},
   "outputs": [],
   "source": [
    "np.amax(jpg[...,2])"
   ]
  },
  {
   "cell_type": "code",
   "execution_count": 11,
   "metadata": {},
   "outputs": [],
   "source": [
    "for i in range(0, 360, 10):\n",
    "    ra_min = i; ra_max = i+10\n",
    "    dec_min = 0; dec_max = 10\n",
    "    #TODO: Galaxy masking\n",
    "    box = np.array([[dec_min,ra_min],[dec_max,ra_max]]) * utils.degree\n",
    "    cur_map = enmap.read_map(path + 'act_planck_daynight_f{}_map.fits'.format(freqs[2]), box=box)\n",
    "    plt.imshow(cur_map[0], vmin=-300, vmax = 300)\n",
    "    plt.show()\n",
    "    plt.close()"
   ]
  },
  {
   "cell_type": "code",
   "execution_count": 6,
   "metadata": {},
   "outputs": [],
   "source": [
    "plt.imshow(cur_map[0], vmin=-300, vmax = 300)"
   ]
  },
  {
   "cell_type": "code",
   "execution_count": 12,
   "metadata": {},
   "outputs": [],
   "source": [
    "act_catalog = fits.open('/gpfs/fs0/project/r/rbond/jorlo/cluster_catalogs/DR5_cluster-catalog_v1.0b2.fits')\n",
    "\n",
    "actRa = act_catalog[1].data['RADeg']\n",
    "actNames = act_catalog[1].data['name']\n",
    "actDec = act_catalog[1].data['decDeg']\n",
    "actRa, actDec = np.array(actRa), np.array(actDec)\n",
    "actSnr = act_catalog[1].data['fixed_SNR']\n",
    "actz = act_catalog[1].data['redshift']"
   ]
  },
  {
   "cell_type": "code",
   "execution_count": 13,
   "metadata": {
    "scrolled": true
   },
   "outputs": [],
   "source": [
    "#path = '/project/r/rbond/jorlo/S18d_202006/filteredMaps/'\n",
    "\n",
    "#tileName = tileFinder(actRa[0], actDec[0], s18d)\n",
    "#tile = enmap.read_map(path+tileName+'/Arnaud_M2e14_z0p4#'+tileName+'_filteredMap.fits')\n",
    "ra, dec = actRa[0]*u.deg, actDec[0]*u.deg\n",
    "stamp = reproject.thumbnails(cur_map, ( dec.to(u.radian).value,ra.to(u.radian).value), r=5*utils.arcmin,\n",
    "                            apod = 2*utils.arcmin)#5.*np.pi/(60*180))\n",
    "#plot = enplot.plot(stamp)\n",
    "#enplot.show(plot)"
   ]
  },
  {
   "cell_type": "code",
   "execution_count": 17,
   "metadata": {},
   "outputs": [],
   "source": [
    "plt.imshow(stamp[0])\n",
    "print(stamp.shape)\n",
    "plt.colorbar()"
   ]
  },
  {
   "cell_type": "code",
   "execution_count": 31,
   "metadata": {},
   "outputs": [],
   "source": [
    "print(min(np.abs(stamp.wcs.wcs.cdelt))*utils.degree/2)\n",
    "print(min(np.abs(stamp.wcs.wcs.cdelt))*utils.degree/2*(3600 * 180)/np.pi)\n",
    "print(0.004167*(60 * 180)/np.pi)"
   ]
  },
  {
   "cell_type": "code",
   "execution_count": 32,
   "metadata": {},
   "outputs": [],
   "source": [
    "print(10/41*60)"
   ]
  },
  {
   "cell_type": "code",
   "execution_count": 33,
   "metadata": {},
   "outputs": [],
   "source": [
    "print(cur_map.wcs.wcs.cdelt)\n",
    "print(stamp.wcs.wcs.cdelt)"
   ]
  },
  {
   "cell_type": "code",
   "execution_count": 34,
   "metadata": {},
   "outputs": [],
   "source": [
    "ra, dec = actRa[0], actDec[0]\n",
    "stamp1 = freq_cutout(ra, dec, cur_map, scale = 399, width = 5*utils.arcmin)\n",
    "plt.imshow(stamp1)\n",
    "print(stamp.shape)"
   ]
  },
  {
   "cell_type": "code",
   "execution_count": null,
   "metadata": {},
   "outputs": [],
   "source": [
    "stamp2 = freq_cutout(ra, dec, cur_map, scale = 399, width = 5*utils.arcmin)\n",
    "plt.imshow(stamp2)\n",
    "print(stamp.shape)"
   ]
  },
  {
   "cell_type": "code",
   "execution_count": null,
   "metadata": {},
   "outputs": [],
   "source": [
    "plt.imshow((stamp1-stamp2)/stamp1)\n",
    "plt.colorbar()\n",
    "\n"
   ]
  },
  {
   "cell_type": "code",
   "execution_count": null,
   "metadata": {},
   "outputs": [],
   "source": [
    "stamp = 0\n",
    "for i in range(len(actRa)):\n",
    "    ra, dec = actRa[i]*u.deg, actDec[i]*u.deg\n",
    "    full_box  = reproject.thumbnails(cur_map, (dec.to(u.radian).value, ra.to(u.radian).value), r=20.*np.pi/(60*180))\n",
    "    stamp+=full_box"
   ]
  },
  {
   "cell_type": "code",
   "execution_count": null,
   "metadata": {},
   "outputs": [],
   "source": []
  },
  {
   "cell_type": "code",
   "execution_count": null,
   "metadata": {},
   "outputs": [],
   "source": [
    "plt.imshow(stamp)"
   ]
  },
  {
   "cell_type": "code",
   "execution_count": null,
   "metadata": {},
   "outputs": [],
   "source": [
    "path = '/home/r/rbond/sigurdkn/project/actpol/map_coadd/20200228/release2/'\n",
    "\n",
    "freq_map_090 = enmap.read_map(path + 'act_planck_s08_s19_cmb_f090_night_map.fits')\n",
    "freq_map_150 = enmap.read_map(path + 'act_planck_s08_s19_cmb_f150_night_map.fits')\n",
    "freq_map_220 = enmap.read_map(path + 'act_planck_s08_s19_cmb_f220_night_map.fits')\n",
    "\n",
    "temp = cutout(actRa[:2], actDec[:2], freq_map_090, freq_map_150, freq_map_220, scale = 10)"
   ]
  },
  {
   "cell_type": "code",
   "execution_count": null,
   "metadata": {},
   "outputs": [],
   "source": []
  },
  {
   "cell_type": "code",
   "execution_count": null,
   "metadata": {},
   "outputs": [],
   "source": [
    "for i in range(8):\n",
    "    plt.imshow(temp[1][...,i])\n",
    "    plt.show()\n",
    "    plt.close()"
   ]
  },
  {
   "cell_type": "code",
   "execution_count": null,
   "metadata": {},
   "outputs": [],
   "source": [
    "temp[0][7]-temp[1][7]"
   ]
  },
  {
   "cell_type": "code",
   "execution_count": null,
   "metadata": {},
   "outputs": [],
   "source": [
    "temp[1][6]"
   ]
  },
  {
   "cell_type": "code",
   "execution_count": null,
   "metadata": {},
   "outputs": [],
   "source": []
  }
 ],
 "metadata": {
  "kernelspec": {
   "display_name": "actmadcows",
   "language": "python",
   "name": "actmadcows"
  },
  "language_info": {
   "codemirror_mode": {
    "name": "ipython",
    "version": 3
   },
   "file_extension": ".py",
   "mimetype": "text/x-python",
   "name": "python",
   "nbconvert_exporter": "python",
   "pygments_lexer": "ipython3",
   "version": "3.8.5"
  }
 },
 "nbformat": 4,
 "nbformat_minor": 4
}

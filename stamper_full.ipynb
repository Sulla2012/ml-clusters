{
 "cells": [
  {
   "cell_type": "code",
   "execution_count": 1,
   "metadata": {},
   "outputs": [],
   "source": [
    "#import DESTiler\n",
    "\n",
    "#tiler=DESTiler.DESTiler(\"DES_DR1_TILE_INFO.csv\")\n"
   ]
  },
  {
   "cell_type": "markdown",
   "metadata": {},
   "source": [
    "This notebook allows you to make the stamps and corresponding masks used to train our torch model. Right now this is set up to work with ACT data but it should be fairly straightforward to modify it to work with Websky. Additionally this was written for DR5. We should probably update this for DR6. Finally for performance reasons we may want to update this to a script."
   ]
  },
  {
   "cell_type": "code",
   "execution_count": null,
   "metadata": {},
   "outputs": [],
   "source": [
    "def inv_var(data, variances):\n",
    "    ave = 0\n",
    "    var = 0\n",
    "    for i in range(len(data)):\n",
    "        ave += data[i]/variances[i]\n",
    "        var += 1/variances[i]\n",
    "    return ave/var, 1/var"
   ]
  },
  {
   "cell_type": "code",
   "execution_count": 1,
   "metadata": {},
   "outputs": [],
   "source": [
    "import numpy as np\n",
    "import matplotlib.pyplot as plt\n",
    "import astropy.units as u\n",
    "from astropy.io import fits\n",
    "from astropy import wcs\n",
    "from astropy.nddata import Cutout2D\n",
    "import os, sys\n",
    "import pickle as pk\n",
    "from astropy.convolution import Gaussian2DKernel, convolve\n",
    "from astropy.coordinates import SkyCoord\n",
    "import yaml\n",
    "from pixell import enmap,utils, reproject, enplot\n",
    "from scipy import interpolate\n",
    "import random\n",
    "from astropy.nddata import block_reduce, block_replicate\n",
    "\n",
    "import ipyparallel as ipp\n",
    "from mpi4py import MPI\n",
    "\n",
    "import pickle as pk\n",
    "\n",
    "from PIL import Image\n",
    "\n",
    "from astLib import astWCS, astImages\n",
    "from scipy import ndimage\n",
    "\n",
    "from pixell.enmap import sky2pix\n",
    "\n",
    "from astropy.wcs import WCS\n",
    "\n",
    "from astroquery.skyview import SkyView\n",
    "\n",
    "from stamping_utils import autotiler, getTileCoordsDict, make_jpg, normalize_map, make_mask, make_mask_wise, _make_jpg, make_stamp\n",
    "\n",
    "%load_ext autoreload\n",
    "%autoreload 2\n",
    "\n",
    "%matplotlib inline\n",
    "\n"
   ]
  },
  {
   "cell_type": "markdown",
   "metadata": {},
   "source": [
    "# Tile Maker"
   ]
  },
  {
   "cell_type": "code",
   "execution_count": 22,
   "metadata": {
    "scrolled": true
   },
   "outputs": [],
   "source": [
    "#Matt Hilton wrote a program called autotiler which breaks up a map into tiles of a given width, height, and overlap\n",
    "#and within a given mask.\n",
    "\n",
    "tileDefinitions = {\"mask\": \"./DR5_cluster-search-area-mask_v1.0.fits\", #TODO: this is the DR5 mask, I'm not sure how diferent it is from DR6\n",
    "                  \"targetTileWidthDeg\": 10.0, \n",
    "                  \"targetTileHeightDeg\": 10.0}\n",
    "hdu = fits.open('./DR5_cluster-search-area-mask_v1.0.fits')\n",
    "mask = hdu[1].data\n",
    "wcs_mask = astWCS.WCS(hdu[1].header,mode=\"pyfits\")\n",
    "w = WCS(hdu[1].header)\n",
    "tileOverlapDeg = 1.0"
   ]
  },
  {
   "cell_type": "code",
   "execution_count": 23,
   "metadata": {},
   "outputs": [],
   "source": [
    "tilelist = autotiler(mask,wcs_mask,tileDefinitions[\"targetTileWidthDeg\"],tileDefinitions[\"targetTileHeightDeg\"])"
   ]
  },
  {
   "cell_type": "code",
   "execution_count": 24,
   "metadata": {},
   "outputs": [],
   "source": [
    "clipCoordsDict=getTileCoordsDict(tilelist,wcs_mask,tileOverlapDeg)"
   ]
  },
  {
   "cell_type": "code",
   "execution_count": 25,
   "metadata": {},
   "outputs": [],
   "source": [
    "act_catalog = fits.open('/mnt/welch/USERS/jorlo/DR6_cluster-catalog_v0.2.fits')\n",
    "\n",
    "ras, decs = np.array(act_catalog[1].data['RADeg']), np.array(act_catalog[1].data['decDeg'])\n",
    "\n"
   ]
  },
  {
   "cell_type": "code",
   "execution_count": 26,
   "metadata": {},
   "outputs": [
    {
     "data": {
      "text/plain": [
       "8279"
      ]
     },
     "execution_count": 26,
     "metadata": {},
     "output_type": "execute_result"
    }
   ],
   "source": [
    "len(decs)"
   ]
  },
  {
   "cell_type": "code",
   "execution_count": 30,
   "metadata": {
    "scrolled": true
   },
   "outputs": [
    {
     "name": "stdout",
     "output_type": "stream",
     "text": [
      "Starting 24 engines with <class 'ipyparallel.cluster.launcher.MPIEngineSetLauncher'>\n"
     ]
    },
    {
     "data": {
      "application/vnd.jupyter.widget-view+json": {
       "model_id": "eb094d7f0d6a4a1ea24feb22d334eec9",
       "version_major": 2,
       "version_minor": 0
      },
      "text/plain": [
       "  0%|          | 0/24 [00:00<?, ?engine/s]"
      ]
     },
     "metadata": {},
     "output_type": "display_data"
    },
    {
     "name": "stdout",
     "output_type": "stream",
     "text": [
      "[0. 0.]\n",
      "36.0 1960.0\n",
      "37.0 1259.0\n",
      "144.0 2090.0\n",
      "183.0 2523.0\n",
      "239.0 2607.0\n",
      "249.0 2004.0\n",
      "258.0 1099.0\n",
      "421.0 1620.0\n",
      "623.0 1758.0\n",
      "634.0 1960.0\n",
      "696.0 1199.0\n",
      "706.0 2366.0\n",
      "724.0 239.0\n",
      "729.0 327.0\n",
      "737.0 2507.0\n",
      "775.0 2747.0\n",
      "796.0 1391.0\n",
      "814.0 1850.0\n",
      "836.0 1233.0\n",
      "847.0 947.0\n",
      "880.0 1086.0\n",
      "969.0 755.0\n",
      "965.0 329.0\n",
      "1003.0 771.0\n",
      "1047.0 2048.0\n",
      "1069.0 3169.0\n",
      "1078.0 1407.0\n",
      "1098.0 612.0\n",
      "1116.0 2152.0\n",
      "1218.0 1089.0\n",
      "1235.0 708.0\n",
      "1338.0 810.0\n",
      "1383.0 604.0\n",
      "1392.0 2967.0\n",
      "1393.0 504.0\n",
      "1446.0 1555.0\n",
      "1526.0 1255.0\n",
      "1567.0 1353.0\n",
      "1607.0 1673.0\n",
      "1648.0 1753.0\n",
      "1676.0 1540.0\n",
      "1747.0 1611.0\n",
      "1748.0 1272.0\n",
      "1823.0 1774.0\n",
      "1957.0 2825.0\n",
      "1962.0 1104.0\n",
      "1977.0 2702.0\n",
      "2026.0 1387.0\n",
      "2136.0 1833.0\n",
      "2253.0 2709.0\n",
      "2294.0 3002.0\n",
      "2336.0 1046.0\n",
      "2380.0 1684.0\n",
      "2439.0 1346.0\n",
      "2470.0 2346.0\n",
      "2492.0 1233.0\n",
      "2544.0 275.0\n",
      "2552.0 2149.0\n",
      "2560.0 2634.0\n",
      "2782.0 1625.0\n",
      "2928.0 603.0\n",
      "3038.0 2942.0\n",
      "3035.0 923.0\n",
      "3046.0 1697.0\n",
      "3211.0 1890.0\n",
      "3251.0 777.0\n",
      "3331.0 1764.0\n",
      "3341.0 1032.0\n",
      "3393.0 1270.0\n",
      "3405.0 2021.0\n",
      "3554.0 2832.0\n",
      "3563.0 1211.0\n",
      "3594.0 1913.0\n",
      "3782.0 1502.0\n",
      "3890.0 2716.0\n",
      "4078.0 1346.0\n",
      "[0. 0.]\n",
      "15.0 2545.0\n",
      "12.0 1106.0\n",
      "29.0 1232.0\n",
      "113.0 784.0\n",
      "116.0 1792.0\n",
      "172.0 561.0\n",
      "181.0 2863.0\n",
      "192.0 2691.0\n",
      "246.0 2469.0\n",
      "255.0 2865.0\n",
      "266.0 2332.0\n",
      "277.0 2812.0\n",
      "316.0 1757.0\n",
      "353.0 2249.0\n",
      "388.0 2132.0\n",
      "411.0 1175.0\n",
      "448.0 2762.0\n",
      "447.0 991.0\n",
      "472.0 2958.0\n",
      "495.0 2712.0\n",
      "617.0 2141.0\n",
      "614.0 900.0\n",
      "713.0 1384.0\n",
      "717.0 2852.0\n",
      "721.0 2349.0\n",
      "752.0 2130.0\n",
      "767.0 3020.0\n",
      "771.0 1749.0\n",
      "798.0 1076.0\n",
      "799.0 1101.0\n",
      "911.0 2180.0\n",
      "932.0 1983.0\n",
      "971.0 2558.0\n",
      "969.0 2239.0\n",
      "1051.0 2291.0\n",
      "1056.0 2543.0\n",
      "1066.0 2982.0\n",
      "1172.0 1523.0\n",
      "1178.0 2898.0\n",
      "1208.0 1554.0\n",
      "1225.0 2726.0\n",
      "1254.0 1816.0\n",
      "1282.0 1666.0\n",
      "1321.0 1193.0\n",
      "1339.0 2180.0\n",
      "1367.0 2071.0\n",
      "1384.0 1267.0\n",
      "1396.0 3044.0\n",
      "1444.0 3122.0\n",
      "1483.0 2380.0\n",
      "1503.0 970.0\n",
      "1508.0 2430.0\n",
      "1533.0 2531.0\n",
      "1545.0 3045.0\n",
      "1561.0 2221.0\n",
      "1595.0 2207.0\n",
      "1611.0 2460.0\n",
      "1621.0 1066.0\n",
      "1640.0 1631.0\n",
      "1652.0 3184.0\n",
      "1658.0 3112.0\n",
      "1691.0 310.0\n",
      "1703.0 658.0\n",
      "1719.0 1379.0\n",
      "1773.0 2564.0\n",
      "1799.0 2242.0\n",
      "1866.0 2554.0\n",
      "1896.0 1919.0\n",
      "1968.0 2462.0\n",
      "2002.0 1373.0\n",
      "2037.0 2993.0\n",
      "2045.0 1561.0\n",
      "2119.0 2172.0\n",
      "2125.0 1353.0\n",
      "2130.0 1718.0\n",
      "2136.0 1474.0\n",
      "2189.0 749.0\n",
      "2186.0 608.0\n",
      "2227.0 2616.0\n",
      "2240.0 1544.0\n",
      "2278.0 330.0\n",
      "2289.0 2928.0\n",
      "2299.0 1535.0\n",
      "2310.0 1837.0\n",
      "2319.0 251.0\n",
      "2359.0 3112.0\n",
      "2380.0 3210.0\n",
      "2385.0 528.0\n",
      "2454.0 1854.0\n",
      "2518.0 1167.0\n",
      "2570.0 2632.0\n",
      "2573.0 2431.0\n",
      "2588.0 2412.0\n",
      "2610.0 780.0\n",
      "2675.0 1692.0\n",
      "2699.0 2758.0\n",
      "2817.0 1193.0\n",
      "2836.0 2200.0\n",
      "2861.0 1876.0\n",
      "2889.0 3082.0\n",
      "2927.0 3134.0\n",
      "2935.0 1694.0\n",
      "2968.0 2423.0\n",
      "2980.0 3150.0\n",
      "3007.0 1735.0\n",
      "3037.0 2534.0\n",
      "3071.0 1608.0\n",
      "3073.0 291.0\n",
      "3216.0 1510.0\n",
      "3224.0 2554.0\n",
      "3308.0 921.0\n",
      "3316.0 1804.0\n",
      "3318.0 1019.0\n",
      "3321.0 1779.0\n",
      "3373.0 2731.0\n",
      "3414.0 2791.0\n",
      "3423.0 3173.0\n",
      "3421.0 979.0\n",
      "3475.0 1050.0\n",
      "3490.0 2811.0\n",
      "3570.0 931.0\n",
      "3598.0 3149.0\n",
      "3619.0 1662.0\n",
      "3647.0 877.0\n",
      "3648.0 2956.0\n",
      "3655.0 2334.0\n",
      "3741.0 1159.0\n",
      "3754.0 3017.0\n",
      "3794.0 1960.0\n",
      "3795.0 1259.0\n",
      "3902.0 2090.0\n",
      "3941.0 2523.0\n",
      "3997.0 2607.0\n",
      "4007.0 2004.0\n",
      "4016.0 1099.0\n",
      "4179.0 1620.0\n",
      "[0. 0.]\n",
      "3.0 3019.0\n",
      "7.0 2161.0\n",
      "19.0 3058.0\n",
      "24.0 458.0\n",
      "34.0 3153.0\n",
      "46.0 2192.0\n",
      "132.0 1168.0\n",
      "146.0 1351.0\n",
      "148.0 1766.0\n",
      "155.0 804.0\n",
      "172.0 3057.0\n",
      "174.0 1180.0\n",
      "243.0 2878.0\n",
      "329.0 2082.0\n",
      "403.0 2098.0\n",
      "410.0 2806.0\n",
      "464.0 3007.0\n",
      "516.0 2216.0\n",
      "533.0 1796.0\n",
      "533.0 784.0\n",
      "553.0 1362.0\n",
      "580.0 3005.0\n",
      "579.0 2526.0\n",
      "599.0 880.0\n",
      "616.0 3066.0\n",
      "688.0 703.0\n",
      "693.0 2861.0\n",
      "727.0 2814.0\n",
      "Stopping engine(s): 1722350316\n",
      "Output for ipengine-1722350315-d0x7-1722350316-100395:\n",
      "mpi_rank = MPI.COMM_WORLD.Get_rank()\n",
      "mpi_size = MPI.COMM_WORLD.Get_size()\n",
      "\n",
      "2024-07-30 10:38:38.642 [IPEngine.17] WARNING | debugpy_stream undefined, debugging will not be enabled\n",
      "2024-07-30 10:38:38.642 [IPEngine.19] Starting to monitor the heartbeat signal from the hub every 3500 ms.\n",
      "2024-07-30 10:38:38.642 [IPEngine.19] Completed registration with id 19\n",
      "2024-07-30 10:38:38.642 [IPEngine.7] Starting to monitor the heartbeat signal from the hub every 3500 ms.\n",
      "2024-07-30 10:38:38.642 [IPEngine.7] Completed registration with id 7\n",
      "2024-07-30 10:38:38.643 [IPEngine.17] Starting to monitor the heartbeat signal from the hub every 3500 ms.\n",
      "2024-07-30 10:38:38.643 [IPEngine.17] Completed registration with id 17\n",
      "2024-07-30 10:38:38.643 [IPEngine.10] WARNING | debugpy_stream undefined, debugging will not be enabled\n",
      "2024-07-30 10:38:38.643 [IPEngine.2] WARNING | debugpy_stream undefined, debugging will not be enabled\n",
      "2024-07-30 10:38:38.644 [IPEngine.0] WARNING | debugpy_stream undefined, debugging will not be enabled\n",
      "2024-07-30 10:38:38.644 [IPEngine.13] WARNING | debugpy_stream undefined, debugging will not be enabled\n",
      "2024-07-30 10:38:38.645 [IPEngine.20] Running code in user namespace: \n",
      "from mpi4py import MPI\n",
      "mpi_rank = MPI.COMM_WORLD.Get_rank()\n",
      "mpi_size = MPI.COMM_WORLD.Get_size()\n",
      "\n",
      "2024-07-30 10:38:38.645 [IPEngine.9] WARNING | debugpy_stream undefined, debugging will not be enabled\n",
      "2024-07-30 10:38:38.645 [IPEngine.2] Starting to monitor the heartbeat signal from the hub every 3500 ms.\n",
      "2024-07-30 10:38:38.645 [IPEngine.22] WARNING | debugpy_stream undefined, debugging will not be enabled\n",
      "2024-07-30 10:38:38.645 [IPEngine.10] Starting to monitor the heartbeat signal from the hub every 3500 ms.\n",
      "2024-07-30 10:38:38.645 [IPEngine.2] Completed registration with id 2\n",
      "2024-07-30 10:38:38.645 [IPEngine.10] Completed registration with id 10\n",
      "2024-07-30 10:38:38.645 [IPEngine.0] Starting to monitor the heartbeat signal from the hub every 3500 ms.\n",
      "2024-07-30 10:38:38.645 [IPEngine.0] Completed registration with id 0\n",
      "2024-07-30 10:38:38.646 [IPEngine.1] Running code in user namespace: \n",
      "from mpi4py import MPI\n",
      "mpi_rank = MPI.COMM_WORLD.Get_rank()\n",
      "mpi_size = MPI.COMM_WORLD.Get_size()\n",
      "\n",
      "2024-07-30 10:38:38.646 [IPEngine.13] Starting to monitor the heartbeat signal from the hub every 3500 ms.\n",
      "2024-07-30 10:38:38.646 [IPEngine.13] Completed registration with id 13\n",
      "2024-07-30 10:38:38.646 [IPEngine.9] Starting to monitor the heartbeat signal from the hub every 3500 ms.\n",
      "2024-07-30 10:38:38.646 [IPEngine.9] Completed registration with id 9\n",
      "2024-07-30 10:38:38.646 [IPEngine.22] Starting to monitor the heartbeat signal from the hub every 3500 ms.\n",
      "2024-07-30 10:38:38.646 [IPEngine.22] Completed registration with id 22\n",
      "2024-07-30 10:38:38.650 [IPEngine.4] Running code in user namespace: \n",
      "from mpi4py import MPI\n",
      "mpi_rank = MPI.COMM_WORLD.Get_rank()\n",
      "mpi_size = MPI.COMM_WORLD.Get_size()\n",
      "\n",
      "2024-07-30 10:38:38.650 [IPEngine.20] WARNING | debugpy_stream undefined, debugging will not be enabled\n",
      "2024-07-30 10:38:38.651 [IPEngine.1] WARNING | debugpy_stream undefined, debugging will not be enabled\n",
      "2024-07-30 10:38:38.651 [IPEngine.20] Starting to monitor the heartbeat signal from the hub every 3500 ms.\n",
      "2024-07-30 10:38:38.652 [IPEngine.20] Completed registration with id 20\n",
      "2024-07-30 10:38:38.652 [IPEngine.1] Starting to monitor the heartbeat signal from the hub every 3500 ms.\n",
      "2024-07-30 10:38:38.652 [IPEngine.1] Completed registration with id 1\n",
      "2024-07-30 10:38:38.653 [IPEngine.4] WARNING | debugpy_stream undefined, debugging will not be enabled\n",
      "2024-07-30 10:38:38.654 [IPEngine.3] Running code in user namespace: \n",
      "from mpi4py import MPI\n",
      "mpi_rank = MPI.COMM_WORLD.Get_rank()\n",
      "mpi_size = MPI.COMM_WORLD.Get_size()\n",
      "\n",
      "2024-07-30 10:38:38.655 [IPEngine.4] Starting to monitor the heartbeat signal from the hub every 3500 ms.\n",
      "2024-07-30 10:38:38.655 [IPEngine.4] Completed registration with id 4\n",
      "2024-07-30 10:38:38.656 [IPEngine.5] Running code in user namespace: \n",
      "from mpi4py import MPI\n",
      "mpi_rank = MPI.COMM_WORLD.Get_rank()\n",
      "mpi_size = MPI.COMM_WORLD.Get_size()\n",
      "\n",
      "2024-07-30 10:38:38.656 [IPEngine.14] Running code in user namespace: \n",
      "from mpi4py import MPI\n",
      "mpi_rank = MPI.COMM_WORLD.Get_rank()\n",
      "mpi_size = MPI.COMM_WORLD.Get_size()\n",
      "\n",
      "2024-07-30 10:38:38.657 [IPEngine.3] WARNING | debugpy_stream undefined, debugging will not be enabled\n",
      "2024-07-30 10:38:38.659 [IPEngine.3] Starting to monitor the heartbeat signal from the hub every 3500 ms.\n",
      "2024-07-30 10:38:38.659 [IPEngine.3] Completed registration with id 3\n",
      "2024-07-30 10:38:38.659 [IPEngine.5] WARNING | debugpy_stream undefined, debugging will not be enabled\n",
      "2024-07-30 10:38:38.660 [IPEngine.14] WARNING | debugpy_stream undefined, debugging will not be enabled\n",
      "2024-07-30 10:38:38.661 [IPEngine.5] Starting to monitor the heartbeat signal from the hub every 3500 ms.\n",
      "2024-07-30 10:38:38.661 [IPEngine.5] Completed registration with id 5\n",
      "2024-07-30 10:38:38.661 [IPEngine.14] Starting to monitor the heartbeat signal from the hub every 3500 ms.\n",
      "2024-07-30 10:38:38.661 [IPEngine.14] Completed registration with id 14\n",
      "2024-07-30 10:39:13.838 [IPEngine.7] CRITICAL | received signal 15, stopping\n",
      "2024-07-30 10:39:13.838 [IPEngine.20] CRITICAL | received signal 15, stopping\n",
      "2024-07-30 10:39:13.838 [IPEngine.0] CRITICAL | received signal 15, stopping\n",
      "2024-07-30 10:39:13.838 [IPEngine.3] CRITICAL | received signal 15, stopping\n",
      "2024-07-30 10:39:13.838 [IPEngine.18] CRITICAL | received signal 15, stopping\n",
      "2024-07-30 10:39:13.838 [IPEngine.17] CRITICAL | received signal 15, stopping\n",
      "2024-07-30 10:39:13.838 [IPEngine.1] CRITICAL | received signal 15, stopping\n",
      "2024-07-30 10:39:13.838 [IPEngine.16] CRITICAL | received signal 15, stopping\n",
      "2024-07-30 10:39:13.838 [IPEngine.23] CRITICAL | received signal 15, stopping\n",
      "2024-07-30 10:39:13.838 [IPEngine.6] CRITICAL | received signal 15, stopping\n",
      "2024-07-30 10:39:13.838 [IPEngine.8] CRITICAL | received signal 15, stopping\n",
      "2024-07-30 10:39:13.838 [IPEngine.19] CRITICAL | received signal 15, stopping\n",
      "2024-07-30 10:39:13.838 [IPEngine.15] CRITICAL | received signal 15, stopping\n",
      "2024-07-30 10:39:13.838 [IPEngine.11] CRITICAL | received signal 15, stopping\n",
      "2024-07-30 10:39:13.838 [IPEngine.13] CRITICAL | received signal 15, stopping\n",
      "2024-07-30 10:39:13.838 [IPEngine.10] CRITICAL | received signal 15, stopping\n",
      "2024-07-30 10:39:13.838 [IPEngine.12] CRITICAL | received signal 15, stopping\n",
      "2024-07-30 10:39:13.838 [IPEngine.2] CRITICAL | received signal 15, stopping\n",
      "2024-07-30 10:39:13.838 [IPEngine.14] CRITICAL | received signal 15, stopping\n",
      "2024-07-30 10:39:13.838 [IPEngine.22] CRITICAL | received signal 15, stopping\n",
      "2024-07-30 10:39:13.838 [IPEngine.4] CRITICAL | received signal 15, stopping\n",
      "2024-07-30 10:39:13.838 [IPEngine.5] CRITICAL | received signal 15, stopping\n",
      "2024-07-30 10:39:13.838 [IPEngine.9] CRITICAL | received signal 15, stopping\n",
      "2024-07-30 10:39:13.838 [IPEngine.21] CRITICAL | received signal 15, stopping\n",
      "\n",
      "engine set stopped 1722350316: {'exit_code': 1, 'pid': 103210, 'identifier': 'ipengine-1722350315-d0x7-1722350316-100395'}\n",
      "Stopping controller\n",
      "Controller stopped: {'exit_code': 0, 'pid': 103159, 'identifier': 'ipcontroller-1722350315-d0x7-100395'}\n"
     ]
    },
    {
     "ename": "KeyboardInterrupt",
     "evalue": "",
     "output_type": "error",
     "traceback": [
      "\u001b[0;31m---------------------------------------------------------------------------\u001b[0m",
      "\u001b[0;31mKeyboardInterrupt\u001b[0m                         Traceback (most recent call last)",
      "Cell \u001b[0;32mIn[30], line 43\u001b[0m\n\u001b[1;32m     41\u001b[0m view \u001b[38;5;241m=\u001b[39m rc\u001b[38;5;241m.\u001b[39mbroadcast_view()\n\u001b[1;32m     42\u001b[0m \u001b[38;5;66;03m# run the mpi_example function on all engines in parallel\u001b[39;00m\n\u001b[0;32m---> 43\u001b[0m r \u001b[38;5;241m=\u001b[39m view\u001b[38;5;241m.\u001b[39mapply_sync(\u001b[43mtile_mpi\u001b[49m\u001b[43m(\u001b[49m\u001b[43mclipCoordsDict\u001b[49m\u001b[43m,\u001b[49m\u001b[43m \u001b[49m\u001b[43mkeys\u001b[49m\u001b[43m)\u001b[49m)\n\u001b[1;32m     44\u001b[0m \u001b[38;5;66;03m# Retrieve and print the result from the engines\u001b[39;00m\n\u001b[1;32m     45\u001b[0m \u001b[38;5;28mprint\u001b[39m(\u001b[38;5;124m\"\u001b[39m\u001b[38;5;130;01m\\n\u001b[39;00m\u001b[38;5;124m\"\u001b[39m\u001b[38;5;241m.\u001b[39mjoin(r))\n",
      "Cell \u001b[0;32mIn[30], line 33\u001b[0m, in \u001b[0;36mtile_mpi\u001b[0;34m(clipCoordsDict, keys)\u001b[0m\n\u001b[1;32m     29\u001b[0m     \u001b[38;5;66;03m#np.savez_compressed(\"/mnt/welch/USERS/jorlo/ml-clusters/ACT_tiles/indv_freq_stamps/{}\".format(str(i).zfill(4)), jpg)\u001b[39;00m\n\u001b[1;32m     30\u001b[0m     enmap\u001b[38;5;241m.\u001b[39mwrite_map(\u001b[38;5;124m\"\u001b[39m\u001b[38;5;124m/mnt/welch/USERS/jorlo/ml-clusters/websky_tiles/indv_freq_stamps/\u001b[39m\u001b[38;5;132;01m{}\u001b[39;00m\u001b[38;5;124m.fits\u001b[39m\u001b[38;5;124m\"\u001b[39m\u001b[38;5;241m.\u001b[39mformat(\u001b[38;5;28mstr\u001b[39m(i)\u001b[38;5;241m.\u001b[39mzfill(\u001b[38;5;241m4\u001b[39m)), stamp)\n\u001b[0;32m---> 33\u001b[0m     mask \u001b[38;5;241m=\u001b[39m \u001b[43mmake_mask\u001b[49m\u001b[43m(\u001b[49m\u001b[43mstamp\u001b[49m\u001b[43m,\u001b[49m\u001b[43m \u001b[49m\u001b[43mras\u001b[49m\u001b[43m,\u001b[49m\u001b[43m \u001b[49m\u001b[43mdecs\u001b[49m\u001b[43m,\u001b[49m\u001b[43m \u001b[49m\u001b[43mbox\u001b[49m\u001b[43m,\u001b[49m\u001b[43m \u001b[49m\u001b[43mcur_wcs\u001b[49m\u001b[43m,\u001b[49m\u001b[43m \u001b[49m\u001b[43msize\u001b[49m\u001b[43m \u001b[49m\u001b[38;5;241;43m=\u001b[39;49m\u001b[43m \u001b[49m\u001b[38;5;241;43m4.8\u001b[39;49m\u001b[43m)\u001b[49m\n\u001b[1;32m     34\u001b[0m     np\u001b[38;5;241m.\u001b[39msavez_compressed(\u001b[38;5;124m\"\u001b[39m\u001b[38;5;124m/mnt/welch/USERS/jorlo/ml-clusters/websky_tiles/big_masks/\u001b[39m\u001b[38;5;132;01m{}\u001b[39;00m\u001b[38;5;124m_mask\u001b[39m\u001b[38;5;124m\"\u001b[39m\u001b[38;5;241m.\u001b[39mformat(key), mask)\n\u001b[1;32m     36\u001b[0m \u001b[38;5;28;01mreturn\u001b[39;00m \u001b[38;5;241m0\u001b[39m\n",
      "File \u001b[0;32m~/dev/ml-clusters/stamping_utils.py:462\u001b[0m, in \u001b[0;36mmake_mask\u001b[0;34m(image, ras, decs, box, cur_wcs, size, jpg)\u001b[0m\n\u001b[1;32m    459\u001b[0m r \u001b[38;5;241m=\u001b[39m size\u001b[38;5;241m/\u001b[39m\u001b[38;5;241m2\u001b[39m\u001b[38;5;241m/\u001b[39mpix_size\n\u001b[1;32m    461\u001b[0m xx, yy \u001b[38;5;241m=\u001b[39m np\u001b[38;5;241m.\u001b[39mmeshgrid(np\u001b[38;5;241m.\u001b[39mlinspace(\u001b[38;5;241m0\u001b[39m, mask\u001b[38;5;241m.\u001b[39mshape[\u001b[38;5;241m1\u001b[39m]\u001b[38;5;241m-\u001b[39m\u001b[38;5;241m1\u001b[39m, mask\u001b[38;5;241m.\u001b[39mshape[\u001b[38;5;241m1\u001b[39m]), np\u001b[38;5;241m.\u001b[39mlinspace(\u001b[38;5;241m0\u001b[39m, mask\u001b[38;5;241m.\u001b[39mshape[\u001b[38;5;241m0\u001b[39m]\u001b[38;5;241m-\u001b[39m\u001b[38;5;241m1\u001b[39m, mask\u001b[38;5;241m.\u001b[39mshape[\u001b[38;5;241m0\u001b[39m]))    \n\u001b[0;32m--> 462\u001b[0m r_mask \u001b[38;5;241m=\u001b[39m (xx\u001b[38;5;241m-\u001b[39mx)\u001b[38;5;241m*\u001b[39m\u001b[38;5;241m*\u001b[39m\u001b[38;5;241m2\u001b[39m \u001b[38;5;241m+\u001b[39m (\u001b[43myy\u001b[49m\u001b[38;5;241;43m-\u001b[39;49m\u001b[43my\u001b[49m)\u001b[38;5;241m*\u001b[39m\u001b[38;5;241m*\u001b[39m\u001b[38;5;241m2\u001b[39m \u001b[38;5;241m<\u001b[39m r\u001b[38;5;241m*\u001b[39m\u001b[38;5;241m*\u001b[39m\u001b[38;5;241m2\u001b[39m\n\u001b[1;32m    464\u001b[0m mask \u001b[38;5;241m+\u001b[39m\u001b[38;5;241m=\u001b[39m r_mask\u001b[38;5;241m*\u001b[39m(i\u001b[38;5;241m+\u001b[39m\u001b[38;5;241m1\u001b[39m)\n\u001b[1;32m    466\u001b[0m doubled_mask \u001b[38;5;241m=\u001b[39m mask \u001b[38;5;241m>\u001b[39m i\u001b[38;5;241m+\u001b[39m\u001b[38;5;241m1\u001b[39m \u001b[38;5;66;03m#Un-double counts areas where clusters overlap\u001b[39;00m\n",
      "\u001b[0;31mKeyboardInterrupt\u001b[0m: "
     ]
    }
   ],
   "source": [
    "keys = list(clipCoordsDict.keys())\n",
    "\n",
    "def tile_mpi(clipCoordsDict, keys):\n",
    "    comm = MPI.COMM_WORLD\n",
    "    myrank = comm.Get_rank()\n",
    "    nproc = comm.Get_size()\n",
    "    freqs = [\"090\", \"150\", \"220\"]\n",
    "\n",
    "    for i in range(myrank, len(keys), nproc):\n",
    "        key = keys[i]\n",
    "        minX, maxX, minY, maxY=clipCoordsDict[key]['clippedSection']\n",
    "        ra_min, dec_max = wcs_mask.pix2wcs(maxX, maxY)\n",
    "        ra_max, dec_min = wcs_mask.pix2wcs(minX, minY)\n",
    "        #print(ra_max, ra_min)\n",
    "        in_image = np.where((ra_min < ras) & (ras < ra_max) & (dec_min < decs) & (decs < dec_max))[0]\n",
    "        if len(in_image) == 0:\n",
    "            print('no clusters')\n",
    "            continue\n",
    "    \n",
    "        if ra_max < ra_min:\n",
    "            ra_min -= 360\n",
    "        \n",
    "        box = np.array([[dec_min, ra_min],[dec_max, ra_max]]) * utils.degree\n",
    "        #Make jpg of box\n",
    "        #stamp, cur_wcs = make_stamp('/mnt/welch/USERS/jorlo/maps/20240323_simple/act_planck_*_f*_daynight_map_srcfree.fits', box, freqs, normalize = False)\n",
    "        stamp, cur_wcs, = make_stamp(\"/mnt/welch/USERS/jorlo/maps/websky/websky_f*_map.fits\", box, freqs, normalize = False)\n",
    "        if type(stamp) == int: continue\n",
    "    \n",
    "        #np.savez_compressed(\"/mnt/welch/USERS/jorlo/ml-clusters/ACT_tiles/indv_freq_stamps/{}\".format(str(i).zfill(4)), jpg)\n",
    "        enmap.write_map(\"/mnt/welch/USERS/jorlo/ml-clusters/websky_tiles/indv_freq_stamps/{}.fits\".format(str(i).zfill(4)), stamp)\n",
    "    \n",
    "\n",
    "        mask = make_mask(stamp, ras, decs, box, cur_wcs, size = 4.8)\n",
    "        np.savez_compressed(\"/mnt/welch/USERS/jorlo/ml-clusters/websky_tiles/big_masks/{}_mask\".format(key), mask)\n",
    "\n",
    "    return 0\n",
    "\n",
    "with ipp.Cluster(controller_ip=\"*\", engines=\"mpi\", n=24) as rc:\n",
    "    # get a broadcast_view on the cluster which is best\n",
    "    # suited for MPI style computation\n",
    "    view = rc.broadcast_view()\n",
    "    # run the mpi_example function on all engines in parallel\n",
    "    r = view.apply_sync(tile_mpi(clipCoordsDict, keys))\n",
    "    # Retrieve and print the result from the engines\n",
    "    print(\"\\n\".join(r))\n",
    "\n"
   ]
  },
  {
   "cell_type": "markdown",
   "metadata": {},
   "source": [
    "### Check mask is in right place"
   ]
  },
  {
   "cell_type": "code",
   "execution_count": 15,
   "metadata": {},
   "outputs": [],
   "source": [
    "mask_path = \"/mnt/welch/USERS/jorlo/ml-clusters/ACT_tiles/big_masks/\"\n",
    "for mask in os.listdir(mask_path):\n",
    "    with np.load(mask_path+mask) as data:\n",
    "                mask = data['arr_0']\n",
    "    mask = np.array(mask)\n",
    "    # instances are encoded as different colors\n",
    "    obj_ids = np.unique(mask)\n",
    "    # first id is the background, so remove it\n",
    "    obj_ids = obj_ids[1:]\n",
    "    # split the color-encoded mask into a set\n",
    "    # of binary masks\n",
    "    masks = mask == obj_ids[:, None, None]\n",
    "    # get bounding box coordinates for each mask\n",
    "    num_objs = len(obj_ids)\n",
    "    boxes = []\n",
    "    for i in range(num_objs):\n",
    "        pos = np.where(masks[i])\n",
    "        xmin = np.min(pos[1])\n",
    "        xmax = np.max(pos[1])\n",
    "        ymin = np.min(pos[0])\n",
    "        ymax = np.max(pos[0])\n",
    "        boxes.append([xmin, ymin, xmax, ymax])\n",
    "        if xmin > xmax or ymin > ymax:\n",
    "            print(mask)"
   ]
  },
  {
   "cell_type": "code",
   "execution_count": 19,
   "metadata": {},
   "outputs": [],
   "source": [
    "key = '1_0_1'\n",
    "\n",
    "minX, maxX, minY, maxY=clipCoordsDict[key]['clippedSection']\n",
    "ra_min, dec_max = wcs_mask.pix2wcs(maxX, maxY)\n",
    "ra_max, dec_min = wcs_mask.pix2wcs(minX, minY)\n",
    "#print(ra_max, ra_min)\n",
    "in_image = np.where((ra_min < ras) & (ras < ra_max) & (dec_min < decs) & (decs < dec_max))[0]\n",
    "if len(in_image) == 0:\n",
    "    print('no clusters')\n",
    "\n",
    "if ra_max < ra_min:\n",
    "    ra_min -= 360\n",
    "\n",
    "box = np.array([[dec_min, ra_min],[dec_max, ra_max]]) * utils.degree\n",
    "\n",
    "freqs = [\"090\", \"150\", \"220\"]\n",
    "#Make jpg of box\n",
    "jpg, cur_wcs = make_stamp('/mnt/welch/USERS/jorlo/maps/20240323_simple/act_planck_*_f*_daynight_map_srcfree.fits', box, freqs)\n",
    "\n",
    "#np.savez_compressed(\"/project/r/rbond/jorlo/datasets/ACT_tiles/freq_tiles/{}\".format(key), jpg)\n",
    "\n",
    "mask = make_mask(jpg, act_catalog, [[ra_min, ra_max], [dec_min, dec_max]], cur_wcs, size = 2.4)\n",
    "#print(mask.shape)\n",
    "#np.savez_compressed(\"/project/r/rbond/jorlo/datasets/ACT_tiles/masks/{}_mask\".format(key), mask)#"
   ]
  },
  {
   "cell_type": "code",
   "execution_count": 20,
   "metadata": {},
   "outputs": [
    {
     "data": {
      "text/plain": [
       "<matplotlib.colorbar.Colorbar at 0x7fb07c6207f0>"
      ]
     },
     "execution_count": 20,
     "metadata": {},
     "output_type": "execute_result"
    },
    {
     "data": {
      "image/png": "[encoded data removed]",
      "text/plain": [
       "<Figure size 640x480 with 2 Axes>"
      ]
     },
     "metadata": {},
     "output_type": "display_data"
    }
   ],
   "source": [
    "#plt.imshow(mask[835:845,380:390])\n",
    "plt.imshow(mask)\n",
    "plt.colorbar()\n"
   ]
  },
  {
   "cell_type": "code",
   "execution_count": 40,
   "metadata": {},
   "outputs": [
    {
     "data": {
      "text/plain": [
       "<matplotlib.image.AxesImage at 0x7f53f28cfe50>"
      ]
     },
     "execution_count": 40,
     "metadata": {},
     "output_type": "execute_result"
    },
    {
     "data": {
      "image/png": "[encoded data removed]",
      "text/plain": [
       "<Figure size 432x288 with 1 Axes>"
      ]
     },
     "metadata": {
      "needs_background": "light"
     },
     "output_type": "display_data"
    }
   ],
   "source": [
    "plt.imshow(jpg[835:845,380:390, 1])\n"
   ]
  },
  {
   "cell_type": "markdown",
   "metadata": {},
   "source": [
    "# Individual (non-centered) cluster images"
   ]
  },
  {
   "cell_type": "code",
   "execution_count": 10,
   "metadata": {
    "collapsed": true,
    "jupyter": {
     "outputs_hidden": true
    }
   },
   "outputs": [
    {
     "name": "stdout",
     "output_type": "stream",
     "text": [
      "Starting 24 engines with <class 'ipyparallel.cluster.launcher.MPIEngineSetLauncher'>\n"
     ]
    },
    {
     "data": {
      "application/vnd.jupyter.widget-view+json": {
       "model_id": "ab34fd6904c8489599c386267cc10fba",
       "version_major": 2,
       "version_minor": 0
      },
      "text/plain": [
       "  0%|          | 0/24 [00:00<?, ?engine/s]"
      ]
     },
     "metadata": {},
     "output_type": "display_data"
    },
    {
     "name": "stdout",
     "output_type": "stream",
     "text": [
      "car:{cdelt:[0.008333,0.008333],crval:[0,0],crpix:[53.00,4690.50]}\n",
      "54.0 54.0\n",
      "car:{cdelt:[0.008333,0.008333],crval:[0,0],crpix:[43.00,4806.50]}\n",
      "51.0 53.0\n",
      "car:{cdelt:[0.008333,0.008333],crval:[0,0],crpix:[49.00,5331.50]}\n",
      "56.0 56.0\n",
      "car:{cdelt:[0.008333,0.008333],crval:[0,0],crpix:[49.00,-1156.50]}\n",
      "60.0 56.0\n",
      "car:{cdelt:[0.008333,0.008333],crval:[0,0],crpix:[46.00,2695.50]}\n",
      "56.0 51.0\n",
      "car:{cdelt:[0.008333,0.008333],crval:[0,0],crpix:[47.00,-1759.50]}\n",
      "59.0 51.0\n",
      "car:{cdelt:[0.008333,0.008333],crval:[0,0],crpix:[44.00,179.50]}\n",
      "56.0 53.0\n",
      "car:{cdelt:[0.008333,0.008333],crval:[0,0],crpix:[42.00,3424.50]}\n",
      "53.0 52.0\n",
      "car:{cdelt:[0.008333,0.008333],crval:[0,0],crpix:[30.00,-230.50]}\n",
      "51.0 59.0\n",
      "car:{cdelt:[0.008333,0.008333],crval:[0,0],crpix:[33.00,696.50]}\n",
      "55.0 51.0\n",
      "car:{cdelt:[0.008333,0.008333],crval:[0,0],crpix:[37.00,5592.50]}\n",
      "58.0 57.0\n",
      "car:{cdelt:[0.008333,0.008333],crval:[0,0],crpix:[24.00,917.50]}\n",
      "51.0 51.0\n",
      "car:{cdelt:[0.008333,0.008333],crval:[0,0],crpix:[23.00,6996.50]}\n",
      "52.0 58.0\n",
      "car:{cdelt:[0.008333,0.008333],crval:[0,0],crpix:[19.00,5897.50]}\n",
      "54.0 50.0\n",
      "car:{cdelt:[0.008333,0.008333],crval:[0,0],crpix:[18.00,4570.50]}\n",
      "55.0 54.0\n",
      "car:{cdelt:[0.008333,0.008333],crval:[0,0],crpix:[18.00,5779.50]}\n",
      "54.0 60.0\n",
      "car:{cdelt:[0.008333,0.008333],crval:[0,0],crpix:[8.00,56.50]}\n",
      "51.0 51.0\n",
      "118.0 110.0\n",
      "car:{cdelt:[0.008333,0.008333],crval:[0,0],crpix:[14.00,4906.50]}\n",
      "56.0 56.0\n",
      "car:{cdelt:[0.008333,0.008333],crval:[0,0],crpix:[12.00,1015.50]}\n",
      "60.0 60.0\n",
      "car:{cdelt:[0.008333,0.008333],crval:[0,0],crpix:[7.00,6614.50]}\n",
      "56.0 53.0\n",
      "car:{cdelt:[0.008333,0.008333],crval:[0,0],crpix:[2.00,5207.50]}\n",
      "53.0 57.0\n",
      "car:{cdelt:[0.008333,0.008333],crval:[0,0],crpix:[-6.00,-92.50]}\n",
      "53.0 52.0\n",
      "63.0 89.0\n",
      "car:{cdelt:[0.008333,0.008333],crval:[0,0],crpix:[-4.00,-1396.50]}\n",
      "53.0 50.0\n",
      "car:{cdelt:[0.008333,0.008333],crval:[0,0],crpix:[-4.00,6804.50]}\n",
      "52.0 54.0\n",
      "56.0 88.0\n",
      "car:{cdelt:[0.008333,0.008333],crval:[0,0],crpix:[0.00,6774.50]}\n",
      "56.0 24.0\n",
      "60.0 58.0\n",
      "car:{cdelt:[0.008333,0.008333],crval:[0,0],crpix:[-12.00,2400.50]}\n",
      "52.0 53.0\n",
      "car:{cdelt:[0.008333,0.008333],crval:[0,0],crpix:[-10.00,-811.50]}\n",
      "55.0 52.0\n",
      "car:{cdelt:[0.008333,0.008333],crval:[0,0],crpix:[-11.00,419.50]}\n",
      "54.0 56.0\n",
      "car:{cdelt:[0.008333,0.008333],crval:[0,0],crpix:[-15.00,-122.50]}\n",
      "44.0 22.0\n",
      "54.0 59.0\n",
      "car:{cdelt:[0.008333,0.008333],crval:[0,0],crpix:[-18.00,537.50]}\n",
      "50.0 57.0\n",
      "car:{cdelt:[0.008333,0.008333],crval:[0,0],crpix:[-16.00,6321.50]}\n",
      "55.0 53.0\n",
      "car:{cdelt:[0.008333,0.008333],crval:[0,0],crpix:[-21.00,-2221.50]}\n",
      "51.0 51.0\n",
      "Stopping engine(s): 1722263899\n",
      "Output for ipengine-1722263898-724s-1722263899-65805:\n",
      "\n",
      "2024-07-29 10:38:21.238 [IPEngine.1] WARNING | debugpy_stream undefined, debugging will not be enabled\n",
      "2024-07-29 10:38:21.238 [IPEngine.15] Starting to monitor the heartbeat signal from the hub every 3500 ms.\n",
      "2024-07-29 10:38:21.239 [IPEngine.5] Running code in user namespace: \n",
      "from mpi4py import MPI\n",
      "mpi_rank = MPI.COMM_WORLD.Get_rank()\n",
      "mpi_size = MPI.COMM_WORLD.Get_size()\n",
      "\n",
      "2024-07-29 10:38:21.239 [IPEngine.15] Completed registration with id 15\n",
      "2024-07-29 10:38:21.239 [IPEngine.2] Running code in user namespace: \n",
      "from mpi4py import MPI\n",
      "mpi_rank = MPI.COMM_WORLD.Get_rank()\n",
      "mpi_size = MPI.COMM_WORLD.Get_size()\n",
      "\n",
      "2024-07-29 10:38:21.239 [IPEngine.7] Starting to monitor the heartbeat signal from the hub every 3500 ms.\n",
      "2024-07-29 10:38:21.239 [IPEngine.7] Completed registration with id 7\n",
      "2024-07-29 10:38:21.239 [IPEngine.22] Running code in user namespace: \n",
      "from mpi4py import MPI\n",
      "mpi_rank = MPI.COMM_WORLD.Get_rank()\n",
      "mpi_size = MPI.COMM_WORLD.Get_size()\n",
      "\n",
      "2024-07-29 10:38:21.239 [IPEngine.12] WARNING | debugpy_stream undefined, debugging will not be enabled\n",
      "2024-07-29 10:38:21.239 [IPEngine.19] WARNING | debugpy_stream undefined, debugging will not be enabled\n",
      "2024-07-29 10:38:21.240 [IPEngine.10] Running code in user namespace: \n",
      "from mpi4py import MPI\n",
      "mpi_rank = MPI.COMM_WORLD.Get_rank()\n",
      "mpi_size = MPI.COMM_WORLD.Get_size()\n",
      "\n",
      "2024-07-29 10:38:21.240 [IPEngine.1] Starting to monitor the heartbeat signal from the hub every 3500 ms.\n",
      "2024-07-29 10:38:21.240 [IPEngine.1] Completed registration with id 1\n",
      "2024-07-29 10:38:21.240 [IPEngine.20] WARNING | debugpy_stream undefined, debugging will not be enabled\n",
      "2024-07-29 10:38:21.241 [IPEngine.19] Starting to monitor the heartbeat signal from the hub every 3500 ms.\n",
      "2024-07-29 10:38:21.241 [IPEngine.19] Completed registration with id 19\n",
      "2024-07-29 10:38:21.241 [IPEngine.12] Starting to monitor the heartbeat signal from the hub every 3500 ms.\n",
      "2024-07-29 10:38:21.241 [IPEngine.12] Completed registration with id 12\n",
      "2024-07-29 10:38:21.241 [IPEngine.20] Starting to monitor the heartbeat signal from the hub every 3500 ms.\n",
      "2024-07-29 10:38:21.242 [IPEngine.20] Completed registration with id 20\n",
      "2024-07-29 10:38:21.242 [IPEngine.18] WARNING | debugpy_stream undefined, debugging will not be enabled\n",
      "2024-07-29 10:38:21.242 [IPEngine.5] WARNING | debugpy_stream undefined, debugging will not be enabled\n",
      "2024-07-29 10:38:21.242 [IPEngine.2] WARNING | debugpy_stream undefined, debugging will not be enabled\n",
      "2024-07-29 10:38:21.243 [IPEngine.22] WARNING | debugpy_stream undefined, debugging will not be enabled\n",
      "2024-07-29 10:38:21.243 [IPEngine.4] Running code in user namespace: \n",
      "from mpi4py import MPI\n",
      "mpi_rank = MPI.COMM_WORLD.Get_rank()\n",
      "mpi_size = MPI.COMM_WORLD.Get_size()\n",
      "\n",
      "2024-07-29 10:38:21.243 [IPEngine.18] Starting to monitor the heartbeat signal from the hub every 3500 ms.\n",
      "2024-07-29 10:38:21.243 [IPEngine.10] WARNING | debugpy_stream undefined, debugging will not be enabled\n",
      "2024-07-29 10:38:21.244 [IPEngine.18] Completed registration with id 18\n",
      "2024-07-29 10:38:21.244 [IPEngine.5] Starting to monitor the heartbeat signal from the hub every 3500 ms.\n",
      "2024-07-29 10:38:21.244 [IPEngine.2] Starting to monitor the heartbeat signal from the hub every 3500 ms.\n",
      "2024-07-29 10:38:21.244 [IPEngine.5] Completed registration with id 5\n",
      "2024-07-29 10:38:21.244 [IPEngine.2] Completed registration with id 2\n",
      "2024-07-29 10:38:21.244 [IPEngine.14] Running code in user namespace: \n",
      "from mpi4py import MPI\n",
      "mpi_rank = MPI.COMM_WORLD.Get_rank()\n",
      "mpi_size = MPI.COMM_WORLD.Get_size()\n",
      "\n",
      "2024-07-29 10:38:21.244 [IPEngine.22] Starting to monitor the heartbeat signal from the hub every 3500 ms.\n",
      "2024-07-29 10:38:21.244 [IPEngine.22] Completed registration with id 22\n",
      "2024-07-29 10:38:21.245 [IPEngine.10] Starting to monitor the heartbeat signal from the hub every 3500 ms.\n",
      "2024-07-29 10:38:21.245 [IPEngine.10] Completed registration with id 10\n",
      "2024-07-29 10:38:21.246 [IPEngine.4] WARNING | debugpy_stream undefined, debugging will not be enabled\n",
      "2024-07-29 10:38:21.248 [IPEngine.4] Starting to monitor the heartbeat signal from the hub every 3500 ms.\n",
      "2024-07-29 10:38:21.248 [IPEngine.14] WARNING | debugpy_stream undefined, debugging will not be enabled\n",
      "2024-07-29 10:38:21.248 [IPEngine.4] Completed registration with id 4\n",
      "2024-07-29 10:38:21.249 [IPEngine.14] Starting to monitor the heartbeat signal from the hub every 3500 ms.\n",
      "2024-07-29 10:38:21.250 [IPEngine.14] Completed registration with id 14\n",
      "2024-07-29 10:38:21.253 [IPEngine.9] Running code in user namespace: \n",
      "from mpi4py import MPI\n",
      "mpi_rank = MPI.COMM_WORLD.Get_rank()\n",
      "mpi_size = MPI.COMM_WORLD.Get_size()\n",
      "\n",
      "2024-07-29 10:38:21.257 [IPEngine.9] WARNING | debugpy_stream undefined, debugging will not be enabled\n",
      "2024-07-29 10:38:21.259 [IPEngine.9] Starting to monitor the heartbeat signal from the hub every 3500 ms.\n",
      "2024-07-29 10:38:21.259 [IPEngine.9] Completed registration with id 9\n",
      "2024-07-29 10:38:32.891 [IPEngine.13] CRITICAL | received signal 15, stopping\n",
      "2024-07-29 10:38:32.891 [IPEngine.16] CRITICAL | received signal 15, stopping\n",
      "2024-07-29 10:38:32.891 [IPEngine.2] CRITICAL | received signal 15, stopping\n",
      "2024-07-29 10:38:32.891 [IPEngine.11] CRITICAL | received signal 15, stopping\n",
      "2024-07-29 10:38:32.891 [IPEngine.15] CRITICAL | received signal 15, stopping\n",
      "2024-07-29 10:38:32.891 [IPEngine.6] CRITICAL | received signal 15, stopping\n",
      "2024-07-29 10:38:32.891 [IPEngine.4] CRITICAL | received signal 15, stopping\n",
      "2024-07-29 10:38:32.891 [IPEngine.23] CRITICAL | received signal 15, stopping\n",
      "2024-07-29 10:38:32.891 [IPEngine.18] CRITICAL | received signal 15, stopping\n",
      "2024-07-29 10:38:32.891 [IPEngine.9] CRITICAL | received signal 15, stopping\n",
      "2024-07-29 10:38:32.891 [IPEngine.3] CRITICAL | received signal 15, stopping\n",
      "2024-07-29 10:38:32.891 [IPEngine.7] CRITICAL | received signal 15, stopping\n",
      "2024-07-29 10:38:32.891 [IPEngine.22] CRITICAL | received signal 15, stopping\n",
      "2024-07-29 10:38:32.891 [IPEngine.8] CRITICAL | received signal 15, stopping\n",
      "2024-07-29 10:38:32.891 [IPEngine.21] CRITICAL | received signal 15, stopping\n",
      "2024-07-29 10:38:32.891 [IPEngine.17] CRITICAL | received signal 15, stopping\n",
      "2024-07-29 10:38:32.891 [IPEngine.1] CRITICAL | received signal 15, stopping\n",
      "2024-07-29 10:38:32.891 [IPEngine.5] CRITICAL | received signal 15, stopping\n",
      "2024-07-29 10:38:32.891 [IPEngine.12] CRITICAL | received signal 15, stopping\n",
      "2024-07-29 10:38:32.891 [IPEngine.19] CRITICAL | received signal 15, stopping\n",
      "2024-07-29 10:38:32.891 [IPEngine.10] CRITICAL | received signal 15, stopping\n",
      "2024-07-29 10:38:32.891 [IPEngine.14] CRITICAL | received signal 15, stopping\n",
      "2024-07-29 10:38:32.891 [IPEngine.20] CRITICAL | received signal 15, stopping\n",
      "2024-07-29 10:38:32.891 [IPEngine.0] CRITICAL | received signal 15, stopping\n",
      "\n",
      "engine set stopped 1722263899: {'exit_code': 1, 'pid': 66670, 'identifier': 'ipengine-1722263898-724s-1722263899-65805'}\n",
      "Stopping controller\n",
      "Controller stopped: {'exit_code': 0, 'pid': 66632, 'identifier': 'ipcontroller-1722263898-724s-65805'}\n"
     ]
    },
    {
     "ename": "KeyboardInterrupt",
     "evalue": "",
     "output_type": "error",
     "traceback": [
      "\u001b[0;31m---------------------------------------------------------------------------\u001b[0m",
      "\u001b[0;31mKeyboardInterrupt\u001b[0m                         Traceback (most recent call last)",
      "Cell \u001b[0;32mIn[10], line 39\u001b[0m\n\u001b[1;32m     37\u001b[0m \u001b[38;5;28;01mwith\u001b[39;00m ipp\u001b[38;5;241m.\u001b[39mCluster(controller_ip\u001b[38;5;241m=\u001b[39m\u001b[38;5;124m\"\u001b[39m\u001b[38;5;124m*\u001b[39m\u001b[38;5;124m\"\u001b[39m, engines\u001b[38;5;241m=\u001b[39m\u001b[38;5;124m\"\u001b[39m\u001b[38;5;124mmpi\u001b[39m\u001b[38;5;124m\"\u001b[39m, n\u001b[38;5;241m=\u001b[39m\u001b[38;5;241m24\u001b[39m) \u001b[38;5;28;01mas\u001b[39;00m rc:\n\u001b[1;32m     38\u001b[0m     view \u001b[38;5;241m=\u001b[39m rc\u001b[38;5;241m.\u001b[39mbroadcast_view()\n\u001b[0;32m---> 39\u001b[0m     r \u001b[38;5;241m=\u001b[39m view\u001b[38;5;241m.\u001b[39mapply_sync(\u001b[43mfreq_stamper\u001b[49m\u001b[43m(\u001b[49m\u001b[43mras\u001b[49m\u001b[43m,\u001b[49m\u001b[43m \u001b[49m\u001b[43mdecs\u001b[49m\u001b[43m)\u001b[49m)\n\u001b[1;32m     40\u001b[0m     \u001b[38;5;28mprint\u001b[39m(\u001b[38;5;124m\"\u001b[39m\u001b[38;5;130;01m\\n\u001b[39;00m\u001b[38;5;124m\"\u001b[39m\u001b[38;5;241m.\u001b[39mjoin(r))\n",
      "Cell \u001b[0;32mIn[10], line 25\u001b[0m, in \u001b[0;36mfreq_stamper\u001b[0;34m(ras, decs)\u001b[0m\n\u001b[1;32m     21\u001b[0m box \u001b[38;5;241m=\u001b[39m np\u001b[38;5;241m.\u001b[39marray([[dec_min\u001b[38;5;241m.\u001b[39mvalue, ra_min\u001b[38;5;241m.\u001b[39mvalue],[dec_max\u001b[38;5;241m.\u001b[39mvalue, ra_max\u001b[38;5;241m.\u001b[39mvalue]]) \u001b[38;5;241m*\u001b[39m utils\u001b[38;5;241m.\u001b[39mdegree\n\u001b[1;32m     23\u001b[0m \u001b[38;5;66;03m#Make jpg of box\u001b[39;00m\n\u001b[1;32m     24\u001b[0m \u001b[38;5;66;03m#jpg, cur_wcs = make_jpg('/home/r/rbond/sigurdkn/project/actpol/map_coadd/20211219/release/', box)\u001b[39;00m\n\u001b[0;32m---> 25\u001b[0m stamp, cur_wcs \u001b[38;5;241m=\u001b[39m \u001b[43mmake_stamp\u001b[49m\u001b[43m(\u001b[49m\u001b[38;5;124;43m'\u001b[39;49m\u001b[38;5;124;43m/mnt/welch/USERS/jorlo/maps/20240323_simple/act_planck_*_f*_daynight_map_srcfree.fits\u001b[39;49m\u001b[38;5;124;43m'\u001b[39;49m\u001b[43m,\u001b[49m\u001b[43m \u001b[49m\u001b[43mbox\u001b[49m\u001b[43m,\u001b[49m\u001b[43m \u001b[49m\u001b[43mfreqs\u001b[49m\u001b[43m,\u001b[49m\u001b[43m \u001b[49m\u001b[43mnormalize\u001b[49m\u001b[43m \u001b[49m\u001b[38;5;241;43m=\u001b[39;49m\u001b[43m \u001b[49m\u001b[38;5;28;43;01mFalse\u001b[39;49;00m\u001b[43m)\u001b[49m\n\u001b[1;32m     26\u001b[0m \u001b[38;5;28mprint\u001b[39m(cur_wcs)\n\u001b[1;32m     27\u001b[0m \u001b[38;5;28;01mif\u001b[39;00m \u001b[38;5;28mtype\u001b[39m(stamp) \u001b[38;5;241m==\u001b[39m \u001b[38;5;28mint\u001b[39m: \u001b[38;5;28;01mcontinue\u001b[39;00m\n",
      "File \u001b[0;32m~/dev/ml-clusters/stamping_utils.py:268\u001b[0m, in \u001b[0;36mmake_stamp\u001b[0;34m(path, box, freqs, normalize)\u001b[0m\n\u001b[1;32m    265\u001b[0m \u001b[38;5;28;01mif\u001b[39;00m \u001b[38;5;28mlen\u001b[39m(path) \u001b[38;5;241m>\u001b[39m \u001b[38;5;241m1\u001b[39m:\n\u001b[1;32m    266\u001b[0m     \u001b[38;5;28;01mraise\u001b[39;00m PathError(\u001b[38;5;124m\"\u001b[39m\u001b[38;5;124mErr: multiple paths match freq \u001b[39m\u001b[38;5;132;01m{}\u001b[39;00m\u001b[38;5;124m\"\u001b[39m\u001b[38;5;241m.\u001b[39mformat(freq))\n\u001b[0;32m--> 268\u001b[0m cur_map \u001b[38;5;241m=\u001b[39m \u001b[43menmap\u001b[49m\u001b[38;5;241;43m.\u001b[39;49m\u001b[43mread_map\u001b[49m\u001b[43m(\u001b[49m\u001b[43mpath\u001b[49m\u001b[43m[\u001b[49m\u001b[38;5;241;43m0\u001b[39;49m\u001b[43m]\u001b[49m\u001b[43m,\u001b[49m\u001b[43m \u001b[49m\u001b[43mbox\u001b[49m\u001b[43m \u001b[49m\u001b[38;5;241;43m=\u001b[39;49m\u001b[43m \u001b[49m\u001b[43mbox\u001b[49m\u001b[43m)\u001b[49m\n\u001b[1;32m    269\u001b[0m wcs \u001b[38;5;241m=\u001b[39m cur_map\u001b[38;5;241m.\u001b[39mwcs\n\u001b[1;32m    270\u001b[0m cur_map \u001b[38;5;241m=\u001b[39m cur_map[\u001b[38;5;241m0\u001b[39m] \u001b[38;5;66;03m#select temperature channel\u001b[39;00m\n",
      "File \u001b[0;32m~/venvs/general/lib64/python3.9/site-packages/pixell/enmap.py:2376\u001b[0m, in \u001b[0;36mread_map\u001b[0;34m(fname, fmt, sel, box, pixbox, geometry, wrap, mode, sel_threshold, wcs, hdu, delayed, verbose, address)\u001b[0m\n\u001b[1;32m   2374\u001b[0m \t\u001b[38;5;28;01melse\u001b[39;00m: fmt \u001b[38;5;241m=\u001b[39m \u001b[38;5;124m\"\u001b[39m\u001b[38;5;124mfits\u001b[39m\u001b[38;5;124m\"\u001b[39m\n\u001b[1;32m   2375\u001b[0m \u001b[38;5;28;01mif\u001b[39;00m fmt \u001b[38;5;241m==\u001b[39m \u001b[38;5;124m\"\u001b[39m\u001b[38;5;124mfits\u001b[39m\u001b[38;5;124m\"\u001b[39m:\n\u001b[0;32m-> 2376\u001b[0m \tres \u001b[38;5;241m=\u001b[39m \u001b[43mread_fits\u001b[49m\u001b[43m(\u001b[49m\u001b[43mfname\u001b[49m\u001b[43m,\u001b[49m\u001b[43m \u001b[49m\u001b[43msel\u001b[49m\u001b[38;5;241;43m=\u001b[39;49m\u001b[43msel\u001b[49m\u001b[43m,\u001b[49m\u001b[43m \u001b[49m\u001b[43mbox\u001b[49m\u001b[38;5;241;43m=\u001b[39;49m\u001b[43mbox\u001b[49m\u001b[43m,\u001b[49m\u001b[43m \u001b[49m\u001b[43mpixbox\u001b[49m\u001b[38;5;241;43m=\u001b[39;49m\u001b[43mpixbox\u001b[49m\u001b[43m,\u001b[49m\u001b[43m \u001b[49m\u001b[43mgeometry\u001b[49m\u001b[38;5;241;43m=\u001b[39;49m\u001b[43mgeometry\u001b[49m\u001b[43m,\u001b[49m\u001b[43m \u001b[49m\u001b[43mwrap\u001b[49m\u001b[38;5;241;43m=\u001b[39;49m\u001b[43mwrap\u001b[49m\u001b[43m,\u001b[49m\u001b[43m \u001b[49m\u001b[43mmode\u001b[49m\u001b[38;5;241;43m=\u001b[39;49m\u001b[43mmode\u001b[49m\u001b[43m,\u001b[49m\u001b[43m \u001b[49m\u001b[43msel_threshold\u001b[49m\u001b[38;5;241;43m=\u001b[39;49m\u001b[43msel_threshold\u001b[49m\u001b[43m,\u001b[49m\u001b[43m \u001b[49m\u001b[43mwcs\u001b[49m\u001b[38;5;241;43m=\u001b[39;49m\u001b[43mwcs\u001b[49m\u001b[43m,\u001b[49m\u001b[43m \u001b[49m\u001b[43mhdu\u001b[49m\u001b[38;5;241;43m=\u001b[39;49m\u001b[43mhdu\u001b[49m\u001b[43m,\u001b[49m\u001b[43m \u001b[49m\u001b[43mdelayed\u001b[49m\u001b[38;5;241;43m=\u001b[39;49m\u001b[43mdelayed\u001b[49m\u001b[43m,\u001b[49m\u001b[43m \u001b[49m\u001b[43mverbose\u001b[49m\u001b[38;5;241;43m=\u001b[39;49m\u001b[43mverbose\u001b[49m\u001b[43m)\u001b[49m\n\u001b[1;32m   2377\u001b[0m \u001b[38;5;28;01melif\u001b[39;00m fmt \u001b[38;5;241m==\u001b[39m \u001b[38;5;124m\"\u001b[39m\u001b[38;5;124mhdf\u001b[39m\u001b[38;5;124m\"\u001b[39m:\n\u001b[1;32m   2378\u001b[0m \tres \u001b[38;5;241m=\u001b[39m read_hdf(fname, sel\u001b[38;5;241m=\u001b[39msel, box\u001b[38;5;241m=\u001b[39mbox, pixbox\u001b[38;5;241m=\u001b[39mpixbox, geometry\u001b[38;5;241m=\u001b[39mgeometry, wrap\u001b[38;5;241m=\u001b[39mwrap, mode\u001b[38;5;241m=\u001b[39mmode, sel_threshold\u001b[38;5;241m=\u001b[39msel_threshold, wcs\u001b[38;5;241m=\u001b[39mwcs, delayed\u001b[38;5;241m=\u001b[39mdelayed, hdu\u001b[38;5;241m=\u001b[39mhdu, address\u001b[38;5;241m=\u001b[39maddress)\n",
      "File \u001b[0;32m~/venvs/general/lib64/python3.9/site-packages/pixell/enmap.py:2491\u001b[0m, in \u001b[0;36mread_fits\u001b[0;34m(fname, hdu, sel, box, pixbox, geometry, wrap, mode, sel_threshold, wcs, delayed, verbose)\u001b[0m\n\u001b[1;32m   2489\u001b[0m \t\twcs \u001b[38;5;241m=\u001b[39m wcsutils\u001b[38;5;241m.\u001b[39mWCS(hdu\u001b[38;5;241m.\u001b[39mheader)\u001b[38;5;241m.\u001b[39msub(\u001b[38;5;241m2\u001b[39m)\n\u001b[1;32m   2490\u001b[0m proxy \u001b[38;5;241m=\u001b[39m ndmap_proxy_fits(hdu, wcs, fname\u001b[38;5;241m=\u001b[39mfname, threshold\u001b[38;5;241m=\u001b[39msel_threshold, verbose\u001b[38;5;241m=\u001b[39mverbose)\n\u001b[0;32m-> 2491\u001b[0m \u001b[38;5;28;01mreturn\u001b[39;00m \u001b[43mread_helper\u001b[49m\u001b[43m(\u001b[49m\u001b[43mproxy\u001b[49m\u001b[43m,\u001b[49m\u001b[43m \u001b[49m\u001b[43msel\u001b[49m\u001b[38;5;241;43m=\u001b[39;49m\u001b[43msel\u001b[49m\u001b[43m,\u001b[49m\u001b[43m \u001b[49m\u001b[43mbox\u001b[49m\u001b[38;5;241;43m=\u001b[39;49m\u001b[43mbox\u001b[49m\u001b[43m,\u001b[49m\u001b[43m \u001b[49m\u001b[43mpixbox\u001b[49m\u001b[38;5;241;43m=\u001b[39;49m\u001b[43mpixbox\u001b[49m\u001b[43m,\u001b[49m\u001b[43m \u001b[49m\u001b[43mgeometry\u001b[49m\u001b[38;5;241;43m=\u001b[39;49m\u001b[43mgeometry\u001b[49m\u001b[43m,\u001b[49m\u001b[43m \u001b[49m\u001b[43mwrap\u001b[49m\u001b[38;5;241;43m=\u001b[39;49m\u001b[43mwrap\u001b[49m\u001b[43m,\u001b[49m\u001b[43m \u001b[49m\u001b[43mmode\u001b[49m\u001b[38;5;241;43m=\u001b[39;49m\u001b[43mmode\u001b[49m\u001b[43m,\u001b[49m\u001b[43m \u001b[49m\u001b[43mdelayed\u001b[49m\u001b[38;5;241;43m=\u001b[39;49m\u001b[43mdelayed\u001b[49m\u001b[43m)\u001b[49m\n",
      "File \u001b[0;32m~/venvs/general/lib64/python3.9/site-packages/pixell/enmap.py:2637\u001b[0m, in \u001b[0;36mread_helper\u001b[0;34m(data, sel, box, pixbox, geometry, wrap, mode, delayed)\u001b[0m\n\u001b[1;32m   2635\u001b[0m \u001b[38;5;28;01mif\u001b[39;00m delayed: \u001b[38;5;28;01mreturn\u001b[39;00m data \u001b[38;5;66;03m# Slicing not supported yet when we want to return a proxy object\u001b[39;00m\n\u001b[1;32m   2636\u001b[0m \u001b[38;5;28;01mif\u001b[39;00m geometry \u001b[38;5;129;01mis\u001b[39;00m \u001b[38;5;129;01mnot\u001b[39;00m \u001b[38;5;28;01mNone\u001b[39;00m: data \u001b[38;5;241m=\u001b[39m extract(data, \u001b[38;5;241m*\u001b[39mgeometry, wrap\u001b[38;5;241m=\u001b[39mwrap)\n\u001b[0;32m-> 2637\u001b[0m \u001b[38;5;28;01mif\u001b[39;00m box      \u001b[38;5;129;01mis\u001b[39;00m \u001b[38;5;129;01mnot\u001b[39;00m \u001b[38;5;28;01mNone\u001b[39;00m: data \u001b[38;5;241m=\u001b[39m \u001b[43msubmap\u001b[49m\u001b[43m(\u001b[49m\u001b[43mdata\u001b[49m\u001b[43m,\u001b[49m\u001b[43m \u001b[49m\u001b[43mbox\u001b[49m\u001b[43m,\u001b[49m\u001b[43m \u001b[49m\u001b[43mwrap\u001b[49m\u001b[38;5;241;43m=\u001b[39;49m\u001b[43mwrap\u001b[49m\u001b[43m)\u001b[49m\n\u001b[1;32m   2638\u001b[0m \u001b[38;5;28;01mif\u001b[39;00m pixbox   \u001b[38;5;129;01mis\u001b[39;00m \u001b[38;5;129;01mnot\u001b[39;00m \u001b[38;5;28;01mNone\u001b[39;00m: data \u001b[38;5;241m=\u001b[39m extract_pixbox(data, pixbox, wrap\u001b[38;5;241m=\u001b[39mwrap)\n\u001b[1;32m   2639\u001b[0m \u001b[38;5;28;01mif\u001b[39;00m sel      \u001b[38;5;129;01mis\u001b[39;00m \u001b[38;5;129;01mnot\u001b[39;00m \u001b[38;5;28;01mNone\u001b[39;00m: data \u001b[38;5;241m=\u001b[39m data[sel]\n",
      "File \u001b[0;32m~/venvs/general/lib64/python3.9/site-packages/pixell/enmap.py:186\u001b[0m, in \u001b[0;36msubmap\u001b[0;34m(map, box, mode, wrap, iwcs)\u001b[0m\n\u001b[1;32m    184\u001b[0m xflip, xslice \u001b[38;5;241m=\u001b[39m helper(ibox[:,\u001b[38;5;241m1\u001b[39m])\n\u001b[1;32m    185\u001b[0m oshape, owcs \u001b[38;5;241m=\u001b[39m slice_geometry(\u001b[38;5;28mmap\u001b[39m\u001b[38;5;241m.\u001b[39mshape, iwcs, (yslice, xslice), nowrap\u001b[38;5;241m=\u001b[39m\u001b[38;5;28;01mTrue\u001b[39;00m)\n\u001b[0;32m--> 186\u001b[0m omap \u001b[38;5;241m=\u001b[39m \u001b[43mextract\u001b[49m\u001b[43m(\u001b[49m\u001b[38;5;28;43mmap\u001b[39;49m\u001b[43m,\u001b[49m\u001b[43m \u001b[49m\u001b[43moshape\u001b[49m\u001b[43m,\u001b[49m\u001b[43m \u001b[49m\u001b[43mowcs\u001b[49m\u001b[43m,\u001b[49m\u001b[43m \u001b[49m\u001b[43mwrap\u001b[49m\u001b[38;5;241;43m=\u001b[39;49m\u001b[43mwrap\u001b[49m\u001b[43m,\u001b[49m\u001b[43m \u001b[49m\u001b[43miwcs\u001b[49m\u001b[38;5;241;43m=\u001b[39;49m\u001b[43miwcs\u001b[49m\u001b[43m)\u001b[49m\n\u001b[1;32m    187\u001b[0m \u001b[38;5;66;03m# Unflip if neccessary\u001b[39;00m\n\u001b[1;32m    188\u001b[0m \u001b[38;5;28;01mif\u001b[39;00m yflip: omap \u001b[38;5;241m=\u001b[39m omap[\u001b[38;5;241m.\u001b[39m\u001b[38;5;241m.\u001b[39m\u001b[38;5;241m.\u001b[39m,::\u001b[38;5;241m-\u001b[39m\u001b[38;5;241m1\u001b[39m,:]\n",
      "File \u001b[0;32m~/venvs/general/lib64/python3.9/site-packages/pixell/enmap.py:596\u001b[0m, in \u001b[0;36mextract\u001b[0;34m(map, shape, wcs, omap, wrap, op, cval, iwcs, reverse)\u001b[0m\n\u001b[1;32m    594\u001b[0m \u001b[38;5;28;01mif\u001b[39;00m iwcs \u001b[38;5;129;01mis\u001b[39;00m \u001b[38;5;28;01mNone\u001b[39;00m: iwcs \u001b[38;5;241m=\u001b[39m \u001b[38;5;28mmap\u001b[39m\u001b[38;5;241m.\u001b[39mwcs\n\u001b[1;32m    595\u001b[0m pixbox \u001b[38;5;241m=\u001b[39m pixbox_of(iwcs,shape,wcs)\n\u001b[0;32m--> 596\u001b[0m extracted \u001b[38;5;241m=\u001b[39m \u001b[43mextract_pixbox\u001b[49m\u001b[43m(\u001b[49m\u001b[38;5;28;43mmap\u001b[39;49m\u001b[43m,\u001b[49m\u001b[43m \u001b[49m\u001b[43mpixbox\u001b[49m\u001b[43m,\u001b[49m\u001b[43m \u001b[49m\u001b[43momap\u001b[49m\u001b[38;5;241;43m=\u001b[39;49m\u001b[43momap\u001b[49m\u001b[43m,\u001b[49m\u001b[43m \u001b[49m\u001b[43mwrap\u001b[49m\u001b[38;5;241;43m=\u001b[39;49m\u001b[43mwrap\u001b[49m\u001b[43m,\u001b[49m\u001b[43m \u001b[49m\u001b[43mop\u001b[49m\u001b[38;5;241;43m=\u001b[39;49m\u001b[43mop\u001b[49m\u001b[43m,\u001b[49m\u001b[43m \u001b[49m\u001b[43mcval\u001b[49m\u001b[38;5;241;43m=\u001b[39;49m\u001b[43mcval\u001b[49m\u001b[43m,\u001b[49m\u001b[43m \u001b[49m\u001b[43miwcs\u001b[49m\u001b[38;5;241;43m=\u001b[39;49m\u001b[43miwcs\u001b[49m\u001b[43m,\u001b[49m\u001b[43m \u001b[49m\u001b[43mreverse\u001b[49m\u001b[43m \u001b[49m\u001b[38;5;241;43m=\u001b[39;49m\u001b[43m \u001b[49m\u001b[43mreverse\u001b[49m\u001b[43m)\u001b[49m\n\u001b[1;32m    597\u001b[0m \u001b[38;5;66;03m# There is a degeneracy between crval and crpix in the wcs, so the\u001b[39;00m\n\u001b[1;32m    598\u001b[0m \u001b[38;5;66;03m# extracted map's wcs might not be identical, but is equivalent.\u001b[39;00m\n\u001b[1;32m    599\u001b[0m \u001b[38;5;66;03m# We explicitly set the wcs to be identical.\u001b[39;00m\n\u001b[1;32m    600\u001b[0m extracted\u001b[38;5;241m.\u001b[39mwcs \u001b[38;5;241m=\u001b[39m wcs\n",
      "File \u001b[0;32m~/venvs/general/lib64/python3.9/site-packages/pixell/enmap.py:624\u001b[0m, in \u001b[0;36mextract_pixbox\u001b[0;34m(map, pixbox, omap, wrap, op, cval, iwcs, reverse)\u001b[0m\n\u001b[1;32m    622\u001b[0m \toslice \u001b[38;5;241m=\u001b[39m utils\u001b[38;5;241m.\u001b[39msbox2slice(obox)\n\u001b[1;32m    623\u001b[0m \t\u001b[38;5;28;01mif\u001b[39;00m reverse: \u001b[38;5;28mmap\u001b[39m [islice] \u001b[38;5;241m=\u001b[39m op(\u001b[38;5;28mmap\u001b[39m[islice], omap[oslice])\n\u001b[0;32m--> 624\u001b[0m \t\u001b[38;5;28;01melse\u001b[39;00m:       omap[oslice] \u001b[38;5;241m=\u001b[39m op(omap[oslice], \u001b[38;5;28;43mmap\u001b[39;49m\u001b[43m[\u001b[49m\u001b[43mislice\u001b[49m\u001b[43m]\u001b[49m)\n\u001b[1;32m    625\u001b[0m \u001b[38;5;28;01mreturn\u001b[39;00m omap\n",
      "File \u001b[0;32m~/venvs/general/lib64/python3.9/site-packages/pixell/enmap.py:2696\u001b[0m, in \u001b[0;36mndmap_proxy_fits.__getitem__\u001b[0;34m(self, sel)\u001b[0m\n\u001b[1;32m   2694\u001b[0m \u001b[38;5;28;01mif\u001b[39;00m (\u001b[38;5;28mself\u001b[39m\u001b[38;5;241m.\u001b[39mhdu\u001b[38;5;241m.\u001b[39msize \u001b[38;5;241m>\u001b[39m \u001b[38;5;28mself\u001b[39m\u001b[38;5;241m.\u001b[39mthreshold) \u001b[38;5;129;01mand\u001b[39;00m \u001b[38;5;28mself\u001b[39m\u001b[38;5;241m.\u001b[39muse_section:\n\u001b[1;32m   2695\u001b[0m \tsel1, sel2 \u001b[38;5;241m=\u001b[39m utils\u001b[38;5;241m.\u001b[39msplit_slice(sel, [\u001b[38;5;28mlen\u001b[39m(\u001b[38;5;28mself\u001b[39m\u001b[38;5;241m.\u001b[39mshape)\u001b[38;5;241m-\u001b[39m\u001b[38;5;241m1\u001b[39m,\u001b[38;5;241m1\u001b[39m])\n\u001b[0;32m-> 2696\u001b[0m \tres \u001b[38;5;241m=\u001b[39m \u001b[38;5;28;43mself\u001b[39;49m\u001b[38;5;241;43m.\u001b[39;49m\u001b[43mhdu\u001b[49m\u001b[38;5;241;43m.\u001b[39;49m\u001b[43msection\u001b[49m\u001b[43m[\u001b[49m\u001b[43msel1\u001b[49m\u001b[43m]\u001b[49m[(\u001b[38;5;28mEllipsis\u001b[39m,)\u001b[38;5;241m+\u001b[39msel2]\n\u001b[1;32m   2697\u001b[0m \u001b[38;5;28;01melse\u001b[39;00m: res \u001b[38;5;241m=\u001b[39m \u001b[38;5;28mself\u001b[39m\u001b[38;5;241m.\u001b[39mhdu\u001b[38;5;241m.\u001b[39mdata[sel]\n\u001b[1;32m   2698\u001b[0m \u001b[38;5;66;03m# Apply stokes flips if necessary. This is a bit complicated because we have to\u001b[39;00m\n\u001b[1;32m   2699\u001b[0m \u001b[38;5;66;03m# take into account that slicing might have already been done. The simplest way\u001b[39;00m\n\u001b[1;32m   2700\u001b[0m \u001b[38;5;66;03m# to do this is to make a sign array with the same shape as all the pre-dimensions\u001b[39;00m\n\u001b[1;32m   2701\u001b[0m \u001b[38;5;66;03m# of the raw map, and then slice that the same way.\u001b[39;00m\n",
      "File \u001b[0;32m~/venvs/general/lib64/python3.9/site-packages/astropy/io/fits/hdu/image.py:1040\u001b[0m, in \u001b[0;36mSection.__getitem__\u001b[0;34m(self, key)\u001b[0m\n\u001b[1;32m   1038\u001b[0m     data \u001b[38;5;241m=\u001b[39m \u001b[38;5;28mself\u001b[39m\u001b[38;5;241m.\u001b[39mhdu\u001b[38;5;241m.\u001b[39m_get_scaled_image_data(offset, dims)\n\u001b[1;32m   1039\u001b[0m \u001b[38;5;28;01melse\u001b[39;00m:\n\u001b[0;32m-> 1040\u001b[0m     data \u001b[38;5;241m=\u001b[39m \u001b[38;5;28;43mself\u001b[39;49m\u001b[38;5;241;43m.\u001b[39;49m\u001b[43m_getdata\u001b[49m\u001b[43m(\u001b[49m\u001b[43mkey\u001b[49m\u001b[43m)\u001b[49m\n\u001b[1;32m   1042\u001b[0m \u001b[38;5;28;01mif\u001b[39;00m return_scalar:\n\u001b[1;32m   1043\u001b[0m     data \u001b[38;5;241m=\u001b[39m data\u001b[38;5;241m.\u001b[39mitem()\n",
      "File \u001b[0;32m~/venvs/general/lib64/python3.9/site-packages/astropy/io/fits/hdu/image.py:1064\u001b[0m, in \u001b[0;36mSection._getdata\u001b[0;34m(self, keys)\u001b[0m\n\u001b[1;32m   1060\u001b[0m data \u001b[38;5;241m=\u001b[39m [\u001b[38;5;28mself\u001b[39m[keys[:idx] \u001b[38;5;241m+\u001b[39m (k,) \u001b[38;5;241m+\u001b[39m keys[idx \u001b[38;5;241m+\u001b[39m \u001b[38;5;241m1\u001b[39m :]] \u001b[38;5;28;01mfor\u001b[39;00m k \u001b[38;5;129;01min\u001b[39;00m ks]\n\u001b[1;32m   1062\u001b[0m \u001b[38;5;28;01mif\u001b[39;00m \u001b[38;5;28many\u001b[39m(\u001b[38;5;28misinstance\u001b[39m(key, \u001b[38;5;28mslice\u001b[39m) \u001b[38;5;129;01mor\u001b[39;00m isiterable(key) \u001b[38;5;28;01mfor\u001b[39;00m key \u001b[38;5;129;01min\u001b[39;00m keys[idx \u001b[38;5;241m+\u001b[39m \u001b[38;5;241m1\u001b[39m :]):\n\u001b[1;32m   1063\u001b[0m     \u001b[38;5;66;03m# data contains multidimensional arrays; combine them.\u001b[39;00m\n\u001b[0;32m-> 1064\u001b[0m     \u001b[38;5;28;01mreturn\u001b[39;00m \u001b[43mnp\u001b[49m\u001b[38;5;241;43m.\u001b[39;49m\u001b[43marray\u001b[49m\u001b[43m(\u001b[49m\u001b[43mdata\u001b[49m\u001b[43m)\u001b[49m\n\u001b[1;32m   1065\u001b[0m \u001b[38;5;28;01melse\u001b[39;00m:\n\u001b[1;32m   1066\u001b[0m     \u001b[38;5;66;03m# Only singleton dimensions remain; concatenate in a 1D array.\u001b[39;00m\n\u001b[1;32m   1067\u001b[0m     \u001b[38;5;28;01mreturn\u001b[39;00m np\u001b[38;5;241m.\u001b[39mconcatenate([np\u001b[38;5;241m.\u001b[39matleast_1d(array) \u001b[38;5;28;01mfor\u001b[39;00m array \u001b[38;5;129;01min\u001b[39;00m data])\n",
      "\u001b[0;31mKeyboardInterrupt\u001b[0m: "
     ]
    }
   ],
   "source": [
    "\n",
    "def freq_stamper(ras, decs):\n",
    "    comm = MPI.COMM_WORLD\n",
    "    myrank = comm.Get_rank()\n",
    "    nproc = comm.Get_size()\n",
    "    freqs = [\"090\", \"150\", \"220\"]\n",
    "\n",
    "    dr = 30*u.arcmin\n",
    "    \n",
    "    for i in range(myrank, len(ras), nproc):\n",
    "        print(i, end=\"\\r\")\n",
    "        offset_ra, offset_dec = np.random.rand()*5*u.arcmin, np.random.rand()*5*u.arcmin\n",
    "        ra_cent = ras[i]*u.deg+offset_ra\n",
    "        dec_cent = decs[i]*u.deg+offset_dec\n",
    "\n",
    "        ra_min, ra_max = ra_cent - dr, ra_cent + dr\n",
    "        dec_min, dec_max = dec_cent - dr, dec_cent + dr\n",
    "    \n",
    "        if ra_max < ra_min:\n",
    "            ra_min -= 360\n",
    "        \n",
    "        box = np.array([[dec_min.value, ra_min.value],[dec_max.value, ra_max.value]]) * utils.degree\n",
    "    \n",
    "        #Make jpg of box\n",
    "        #jpg, cur_wcs = make_jpg('/home/r/rbond/sigurdkn/project/actpol/map_coadd/20211219/release/', box)\n",
    "        stamp, cur_wcs = make_stamp('/mnt/welch/USERS/jorlo/maps/20240323_simple/act_planck_*_f*_daynight_map_srcfree.fits', box, freqs, normalize = False)\n",
    "        print(cur_wcs)\n",
    "        if type(stamp) == int: continue\n",
    "    \n",
    "        #np.savez_compressed(\"/mnt/welch/USERS/jorlo/ml-clusters/ACT_tiles/indv_freq_stamps/{}\".format(str(i).zfill(4)), jpg)\n",
    "        enmap.write_map(\"/mnt/welch/USERS/jorlo/ml-clusters/ACT_tiles/indv_freq_stamps/{}.fits\".format(str(i).zfill(4)), stamp)\n",
    "        mask = make_mask(stamp, act_catalog, [[ra_min.value, ra_max.value], [dec_min.value, dec_max.value]], cur_wcs, size = 4.8)\n",
    "        #print(mask.shape)\n",
    "        np.savez_compressed(\"/mnt/welch/USERS/jorlo/ml-clusters/ACT_tiles/indv_freq_masks/{}_mask\".format(str(i).zfill(4)), mask)\n",
    "    \n",
    "        \n",
    "\n",
    "with ipp.Cluster(controller_ip=\"*\", engines=\"mpi\", n=24) as rc:\n",
    "    view = rc.broadcast_view()\n",
    "    r = view.apply_sync(freq_stamper(ras, decs))\n",
    "    print(\"\\n\".join(r))"
   ]
  },
  {
   "cell_type": "code",
   "execution_count": 4,
   "metadata": {},
   "outputs": [],
   "source": [
    "img = fits.open(\"/mnt/welch/USERS/jorlo/ml-clusters/ACT_tiles/indv_freq_stamps/{}.fits\".format(str(i).zfill(4)))\n",
    "img = np.array(img[0].data).transpose(1,2,0)"
   ]
  },
  {
   "cell_type": "code",
   "execution_count": 18,
   "metadata": {},
   "outputs": [
    {
     "data": {
      "text/plain": [
       "<matplotlib.image.AxesImage at 0x7f06235d6130>"
      ]
     },
     "execution_count": 18,
     "metadata": {},
     "output_type": "execute_result"
    },
    {
     "data": {
      "image/png": "[encoded data removed]",
      "text/plain": [
       "<Figure size 640x480 with 1 Axes>"
      ]
     },
     "metadata": {},
     "output_type": "display_data"
    }
   ],
   "source": [
    "i = 2000\n",
    "stamp = enmap.read_map(\"/mnt/welch/USERS/jorlo/ml-clusters/ACT_tiles/indv_freq_stamps/{}.fits\".format(str(i).zfill(4)))\n",
    "plt.imshow(stamp[1])"
   ]
  },
  {
   "cell_type": "code",
   "execution_count": 66,
   "metadata": {},
   "outputs": [
    {
     "data": {
      "text/plain": [
       "<matplotlib.image.AxesImage at 0x7f63b4b46f10>"
      ]
     },
     "execution_count": 66,
     "metadata": {},
     "output_type": "execute_result"
    },
    {
     "data": {
      "image/png": "[encoded data removed]",
      "text/plain": [
       "<Figure size 640x480 with 1 Axes>"
      ]
     },
     "metadata": {},
     "output_type": "display_data"
    }
   ],
   "source": [
    "plt.imshow(mask)"
   ]
  },
  {
   "cell_type": "markdown",
   "metadata": {},
   "source": [
    "# Websky Cluster Stamps"
   ]
  },
  {
   "cell_type": "code",
   "execution_count": 4,
   "metadata": {},
   "outputs": [],
   "source": [
    "websky_catalog = fits.open('/mnt/welch/USERS/jorlo/ml-clusters/ACTSim_CMB-T_cmb-tsz_MFMF_pass2_mass.fits')\n",
    "\n",
    "ras, decs = np.array(websky_catalog[1].data['RADeg']), np.array(websky_catalog[1].data['decDeg'])"
   ]
  },
  {
   "cell_type": "code",
   "execution_count": 5,
   "metadata": {
    "scrolled": true
   },
   "outputs": [
    {
     "name": "stdout",
     "output_type": "stream",
     "text": [
      "Starting 24 engines with <class 'ipyparallel.cluster.launcher.MPIEngineSetLauncher'>\n"
     ]
    },
    {
     "data": {
      "application/vnd.jupyter.widget-view+json": {
       "model_id": "cde6f810c3dc4de4b45591bcc90f4a72",
       "version_major": 2,
       "version_minor": 0
      },
      "text/plain": [
       "  0%|          | 0/24 [00:00<?, ?engine/s]"
      ]
     },
     "metadata": {},
     "output_type": "display_data"
    },
    {
     "name": "stdout",
     "output_type": "stream",
     "text": [
      "Stopping engine(s): 1722445935\n",
      "Output for ipengine-1722445934-oqlw-1722445935-238465:\n",
      "2024-07-31 13:12:16.984 [IPEngine.15] Starting to monitor the heartbeat signal from the hub every 3500 ms.\n",
      "2024-07-31 13:12:16.984 [IPEngine.3] Starting to monitor the heartbeat signal from the hub every 3500 ms.\n",
      "2024-07-31 13:12:16.984 [IPEngine.15] Completed registration with id 15\n",
      "2024-07-31 13:12:16.984 [IPEngine.3] Completed registration with id 3\n",
      "2024-07-31 13:12:16.984 [IPEngine.1] WARNING | debugpy_stream undefined, debugging will not be enabled\n",
      "2024-07-31 13:12:16.984 [IPEngine.0] Running code in user namespace: \n",
      "from mpi4py import MPI\n",
      "mpi_rank = MPI.COMM_WORLD.Get_rank()\n",
      "mpi_size = MPI.COMM_WORLD.Get_size()\n",
      "\n",
      "2024-07-31 13:12:16.984 [IPEngine.19] Running code in user namespace: \n",
      "from mpi4py import MPI\n",
      "mpi_rank = MPI.COMM_WORLD.Get_rank()\n",
      "mpi_size = MPI.COMM_WORLD.Get_size()\n",
      "\n",
      "2024-07-31 13:12:16.984 [IPEngine.4] Running code in user namespace: \n",
      "from mpi4py import MPI\n",
      "mpi_rank = MPI.COMM_WORLD.Get_rank()\n",
      "mpi_size = MPI.COMM_WORLD.Get_size()\n",
      "\n",
      "2024-07-31 13:12:16.984 [IPEngine.8] WARNING | debugpy_stream undefined, debugging will not be enabled\n",
      "2024-07-31 13:12:16.985 [IPEngine.18] Starting to monitor the heartbeat signal from the hub every 3500 ms.\n",
      "2024-07-31 13:12:16.985 [IPEngine.13] Starting to monitor the heartbeat signal from the hub every 3500 ms.\n",
      "2024-07-31 13:12:16.985 [IPEngine.13] Completed registration with id 13\n",
      "2024-07-31 13:12:16.985 [IPEngine.18] Completed registration with id 18\n",
      "2024-07-31 13:12:16.985 [IPEngine.12] Running code in user namespace: \n",
      "from mpi4py import MPI\n",
      "mpi_rank = MPI.COMM_WORLD.Get_rank()\n",
      "mpi_size = MPI.COMM_WORLD.Get_size()\n",
      "\n",
      "2024-07-31 13:12:16.985 [IPEngine.1] Starting to monitor the heartbeat signal from the hub every 3500 ms.\n",
      "2024-07-31 13:12:16.986 [IPEngine.1] Completed registration with id 1\n",
      "2024-07-31 13:12:16.986 [IPEngine.23] WARNING | debugpy_stream undefined, debugging will not be enabled\n",
      "2024-07-31 13:12:16.986 [IPEngine.8] Starting to monitor the heartbeat signal from the hub every 3500 ms.\n",
      "2024-07-31 13:12:16.986 [IPEngine.8] Completed registration with id 8\n",
      "2024-07-31 13:12:16.987 [IPEngine.23] Starting to monitor the heartbeat signal from the hub every 3500 ms.\n",
      "2024-07-31 13:12:16.987 [IPEngine.23] Completed registration with id 23\n",
      "2024-07-31 13:12:16.989 [IPEngine.12] WARNING | debugpy_stream undefined, debugging will not be enabled\n",
      "2024-07-31 13:12:16.989 [IPEngine.22] WARNING | debugpy_stream undefined, debugging will not be enabled\n",
      "2024-07-31 13:12:16.989 [IPEngine.0] WARNING | debugpy_stream undefined, debugging will not be enabled\n",
      "2024-07-31 13:12:16.989 [IPEngine.4] WARNING | debugpy_stream undefined, debugging will not be enabled\n",
      "2024-07-31 13:12:16.989 [IPEngine.21] Running code in user namespace: \n",
      "from mpi4py import MPI\n",
      "mpi_rank = MPI.COMM_WORLD.Get_rank()\n",
      "mpi_size = MPI.COMM_WORLD.Get_size()\n",
      "\n",
      "2024-07-31 13:12:16.989 [IPEngine.19] WARNING | debugpy_stream undefined, debugging will not be enabled\n",
      "2024-07-31 13:12:16.991 [IPEngine.12] Starting to monitor the heartbeat signal from the hub every 3500 ms.\n",
      "2024-07-31 13:12:16.991 [IPEngine.0] Starting to monitor the heartbeat signal from the hub every 3500 ms.\n",
      "2024-07-31 13:12:16.991 [IPEngine.12] Completed registration with id 12\n",
      "2024-07-31 13:12:16.991 [IPEngine.0] Completed registration with id 0\n",
      "2024-07-31 13:12:16.991 [IPEngine.22] Starting to monitor the heartbeat signal from the hub every 3500 ms.\n",
      "2024-07-31 13:12:16.991 [IPEngine.22] Completed registration with id 22\n",
      "2024-07-31 13:12:16.991 [IPEngine.19] Starting to monitor the heartbeat signal from the hub every 3500 ms.\n",
      "2024-07-31 13:12:16.991 [IPEngine.4] Starting to monitor the heartbeat signal from the hub every 3500 ms.\n",
      "2024-07-31 13:12:16.991 [IPEngine.19] Completed registration with id 19\n",
      "2024-07-31 13:12:16.992 [IPEngine.4] Completed registration with id 4\n",
      "2024-07-31 13:12:16.993 [IPEngine.2] Running code in user namespace: \n",
      "from mpi4py import MPI\n",
      "mpi_rank = MPI.COMM_WORLD.Get_rank()\n",
      "mpi_size = MPI.COMM_WORLD.Get_size()\n",
      "\n",
      "2024-07-31 13:12:16.993 [IPEngine.21] WARNING | debugpy_stream undefined, debugging will not be enabled\n",
      "2024-07-31 13:12:16.993 [IPEngine.17] Running code in user namespace: \n",
      "from mpi4py import MPI\n",
      "mpi_rank = MPI.COMM_WORLD.Get_rank()\n",
      "mpi_size = MPI.COMM_WORLD.Get_size()\n",
      "\n",
      "2024-07-31 13:12:16.994 [IPEngine.21] Starting to monitor the heartbeat signal from the hub every 3500 ms.\n",
      "2024-07-31 13:12:16.994 [IPEngine.21] Completed registration with id 21\n",
      "2024-07-31 13:12:16.996 [IPEngine.2] WARNING | debugpy_stream undefined, debugging will not be enabled\n",
      "2024-07-31 13:12:16.997 [IPEngine.17] WARNING | debugpy_stream undefined, debugging will not be enabled\n",
      "2024-07-31 13:12:16.998 [IPEngine.2] Starting to monitor the heartbeat signal from the hub every 3500 ms.\n",
      "2024-07-31 13:12:16.998 [IPEngine.2] Completed registration with id 2\n",
      "2024-07-31 13:12:16.998 [IPEngine.17] Starting to monitor the heartbeat signal from the hub every 3500 ms.\n",
      "2024-07-31 13:12:16.999 [IPEngine.17] Completed registration with id 17\n",
      "2024-07-31 13:12:21.940 [IPEngine.9] CRITICAL | received signal 15, stopping\n",
      "2024-07-31 13:12:21.940 [IPEngine.16] CRITICAL | received signal 15, stopping\n",
      "2024-07-31 13:12:21.939 [IPEngine.1] CRITICAL | received signal 15, stopping\n",
      "2024-07-31 13:12:21.940 [IPEngine.11] CRITICAL | received signal 15, stopping\n",
      "2024-07-31 13:12:21.940 [IPEngine.20] CRITICAL | received signal 15, stopping\n",
      "2024-07-31 13:12:21.939 [IPEngine.19] CRITICAL | received signal 15, stopping\n",
      "2024-07-31 13:12:21.939 [IPEngine.0] CRITICAL | received signal 15, stopping\n",
      "2024-07-31 13:12:21.940 [IPEngine.7] CRITICAL | received signal 15, stopping\n",
      "2024-07-31 13:12:21.939 [IPEngine.4] CRITICAL | received signal 15, stopping\n",
      "2024-07-31 13:12:21.939 [IPEngine.22] CRITICAL | received signal 15, stopping\n",
      "2024-07-31 13:12:21.940 [IPEngine.8] CRITICAL | received signal 15, stopping\n",
      "2024-07-31 13:12:21.940 [IPEngine.21] CRITICAL | received signal 15, stopping\n",
      "2024-07-31 13:12:21.940 [IPEngine.23] CRITICAL | received signal 15, stopping\n",
      "2024-07-31 13:12:21.939 [IPEngine.5] CRITICAL | received signal 15, stopping\n",
      "2024-07-31 13:12:21.940 [IPEngine.17] CRITICAL | received signal 15, stopping\n",
      "2024-07-31 13:12:21.940 [IPEngine.18] CRITICAL | received signal 15, stopping\n",
      "2024-07-31 13:12:21.940 [IPEngine.10] CRITICAL | received signal 15, stopping\n",
      "2024-07-31 13:12:21.939 [IPEngine.2] CRITICAL | received signal 15, stopping\n",
      "2024-07-31 13:12:21.939 [IPEngine.3] CRITICAL | received signal 15, stopping\n",
      "2024-07-31 13:12:21.940 [IPEngine.13] CRITICAL | received signal 15, stopping\n",
      "2024-07-31 13:12:21.940 [IPEngine.15] CRITICAL | received signal 15, stopping\n",
      "2024-07-31 13:12:21.939 [IPEngine.6] CRITICAL | received signal 15, stopping\n",
      "2024-07-31 13:12:21.940 [IPEngine.12] CRITICAL | received signal 15, stopping\n",
      "2024-07-31 13:12:21.940 [IPEngine.14] CRITICAL | received signal 15, stopping\n",
      "\n",
      "engine set stopped 1722445935: {'exit_code': 1, 'pid': 242906, 'identifier': 'ipengine-1722445934-oqlw-1722445935-238465'}\n",
      "Stopping controller\n",
      "Controller stopped: {'exit_code': 0, 'pid': 242870, 'identifier': 'ipcontroller-1722445934-oqlw-238465'}\n"
     ]
    },
    {
     "ename": "TypeError",
     "evalue": "make_stamp() missing 2 required positional arguments: 'ra' and 'dec'",
     "output_type": "error",
     "traceback": [
      "\u001b[0;31m---------------------------------------------------------------------------\u001b[0m",
      "\u001b[0;31mTypeError\u001b[0m                                 Traceback (most recent call last)",
      "Cell \u001b[0;32mIn[5], line 38\u001b[0m\n\u001b[1;32m     36\u001b[0m \u001b[38;5;28;01mwith\u001b[39;00m ipp\u001b[38;5;241m.\u001b[39mCluster(controller_ip\u001b[38;5;241m=\u001b[39m\u001b[38;5;124m\"\u001b[39m\u001b[38;5;124m*\u001b[39m\u001b[38;5;124m\"\u001b[39m, engines\u001b[38;5;241m=\u001b[39m\u001b[38;5;124m\"\u001b[39m\u001b[38;5;124mmpi\u001b[39m\u001b[38;5;124m\"\u001b[39m, n\u001b[38;5;241m=\u001b[39m\u001b[38;5;241m24\u001b[39m) \u001b[38;5;28;01mas\u001b[39;00m rc:\n\u001b[1;32m     37\u001b[0m     view \u001b[38;5;241m=\u001b[39m rc\u001b[38;5;241m.\u001b[39mbroadcast_view()\n\u001b[0;32m---> 38\u001b[0m     r \u001b[38;5;241m=\u001b[39m view\u001b[38;5;241m.\u001b[39mapply_sync(\u001b[43mfreq_stamper\u001b[49m\u001b[43m(\u001b[49m\u001b[43mras\u001b[49m\u001b[43m,\u001b[49m\u001b[43m \u001b[49m\u001b[43mdecs\u001b[49m\u001b[43m)\u001b[49m)\n\u001b[1;32m     39\u001b[0m     \u001b[38;5;66;03m#print(\"\\n\".join(r))\u001b[39;00m\n",
      "Cell \u001b[0;32mIn[5], line 24\u001b[0m, in \u001b[0;36mfreq_stamper\u001b[0;34m(ras, decs)\u001b[0m\n\u001b[1;32m     21\u001b[0m box \u001b[38;5;241m=\u001b[39m np\u001b[38;5;241m.\u001b[39marray([[dec_min\u001b[38;5;241m.\u001b[39mvalue, ra_min\u001b[38;5;241m.\u001b[39mvalue],[dec_max\u001b[38;5;241m.\u001b[39mvalue, ra_max\u001b[38;5;241m.\u001b[39mvalue]]) \u001b[38;5;241m*\u001b[39m utils\u001b[38;5;241m.\u001b[39mdegree\n\u001b[1;32m     23\u001b[0m \u001b[38;5;66;03m#Make jpg of box\u001b[39;00m\n\u001b[0;32m---> 24\u001b[0m stamp, cur_wcs, \u001b[38;5;241m=\u001b[39m \u001b[43mmake_stamp\u001b[49m\u001b[43m(\u001b[49m\u001b[38;5;124;43m\"\u001b[39;49m\u001b[38;5;124;43m/mnt/welch/USERS/cwhitaker/maps/websky/websky_f*_map.fits\u001b[39;49m\u001b[38;5;124;43m\"\u001b[39;49m\u001b[43m,\u001b[49m\u001b[43m \u001b[49m\u001b[43mbox\u001b[49m\u001b[43m,\u001b[49m\u001b[43m \u001b[49m\u001b[43mfreqs\u001b[49m\u001b[43m,\u001b[49m\u001b[43m \u001b[49m\u001b[43mnormalize\u001b[49m\u001b[43m \u001b[49m\u001b[38;5;241;43m=\u001b[39;49m\u001b[43m \u001b[49m\u001b[38;5;28;43;01mFalse\u001b[39;49;00m\u001b[43m)\u001b[49m\n\u001b[1;32m     25\u001b[0m \u001b[38;5;28;01mif\u001b[39;00m \u001b[38;5;28mtype\u001b[39m(stamp) \u001b[38;5;241m==\u001b[39m \u001b[38;5;28mint\u001b[39m: \u001b[38;5;28;01mcontinue\u001b[39;00m\n\u001b[1;32m     27\u001b[0m enmap\u001b[38;5;241m.\u001b[39mwrite_map(\u001b[38;5;124m\"\u001b[39m\u001b[38;5;124m/mnt/welch/USERS/jorlo/ml-clusters/websky_tiles/cluster_stamps/\u001b[39m\u001b[38;5;132;01m{}\u001b[39;00m\u001b[38;5;124m.fits\u001b[39m\u001b[38;5;124m\"\u001b[39m\u001b[38;5;241m.\u001b[39mformat(\u001b[38;5;28mstr\u001b[39m(i)\u001b[38;5;241m.\u001b[39mzfill(\u001b[38;5;241m5\u001b[39m)), stamp)\n",
      "\u001b[0;31mTypeError\u001b[0m: make_stamp() missing 2 required positional arguments: 'ra' and 'dec'"
     ]
    }
   ],
   "source": [
    "def freq_stamper(ras, decs):\n",
    "    comm = MPI.COMM_WORLD\n",
    "    myrank = comm.Get_rank()\n",
    "    nproc = comm.Get_size()\n",
    "    freqs = [\"090\", \"150\", \"220\"]\n",
    "\n",
    "    dr = 60*u.arcmin\n",
    "    \n",
    "    for i in range(myrank, len(ras), nproc):\n",
    "        print(i, end=\"\\r\")\n",
    "        offset_ra, offset_dec = np.random.rand()*5*u.arcmin, np.random.rand()*5*u.arcmin\n",
    "        ra_cent = ras[i]*u.deg+offset_ra\n",
    "        dec_cent = decs[i]*u.deg+offset_dec\n",
    "\n",
    "        ra_min, ra_max = ra_cent - dr, ra_cent + dr\n",
    "        dec_min, dec_max = dec_cent - dr, dec_cent + dr\n",
    "    \n",
    "        if ra_max < ra_min:\n",
    "            ra_min -= 360\n",
    "        \n",
    "        box = np.array([[dec_min.value, ra_min.value],[dec_max.value, ra_max.value]]) * utils.degree\n",
    "    \n",
    "        #Make jpg of box\n",
    "        stamp, cur_wcs, = make_stamp(\"/mnt/welch/USERS/cwhitaker/maps/websky/websky_f*_map.fits\", box, freqs, normalize = False)\n",
    "        if type(stamp) == int: continue\n",
    "    \n",
    "        enmap.write_map(\"/mnt/welch/USERS/jorlo/ml-clusters/websky_tiles/cluster_stamps/{}.fits\".format(str(i).zfill(5)), stamp)\n",
    "        #mask = make_mask(stamp, ras, decs, [[ra_min.value, ra_max.value], [dec_min.value, dec_max.value]], cur_wcs, size = 4.8)\n",
    "        mask = make_mask(stamp, ras, decs, box, cur_wcs, size = 4.8)\n",
    "\n",
    "        #print(mask.shape)\n",
    "        np.savez_compressed(\"/mnt/welch/USERS/jorlo/ml-clusters/websky_tiles/cluster_masks/{}_mask\".format(str(i).zfill(5)), mask)\n",
    "    \n",
    "        \n",
    "\n",
    "with ipp.Cluster(controller_ip=\"*\", engines=\"mpi\", n=24) as rc:\n",
    "    view = rc.broadcast_view()\n",
    "    r = view.apply_sync(freq_stamper(ras, decs))\n",
    "    #print(\"\\n\".join(r))"
   ]
  },
  {
   "cell_type": "code",
   "execution_count": 37,
   "metadata": {},
   "outputs": [],
   "source": [
    "imap = enmap.read_map(\"/mnt/welch/USERS/jorlo/ml-clusters/websky_tiles/cluster_stamps/01000.fits\")\n",
    "with np.load(\"/mnt/welch/USERS/jorlo/ml-clusters/websky_tiles/cluster_masks/01000_mask.npz\") as data:\n",
    "    mask = data['arr_0']\n",
    "mask = np.array(mask, dtype='f')\n"
   ]
  },
  {
   "cell_type": "code",
   "execution_count": 39,
   "metadata": {},
   "outputs": [
    {
     "data": {
      "text/plain": [
       "<matplotlib.image.AxesImage at 0x7feaac2a1640>"
      ]
     },
     "execution_count": 39,
     "metadata": {},
     "output_type": "execute_result"
    },
    {
     "data": {
      "image/png": "[encoded data removed]",
      "text/plain": [
       "<Figure size 640x480 with 1 Axes>"
      ]
     },
     "metadata": {},
     "output_type": "display_data"
    }
   ],
   "source": [
    "plt.imshow(imap[0])"
   ]
  },
  {
   "cell_type": "code",
   "execution_count": 99,
   "metadata": {},
   "outputs": [
    {
     "data": {
      "text/plain": [
       "<matplotlib.image.AxesImage at 0x7ffa791e8250>"
      ]
     },
     "execution_count": 99,
     "metadata": {},
     "output_type": "execute_result"
    },
    {
     "data": {
      "image/png": "[encoded data removed]",
      "text/plain": [
       "<Figure size 640x480 with 1 Axes>"
      ]
     },
     "metadata": {},
     "output_type": "display_data"
    }
   ],
   "source": [
    "plt.imshow(mask)"
   ]
  },
  {
   "cell_type": "code",
   "execution_count": 6,
   "metadata": {},
   "outputs": [
    {
     "ename": "TypeError",
     "evalue": "make_stamp() missing 2 required positional arguments: 'ra' and 'dec'",
     "output_type": "error",
     "traceback": [
      "\u001b[0;31m---------------------------------------------------------------------------\u001b[0m",
      "\u001b[0;31mTypeError\u001b[0m                                 Traceback (most recent call last)",
      "Cell \u001b[0;32mIn[6], line 18\u001b[0m\n\u001b[1;32m     16\u001b[0m box \u001b[38;5;241m=\u001b[39m np\u001b[38;5;241m.\u001b[39marray([[dec_min\u001b[38;5;241m.\u001b[39mvalue, ra_min\u001b[38;5;241m.\u001b[39mvalue],[dec_max\u001b[38;5;241m.\u001b[39mvalue, ra_max\u001b[38;5;241m.\u001b[39mvalue]]) \u001b[38;5;241m*\u001b[39m utils\u001b[38;5;241m.\u001b[39mdegree\n\u001b[1;32m     17\u001b[0m \u001b[38;5;66;03m#Make jpg of box\u001b[39;00m\n\u001b[0;32m---> 18\u001b[0m stamp, cur_wcs \u001b[38;5;241m=\u001b[39m \u001b[43mmake_stamp\u001b[49m\u001b[43m(\u001b[49m\u001b[38;5;124;43m\"\u001b[39;49m\u001b[38;5;124;43m/mnt/welch/USERS/cwhitaker/maps/websky/websky_f*_map.fits\u001b[39;49m\u001b[38;5;124;43m\"\u001b[39;49m\u001b[43m,\u001b[49m\u001b[43m \u001b[49m\u001b[43mbox\u001b[49m\u001b[43m,\u001b[49m\u001b[43m \u001b[49m\u001b[43mfreqs\u001b[49m\u001b[43m,\u001b[49m\u001b[43m \u001b[49m\u001b[43mnormalize\u001b[49m\u001b[43m \u001b[49m\u001b[38;5;241;43m=\u001b[39;49m\u001b[43m \u001b[49m\u001b[38;5;28;43;01mFalse\u001b[39;49;00m\u001b[43m,\u001b[49m\u001b[43m \u001b[49m\u001b[43mreproj\u001b[49m\u001b[38;5;241;43m=\u001b[39;49m\u001b[38;5;28;43;01mFalse\u001b[39;49;00m\u001b[43m)\u001b[49m\n\u001b[1;32m     20\u001b[0m enmap\u001b[38;5;241m.\u001b[39mwrite_map(\u001b[38;5;124m\"\u001b[39m\u001b[38;5;124m/mnt/welch/USERS/jorlo/ml-clusters/websky_tiles/cluster_stamps/\u001b[39m\u001b[38;5;132;01m{}\u001b[39;00m\u001b[38;5;124m.fits\u001b[39m\u001b[38;5;124m\"\u001b[39m\u001b[38;5;241m.\u001b[39mformat(\u001b[38;5;28mstr\u001b[39m(i)\u001b[38;5;241m.\u001b[39mzfill(\u001b[38;5;241m5\u001b[39m)), stamp)\n\u001b[1;32m     21\u001b[0m \u001b[38;5;66;03m#mask = make_mask(stamp, ras, decs, [[ra_min.value, ra_max.value], [dec_min.value, dec_max.value]], cur_wcs, size = 4.8)\u001b[39;00m\n",
      "\u001b[0;31mTypeError\u001b[0m: make_stamp() missing 2 required positional arguments: 'ra' and 'dec'"
     ]
    }
   ],
   "source": [
    "freqs = [\"090\", \"150\", \"220\"]\n",
    "idx = np.where((websky_catalog[1].data[\"M200m\"] == np.amax(websky_catalog[1].data[\"M200m\"])))[0]\n",
    "dr = 30*u.arcmin\n",
    "i = idx[0]\n",
    "#i = 193\n",
    "offset_ra, offset_dec = np.random.rand()*5*u.arcmin, np.random.rand()*5*u.arcmin\n",
    "ra_cent = ras[i]*u.deg+offset_ra\n",
    "dec_cent = decs[i]*u.deg+offset_dec\n",
    "\n",
    "ra_min, ra_max = ra_cent - dr, ra_cent + dr\n",
    "dec_min, dec_max = dec_cent - dr, dec_cent + dr\n",
    "\n",
    "if ra_max < ra_min:\n",
    "    ra_min -= 360\n",
    "\n",
    "box = np.array([[dec_min.value, ra_min.value],[dec_max.value, ra_max.value]]) * utils.degree\n",
    "#Make jpg of box\n",
    "stamp, cur_wcs = make_stamp(\"/mnt/welch/USERS/cwhitaker/maps/websky/websky_f*_map.fits\", box, freqs, normalize = False, reproj=False)\n",
    "\n",
    "enmap.write_map(\"/mnt/welch/USERS/jorlo/ml-clusters/websky_tiles/cluster_stamps/{}.fits\".format(str(i).zfill(5)), stamp)\n",
    "#mask = make_mask(stamp, ras, decs, [[ra_min.value, ra_max.value], [dec_min.value, dec_max.value]], cur_wcs, size = 4.8)\n",
    "mask = make_mask(stamp, ras, decs, box, cur_wcs, size = 4.8)"
   ]
  },
  {
   "cell_type": "code",
   "execution_count": 31,
   "metadata": {},
   "outputs": [
    {
     "name": "stdout",
     "output_type": "stream",
     "text": [
      "[52.65112445 59.05925503] [71.41383553 58.95330606]\n"
     ]
    }
   ],
   "source": [
    "#min_ra, max_ra, min_dec, max_dec = 221.89426093124743, 222.89426093124743, -3.5972671920543204, -2.59726719205432\n",
    "in_image = np.where((ra_min.value < ras) & (ras < ra_max.value) & (dec_min.value < decs) & (decs < dec_max.value))[0]\n",
    "xs, ys = np.zeros(len(in_image)), np.zeros(len(in_image))\n",
    "for i in range(len(in_image)):\n",
    "    cur_cluster = in_image[i]\n",
    "    cur_center = SkyCoord(ras[cur_cluster], decs[cur_cluster], unit = \"deg\")\n",
    "    x,y = wcs.utils.skycoord_to_pixel(cur_center, cur_wcs)\n",
    "    xs[i] = x; ys[i] = y\n",
    "print(xs, ys)"
   ]
  },
  {
   "cell_type": "code",
   "execution_count": 32,
   "metadata": {},
   "outputs": [
    {
     "data": {
      "text/plain": [
       "<matplotlib.collections.PathCollection at 0x7fca72be17c0>"
      ]
     },
     "execution_count": 32,
     "metadata": {},
     "output_type": "execute_result"
    },
    {
     "data": {
      "image/png": "[encoded data removed]",
      "text/plain": [
       "<Figure size 640x480 with 1 Axes>"
      ]
     },
     "metadata": {},
     "output_type": "display_data"
    }
   ],
   "source": [
    "plt.imshow(mask)\n",
    "plt.scatter(xs, ys, color=\"black\", alpha = 0.5, marker=\"x\")"
   ]
  },
  {
   "cell_type": "code",
   "execution_count": 33,
   "metadata": {},
   "outputs": [
    {
     "data": {
      "text/plain": [
       "<matplotlib.collections.PathCollection at 0x7fca72b1eb50>"
      ]
     },
     "execution_count": 33,
     "metadata": {},
     "output_type": "execute_result"
    },
    {
     "data": {
      "image/png": "[encoded data removed]",
      "text/plain": [
       "<Figure size 640x480 with 1 Axes>"
      ]
     },
     "metadata": {},
     "output_type": "display_data"
    }
   ],
   "source": [
    "plt.imshow(stamp[1])\n",
    "#plt.scatter(xs+7, ys, color=\"black\", alpha = 0.5, marker=\"x\")\n",
    "plt.scatter(xs, ys, color=\"black\", alpha = 0.5, marker=\"x\")"
   ]
  },
  {
   "cell_type": "code",
   "execution_count": 20,
   "metadata": {},
   "outputs": [
    {
     "name": "stdout",
     "output_type": "stream",
     "text": [
      "[53.65112445 60.05925503] [72.41383553 59.95330606]\n"
     ]
    }
   ],
   "source": [
    "freqs = [\"090\", \"150\", \"220\"]\n",
    "idx = np.where((websky_catalog[1].data[\"M200m\"] == np.amax(websky_catalog[1].data[\"M200m\"])))[0]\n",
    "dr = 30*u.arcmin\n",
    "i = idx[0]\n",
    "#i = 193\n",
    "\n",
    "offset = 0\n",
    "offset_ra, offset_dec = np.random.uniform(-1,1)*offset*u.arcmin, np.random.uniform(-1,1)*offset*u.arcmin\n",
    "ra_cent = ras[i]*u.deg+offset_ra\n",
    "dec_cent = decs[i]*u.deg+offset_dec\n",
    "\n",
    "ra_min, ra_max = ra_cent - dr, ra_cent + dr\n",
    "dec_min, dec_max = dec_cent - dr, dec_cent + dr\n",
    "\n",
    "if ra_max < ra_min:\n",
    "    ra_min -= 360\n",
    "\n",
    "box = np.array([[dec_min.value, ra_min.value],[dec_max.value, ra_max.value]]) * utils.degree\n",
    "#Make jpg of box\n",
    "stamp, cur_wcs = make_stamp(\"/mnt/welch/USERS/cwhitaker/maps/websky/websky_f*_map.fits\", box, freqs, \n",
    "                            offset_ra.value * utils.arcmin, offset_dec.value * utils.arcmin, normalize = False, reproj=False)\n",
    "\n",
    "enmap.write_map(\"/mnt/welch/USERS/jorlo/ml-clusters/websky_tiles/cluster_stamps/{}.fits\".format(str(i).zfill(5)), stamp)\n",
    "#mask = make_mask(stamp, ras, decs, [[ra_min.value, ra_max.value], [dec_min.value, dec_max.value]], cur_wcs, size = 4.8)\n",
    "mask = make_mask(stamp, ras, decs, box, cur_wcs, size = 4.8)\n",
    "#min_ra, max_ra, min_dec, max_dec = 221.89426093124743, 222.89426093124743, -3.5972671920543204, -2.59726719205432\n",
    "in_image = np.where((ra_min.value < ras) & (ras < ra_max.value) & (dec_min.value < decs) & (decs < dec_max.value))[0]\n",
    "xs, ys = np.zeros(len(in_image)), np.zeros(len(in_image))\n",
    "for i in range(len(in_image)):\n",
    "    cur_cluster = in_image[i]\n",
    "    cur_center = SkyCoord(ras[cur_cluster], decs[cur_cluster], unit = \"deg\")\n",
    "    x,y = wcs.utils.skycoord_to_pixel(cur_center, cur_wcs)\n",
    "    xs[i] = x; ys[i] = y\n",
    "print(xs, ys)"
   ]
  },
  {
   "cell_type": "code",
   "execution_count": 21,
   "metadata": {},
   "outputs": [
    {
     "data": {
      "text/plain": [
       "<matplotlib.collections.PathCollection at 0x7f3154c7a970>"
      ]
     },
     "execution_count": 21,
     "metadata": {},
     "output_type": "execute_result"
    },
    {
     "data": {
      "image/png": "[encoded data removed]",
      "text/plain": [
       "<Figure size 640x480 with 1 Axes>"
      ]
     },
     "metadata": {},
     "output_type": "display_data"
    }
   ],
   "source": [
    "plt.imshow(stamp[0], vmin = -1e3, vmax=1e3)\n",
    "plt.scatter(xs, ys, color=\"black\", alpha = 0.5, marker=\"x\")"
   ]
  },
  {
   "cell_type": "markdown",
   "metadata": {},
   "source": [
    "# Websky Full Catalog"
   ]
  },
  {
   "cell_type": "code",
   "execution_count": 4,
   "metadata": {},
   "outputs": [],
   "source": [
    "path = \"/mnt/welch/USERS/cwhitaker/maps/websky/\"\n",
    "cluster_catalog=open(path + 'halos.pksc')\n",
    "N = np.fromfile(cluster_catalog,count=3,dtype=np.int32)[0]\n",
    "catalog=np.fromfile(cluster_catalog,count=N*10,dtype=np.float32)\n",
    "catalog=np.reshape(catalog,(N,10))"
   ]
  },
  {
   "cell_type": "code",
   "execution_count": 5,
   "metadata": {},
   "outputs": [],
   "source": [
    "from scipy.interpolate import *\n",
    "import healpy as hp\n",
    "\n",
    "omegab = 0.049\n",
    "omegac = 0.261\n",
    "omegam = omegab + omegac\n",
    "h      = 0.68\n",
    "ns     = 0.965\n",
    "sigma8 = 0.81\n",
    "\n",
    "c = 3e5\n",
    "\n",
    "H0 = 100*h\n",
    "nz = 100000\n",
    "z1 = 0.0\n",
    "z2 = 6.0\n",
    "za = np.linspace(z1,z2,nz)\n",
    "dz = za[1]-za[0]\n",
    "\n",
    "H      = lambda z: H0*np.sqrt(omegam*(1+z)**3+1-omegam)\n",
    "dchidz = lambda z: c/H(z)\n",
    "\n",
    "chia = np.cumsum(dchidz(za))*dz\n",
    "\n",
    "zofchi = interp1d(chia,za)"
   ]
  },
  {
   "cell_type": "code",
   "execution_count": 6,
   "metadata": {},
   "outputs": [],
   "source": [
    "rho = 2.775e11*omegam*h**2 # Msun/Mpc^3\n",
    "\n",
    "x  = catalog[:,0];  y = catalog[:,1];  z = catalog[:,2] # Mpc (comoving)\n",
    "vx = catalog[:,3]; vy = catalog[:,4]; vz = catalog[:,5] # km/sec\n",
    "R  = catalog[:,6] # Mpc\n",
    "\n",
    "# convert to mass, comoving distance, radial velocity, redshfit, RA and DEc\n",
    "M        = 4*np.pi/3.*rho*R**3        # Msun\n",
    "chi      = np.sqrt(x**2+y**2+z**2)    # Mpc\n",
    "vrad     = (x*vx + y*vy + z*vz) / chi # km/sec\n",
    "redshift = zofchi(chi)\n",
    "DEC, RA  = hp.vec2ang(np.column_stack((x,y,z)),lonlat=True)\n",
    "\n",
    "# convert to ra / dec (radians) from readhalos.py\n",
    "colat, cluster_ras = hp.vec2ang(np.column_stack((x, y, z)))\n",
    "\n",
    "# convert colat to dec \n",
    "cluster_decs = np.pi/2 - colat"
   ]
  },
  {
   "cell_type": "code",
   "execution_count": 14,
   "metadata": {},
   "outputs": [],
   "source": [
    "from astropy import constants as const\n",
    "from astropy import units as u\n",
    "from astropy.cosmology import Planck15 as cosmo\n",
    "\n",
    "ap = 0.12\n",
    "h70 = cosmo.H0.value / 7.00e01\n",
    "\n",
    "Tcmb = 2.7255\n",
    "kb = const.k_B.value\n",
    "me = ((const.m_e * const.c**2).to(u.keV)).value\n",
    "h = const.h.value\n",
    "Xthom = const.sigma_T.to(u.cm**2).value\n",
    "\n",
    "Mparsec = u.Mpc.to(u.cm)\n",
    "XMpc = Xthom * Mparsec\n",
    "\n",
    "rad_to_arcsec = (180 * 3600) / np.pi\n",
    "\n",
    "# Cosmology\n",
    "# --------------------------------------------------------\n",
    "dzline = np.linspace(0.00, 5.00, 1000)\n",
    "daline = cosmo.angular_diameter_distance(dzline) / u.radian\n",
    "nzline = cosmo.critical_density(dzline)\n",
    "hzline = cosmo.H(dzline) / cosmo.H0\n",
    "\n",
    "daline = daline.to(u.Mpc / u.arcsec)\n",
    "nzline = nzline.to(u.Msun / u.Mpc**3)\n",
    "\n",
    "dzline = np.array(dzline)\n",
    "hzline = np.array(hzline.value)\n",
    "nzline = np.array(nzline.value)\n",
    "daline = np.array(daline.value)\n",
    "\n",
    "def get_da(z):\n",
    "    return np.interp(z, dzline, daline)"
   ]
  },
  {
   "cell_type": "code",
   "execution_count": 9,
   "metadata": {},
   "outputs": [
    {
     "data": {
      "text/plain": [
       "array([27.497486 , 27.441055 , 27.33656  , ...,  1.9797994,  1.9797983,\n",
       "        1.9797931], dtype=float32)"
      ]
     },
     "execution_count": 9,
     "metadata": {},
     "output_type": "execute_result"
    }
   ],
   "source": [
    "\n",
    "R"
   ]
  },
  {
   "cell_type": "code",
   "execution_count": 17,
   "metadata": {},
   "outputs": [
    {
     "data": {
      "text/plain": [
       "array([0.00411296, 0.00249861, 0.00495165, ..., 0.00837922, 0.00837955,\n",
       "       0.0083796 ])"
      ]
     },
     "execution_count": 17,
     "metadata": {},
     "output_type": "execute_result"
    }
   ],
   "source": [
    "get_da(redshift)"
   ]
  },
  {
   "cell_type": "code",
   "execution_count": 20,
   "metadata": {},
   "outputs": [],
   "source": [
    "r_arcmin = R / get_da(redshift) / 60"
   ]
  },
  {
   "cell_type": "code",
   "execution_count": 22,
   "metadata": {},
   "outputs": [],
   "source": [
    "ras, decs = cluster_ras, cluster_decs"
   ]
  },
  {
   "cell_type": "code",
   "execution_count": 26,
   "metadata": {},
   "outputs": [
    {
     "ename": "KeyboardInterrupt",
     "evalue": "",
     "output_type": "error",
     "traceback": [
      "\u001b[0;31m---------------------------------------------------------------------------\u001b[0m",
      "\u001b[0;31mKeyboardInterrupt\u001b[0m                         Traceback (most recent call last)",
      "Cell \u001b[0;32mIn[26], line 21\u001b[0m\n\u001b[1;32m     18\u001b[0m stamp, cur_wcs \u001b[38;5;241m=\u001b[39m make_stamp(\u001b[38;5;124m\"\u001b[39m\u001b[38;5;124m/mnt/welch/USERS/cwhitaker/maps/websky/websky_f*_map.fits\u001b[39m\u001b[38;5;124m\"\u001b[39m, box, freqs, normalize \u001b[38;5;241m=\u001b[39m \u001b[38;5;28;01mFalse\u001b[39;00m, reproj\u001b[38;5;241m=\u001b[39m\u001b[38;5;28;01mFalse\u001b[39;00m)\n\u001b[1;32m     20\u001b[0m \u001b[38;5;66;03m#mask = make_mask(stamp, ras, decs, [[ra_min.value, ra_max.value], [dec_min.value, dec_max.value]], cur_wcs, size = 4.8)\u001b[39;00m\n\u001b[0;32m---> 21\u001b[0m mask \u001b[38;5;241m=\u001b[39m \u001b[43mmake_mask\u001b[49m\u001b[43m(\u001b[49m\u001b[43mstamp\u001b[49m\u001b[43m,\u001b[49m\u001b[43m \u001b[49m\u001b[43mras\u001b[49m\u001b[43m,\u001b[49m\u001b[43m \u001b[49m\u001b[43mdecs\u001b[49m\u001b[43m,\u001b[49m\u001b[43m \u001b[49m\u001b[43mbox\u001b[49m\u001b[43m,\u001b[49m\u001b[43m \u001b[49m\u001b[43mcur_wcs\u001b[49m\u001b[43m,\u001b[49m\u001b[43m \u001b[49m\u001b[43msize\u001b[49m\u001b[43m \u001b[49m\u001b[38;5;241;43m=\u001b[39;49m\u001b[43m \u001b[49m\u001b[38;5;241;43m4.8\u001b[39;49m\u001b[43m)\u001b[49m\n",
      "File \u001b[0;32m~/dev/ml-clusters/stamping_utils.py:460\u001b[0m, in \u001b[0;36mmake_mask\u001b[0;34m(image, ras, decs, box, cur_wcs, size, jpg)\u001b[0m\n\u001b[1;32m    458\u001b[0m cur_cluster \u001b[38;5;241m=\u001b[39m in_image[i]\n\u001b[1;32m    459\u001b[0m cur_center \u001b[38;5;241m=\u001b[39m SkyCoord(ras[cur_cluster], decs[cur_cluster], unit \u001b[38;5;241m=\u001b[39m \u001b[38;5;124m\"\u001b[39m\u001b[38;5;124mdeg\u001b[39m\u001b[38;5;124m\"\u001b[39m)\n\u001b[0;32m--> 460\u001b[0m x,y \u001b[38;5;241m=\u001b[39m \u001b[43mwcs\u001b[49m\u001b[38;5;241;43m.\u001b[39;49m\u001b[43mutils\u001b[49m\u001b[38;5;241;43m.\u001b[39;49m\u001b[43mskycoord_to_pixel\u001b[49m\u001b[43m(\u001b[49m\u001b[43mcur_center\u001b[49m\u001b[43m,\u001b[49m\u001b[43m \u001b[49m\u001b[43mcur_wcs\u001b[49m\u001b[43m)\u001b[49m\n\u001b[1;32m    461\u001b[0m x,y \u001b[38;5;241m=\u001b[39m np\u001b[38;5;241m.\u001b[39mround(x), np\u001b[38;5;241m.\u001b[39mround(y)\n\u001b[1;32m    462\u001b[0m pix_size \u001b[38;5;241m=\u001b[39m wcs\u001b[38;5;241m.\u001b[39mutils\u001b[38;5;241m.\u001b[39mproj_plane_pixel_scales(cur_wcs)[\u001b[38;5;241m0\u001b[39m] \u001b[38;5;241m*\u001b[39m \u001b[38;5;241m60\u001b[39m\n",
      "File \u001b[0;32m~/venvs/general/lib64/python3.9/site-packages/astropy/wcs/utils.py:663\u001b[0m, in \u001b[0;36mskycoord_to_pixel\u001b[0;34m(coords, wcs, origin, mode)\u001b[0m\n\u001b[1;32m    660\u001b[0m yw_unit \u001b[38;5;241m=\u001b[39m u\u001b[38;5;241m.\u001b[39mUnit(wcs\u001b[38;5;241m.\u001b[39mwcs\u001b[38;5;241m.\u001b[39mcunit[\u001b[38;5;241m1\u001b[39m])\n\u001b[1;32m    662\u001b[0m \u001b[38;5;66;03m# Convert positions to frame\u001b[39;00m\n\u001b[0;32m--> 663\u001b[0m coords \u001b[38;5;241m=\u001b[39m \u001b[43mcoords\u001b[49m\u001b[38;5;241;43m.\u001b[39;49m\u001b[43mtransform_to\u001b[49m\u001b[43m(\u001b[49m\u001b[43mframe\u001b[49m\u001b[43m)\u001b[49m\n\u001b[1;32m    665\u001b[0m \u001b[38;5;66;03m# Extract longitude and latitude. We first try and use lon/lat directly,\u001b[39;00m\n\u001b[1;32m    666\u001b[0m \u001b[38;5;66;03m# but if the representation is not spherical or unit spherical this will\u001b[39;00m\n\u001b[1;32m    667\u001b[0m \u001b[38;5;66;03m# fail. We should then force the use of the unit spherical\u001b[39;00m\n\u001b[1;32m    668\u001b[0m \u001b[38;5;66;03m# representation. We don't do that directly to make sure that we preserve\u001b[39;00m\n\u001b[1;32m    669\u001b[0m \u001b[38;5;66;03m# custom lon/lat representations if available.\u001b[39;00m\n\u001b[1;32m    670\u001b[0m \u001b[38;5;28;01mtry\u001b[39;00m:\n",
      "File \u001b[0;32m~/venvs/general/lib64/python3.9/site-packages/astropy/coordinates/sky_coordinate.py:688\u001b[0m, in \u001b[0;36mSkyCoord.transform_to\u001b[0;34m(self, frame, merge_attributes)\u001b[0m\n\u001b[1;32m    681\u001b[0m     \u001b[38;5;28;01mraise\u001b[39;00m ConvertError(\n\u001b[1;32m    682\u001b[0m         \u001b[38;5;124mf\u001b[39m\u001b[38;5;124m\"\u001b[39m\u001b[38;5;124mCannot transform from \u001b[39m\u001b[38;5;132;01m{\u001b[39;00m\u001b[38;5;28mself\u001b[39m\u001b[38;5;241m.\u001b[39mframe\u001b[38;5;241m.\u001b[39m\u001b[38;5;18m__class__\u001b[39m\u001b[38;5;132;01m}\u001b[39;00m\u001b[38;5;124m to \u001b[39m\u001b[38;5;132;01m{\u001b[39;00mnew_frame_cls\u001b[38;5;132;01m}\u001b[39;00m\u001b[38;5;124m\"\u001b[39m\n\u001b[1;32m    683\u001b[0m     )\n\u001b[1;32m    685\u001b[0m \u001b[38;5;66;03m# Make a generic frame which will accept all the frame kwargs that\u001b[39;00m\n\u001b[1;32m    686\u001b[0m \u001b[38;5;66;03m# are provided and allow for transforming through intermediate frames\u001b[39;00m\n\u001b[1;32m    687\u001b[0m \u001b[38;5;66;03m# which may require one or more of those kwargs.\u001b[39;00m\n\u001b[0;32m--> 688\u001b[0m generic_frame \u001b[38;5;241m=\u001b[39m \u001b[43mGenericFrame\u001b[49m\u001b[43m(\u001b[49m\u001b[43mframe_kwargs\u001b[49m\u001b[43m)\u001b[49m\n\u001b[1;32m    690\u001b[0m \u001b[38;5;66;03m# Do the transformation, returning a coordinate frame of the desired\u001b[39;00m\n\u001b[1;32m    691\u001b[0m \u001b[38;5;66;03m# final type (not generic).\u001b[39;00m\n\u001b[1;32m    692\u001b[0m new_coord \u001b[38;5;241m=\u001b[39m trans(\u001b[38;5;28mself\u001b[39m\u001b[38;5;241m.\u001b[39mframe, generic_frame)\n",
      "File \u001b[0;32m~/venvs/general/lib64/python3.9/site-packages/astropy/coordinates/baseframe.py:1972\u001b[0m, in \u001b[0;36mGenericFrame.__init__\u001b[0;34m(self, frame_attrs)\u001b[0m\n\u001b[1;32m   1971\u001b[0m \u001b[38;5;28;01mdef\u001b[39;00m \u001b[38;5;21m__init__\u001b[39m(\u001b[38;5;28mself\u001b[39m, frame_attrs):\n\u001b[0;32m-> 1972\u001b[0m     \u001b[38;5;28;43mself\u001b[39;49m\u001b[38;5;241;43m.\u001b[39;49m\u001b[43mframe_attributes\u001b[49m \u001b[38;5;241m=\u001b[39m {}\n\u001b[1;32m   1973\u001b[0m     \u001b[38;5;28;01mfor\u001b[39;00m name, default \u001b[38;5;129;01min\u001b[39;00m frame_attrs\u001b[38;5;241m.\u001b[39mitems():\n\u001b[1;32m   1974\u001b[0m         \u001b[38;5;28mself\u001b[39m\u001b[38;5;241m.\u001b[39mframe_attributes[name] \u001b[38;5;241m=\u001b[39m Attribute(default)\n",
      "File \u001b[0;32m~/venvs/general/lib64/python3.9/site-packages/astropy/coordinates/baseframe.py:1989\u001b[0m, in \u001b[0;36mGenericFrame.__setattr__\u001b[0;34m(self, name, value)\u001b[0m\n\u001b[1;32m   1987\u001b[0m     \u001b[38;5;28;01mraise\u001b[39;00m \u001b[38;5;167;01mAttributeError\u001b[39;00m(\u001b[38;5;124mf\u001b[39m\u001b[38;5;124m\"\u001b[39m\u001b[38;5;124mcan\u001b[39m\u001b[38;5;124m'\u001b[39m\u001b[38;5;124mt set frame attribute \u001b[39m\u001b[38;5;124m'\u001b[39m\u001b[38;5;132;01m{\u001b[39;00mname\u001b[38;5;132;01m}\u001b[39;00m\u001b[38;5;124m'\u001b[39m\u001b[38;5;124m\"\u001b[39m)\n\u001b[1;32m   1988\u001b[0m \u001b[38;5;28;01melse\u001b[39;00m:\n\u001b[0;32m-> 1989\u001b[0m     \u001b[38;5;28;43msuper\u001b[39;49m\u001b[43m(\u001b[49m\u001b[43m)\u001b[49m\u001b[38;5;241;43m.\u001b[39;49m\u001b[38;5;21;43m__setattr__\u001b[39;49m\u001b[43m(\u001b[49m\u001b[43mname\u001b[49m\u001b[43m,\u001b[49m\u001b[43m \u001b[49m\u001b[43mvalue\u001b[49m\u001b[43m)\u001b[49m\n",
      "File \u001b[0;32m~/venvs/general/lib64/python3.9/site-packages/astropy/coordinates/baseframe.py:1730\u001b[0m, in \u001b[0;36mBaseCoordinateFrame.__setattr__\u001b[0;34m(self, attr, value)\u001b[0m\n\u001b[1;32m   1728\u001b[0m repr_attr_names \u001b[38;5;241m=\u001b[39m \u001b[38;5;28mset\u001b[39m()\n\u001b[1;32m   1729\u001b[0m \u001b[38;5;28;01mfor\u001b[39;00m representation_attr \u001b[38;5;129;01min\u001b[39;00m \u001b[38;5;28mself\u001b[39m\u001b[38;5;241m.\u001b[39mrepresentation_info\u001b[38;5;241m.\u001b[39mvalues():\n\u001b[0;32m-> 1730\u001b[0m     \u001b[43mrepr_attr_names\u001b[49m\u001b[38;5;241;43m.\u001b[39;49m\u001b[43mupdate\u001b[49m\u001b[43m(\u001b[49m\u001b[43mrepresentation_attr\u001b[49m\u001b[43m[\u001b[49m\u001b[38;5;124;43m\"\u001b[39;49m\u001b[38;5;124;43mnames\u001b[39;49m\u001b[38;5;124;43m\"\u001b[39;49m\u001b[43m]\u001b[49m\u001b[43m)\u001b[49m\n\u001b[1;32m   1732\u001b[0m \u001b[38;5;28;01mif\u001b[39;00m attr \u001b[38;5;129;01min\u001b[39;00m repr_attr_names:\n\u001b[1;32m   1733\u001b[0m     \u001b[38;5;28;01mraise\u001b[39;00m \u001b[38;5;167;01mAttributeError\u001b[39;00m(\u001b[38;5;124mf\u001b[39m\u001b[38;5;124m\"\u001b[39m\u001b[38;5;124mCannot set any frame attribute \u001b[39m\u001b[38;5;132;01m{\u001b[39;00mattr\u001b[38;5;132;01m}\u001b[39;00m\u001b[38;5;124m\"\u001b[39m)\n",
      "\u001b[0;31mKeyboardInterrupt\u001b[0m: "
     ]
    }
   ],
   "source": [
    "freqs = [\"090\", \"150\", \"220\"]\n",
    "#idx = np.where((websky_catalog[1].data[\"M200m\"] == np.amax(websky_catalog[1].data[\"M200m\"])))[0]\n",
    "dr = 30*u.arcmin\n",
    "#i = idx[0]\n",
    "i = 0\n",
    "offset_ra, offset_dec = np.random.rand()*5*u.arcmin, np.random.rand()*5*u.arcmin\n",
    "ra_cent = ras[i]*u.deg+offset_ra\n",
    "dec_cent = decs[i]*u.deg+offset_dec\n",
    "\n",
    "ra_min, ra_max = ra_cent - dr, ra_cent + dr\n",
    "dec_min, dec_max = dec_cent - dr, dec_cent + dr\n",
    "\n",
    "if ra_max < ra_min:\n",
    "    ra_min -= 360\n",
    "\n",
    "box = np.array([[dec_min.value, ra_min.value],[dec_max.value, ra_max.value]]) * utils.degree\n",
    "#Make jpg of box\n",
    "stamp, cur_wcs = make_stamp(\"/mnt/welch/USERS/cwhitaker/maps/websky/websky_f*_map.fits\", box, freqs, normalize = False, reproj=False)\n",
    "\n",
    "#mask = make_mask(stamp, ras, decs, [[ra_min.value, ra_max.value], [dec_min.value, dec_max.value]], cur_wcs, size = 4.8)\n",
    "mask = make_mask(stamp, ras, decs, box, cur_wcs, size = 4.8)"
   ]
  },
  {
   "cell_type": "code",
   "execution_count": null,
   "metadata": {},
   "outputs": [],
   "source": []
  },
  {
   "cell_type": "code",
   "execution_count": null,
   "metadata": {},
   "outputs": [],
   "source": []
  },
  {
   "cell_type": "code",
   "execution_count": null,
   "metadata": {},
   "outputs": [],
   "source": []
  },
  {
   "cell_type": "markdown",
   "metadata": {},
   "source": [
    "# Cluster Centered Stamps for Backbone training"
   ]
  },
  {
   "cell_type": "code",
   "execution_count": 12,
   "metadata": {},
   "outputs": [],
   "source": [
    "act_catalog = fits.open('/gpfs/fs0/project/r/rbond/jorlo/cluster_catalogs/DR5_cluster-catalog_v1.0b2.fits')\n",
    "ras, decs, act_sn = act_catalog[1].data['RADeg'], act_catalog[1].data['decDeg'], act_catalog[1].data['SNR']\n"
   ]
  },
  {
   "cell_type": "code",
   "execution_count": 22,
   "metadata": {},
   "outputs": [],
   "source": [
    "size = 2.5\n",
    "\n",
    "offset = 2.0\n",
    "\n",
    "to_return_90 = []\n",
    "randoms_90 = []\n",
    "map_path = '/home/r/rbond/sigurdkn/project/actpol/map_coadd/20211219/release/'\n",
    "\n",
    "cur_map = enmap.read_map(map_path + 'act_planck_daynight_f{}_map.fits'.format('090'))[0]\n",
    "\n",
    "offsets = []\n",
    "\n",
    "for i, name in enumerate(act_catalog[1].data['name']):\n",
    "    width = 5.0*utils.arcmin\n",
    "    \n",
    "    ra_off, dec_off = np.random.rand(2)*offset*u.arcmin\n",
    "    offsets.append([ra_off, dec_off])\n",
    "    \n",
    "    ra, dec = ras[i]*u.deg, decs[i]*u.deg \n",
    "\n",
    "    ra += offsets[i][0]\n",
    "    dec += offsets[i][1]\n",
    "    \n",
    "    stamp = reproject.thumbnails(cur_map, ( dec.to(u.radian).value,ra.to(u.radian).value), r=width,\n",
    "                        apod = 2*utils.arcmin)\n",
    "    #stamp = normalize_map(stamp)\n",
    "    to_return_90.append(stamp)\n",
    "    \n",
    "    theta, dr = np.random.uniform(0, 2*np.pi), np.random.uniform(5,10)\n",
    "    ra += np.cos(theta)*dr*u.arcmin\n",
    "    dec += np.sin(theta)*dr*u.arcmin\n",
    "    \n",
    "    ra -= offsets[i][0]\n",
    "    dec -= offsets[i][1]\n",
    "    \n",
    "    rand_stamp = reproject.thumbnails(cur_map, ( dec.to(u.radian).value,ra.to(u.radian).value), r=width,\n",
    "                        apod = 2*utils.arcmin)\n",
    "    \n",
    "    randoms_90.append(rand_stamp)\n",
    "    \n",
    "to_return_90 = np.stack(to_return_90, axis=0)\n",
    "randoms_90 = np.stack(randoms_90, axis=0)\n",
    "\n",
    "to_return_150 = []\n",
    "randoms_150 = []\n",
    "\n",
    "cur_map = enmap.read_map(map_path + 'act_planck_daynight_f{}_map.fits'.format('150'))[0]\n",
    "\n",
    "for i, name in enumerate(act_catalog[1].data['name']):\n",
    "    width = 5.0*utils.arcmin\n",
    "    \n",
    "    ra, dec = ras[i]*u.deg, decs[i]*u.deg    \n",
    "\n",
    "    ra += offsets[i][0]\n",
    "    dec += offsets[i][1]\n",
    "    \n",
    "    stamp = reproject.thumbnails(cur_map, ( dec.to(u.radian).value,ra.to(u.radian).value), r=width,\n",
    "                        apod = 2*utils.arcmin)\n",
    "    #stamp = normalize_map(stamp)\n",
    "    to_return_150.append(stamp)\n",
    "    \n",
    "    theta, dr = np.random.uniform(0, 2*np.pi), np.random.uniform(5,10)\n",
    "    ra += np.cos(theta)*dr*u.arcmin\n",
    "    dec += np.sin(theta)*dr*u.arcmin\n",
    "    \n",
    "    rand_stamp = reproject.thumbnails(cur_map, ( dec.to(u.radian).value,ra.to(u.radian).value), r=width,\n",
    "                        apod = 2*utils.arcmin)\n",
    "    \n",
    "    randoms_150.append(rand_stamp)\n",
    "    \n",
    "to_return_150 = np.stack(to_return_150, axis=0)\n",
    "randoms_150 = np.stack(randoms_150, axis=0)\n",
    "\n",
    "to_return_220 = []\n",
    "randoms_220 = []\n",
    "\n",
    "cur_map = enmap.read_map(map_path + 'act_planck_daynight_f{}_map.fits'.format('220'))[0]\n",
    "\n",
    "for i, name in enumerate(act_catalog[1].data['name']):\n",
    "    width = 5.0*utils.arcmin\n",
    "    \n",
    "    ra, dec = ras[i]*u.deg, decs[i]*u.deg    \n",
    "    \n",
    "    \n",
    "    ra += offsets[i][0]\n",
    "    dec += offsets[i][1]\n",
    "\n",
    "    stamp = reproject.thumbnails(cur_map, ( dec.to(u.radian).value,ra.to(u.radian).value), r=width,\n",
    "                        apod = 2*utils.arcmin)\n",
    "    #stamp = normalize_map(stamp)\n",
    "    to_return_220.append(stamp)\n",
    "    \n",
    "    theta, dr = np.random.uniform(0, 2*np.pi), np.random.uniform(5,10)\n",
    "    ra += np.cos(theta)*dr*u.arcmin\n",
    "    dec += np.sin(theta)*dr*u.arcmin\n",
    "    \n",
    "    rand_stamp = reproject.thumbnails(cur_map, ( dec.to(u.radian).value,ra.to(u.radian).value), r=width,\n",
    "                        apod = 2*utils.arcmin)\n",
    "    \n",
    "    randoms_220.append(rand_stamp)\n",
    "    \n",
    "to_return_220 = np.stack(to_return_220, axis=0)\n",
    "randoms_220 = np.stack(randoms_220, axis=0)"
   ]
  },
  {
   "cell_type": "code",
   "execution_count": 23,
   "metadata": {},
   "outputs": [],
   "source": [
    "to_return = np.stack([to_return_90, to_return_150, to_return_220], axis = -1)\n",
    "randoms = np.stack([randoms_90, randoms_150, randoms_220], axis = -1)"
   ]
  },
  {
   "cell_type": "code",
   "execution_count": 24,
   "metadata": {},
   "outputs": [
    {
     "data": {
      "text/plain": [
       "(4195, 41, 41, 3)"
      ]
     },
     "execution_count": 24,
     "metadata": {},
     "output_type": "execute_result"
    }
   ],
   "source": [
    "to_return.shape"
   ]
  },
  {
   "cell_type": "code",
   "execution_count": 25,
   "metadata": {},
   "outputs": [
    {
     "data": {
      "text/plain": [
       "(4195, 41, 41, 3)"
      ]
     },
     "execution_count": 25,
     "metadata": {},
     "output_type": "execute_result"
    }
   ],
   "source": [
    "randoms.shape"
   ]
  },
  {
   "cell_type": "code",
   "execution_count": 26,
   "metadata": {},
   "outputs": [],
   "source": [
    "np.savez_compressed('/project/r/rbond/jorlo/datasets/act_freq_stamps/all_clusters_offset.npz', to_return)\n",
    "np.savez_compressed('/project/r/rbond/jorlo/datasets/act_freq_stamps/randoms.npz', randoms)"
   ]
  },
  {
   "cell_type": "code",
   "execution_count": 27,
   "metadata": {},
   "outputs": [
    {
     "data": {
      "text/plain": [
       "[[<Quantity 1.77377797 arcmin>, <Quantity 1.31512559 arcmin>],\n",
       " [<Quantity 1.42211724 arcmin>, <Quantity 1.85129277 arcmin>],\n",
       " [<Quantity 0.92705887 arcmin>, <Quantity 1.0624802 arcmin>],\n",
       " [<Quantity 0.8689888 arcmin>, <Quantity 0.20484821 arcmin>],\n",
       " [<Quantity 1.98746077 arcmin>, <Quantity 1.77077256 arcmin>],\n",
       " [<Quantity 1.41275386 arcmin>, <Quantity 0.69555906 arcmin>],\n",
       " [<Quantity 0.52207623 arcmin>, <Quantity 0.17776005 arcmin>],\n",
       " [<Quantity 1.60976142 arcmin>, <Quantity 1.73016798 arcmin>],\n",
       " [<Quantity 1.52529009 arcmin>, <Quantity 0.64914156 arcmin>],\n",
       " [<Quantity 1.66635367 arcmin>, <Quantity 0.85762957 arcmin>],\n",
       " [<Quantity 1.51165244 arcmin>, <Quantity 1.27269585 arcmin>],\n",
       " [<Quantity 1.31106619 arcmin>, <Quantity 1.2679472 arcmin>],\n",
       " [<Quantity 0.46878351 arcmin>, <Quantity 0.16954994 arcmin>],\n",
       " [<Quantity 0.71286321 arcmin>, <Quantity 0.51696604 arcmin>],\n",
       " [<Quantity 1.81504139 arcmin>, <Quantity 1.08281158 arcmin>],\n",
       " [<Quantity 1.2960502 arcmin>, <Quantity 1.99854195 arcmin>],\n",
       " [<Quantity 0.88883223 arcmin>, <Quantity 0.00029121 arcmin>],\n",
       " [<Quantity 1.86566483 arcmin>, <Quantity 0.30738184 arcmin>],\n",
       " [<Quantity 1.07071972 arcmin>, <Quantity 1.74097271 arcmin>],\n",
       " [<Quantity 1.12898863 arcmin>, <Quantity 1.18113507 arcmin>],\n",
       " [<Quantity 0.01818489 arcmin>, <Quantity 1.22174064 arcmin>],\n",
       " [<Quantity 1.15078934 arcmin>, <Quantity 0.59900319 arcmin>],\n",
       " [<Quantity 0.97142683 arcmin>, <Quantity 1.81395376 arcmin>],\n",
       " [<Quantity 1.40519648 arcmin>, <Quantity 0.10382747 arcmin>],\n",
       " [<Quantity 1.61124365 arcmin>, <Quantity 1.70774249 arcmin>],\n",
       " [<Quantity 0.70291946 arcmin>, <Quantity 1.7128083 arcmin>],\n",
       " [<Quantity 1.54208312 arcmin>, <Quantity 0.41672578 arcmin>],\n",
       " [<Quantity 1.33944411 arcmin>, <Quantity 0.88394452 arcmin>],\n",
       " [<Quantity 0.77090436 arcmin>, <Quantity 1.5514307 arcmin>],\n",
       " [<Quantity 0.63041793 arcmin>, <Quantity 0.33800153 arcmin>],\n",
       " [<Quantity 1.00298911 arcmin>, <Quantity 0.44351608 arcmin>],\n",
       " [<Quantity 0.75705349 arcmin>, <Quantity 0.03555491 arcmin>],\n",
       " [<Quantity 0.64656716 arcmin>, <Quantity 1.44664575 arcmin>],\n",
       " [<Quantity 0.08295041 arcmin>, <Quantity 0.23454359 arcmin>],\n",
       " [<Quantity 0.49762273 arcmin>, <Quantity 0.96133736 arcmin>],\n",
       " [<Quantity 0.9917398 arcmin>, <Quantity 0.05106401 arcmin>],\n",
       " [<Quantity 0.12662865 arcmin>, <Quantity 1.47235468 arcmin>],\n",
       " [<Quantity 1.95360269 arcmin>, <Quantity 0.66550164 arcmin>],\n",
       " [<Quantity 0.1649911 arcmin>, <Quantity 1.66799063 arcmin>],\n",
       " [<Quantity 1.47305742 arcmin>, <Quantity 0.73011295 arcmin>],\n",
       " [<Quantity 0.26555021 arcmin>, <Quantity 0.33377805 arcmin>],\n",
       " [<Quantity 0.94365436 arcmin>, <Quantity 1.56169539 arcmin>],\n",
       " [<Quantity 1.88516916 arcmin>, <Quantity 0.10442994 arcmin>],\n",
       " [<Quantity 0.77659685 arcmin>, <Quantity 1.28880474 arcmin>],\n",
       " [<Quantity 0.1705867 arcmin>, <Quantity 0.9363752 arcmin>],\n",
       " [<Quantity 0.41944307 arcmin>, <Quantity 1.91760668 arcmin>],\n",
       " [<Quantity 0.08641996 arcmin>, <Quantity 1.37751208 arcmin>],\n",
       " [<Quantity 1.26488392 arcmin>, <Quantity 1.06918398 arcmin>],\n",
       " [<Quantity 0.14177206 arcmin>, <Quantity 0.21502262 arcmin>],\n",
       " [<Quantity 0.82357021 arcmin>, <Quantity 1.47483853 arcmin>],\n",
       " [<Quantity 0.63690404 arcmin>, <Quantity 0.93765586 arcmin>],\n",
       " [<Quantity 1.90596947 arcmin>, <Quantity 0.50848231 arcmin>],\n",
       " [<Quantity 1.99303059 arcmin>, <Quantity 0.29402289 arcmin>],\n",
       " [<Quantity 0.20588307 arcmin>, <Quantity 1.85122587 arcmin>],\n",
       " [<Quantity 0.20618937 arcmin>, <Quantity 0.69043117 arcmin>],\n",
       " [<Quantity 0.19464457 arcmin>, <Quantity 0.89262796 arcmin>],\n",
       " [<Quantity 0.0853351 arcmin>, <Quantity 1.39324182 arcmin>],\n",
       " [<Quantity 0.56586986 arcmin>, <Quantity 0.34211211 arcmin>],\n",
       " [<Quantity 0.39104022 arcmin>, <Quantity 1.09528459 arcmin>],\n",
       " [<Quantity 1.9188876 arcmin>, <Quantity 0.07850067 arcmin>],\n",
       " [<Quantity 1.30974109 arcmin>, <Quantity 0.00724615 arcmin>],\n",
       " [<Quantity 0.21864021 arcmin>, <Quantity 0.08997001 arcmin>],\n",
       " [<Quantity 0.14158109 arcmin>, <Quantity 1.80482964 arcmin>],\n",
       " [<Quantity 0.21723111 arcmin>, <Quantity 0.58133654 arcmin>],\n",
       " [<Quantity 0.01624348 arcmin>, <Quantity 1.24247881 arcmin>],\n",
       " [<Quantity 1.81714722 arcmin>, <Quantity 1.93811819 arcmin>],\n",
       " [<Quantity 1.53621728 arcmin>, <Quantity 1.70783101 arcmin>],\n",
       " [<Quantity 1.04292166 arcmin>, <Quantity 1.27753345 arcmin>],\n",
       " [<Quantity 1.63039221 arcmin>, <Quantity 1.83952358 arcmin>],\n",
       " [<Quantity 1.29918496 arcmin>, <Quantity 1.88357226 arcmin>],\n",
       " [<Quantity 0.97990377 arcmin>, <Quantity 0.63633519 arcmin>],\n",
       " [<Quantity 0.0351227 arcmin>, <Quantity 1.58984956 arcmin>],\n",
       " [<Quantity 1.77054347 arcmin>, <Quantity 1.94938306 arcmin>],\n",
       " [<Quantity 0.85631646 arcmin>, <Quantity 0.63415342 arcmin>],\n",
       " [<Quantity 1.32780144 arcmin>, <Quantity 1.99690362 arcmin>],\n",
       " [<Quantity 0.68206521 arcmin>, <Quantity 1.9683925 arcmin>],\n",
       " [<Quantity 0.21335168 arcmin>, <Quantity 0.33795009 arcmin>],\n",
       " [<Quantity 0.38678971 arcmin>, <Quantity 1.09780305 arcmin>],\n",
       " [<Quantity 1.12094167 arcmin>, <Quantity 1.65030425 arcmin>],\n",
       " [<Quantity 1.78881881 arcmin>, <Quantity 1.56707354 arcmin>],\n",
       " [<Quantity 0.07942768 arcmin>, <Quantity 1.98293794 arcmin>],\n",
       " [<Quantity 1.30278888 arcmin>, <Quantity 1.81057579 arcmin>],\n",
       " [<Quantity 0.9278485 arcmin>, <Quantity 1.00511438 arcmin>],\n",
       " [<Quantity 1.62018746 arcmin>, <Quantity 0.05715039 arcmin>],\n",
       " [<Quantity 0.11347328 arcmin>, <Quantity 0.21088483 arcmin>],\n",
       " [<Quantity 1.79441041 arcmin>, <Quantity 1.67392027 arcmin>],\n",
       " [<Quantity 0.0100753 arcmin>, <Quantity 1.14295228 arcmin>],\n",
       " [<Quantity 1.58999209 arcmin>, <Quantity 0.38897222 arcmin>],\n",
       " [<Quantity 0.79454145 arcmin>, <Quantity 0.30220753 arcmin>],\n",
       " [<Quantity 1.30203215 arcmin>, <Quantity 1.59794133 arcmin>],\n",
       " [<Quantity 1.96115799 arcmin>, <Quantity 0.38651345 arcmin>],\n",
       " [<Quantity 0.59573433 arcmin>, <Quantity 1.14704742 arcmin>],\n",
       " [<Quantity 1.57014799 arcmin>, <Quantity 0.42001346 arcmin>],\n",
       " [<Quantity 1.46471007 arcmin>, <Quantity 0.83788638 arcmin>],\n",
       " [<Quantity 1.21165538 arcmin>, <Quantity 1.12508599 arcmin>],\n",
       " [<Quantity 0.50382952 arcmin>, <Quantity 1.54966527 arcmin>],\n",
       " [<Quantity 1.28681602 arcmin>, <Quantity 1.2752387 arcmin>],\n",
       " [<Quantity 0.6133452 arcmin>, <Quantity 1.09166102 arcmin>],\n",
       " [<Quantity 1.66093565 arcmin>, <Quantity 1.75547714 arcmin>],\n",
       " [<Quantity 0.5455123 arcmin>, <Quantity 0.21033507 arcmin>],\n",
       " [<Quantity 1.08804687 arcmin>, <Quantity 1.39471808 arcmin>],\n",
       " [<Quantity 0.20560225 arcmin>, <Quantity 0.49686138 arcmin>],\n",
       " [<Quantity 0.89995959 arcmin>, <Quantity 0.58713434 arcmin>],\n",
       " [<Quantity 0.97017433 arcmin>, <Quantity 1.85416617 arcmin>],\n",
       " [<Quantity 0.40559114 arcmin>, <Quantity 0.1344962 arcmin>],\n",
       " [<Quantity 1.92188992 arcmin>, <Quantity 1.32120413 arcmin>],\n",
       " [<Quantity 0.58959638 arcmin>, <Quantity 1.54817785 arcmin>],\n",
       " [<Quantity 0.51646724 arcmin>, <Quantity 0.14440345 arcmin>],\n",
       " [<Quantity 0.66780507 arcmin>, <Quantity 0.0291964 arcmin>],\n",
       " [<Quantity 0.87044624 arcmin>, <Quantity 1.81288906 arcmin>],\n",
       " [<Quantity 1.60270142 arcmin>, <Quantity 0.55179732 arcmin>],\n",
       " [<Quantity 0.14995435 arcmin>, <Quantity 0.60822774 arcmin>],\n",
       " [<Quantity 0.54285611 arcmin>, <Quantity 1.18831667 arcmin>],\n",
       " [<Quantity 0.45132932 arcmin>, <Quantity 1.37839062 arcmin>],\n",
       " [<Quantity 1.39727316 arcmin>, <Quantity 1.15396483 arcmin>],\n",
       " [<Quantity 1.7078187 arcmin>, <Quantity 0.18729861 arcmin>],\n",
       " [<Quantity 1.81969913 arcmin>, <Quantity 0.89196469 arcmin>],\n",
       " [<Quantity 0.1974707 arcmin>, <Quantity 1.94868734 arcmin>],\n",
       " [<Quantity 1.31643592 arcmin>, <Quantity 1.99424097 arcmin>],\n",
       " [<Quantity 0.65458061 arcmin>, <Quantity 1.7702402 arcmin>],\n",
       " [<Quantity 0.47531036 arcmin>, <Quantity 0.55405388 arcmin>],\n",
       " [<Quantity 0.58057961 arcmin>, <Quantity 1.69444573 arcmin>],\n",
       " [<Quantity 0.54464192 arcmin>, <Quantity 0.98325325 arcmin>],\n",
       " [<Quantity 0.49539391 arcmin>, <Quantity 0.66678476 arcmin>],\n",
       " [<Quantity 1.30249918 arcmin>, <Quantity 1.49455578 arcmin>],\n",
       " [<Quantity 0.7493477 arcmin>, <Quantity 1.27490638 arcmin>],\n",
       " [<Quantity 0.27038787 arcmin>, <Quantity 1.4021227 arcmin>],\n",
       " [<Quantity 1.07749516 arcmin>, <Quantity 1.42731955 arcmin>],\n",
       " [<Quantity 1.93476316 arcmin>, <Quantity 0.52355279 arcmin>],\n",
       " [<Quantity 1.21236218 arcmin>, <Quantity 0.80599729 arcmin>],\n",
       " [<Quantity 1.88208541 arcmin>, <Quantity 1.15972391 arcmin>],\n",
       " [<Quantity 1.03300099 arcmin>, <Quantity 0.40568282 arcmin>],\n",
       " [<Quantity 0.84014065 arcmin>, <Quantity 0.44038789 arcmin>],\n",
       " [<Quantity 1.85325161 arcmin>, <Quantity 0.26298526 arcmin>],\n",
       " [<Quantity 0.42643397 arcmin>, <Quantity 1.14627878 arcmin>],\n",
       " [<Quantity 0.03317599 arcmin>, <Quantity 1.34799924 arcmin>],\n",
       " [<Quantity 1.53263869 arcmin>, <Quantity 1.60964681 arcmin>],\n",
       " [<Quantity 0.73059705 arcmin>, <Quantity 1.13109033 arcmin>],\n",
       " [<Quantity 0.01665652 arcmin>, <Quantity 0.1216566 arcmin>],\n",
       " [<Quantity 1.76777269 arcmin>, <Quantity 1.95895667 arcmin>],\n",
       " [<Quantity 0.31036183 arcmin>, <Quantity 0.84260042 arcmin>],\n",
       " [<Quantity 1.32032689 arcmin>, <Quantity 0.37370898 arcmin>],\n",
       " [<Quantity 0.40146577 arcmin>, <Quantity 1.43128838 arcmin>],\n",
       " [<Quantity 1.99093783 arcmin>, <Quantity 1.21785984 arcmin>],\n",
       " [<Quantity 0.63125834 arcmin>, <Quantity 0.22155123 arcmin>],\n",
       " [<Quantity 1.41497239 arcmin>, <Quantity 0.42268476 arcmin>],\n",
       " [<Quantity 0.51757316 arcmin>, <Quantity 0.00654997 arcmin>],\n",
       " [<Quantity 0.67134601 arcmin>, <Quantity 1.28943723 arcmin>],\n",
       " [<Quantity 0.74672987 arcmin>, <Quantity 0.16813988 arcmin>],\n",
       " [<Quantity 0.17593224 arcmin>, <Quantity 0.46218343 arcmin>],\n",
       " [<Quantity 1.49852216 arcmin>, <Quantity 1.22567853 arcmin>],\n",
       " [<Quantity 1.46830103 arcmin>, <Quantity 1.24200701 arcmin>],\n",
       " [<Quantity 1.01990638 arcmin>, <Quantity 0.73455412 arcmin>],\n",
       " [<Quantity 1.21906483 arcmin>, <Quantity 1.61752191 arcmin>],\n",
       " [<Quantity 0.95054574 arcmin>, <Quantity 1.16611946 arcmin>],\n",
       " [<Quantity 1.07550118 arcmin>, <Quantity 0.42267868 arcmin>],\n",
       " [<Quantity 1.37925582 arcmin>, <Quantity 1.78943506 arcmin>],\n",
       " [<Quantity 0.93134145 arcmin>, <Quantity 0.48726578 arcmin>],\n",
       " [<Quantity 0.24369797 arcmin>, <Quantity 1.21063302 arcmin>],\n",
       " [<Quantity 0.686277 arcmin>, <Quantity 1.160214 arcmin>],\n",
       " [<Quantity 0.62407026 arcmin>, <Quantity 1.58965578 arcmin>],\n",
       " [<Quantity 0.98090324 arcmin>, <Quantity 0.11555962 arcmin>],\n",
       " [<Quantity 1.93674502 arcmin>, <Quantity 1.33395602 arcmin>],\n",
       " [<Quantity 0.23304253 arcmin>, <Quantity 0.76904128 arcmin>],\n",
       " [<Quantity 1.06855498 arcmin>, <Quantity 1.41795946 arcmin>],\n",
       " [<Quantity 1.24392512 arcmin>, <Quantity 1.84029821 arcmin>],\n",
       " [<Quantity 1.82188459 arcmin>, <Quantity 1.80477884 arcmin>],\n",
       " [<Quantity 1.6335732 arcmin>, <Quantity 0.14302813 arcmin>],\n",
       " [<Quantity 1.23120033 arcmin>, <Quantity 0.53936987 arcmin>],\n",
       " [<Quantity 1.49000535 arcmin>, <Quantity 0.64155631 arcmin>],\n",
       " [<Quantity 1.71365306 arcmin>, <Quantity 1.35023238 arcmin>],\n",
       " [<Quantity 0.79328798 arcmin>, <Quantity 1.38775563 arcmin>],\n",
       " [<Quantity 1.84199466 arcmin>, <Quantity 1.696478 arcmin>],\n",
       " [<Quantity 0.63656613 arcmin>, <Quantity 0.75574434 arcmin>],\n",
       " [<Quantity 1.66692728 arcmin>, <Quantity 0.91193335 arcmin>],\n",
       " [<Quantity 0.68713227 arcmin>, <Quantity 0.56052061 arcmin>],\n",
       " [<Quantity 0.94054135 arcmin>, <Quantity 0.0750691 arcmin>],\n",
       " [<Quantity 0.02772288 arcmin>, <Quantity 1.00760333 arcmin>],\n",
       " [<Quantity 1.26704039 arcmin>, <Quantity 0.73483537 arcmin>],\n",
       " [<Quantity 1.50019944 arcmin>, <Quantity 1.37759701 arcmin>],\n",
       " [<Quantity 0.97101267 arcmin>, <Quantity 1.2629929 arcmin>],\n",
       " [<Quantity 1.82147567 arcmin>, <Quantity 1.48285596 arcmin>],\n",
       " [<Quantity 1.03831136 arcmin>, <Quantity 1.26046859 arcmin>],\n",
       " [<Quantity 1.16137788 arcmin>, <Quantity 0.99412319 arcmin>],\n",
       " [<Quantity 0.33738786 arcmin>, <Quantity 1.42733032 arcmin>],\n",
       " [<Quantity 1.72087289 arcmin>, <Quantity 1.64728671 arcmin>],\n",
       " [<Quantity 1.36250357 arcmin>, <Quantity 0.69576145 arcmin>],\n",
       " [<Quantity 0.58499626 arcmin>, <Quantity 1.30147601 arcmin>],\n",
       " [<Quantity 1.64226478 arcmin>, <Quantity 1.10843578 arcmin>],\n",
       " [<Quantity 1.06428952 arcmin>, <Quantity 1.89291134 arcmin>],\n",
       " [<Quantity 0.56974287 arcmin>, <Quantity 0.54467791 arcmin>],\n",
       " [<Quantity 1.22879382 arcmin>, <Quantity 0.73906834 arcmin>],\n",
       " [<Quantity 0.27936161 arcmin>, <Quantity 1.47764024 arcmin>],\n",
       " [<Quantity 1.34228505 arcmin>, <Quantity 0.92231262 arcmin>],\n",
       " [<Quantity 1.85807697 arcmin>, <Quantity 1.25982348 arcmin>],\n",
       " [<Quantity 1.89205242 arcmin>, <Quantity 1.15668891 arcmin>],\n",
       " [<Quantity 0.45844871 arcmin>, <Quantity 0.53568583 arcmin>],\n",
       " [<Quantity 1.57975293 arcmin>, <Quantity 0.68525322 arcmin>],\n",
       " [<Quantity 1.53245163 arcmin>, <Quantity 1.86059549 arcmin>],\n",
       " [<Quantity 0.97327306 arcmin>, <Quantity 1.86920553 arcmin>],\n",
       " [<Quantity 1.54323746 arcmin>, <Quantity 1.0845815 arcmin>],\n",
       " [<Quantity 0.32071082 arcmin>, <Quantity 1.80043662 arcmin>],\n",
       " [<Quantity 0.79900641 arcmin>, <Quantity 1.02045777 arcmin>],\n",
       " [<Quantity 1.39915594 arcmin>, <Quantity 1.82690959 arcmin>],\n",
       " [<Quantity 1.16156604 arcmin>, <Quantity 0.6721022 arcmin>],\n",
       " [<Quantity 0.0262508 arcmin>, <Quantity 0.58426383 arcmin>],\n",
       " [<Quantity 1.92133716 arcmin>, <Quantity 1.28336348 arcmin>],\n",
       " [<Quantity 1.85562065 arcmin>, <Quantity 0.84991891 arcmin>],\n",
       " [<Quantity 1.41189312 arcmin>, <Quantity 1.09185916 arcmin>],\n",
       " [<Quantity 0.74306275 arcmin>, <Quantity 1.73516996 arcmin>],\n",
       " [<Quantity 1.36723328 arcmin>, <Quantity 0.56347512 arcmin>],\n",
       " [<Quantity 0.80939409 arcmin>, <Quantity 1.05729828 arcmin>],\n",
       " [<Quantity 0.05005474 arcmin>, <Quantity 1.99288003 arcmin>],\n",
       " [<Quantity 1.46696244 arcmin>, <Quantity 1.35971782 arcmin>],\n",
       " [<Quantity 0.2940952 arcmin>, <Quantity 0.74565971 arcmin>],\n",
       " [<Quantity 0.24772565 arcmin>, <Quantity 1.53935169 arcmin>],\n",
       " [<Quantity 0.20015723 arcmin>, <Quantity 1.57255401 arcmin>],\n",
       " [<Quantity 1.24966026 arcmin>, <Quantity 1.38020205 arcmin>],\n",
       " [<Quantity 1.74490756 arcmin>, <Quantity 1.69885581 arcmin>],\n",
       " [<Quantity 1.94217063 arcmin>, <Quantity 1.77691896 arcmin>],\n",
       " [<Quantity 0.62529247 arcmin>, <Quantity 0.65596755 arcmin>],\n",
       " [<Quantity 0.12372089 arcmin>, <Quantity 0.83336575 arcmin>],\n",
       " [<Quantity 0.11648924 arcmin>, <Quantity 0.7497092 arcmin>],\n",
       " [<Quantity 0.27224096 arcmin>, <Quantity 0.34455011 arcmin>],\n",
       " [<Quantity 1.51228089 arcmin>, <Quantity 1.23199809 arcmin>],\n",
       " [<Quantity 1.71820101 arcmin>, <Quantity 1.91156237 arcmin>],\n",
       " [<Quantity 0.32144237 arcmin>, <Quantity 0.84706898 arcmin>],\n",
       " [<Quantity 0.13968118 arcmin>, <Quantity 1.04146761 arcmin>],\n",
       " [<Quantity 0.5369117 arcmin>, <Quantity 0.65230019 arcmin>],\n",
       " [<Quantity 1.01629752 arcmin>, <Quantity 0.33566402 arcmin>],\n",
       " [<Quantity 0.52166096 arcmin>, <Quantity 0.22970323 arcmin>],\n",
       " [<Quantity 0.90253184 arcmin>, <Quantity 0.08391744 arcmin>],\n",
       " [<Quantity 1.08662353 arcmin>, <Quantity 1.887903 arcmin>],\n",
       " [<Quantity 1.66609572 arcmin>, <Quantity 0.05385584 arcmin>],\n",
       " [<Quantity 1.13632782 arcmin>, <Quantity 1.63819655 arcmin>],\n",
       " [<Quantity 1.10585264 arcmin>, <Quantity 1.2112987 arcmin>],\n",
       " [<Quantity 0.46457987 arcmin>, <Quantity 0.74028347 arcmin>],\n",
       " [<Quantity 0.99063227 arcmin>, <Quantity 1.50741401 arcmin>],\n",
       " [<Quantity 0.87322094 arcmin>, <Quantity 0.8646042 arcmin>],\n",
       " [<Quantity 0.22393402 arcmin>, <Quantity 0.27519142 arcmin>],\n",
       " [<Quantity 0.3356537 arcmin>, <Quantity 1.53977073 arcmin>],\n",
       " [<Quantity 1.25744202 arcmin>, <Quantity 0.35534703 arcmin>],\n",
       " [<Quantity 1.50649286 arcmin>, <Quantity 0.96142111 arcmin>],\n",
       " [<Quantity 1.89498576 arcmin>, <Quantity 1.47512102 arcmin>],\n",
       " [<Quantity 1.25488738 arcmin>, <Quantity 1.02857985 arcmin>],\n",
       " [<Quantity 1.62431177 arcmin>, <Quantity 1.97615073 arcmin>],\n",
       " [<Quantity 0.17479183 arcmin>, <Quantity 1.3537353 arcmin>],\n",
       " [<Quantity 0.20133389 arcmin>, <Quantity 1.24502353 arcmin>],\n",
       " [<Quantity 1.04288225 arcmin>, <Quantity 0.16472132 arcmin>],\n",
       " [<Quantity 0.22152834 arcmin>, <Quantity 1.87734562 arcmin>],\n",
       " [<Quantity 1.85206639 arcmin>, <Quantity 1.18649291 arcmin>],\n",
       " [<Quantity 1.05994044 arcmin>, <Quantity 1.33173525 arcmin>],\n",
       " [<Quantity 1.90988138 arcmin>, <Quantity 0.52350209 arcmin>],\n",
       " [<Quantity 0.65187784 arcmin>, <Quantity 1.86715864 arcmin>],\n",
       " [<Quantity 0.03466783 arcmin>, <Quantity 1.964367 arcmin>],\n",
       " [<Quantity 0.5583968 arcmin>, <Quantity 1.68975776 arcmin>],\n",
       " [<Quantity 1.61194324 arcmin>, <Quantity 0.80594715 arcmin>],\n",
       " [<Quantity 0.75665176 arcmin>, <Quantity 0.31777307 arcmin>],\n",
       " [<Quantity 0.51365944 arcmin>, <Quantity 1.9926728 arcmin>],\n",
       " [<Quantity 0.14558801 arcmin>, <Quantity 0.87450853 arcmin>],\n",
       " [<Quantity 1.67898413 arcmin>, <Quantity 1.99739543 arcmin>],\n",
       " [<Quantity 0.02326909 arcmin>, <Quantity 1.48452835 arcmin>],\n",
       " [<Quantity 1.54882631 arcmin>, <Quantity 1.2096498 arcmin>],\n",
       " [<Quantity 0.83678474 arcmin>, <Quantity 1.80728141 arcmin>],\n",
       " [<Quantity 1.81292685 arcmin>, <Quantity 1.47477692 arcmin>],\n",
       " [<Quantity 1.69686872 arcmin>, <Quantity 1.45703138 arcmin>],\n",
       " [<Quantity 0.14192055 arcmin>, <Quantity 1.3295914 arcmin>],\n",
       " [<Quantity 1.36394546 arcmin>, <Quantity 1.73212206 arcmin>],\n",
       " [<Quantity 0.04571535 arcmin>, <Quantity 0.6794659 arcmin>],\n",
       " [<Quantity 1.81868644 arcmin>, <Quantity 1.09684917 arcmin>],\n",
       " [<Quantity 1.70163471 arcmin>, <Quantity 1.56916643 arcmin>],\n",
       " [<Quantity 0.60992611 arcmin>, <Quantity 1.55846254 arcmin>],\n",
       " [<Quantity 0.01264757 arcmin>, <Quantity 1.63122854 arcmin>],\n",
       " [<Quantity 0.13523046 arcmin>, <Quantity 0.59416112 arcmin>],\n",
       " [<Quantity 0.55719253 arcmin>, <Quantity 0.35381337 arcmin>],\n",
       " [<Quantity 1.36551717 arcmin>, <Quantity 1.66475278 arcmin>],\n",
       " [<Quantity 0.50566038 arcmin>, <Quantity 1.42803673 arcmin>],\n",
       " [<Quantity 0.96017564 arcmin>, <Quantity 0.77251349 arcmin>],\n",
       " [<Quantity 1.01176792 arcmin>, <Quantity 0.63039831 arcmin>],\n",
       " [<Quantity 0.17520713 arcmin>, <Quantity 1.35665314 arcmin>],\n",
       " [<Quantity 1.38464945 arcmin>, <Quantity 1.54860443 arcmin>],\n",
       " [<Quantity 0.19282349 arcmin>, <Quantity 1.07010599 arcmin>],\n",
       " [<Quantity 1.4011607 arcmin>, <Quantity 0.98708772 arcmin>],\n",
       " [<Quantity 1.08369201 arcmin>, <Quantity 1.67338558 arcmin>],\n",
       " [<Quantity 1.22070012 arcmin>, <Quantity 1.15466048 arcmin>],\n",
       " [<Quantity 0.57384488 arcmin>, <Quantity 1.78673164 arcmin>],\n",
       " [<Quantity 0.1562721 arcmin>, <Quantity 0.64248446 arcmin>],\n",
       " [<Quantity 0.25693495 arcmin>, <Quantity 0.87190322 arcmin>],\n",
       " [<Quantity 1.86733624 arcmin>, <Quantity 0.63048606 arcmin>],\n",
       " [<Quantity 1.97379843 arcmin>, <Quantity 0.58199005 arcmin>],\n",
       " [<Quantity 0.09657728 arcmin>, <Quantity 1.00532999 arcmin>],\n",
       " [<Quantity 1.11899538 arcmin>, <Quantity 1.53389338 arcmin>],\n",
       " [<Quantity 0.03778424 arcmin>, <Quantity 1.28574408 arcmin>],\n",
       " [<Quantity 0.46923478 arcmin>, <Quantity 1.00900834 arcmin>],\n",
       " [<Quantity 1.58519383 arcmin>, <Quantity 1.19276383 arcmin>],\n",
       " [<Quantity 1.17492536 arcmin>, <Quantity 0.36335117 arcmin>],\n",
       " [<Quantity 0.20186444 arcmin>, <Quantity 0.53082008 arcmin>],\n",
       " [<Quantity 1.23429291 arcmin>, <Quantity 0.87077336 arcmin>],\n",
       " [<Quantity 0.34003624 arcmin>, <Quantity 1.4112283 arcmin>],\n",
       " [<Quantity 0.42175195 arcmin>, <Quantity 1.85122344 arcmin>],\n",
       " [<Quantity 0.33585676 arcmin>, <Quantity 0.26583945 arcmin>],\n",
       " [<Quantity 1.82143034 arcmin>, <Quantity 0.67477877 arcmin>],\n",
       " [<Quantity 1.69116852 arcmin>, <Quantity 1.885102 arcmin>],\n",
       " [<Quantity 1.70682444 arcmin>, <Quantity 0.59487566 arcmin>],\n",
       " [<Quantity 1.92286807 arcmin>, <Quantity 1.55456599 arcmin>],\n",
       " [<Quantity 0.75883981 arcmin>, <Quantity 0.76287506 arcmin>],\n",
       " [<Quantity 0.68008892 arcmin>, <Quantity 1.41319684 arcmin>],\n",
       " [<Quantity 1.66893546 arcmin>, <Quantity 1.94692641 arcmin>],\n",
       " [<Quantity 1.44228004 arcmin>, <Quantity 0.17748821 arcmin>],\n",
       " [<Quantity 0.60235367 arcmin>, <Quantity 1.29426212 arcmin>],\n",
       " [<Quantity 0.97544665 arcmin>, <Quantity 1.8896917 arcmin>],\n",
       " [<Quantity 1.62587411 arcmin>, <Quantity 0.87935457 arcmin>],\n",
       " [<Quantity 0.74898684 arcmin>, <Quantity 0.30920729 arcmin>],\n",
       " [<Quantity 1.56577558 arcmin>, <Quantity 1.39606204 arcmin>],\n",
       " [<Quantity 1.46613155 arcmin>, <Quantity 0.71903045 arcmin>],\n",
       " [<Quantity 0.88438065 arcmin>, <Quantity 0.13996796 arcmin>],\n",
       " [<Quantity 0.46396745 arcmin>, <Quantity 0.75372846 arcmin>],\n",
       " [<Quantity 1.10180027 arcmin>, <Quantity 0.17482843 arcmin>],\n",
       " [<Quantity 0.36287553 arcmin>, <Quantity 1.48553316 arcmin>],\n",
       " [<Quantity 0.66866532 arcmin>, <Quantity 1.15922799 arcmin>],\n",
       " [<Quantity 0.71634593 arcmin>, <Quantity 0.24096649 arcmin>],\n",
       " [<Quantity 1.88401984 arcmin>, <Quantity 1.28291907 arcmin>],\n",
       " [<Quantity 0.41025899 arcmin>, <Quantity 1.23432783 arcmin>],\n",
       " [<Quantity 1.3251549 arcmin>, <Quantity 1.32159396 arcmin>],\n",
       " [<Quantity 0.52740836 arcmin>, <Quantity 1.7919075 arcmin>],\n",
       " [<Quantity 0.98163043 arcmin>, <Quantity 0.06517722 arcmin>],\n",
       " [<Quantity 0.18601128 arcmin>, <Quantity 1.17967284 arcmin>],\n",
       " [<Quantity 0.80946768 arcmin>, <Quantity 1.37682007 arcmin>],\n",
       " [<Quantity 0.52029767 arcmin>, <Quantity 0.41214566 arcmin>],\n",
       " [<Quantity 0.38256525 arcmin>, <Quantity 1.14946253 arcmin>],\n",
       " [<Quantity 0.19585919 arcmin>, <Quantity 1.51911463 arcmin>],\n",
       " [<Quantity 1.61077657 arcmin>, <Quantity 0.25541255 arcmin>],\n",
       " [<Quantity 0.48466828 arcmin>, <Quantity 1.15784808 arcmin>],\n",
       " [<Quantity 1.69039659 arcmin>, <Quantity 1.66691635 arcmin>],\n",
       " [<Quantity 0.34342653 arcmin>, <Quantity 0.05627916 arcmin>],\n",
       " [<Quantity 1.77346409 arcmin>, <Quantity 0.81870453 arcmin>],\n",
       " [<Quantity 1.24010275 arcmin>, <Quantity 1.89144637 arcmin>],\n",
       " [<Quantity 1.61126367 arcmin>, <Quantity 1.21817881 arcmin>],\n",
       " [<Quantity 1.55355454 arcmin>, <Quantity 1.97628579 arcmin>],\n",
       " [<Quantity 1.19648218 arcmin>, <Quantity 1.23687323 arcmin>],\n",
       " [<Quantity 0.18278137 arcmin>, <Quantity 0.31216728 arcmin>],\n",
       " [<Quantity 1.83755491 arcmin>, <Quantity 1.93223741 arcmin>],\n",
       " [<Quantity 0.30540054 arcmin>, <Quantity 1.52722213 arcmin>],\n",
       " [<Quantity 0.98606223 arcmin>, <Quantity 0.0277408 arcmin>],\n",
       " [<Quantity 1.15638724 arcmin>, <Quantity 1.73096343 arcmin>],\n",
       " [<Quantity 1.82407429 arcmin>, <Quantity 1.2381413 arcmin>],\n",
       " [<Quantity 1.10347872 arcmin>, <Quantity 0.50837761 arcmin>],\n",
       " [<Quantity 1.48489495 arcmin>, <Quantity 1.6223445 arcmin>],\n",
       " [<Quantity 0.06332838 arcmin>, <Quantity 0.75419014 arcmin>],\n",
       " [<Quantity 0.14498746 arcmin>, <Quantity 0.86948291 arcmin>],\n",
       " [<Quantity 1.46412742 arcmin>, <Quantity 1.68779355 arcmin>],\n",
       " [<Quantity 0.36338987 arcmin>, <Quantity 1.71592137 arcmin>],\n",
       " [<Quantity 0.72860292 arcmin>, <Quantity 0.52874461 arcmin>],\n",
       " [<Quantity 0.09191612 arcmin>, <Quantity 1.70985976 arcmin>],\n",
       " [<Quantity 1.23182101 arcmin>, <Quantity 0.69949514 arcmin>],\n",
       " [<Quantity 1.45830519 arcmin>, <Quantity 0.40745493 arcmin>],\n",
       " [<Quantity 1.77661172 arcmin>, <Quantity 1.58946288 arcmin>],\n",
       " [<Quantity 0.42967025 arcmin>, <Quantity 0.09926401 arcmin>],\n",
       " [<Quantity 1.56881807 arcmin>, <Quantity 1.60606813 arcmin>],\n",
       " [<Quantity 1.09198216 arcmin>, <Quantity 1.69145639 arcmin>],\n",
       " [<Quantity 0.80253584 arcmin>, <Quantity 1.82539366 arcmin>],\n",
       " [<Quantity 1.24541593 arcmin>, <Quantity 1.88773743 arcmin>],\n",
       " [<Quantity 1.24950525 arcmin>, <Quantity 0.56127285 arcmin>],\n",
       " [<Quantity 0.6204093 arcmin>, <Quantity 1.09726163 arcmin>],\n",
       " [<Quantity 0.65942546 arcmin>, <Quantity 0.67050163 arcmin>],\n",
       " [<Quantity 0.6831179 arcmin>, <Quantity 1.18513418 arcmin>],\n",
       " [<Quantity 1.30688738 arcmin>, <Quantity 1.96660192 arcmin>],\n",
       " [<Quantity 0.29518058 arcmin>, <Quantity 0.96500735 arcmin>],\n",
       " [<Quantity 1.6240597 arcmin>, <Quantity 0.85326659 arcmin>],\n",
       " [<Quantity 0.56814623 arcmin>, <Quantity 1.04936387 arcmin>],\n",
       " [<Quantity 1.388589 arcmin>, <Quantity 1.28552714 arcmin>],\n",
       " [<Quantity 0.98653862 arcmin>, <Quantity 1.90882139 arcmin>],\n",
       " [<Quantity 0.49480382 arcmin>, <Quantity 0.36048468 arcmin>],\n",
       " [<Quantity 0.9880878 arcmin>, <Quantity 1.40963039 arcmin>],\n",
       " [<Quantity 0.24306634 arcmin>, <Quantity 1.69821458 arcmin>],\n",
       " [<Quantity 0.82212241 arcmin>, <Quantity 0.63017083 arcmin>],\n",
       " [<Quantity 1.83361742 arcmin>, <Quantity 1.60460592 arcmin>],\n",
       " [<Quantity 0.96117715 arcmin>, <Quantity 0.381597 arcmin>],\n",
       " [<Quantity 0.77627847 arcmin>, <Quantity 0.65703887 arcmin>],\n",
       " [<Quantity 0.97579994 arcmin>, <Quantity 1.35308252 arcmin>],\n",
       " [<Quantity 0.1905678 arcmin>, <Quantity 1.35344358 arcmin>],\n",
       " [<Quantity 0.8906663 arcmin>, <Quantity 0.88601975 arcmin>],\n",
       " [<Quantity 0.44053066 arcmin>, <Quantity 1.28749207 arcmin>],\n",
       " [<Quantity 0.72404047 arcmin>, <Quantity 1.9678496 arcmin>],\n",
       " [<Quantity 0.51127356 arcmin>, <Quantity 0.23653322 arcmin>],\n",
       " [<Quantity 1.12950912 arcmin>, <Quantity 1.35831628 arcmin>],\n",
       " [<Quantity 0.45198875 arcmin>, <Quantity 0.81509439 arcmin>],\n",
       " [<Quantity 1.37312062 arcmin>, <Quantity 1.39779315 arcmin>],\n",
       " [<Quantity 0.51966614 arcmin>, <Quantity 0.41937961 arcmin>],\n",
       " [<Quantity 1.19183958 arcmin>, <Quantity 1.57509907 arcmin>],\n",
       " [<Quantity 1.21689207 arcmin>, <Quantity 1.52245239 arcmin>],\n",
       " [<Quantity 1.0454753 arcmin>, <Quantity 0.26016889 arcmin>],\n",
       " [<Quantity 1.82055953 arcmin>, <Quantity 0.74739753 arcmin>],\n",
       " [<Quantity 1.26943252 arcmin>, <Quantity 0.61225197 arcmin>],\n",
       " [<Quantity 1.12802445 arcmin>, <Quantity 0.8487191 arcmin>],\n",
       " [<Quantity 1.34812779 arcmin>, <Quantity 1.10073976 arcmin>],\n",
       " [<Quantity 0.92913638 arcmin>, <Quantity 0.42800572 arcmin>],\n",
       " [<Quantity 0.96641046 arcmin>, <Quantity 1.00457569 arcmin>],\n",
       " [<Quantity 0.3057593 arcmin>, <Quantity 1.16109101 arcmin>],\n",
       " [<Quantity 1.37372215 arcmin>, <Quantity 1.63270161 arcmin>],\n",
       " [<Quantity 1.28368632 arcmin>, <Quantity 0.38273605 arcmin>],\n",
       " [<Quantity 0.45738773 arcmin>, <Quantity 0.59950651 arcmin>],\n",
       " [<Quantity 0.98734308 arcmin>, <Quantity 0.93829281 arcmin>],\n",
       " [<Quantity 0.79162276 arcmin>, <Quantity 1.49525472 arcmin>],\n",
       " [<Quantity 1.46212229 arcmin>, <Quantity 1.11235271 arcmin>],\n",
       " [<Quantity 0.39698667 arcmin>, <Quantity 1.9845304 arcmin>],\n",
       " [<Quantity 1.00387515 arcmin>, <Quantity 0.19016561 arcmin>],\n",
       " [<Quantity 1.19233989 arcmin>, <Quantity 0.43683542 arcmin>],\n",
       " [<Quantity 0.51543126 arcmin>, <Quantity 1.50221703 arcmin>],\n",
       " [<Quantity 1.19162188 arcmin>, <Quantity 1.85825439 arcmin>],\n",
       " [<Quantity 0.91193768 arcmin>, <Quantity 1.20480141 arcmin>],\n",
       " [<Quantity 0.06228489 arcmin>, <Quantity 0.32585415 arcmin>],\n",
       " [<Quantity 1.44549082 arcmin>, <Quantity 0.55039834 arcmin>],\n",
       " [<Quantity 0.27904828 arcmin>, <Quantity 1.68726143 arcmin>],\n",
       " [<Quantity 0.87685494 arcmin>, <Quantity 1.70220612 arcmin>],\n",
       " [<Quantity 1.85682999 arcmin>, <Quantity 1.62982879 arcmin>],\n",
       " [<Quantity 1.34233172 arcmin>, <Quantity 0.16561605 arcmin>],\n",
       " [<Quantity 1.21850327 arcmin>, <Quantity 1.9898036 arcmin>],\n",
       " [<Quantity 1.67871437 arcmin>, <Quantity 1.9756454 arcmin>],\n",
       " [<Quantity 1.85711003 arcmin>, <Quantity 1.02709589 arcmin>],\n",
       " [<Quantity 0.21399317 arcmin>, <Quantity 0.46574231 arcmin>],\n",
       " [<Quantity 0.15468266 arcmin>, <Quantity 0.55999208 arcmin>],\n",
       " [<Quantity 0.02878738 arcmin>, <Quantity 0.88321862 arcmin>],\n",
       " [<Quantity 1.02578337 arcmin>, <Quantity 0.33319882 arcmin>],\n",
       " [<Quantity 1.8545706 arcmin>, <Quantity 1.04520894 arcmin>],\n",
       " [<Quantity 0.9907294 arcmin>, <Quantity 1.23385542 arcmin>],\n",
       " [<Quantity 0.63142098 arcmin>, <Quantity 0.93096831 arcmin>],\n",
       " [<Quantity 1.51782293 arcmin>, <Quantity 1.70332567 arcmin>],\n",
       " [<Quantity 0.33513397 arcmin>, <Quantity 0.5177761 arcmin>],\n",
       " [<Quantity 1.79385905 arcmin>, <Quantity 1.4196896 arcmin>],\n",
       " [<Quantity 0.10967574 arcmin>, <Quantity 0.44347185 arcmin>],\n",
       " [<Quantity 1.02666927 arcmin>, <Quantity 0.95619819 arcmin>],\n",
       " [<Quantity 1.14238719 arcmin>, <Quantity 1.58935042 arcmin>],\n",
       " [<Quantity 0.9743419 arcmin>, <Quantity 0.74036794 arcmin>],\n",
       " [<Quantity 1.52502159 arcmin>, <Quantity 0.83827174 arcmin>],\n",
       " [<Quantity 0.98529646 arcmin>, <Quantity 1.01466847 arcmin>],\n",
       " [<Quantity 1.70001924 arcmin>, <Quantity 0.51637504 arcmin>],\n",
       " [<Quantity 0.31930634 arcmin>, <Quantity 1.14165398 arcmin>],\n",
       " [<Quantity 0.17042228 arcmin>, <Quantity 0.3980231 arcmin>],\n",
       " [<Quantity 0.68600428 arcmin>, <Quantity 1.05425906 arcmin>],\n",
       " [<Quantity 1.24031244 arcmin>, <Quantity 1.68024034 arcmin>],\n",
       " [<Quantity 0.48622398 arcmin>, <Quantity 0.36361349 arcmin>],\n",
       " [<Quantity 0.44601453 arcmin>, <Quantity 1.36868886 arcmin>],\n",
       " [<Quantity 1.35299846 arcmin>, <Quantity 1.14548037 arcmin>],\n",
       " [<Quantity 1.54025367 arcmin>, <Quantity 0.86194356 arcmin>],\n",
       " [<Quantity 0.58970236 arcmin>, <Quantity 1.326147 arcmin>],\n",
       " [<Quantity 1.9763622 arcmin>, <Quantity 1.6193535 arcmin>],\n",
       " [<Quantity 1.44438351 arcmin>, <Quantity 1.11087127 arcmin>],\n",
       " [<Quantity 1.26351962 arcmin>, <Quantity 0.30667293 arcmin>],\n",
       " [<Quantity 1.33928766 arcmin>, <Quantity 1.46313367 arcmin>],\n",
       " [<Quantity 1.27484875 arcmin>, <Quantity 0.42021112 arcmin>],\n",
       " [<Quantity 1.69402695 arcmin>, <Quantity 1.00357146 arcmin>],\n",
       " [<Quantity 1.72793387 arcmin>, <Quantity 1.07145086 arcmin>],\n",
       " [<Quantity 0.61914403 arcmin>, <Quantity 0.42578965 arcmin>],\n",
       " [<Quantity 1.94301335 arcmin>, <Quantity 0.60270082 arcmin>],\n",
       " [<Quantity 1.0769665 arcmin>, <Quantity 0.44815496 arcmin>],\n",
       " [<Quantity 0.19238061 arcmin>, <Quantity 1.03769814 arcmin>],\n",
       " [<Quantity 1.50455484 arcmin>, <Quantity 1.77969674 arcmin>],\n",
       " [<Quantity 1.23833731 arcmin>, <Quantity 0.05928109 arcmin>],\n",
       " [<Quantity 1.44981315 arcmin>, <Quantity 0.05231861 arcmin>],\n",
       " [<Quantity 1.71502238 arcmin>, <Quantity 1.27032616 arcmin>],\n",
       " [<Quantity 0.40855681 arcmin>, <Quantity 1.1289769 arcmin>],\n",
       " [<Quantity 1.58784402 arcmin>, <Quantity 0.3293194 arcmin>],\n",
       " [<Quantity 0.41096184 arcmin>, <Quantity 0.03998278 arcmin>],\n",
       " [<Quantity 0.97319909 arcmin>, <Quantity 0.94994835 arcmin>],\n",
       " [<Quantity 1.09310727 arcmin>, <Quantity 1.13552108 arcmin>],\n",
       " [<Quantity 1.54188838 arcmin>, <Quantity 1.3390575 arcmin>],\n",
       " [<Quantity 0.40981716 arcmin>, <Quantity 1.79674829 arcmin>],\n",
       " [<Quantity 0.02706466 arcmin>, <Quantity 1.88638471 arcmin>],\n",
       " [<Quantity 1.24605795 arcmin>, <Quantity 0.01365562 arcmin>],\n",
       " [<Quantity 0.7752415 arcmin>, <Quantity 0.16297441 arcmin>],\n",
       " [<Quantity 1.20519202 arcmin>, <Quantity 1.53950475 arcmin>],\n",
       " [<Quantity 1.11679002 arcmin>, <Quantity 1.71885035 arcmin>],\n",
       " [<Quantity 0.49928337 arcmin>, <Quantity 0.76414962 arcmin>],\n",
       " [<Quantity 0.06976917 arcmin>, <Quantity 1.8689409 arcmin>],\n",
       " [<Quantity 1.21320562 arcmin>, <Quantity 0.51772523 arcmin>],\n",
       " [<Quantity 0.23052865 arcmin>, <Quantity 0.46985822 arcmin>],\n",
       " [<Quantity 1.96424593 arcmin>, <Quantity 1.99632775 arcmin>],\n",
       " [<Quantity 1.91128521 arcmin>, <Quantity 1.73146575 arcmin>],\n",
       " [<Quantity 1.18356648 arcmin>, <Quantity 0.05572537 arcmin>],\n",
       " [<Quantity 0.08883277 arcmin>, <Quantity 0.27885553 arcmin>],\n",
       " [<Quantity 1.95006571 arcmin>, <Quantity 1.61158148 arcmin>],\n",
       " [<Quantity 0.94828506 arcmin>, <Quantity 0.1263992 arcmin>],\n",
       " [<Quantity 1.35956217 arcmin>, <Quantity 0.48069911 arcmin>],\n",
       " [<Quantity 1.48533997 arcmin>, <Quantity 1.50312166 arcmin>],\n",
       " [<Quantity 1.14675878 arcmin>, <Quantity 1.18321579 arcmin>],\n",
       " [<Quantity 0.40381629 arcmin>, <Quantity 0.07063511 arcmin>],\n",
       " [<Quantity 0.99859449 arcmin>, <Quantity 0.79883249 arcmin>],\n",
       " [<Quantity 1.08208839 arcmin>, <Quantity 0.65453161 arcmin>],\n",
       " [<Quantity 0.84970294 arcmin>, <Quantity 1.60974904 arcmin>],\n",
       " [<Quantity 0.47672094 arcmin>, <Quantity 0.71473911 arcmin>],\n",
       " [<Quantity 0.69812742 arcmin>, <Quantity 1.25358161 arcmin>],\n",
       " [<Quantity 0.94062682 arcmin>, <Quantity 1.20270788 arcmin>],\n",
       " [<Quantity 0.2753256 arcmin>, <Quantity 0.33757213 arcmin>],\n",
       " [<Quantity 1.75086413 arcmin>, <Quantity 1.7120385 arcmin>],\n",
       " [<Quantity 1.96105942 arcmin>, <Quantity 1.1946354 arcmin>],\n",
       " [<Quantity 0.50001552 arcmin>, <Quantity 1.02266749 arcmin>],\n",
       " [<Quantity 1.93310451 arcmin>, <Quantity 1.46877403 arcmin>],\n",
       " [<Quantity 1.74805031 arcmin>, <Quantity 0.17977841 arcmin>],\n",
       " [<Quantity 0.0345401 arcmin>, <Quantity 0.68347776 arcmin>],\n",
       " [<Quantity 1.98476705 arcmin>, <Quantity 1.22298454 arcmin>],\n",
       " [<Quantity 0.0128612 arcmin>, <Quantity 1.46875845 arcmin>],\n",
       " [<Quantity 1.79987653 arcmin>, <Quantity 0.90678525 arcmin>],\n",
       " [<Quantity 1.53304486 arcmin>, <Quantity 0.35637959 arcmin>],\n",
       " [<Quantity 1.6822365 arcmin>, <Quantity 0.72963112 arcmin>],\n",
       " [<Quantity 1.05820401 arcmin>, <Quantity 0.56048902 arcmin>],\n",
       " [<Quantity 0.80331863 arcmin>, <Quantity 0.28285243 arcmin>],\n",
       " [<Quantity 0.80376291 arcmin>, <Quantity 0.21288727 arcmin>],\n",
       " [<Quantity 1.39340634 arcmin>, <Quantity 1.57465788 arcmin>],\n",
       " [<Quantity 0.85844638 arcmin>, <Quantity 0.69724984 arcmin>],\n",
       " [<Quantity 1.94201515 arcmin>, <Quantity 0.88155701 arcmin>],\n",
       " [<Quantity 0.85346254 arcmin>, <Quantity 0.87532996 arcmin>],\n",
       " [<Quantity 0.64082387 arcmin>, <Quantity 1.63465315 arcmin>],\n",
       " [<Quantity 0.19382531 arcmin>, <Quantity 1.61743897 arcmin>],\n",
       " [<Quantity 0.04036063 arcmin>, <Quantity 0.18861255 arcmin>],\n",
       " [<Quantity 1.78022911 arcmin>, <Quantity 1.54540019 arcmin>],\n",
       " [<Quantity 0.12895742 arcmin>, <Quantity 0.37438001 arcmin>],\n",
       " [<Quantity 0.20394678 arcmin>, <Quantity 1.40368905 arcmin>],\n",
       " [<Quantity 0.38607065 arcmin>, <Quantity 1.19803883 arcmin>],\n",
       " [<Quantity 0.84088604 arcmin>, <Quantity 1.69333686 arcmin>],\n",
       " [<Quantity 0.49557708 arcmin>, <Quantity 1.35975238 arcmin>],\n",
       " [<Quantity 1.40138517 arcmin>, <Quantity 1.32245748 arcmin>],\n",
       " [<Quantity 0.85331894 arcmin>, <Quantity 0.40439832 arcmin>],\n",
       " [<Quantity 0.56730078 arcmin>, <Quantity 0.21332133 arcmin>],\n",
       " [<Quantity 0.61423649 arcmin>, <Quantity 0.36652016 arcmin>],\n",
       " [<Quantity 0.81744626 arcmin>, <Quantity 0.93250301 arcmin>],\n",
       " [<Quantity 1.77545498 arcmin>, <Quantity 0.25232147 arcmin>],\n",
       " [<Quantity 1.92998214 arcmin>, <Quantity 1.91492489 arcmin>],\n",
       " [<Quantity 0.20343864 arcmin>, <Quantity 1.37152729 arcmin>],\n",
       " [<Quantity 0.62816841 arcmin>, <Quantity 1.45041057 arcmin>],\n",
       " [<Quantity 1.72513873 arcmin>, <Quantity 1.74516639 arcmin>],\n",
       " [<Quantity 1.86868829 arcmin>, <Quantity 0.8607381 arcmin>],\n",
       " [<Quantity 1.29825654 arcmin>, <Quantity 1.60858648 arcmin>],\n",
       " [<Quantity 0.6013509 arcmin>, <Quantity 0.34306494 arcmin>],\n",
       " [<Quantity 0.88341149 arcmin>, <Quantity 1.94845539 arcmin>],\n",
       " [<Quantity 0.96934158 arcmin>, <Quantity 0.53203358 arcmin>],\n",
       " [<Quantity 0.40392967 arcmin>, <Quantity 1.50870209 arcmin>],\n",
       " [<Quantity 0.56524721 arcmin>, <Quantity 0.76007044 arcmin>],\n",
       " [<Quantity 0.54339814 arcmin>, <Quantity 0.35328135 arcmin>],\n",
       " [<Quantity 0.9343055 arcmin>, <Quantity 0.87045721 arcmin>],\n",
       " [<Quantity 0.04099987 arcmin>, <Quantity 0.03849529 arcmin>],\n",
       " [<Quantity 0.06665446 arcmin>, <Quantity 1.13769651 arcmin>],\n",
       " [<Quantity 1.43267289 arcmin>, <Quantity 0.07476294 arcmin>],\n",
       " [<Quantity 1.40041396 arcmin>, <Quantity 1.22210659 arcmin>],\n",
       " [<Quantity 1.21485312 arcmin>, <Quantity 1.96824857 arcmin>],\n",
       " [<Quantity 0.61775449 arcmin>, <Quantity 1.6091889 arcmin>],\n",
       " [<Quantity 1.30814259 arcmin>, <Quantity 0.85878323 arcmin>],\n",
       " [<Quantity 0.93437475 arcmin>, <Quantity 0.9603886 arcmin>],\n",
       " [<Quantity 0.76836742 arcmin>, <Quantity 1.71580251 arcmin>],\n",
       " [<Quantity 1.03257825 arcmin>, <Quantity 0.55475696 arcmin>],\n",
       " [<Quantity 1.78002251 arcmin>, <Quantity 1.66501132 arcmin>],\n",
       " [<Quantity 0.87764589 arcmin>, <Quantity 1.14092439 arcmin>],\n",
       " [<Quantity 0.95762972 arcmin>, <Quantity 0.80000708 arcmin>],\n",
       " [<Quantity 1.46958088 arcmin>, <Quantity 1.85863012 arcmin>],\n",
       " [<Quantity 0.73873268 arcmin>, <Quantity 1.66432869 arcmin>],\n",
       " [<Quantity 1.00982729 arcmin>, <Quantity 0.98848427 arcmin>],\n",
       " [<Quantity 1.89853802 arcmin>, <Quantity 0.95606971 arcmin>],\n",
       " [<Quantity 0.92630296 arcmin>, <Quantity 1.15451333 arcmin>],\n",
       " [<Quantity 1.44420314 arcmin>, <Quantity 0.07975923 arcmin>],\n",
       " [<Quantity 1.23210411 arcmin>, <Quantity 0.66324027 arcmin>],\n",
       " [<Quantity 1.22511457 arcmin>, <Quantity 0.06961442 arcmin>],\n",
       " [<Quantity 0.47347396 arcmin>, <Quantity 0.0033362 arcmin>],\n",
       " [<Quantity 0.19446057 arcmin>, <Quantity 0.17591156 arcmin>],\n",
       " [<Quantity 1.43913112 arcmin>, <Quantity 0.23189884 arcmin>],\n",
       " [<Quantity 0.12070781 arcmin>, <Quantity 1.48559718 arcmin>],\n",
       " [<Quantity 0.46874425 arcmin>, <Quantity 0.17543967 arcmin>],\n",
       " [<Quantity 0.85599867 arcmin>, <Quantity 1.6984666 arcmin>],\n",
       " [<Quantity 0.12183983 arcmin>, <Quantity 0.95503887 arcmin>],\n",
       " [<Quantity 0.66150764 arcmin>, <Quantity 0.57109579 arcmin>],\n",
       " [<Quantity 0.61527736 arcmin>, <Quantity 0.91993844 arcmin>],\n",
       " [<Quantity 0.42924896 arcmin>, <Quantity 0.11589904 arcmin>],\n",
       " [<Quantity 0.07730836 arcmin>, <Quantity 1.8492117 arcmin>],\n",
       " [<Quantity 1.23415654 arcmin>, <Quantity 0.23894771 arcmin>],\n",
       " [<Quantity 1.33077921 arcmin>, <Quantity 1.70489385 arcmin>],\n",
       " [<Quantity 1.22373062 arcmin>, <Quantity 0.60567019 arcmin>],\n",
       " [<Quantity 1.80508822 arcmin>, <Quantity 0.67074449 arcmin>],\n",
       " [<Quantity 0.58111451 arcmin>, <Quantity 1.47070305 arcmin>],\n",
       " [<Quantity 0.71899789 arcmin>, <Quantity 0.3628538 arcmin>],\n",
       " [<Quantity 1.22425312 arcmin>, <Quantity 1.75109534 arcmin>],\n",
       " [<Quantity 0.0397211 arcmin>, <Quantity 0.75866899 arcmin>],\n",
       " [<Quantity 0.18606076 arcmin>, <Quantity 1.00989978 arcmin>],\n",
       " [<Quantity 0.457482 arcmin>, <Quantity 0.81748701 arcmin>],\n",
       " [<Quantity 1.02777152 arcmin>, <Quantity 1.00856766 arcmin>],\n",
       " [<Quantity 1.51285824 arcmin>, <Quantity 1.82690151 arcmin>],\n",
       " [<Quantity 1.42756727 arcmin>, <Quantity 1.07198696 arcmin>],\n",
       " [<Quantity 0.9498836 arcmin>, <Quantity 0.48531577 arcmin>],\n",
       " [<Quantity 0.87836756 arcmin>, <Quantity 1.78191583 arcmin>],\n",
       " [<Quantity 0.8504516 arcmin>, <Quantity 0.05749419 arcmin>],\n",
       " [<Quantity 1.66202519 arcmin>, <Quantity 1.85061925 arcmin>],\n",
       " [<Quantity 1.54665014 arcmin>, <Quantity 1.39901392 arcmin>],\n",
       " [<Quantity 1.24772516 arcmin>, <Quantity 1.92449501 arcmin>],\n",
       " [<Quantity 0.86260083 arcmin>, <Quantity 0.74735555 arcmin>],\n",
       " [<Quantity 1.39611632 arcmin>, <Quantity 0.69272535 arcmin>],\n",
       " [<Quantity 1.78672219 arcmin>, <Quantity 0.08209081 arcmin>],\n",
       " [<Quantity 1.27792617 arcmin>, <Quantity 0.86175831 arcmin>],\n",
       " [<Quantity 0.48128275 arcmin>, <Quantity 0.44854133 arcmin>],\n",
       " [<Quantity 1.44257684 arcmin>, <Quantity 0.60310339 arcmin>],\n",
       " [<Quantity 1.01531691 arcmin>, <Quantity 0.41918768 arcmin>],\n",
       " [<Quantity 0.21797867 arcmin>, <Quantity 1.63536913 arcmin>],\n",
       " [<Quantity 1.66907427 arcmin>, <Quantity 1.74795182 arcmin>],\n",
       " [<Quantity 1.77064912 arcmin>, <Quantity 0.06340095 arcmin>],\n",
       " [<Quantity 0.14661893 arcmin>, <Quantity 1.16911248 arcmin>],\n",
       " [<Quantity 1.47523555 arcmin>, <Quantity 0.00928302 arcmin>],\n",
       " [<Quantity 1.34597429 arcmin>, <Quantity 0.54113201 arcmin>],\n",
       " [<Quantity 0.36877716 arcmin>, <Quantity 0.18154859 arcmin>],\n",
       " [<Quantity 1.81273789 arcmin>, <Quantity 1.8208933 arcmin>],\n",
       " [<Quantity 1.81113169 arcmin>, <Quantity 0.29692176 arcmin>],\n",
       " [<Quantity 0.68880302 arcmin>, <Quantity 1.27632678 arcmin>],\n",
       " [<Quantity 1.24213733 arcmin>, <Quantity 0.27490449 arcmin>],\n",
       " [<Quantity 1.95157925 arcmin>, <Quantity 1.41377394 arcmin>],\n",
       " [<Quantity 0.94081691 arcmin>, <Quantity 0.73760363 arcmin>],\n",
       " [<Quantity 0.63840702 arcmin>, <Quantity 1.21591526 arcmin>],\n",
       " [<Quantity 1.47307093 arcmin>, <Quantity 0.45298736 arcmin>],\n",
       " [<Quantity 1.89775331 arcmin>, <Quantity 0.47337235 arcmin>],\n",
       " [<Quantity 0.13398219 arcmin>, <Quantity 1.22027215 arcmin>],\n",
       " [<Quantity 0.70798672 arcmin>, <Quantity 1.83232541 arcmin>],\n",
       " [<Quantity 1.77689191 arcmin>, <Quantity 0.95126574 arcmin>],\n",
       " [<Quantity 1.3419041 arcmin>, <Quantity 0.58237298 arcmin>],\n",
       " [<Quantity 0.64343502 arcmin>, <Quantity 1.48803016 arcmin>],\n",
       " [<Quantity 0.27977246 arcmin>, <Quantity 0.48737646 arcmin>],\n",
       " [<Quantity 0.46181926 arcmin>, <Quantity 0.8935751 arcmin>],\n",
       " [<Quantity 0.36135165 arcmin>, <Quantity 0.65582337 arcmin>],\n",
       " [<Quantity 0.27663627 arcmin>, <Quantity 1.86920752 arcmin>],\n",
       " [<Quantity 0.62833646 arcmin>, <Quantity 1.58289305 arcmin>],\n",
       " [<Quantity 0.88647391 arcmin>, <Quantity 0.17772466 arcmin>],\n",
       " [<Quantity 0.20273472 arcmin>, <Quantity 0.3985082 arcmin>],\n",
       " [<Quantity 1.00035734 arcmin>, <Quantity 1.53089644 arcmin>],\n",
       " [<Quantity 1.10721514 arcmin>, <Quantity 1.01413594 arcmin>],\n",
       " [<Quantity 0.9220736 arcmin>, <Quantity 1.41340998 arcmin>],\n",
       " [<Quantity 1.92464776 arcmin>, <Quantity 0.51102384 arcmin>],\n",
       " [<Quantity 1.06685626 arcmin>, <Quantity 1.95569688 arcmin>],\n",
       " [<Quantity 0.32828519 arcmin>, <Quantity 1.16344048 arcmin>],\n",
       " [<Quantity 0.12489984 arcmin>, <Quantity 0.36010728 arcmin>],\n",
       " [<Quantity 0.92831166 arcmin>, <Quantity 0.24332969 arcmin>],\n",
       " [<Quantity 1.95200128 arcmin>, <Quantity 1.14782082 arcmin>],\n",
       " [<Quantity 0.55126517 arcmin>, <Quantity 1.53965333 arcmin>],\n",
       " [<Quantity 0.21536154 arcmin>, <Quantity 1.81244297 arcmin>],\n",
       " [<Quantity 0.8572176 arcmin>, <Quantity 0.30000517 arcmin>],\n",
       " [<Quantity 0.85181508 arcmin>, <Quantity 0.32125953 arcmin>],\n",
       " [<Quantity 1.99314431 arcmin>, <Quantity 0.00897927 arcmin>],\n",
       " [<Quantity 0.6624102 arcmin>, <Quantity 0.87176303 arcmin>],\n",
       " [<Quantity 1.48591296 arcmin>, <Quantity 0.04466003 arcmin>],\n",
       " [<Quantity 0.42493348 arcmin>, <Quantity 1.24201834 arcmin>],\n",
       " [<Quantity 1.53451791 arcmin>, <Quantity 1.32641178 arcmin>],\n",
       " [<Quantity 1.94675393 arcmin>, <Quantity 0.7086236 arcmin>],\n",
       " [<Quantity 0.51149616 arcmin>, <Quantity 0.34953385 arcmin>],\n",
       " [<Quantity 0.84789703 arcmin>, <Quantity 1.27391056 arcmin>],\n",
       " [<Quantity 1.98117437 arcmin>, <Quantity 1.18720845 arcmin>],\n",
       " [<Quantity 1.38145946 arcmin>, <Quantity 1.45126936 arcmin>],\n",
       " [<Quantity 1.3249169 arcmin>, <Quantity 0.85027698 arcmin>],\n",
       " [<Quantity 0.82553496 arcmin>, <Quantity 1.7223244 arcmin>],\n",
       " [<Quantity 0.99835088 arcmin>, <Quantity 0.59135559 arcmin>],\n",
       " [<Quantity 0.58012388 arcmin>, <Quantity 1.29558263 arcmin>],\n",
       " [<Quantity 0.51426051 arcmin>, <Quantity 0.74930097 arcmin>],\n",
       " [<Quantity 0.37623101 arcmin>, <Quantity 1.72533669 arcmin>],\n",
       " [<Quantity 0.2722306 arcmin>, <Quantity 0.40136632 arcmin>],\n",
       " [<Quantity 1.66048741 arcmin>, <Quantity 0.32407631 arcmin>],\n",
       " [<Quantity 1.01322663 arcmin>, <Quantity 0.92194236 arcmin>],\n",
       " [<Quantity 1.87149368 arcmin>, <Quantity 0.16614716 arcmin>],\n",
       " [<Quantity 1.36395716 arcmin>, <Quantity 0.4448194 arcmin>],\n",
       " [<Quantity 1.13875064 arcmin>, <Quantity 1.29633243 arcmin>],\n",
       " [<Quantity 1.24048888 arcmin>, <Quantity 0.92072962 arcmin>],\n",
       " [<Quantity 1.1935494 arcmin>, <Quantity 1.55193479 arcmin>],\n",
       " [<Quantity 0.20113961 arcmin>, <Quantity 1.14431959 arcmin>],\n",
       " [<Quantity 1.77303025 arcmin>, <Quantity 1.13301002 arcmin>],\n",
       " [<Quantity 1.39019721 arcmin>, <Quantity 0.99377125 arcmin>],\n",
       " [<Quantity 1.44917187 arcmin>, <Quantity 1.5367271 arcmin>],\n",
       " [<Quantity 0.83589679 arcmin>, <Quantity 1.33086853 arcmin>],\n",
       " [<Quantity 1.15104815 arcmin>, <Quantity 1.13669535 arcmin>],\n",
       " [<Quantity 1.26606011 arcmin>, <Quantity 0.88667552 arcmin>],\n",
       " [<Quantity 1.06638457 arcmin>, <Quantity 1.52814564 arcmin>],\n",
       " [<Quantity 1.34048072 arcmin>, <Quantity 1.7576423 arcmin>],\n",
       " [<Quantity 1.28928678 arcmin>, <Quantity 0.52782358 arcmin>],\n",
       " [<Quantity 0.69214133 arcmin>, <Quantity 0.7625884 arcmin>],\n",
       " [<Quantity 0.6934175 arcmin>, <Quantity 1.8398374 arcmin>],\n",
       " [<Quantity 0.66136728 arcmin>, <Quantity 0.70409032 arcmin>],\n",
       " [<Quantity 0.86983101 arcmin>, <Quantity 1.77436626 arcmin>],\n",
       " [<Quantity 1.28778928 arcmin>, <Quantity 0.44554754 arcmin>],\n",
       " [<Quantity 1.30682258 arcmin>, <Quantity 0.59702516 arcmin>],\n",
       " [<Quantity 1.02628712 arcmin>, <Quantity 1.24165474 arcmin>],\n",
       " [<Quantity 0.19178313 arcmin>, <Quantity 0.07812823 arcmin>],\n",
       " [<Quantity 0.27259765 arcmin>, <Quantity 0.40410122 arcmin>],\n",
       " [<Quantity 0.38072215 arcmin>, <Quantity 1.79745344 arcmin>],\n",
       " [<Quantity 0.89589168 arcmin>, <Quantity 0.08904518 arcmin>],\n",
       " [<Quantity 1.8431 arcmin>, <Quantity 1.66984161 arcmin>],\n",
       " [<Quantity 0.57443995 arcmin>, <Quantity 1.18434954 arcmin>],\n",
       " [<Quantity 0.9664341 arcmin>, <Quantity 1.29876863 arcmin>],\n",
       " [<Quantity 1.54581405 arcmin>, <Quantity 1.41009808 arcmin>],\n",
       " [<Quantity 0.28544269 arcmin>, <Quantity 1.89397332 arcmin>],\n",
       " [<Quantity 0.61332828 arcmin>, <Quantity 0.51649808 arcmin>],\n",
       " [<Quantity 0.19818182 arcmin>, <Quantity 1.18722988 arcmin>],\n",
       " [<Quantity 1.11192199 arcmin>, <Quantity 1.3617808 arcmin>],\n",
       " [<Quantity 1.68212949 arcmin>, <Quantity 1.86144808 arcmin>],\n",
       " [<Quantity 1.34260698 arcmin>, <Quantity 0.93187733 arcmin>],\n",
       " [<Quantity 1.18053197 arcmin>, <Quantity 0.44109852 arcmin>],\n",
       " [<Quantity 0.01658775 arcmin>, <Quantity 1.82163028 arcmin>],\n",
       " [<Quantity 0.87369403 arcmin>, <Quantity 0.41880064 arcmin>],\n",
       " [<Quantity 0.45671696 arcmin>, <Quantity 0.36330966 arcmin>],\n",
       " [<Quantity 0.10363828 arcmin>, <Quantity 0.12195725 arcmin>],\n",
       " [<Quantity 0.75005326 arcmin>, <Quantity 0.63136887 arcmin>],\n",
       " [<Quantity 1.86882472 arcmin>, <Quantity 0.20453172 arcmin>],\n",
       " [<Quantity 1.20883025 arcmin>, <Quantity 1.82515134 arcmin>],\n",
       " [<Quantity 1.60289987 arcmin>, <Quantity 1.54352207 arcmin>],\n",
       " [<Quantity 1.16076003 arcmin>, <Quantity 0.24666437 arcmin>],\n",
       " [<Quantity 0.64321325 arcmin>, <Quantity 0.07065819 arcmin>],\n",
       " [<Quantity 1.06208 arcmin>, <Quantity 1.77541162 arcmin>],\n",
       " [<Quantity 1.26270483 arcmin>, <Quantity 0.09208972 arcmin>],\n",
       " [<Quantity 1.41029658 arcmin>, <Quantity 0.71997005 arcmin>],\n",
       " [<Quantity 0.91962397 arcmin>, <Quantity 0.15464796 arcmin>],\n",
       " [<Quantity 0.96854037 arcmin>, <Quantity 0.18202899 arcmin>],\n",
       " [<Quantity 1.94924219 arcmin>, <Quantity 1.77205258 arcmin>],\n",
       " [<Quantity 1.33934486 arcmin>, <Quantity 0.80412165 arcmin>],\n",
       " [<Quantity 0.35629739 arcmin>, <Quantity 0.66545159 arcmin>],\n",
       " [<Quantity 1.75231654 arcmin>, <Quantity 1.99490411 arcmin>],\n",
       " [<Quantity 1.69816445 arcmin>, <Quantity 1.35622156 arcmin>],\n",
       " [<Quantity 1.76220494 arcmin>, <Quantity 0.73852706 arcmin>],\n",
       " [<Quantity 1.80627963 arcmin>, <Quantity 0.72630943 arcmin>],\n",
       " [<Quantity 0.82022914 arcmin>, <Quantity 1.73529271 arcmin>],\n",
       " [<Quantity 1.89427405 arcmin>, <Quantity 0.85816432 arcmin>],\n",
       " [<Quantity 0.9072902 arcmin>, <Quantity 1.66946385 arcmin>],\n",
       " [<Quantity 0.79618032 arcmin>, <Quantity 1.34903965 arcmin>],\n",
       " [<Quantity 1.75429104 arcmin>, <Quantity 0.86258206 arcmin>],\n",
       " [<Quantity 1.49679126 arcmin>, <Quantity 0.25743661 arcmin>],\n",
       " [<Quantity 1.17774332 arcmin>, <Quantity 0.87596424 arcmin>],\n",
       " [<Quantity 1.23117197 arcmin>, <Quantity 0.66358181 arcmin>],\n",
       " [<Quantity 1.94699935 arcmin>, <Quantity 1.08904548 arcmin>],\n",
       " [<Quantity 1.47176625 arcmin>, <Quantity 1.25578905 arcmin>],\n",
       " [<Quantity 1.16023917 arcmin>, <Quantity 0.21364796 arcmin>],\n",
       " [<Quantity 0.86247876 arcmin>, <Quantity 0.14647332 arcmin>],\n",
       " [<Quantity 0.8309737 arcmin>, <Quantity 1.55245213 arcmin>],\n",
       " [<Quantity 0.76133858 arcmin>, <Quantity 0.22152502 arcmin>],\n",
       " [<Quantity 1.57213501 arcmin>, <Quantity 1.51433587 arcmin>],\n",
       " [<Quantity 0.22503025 arcmin>, <Quantity 1.10806109 arcmin>],\n",
       " [<Quantity 0.38299374 arcmin>, <Quantity 1.41329676 arcmin>],\n",
       " [<Quantity 1.61011395 arcmin>, <Quantity 0.98902193 arcmin>],\n",
       " [<Quantity 0.96052892 arcmin>, <Quantity 0.05980025 arcmin>],\n",
       " [<Quantity 0.73265804 arcmin>, <Quantity 1.60570512 arcmin>],\n",
       " [<Quantity 1.04343128 arcmin>, <Quantity 0.65935194 arcmin>],\n",
       " [<Quantity 1.68247279 arcmin>, <Quantity 0.12029235 arcmin>],\n",
       " [<Quantity 0.99861592 arcmin>, <Quantity 0.56762264 arcmin>],\n",
       " [<Quantity 1.24260985 arcmin>, <Quantity 0.15019296 arcmin>],\n",
       " [<Quantity 0.10614839 arcmin>, <Quantity 1.15148576 arcmin>],\n",
       " [<Quantity 1.7766023 arcmin>, <Quantity 1.47341642 arcmin>],\n",
       " [<Quantity 1.75475225 arcmin>, <Quantity 0.68317505 arcmin>],\n",
       " [<Quantity 1.85127478 arcmin>, <Quantity 0.32959712 arcmin>],\n",
       " [<Quantity 0.11144047 arcmin>, <Quantity 1.40937348 arcmin>],\n",
       " [<Quantity 1.28032969 arcmin>, <Quantity 1.68094704 arcmin>],\n",
       " [<Quantity 1.24162236 arcmin>, <Quantity 0.036147 arcmin>],\n",
       " [<Quantity 0.93987881 arcmin>, <Quantity 0.67478592 arcmin>],\n",
       " [<Quantity 0.52231463 arcmin>, <Quantity 0.98001826 arcmin>],\n",
       " [<Quantity 1.41471613 arcmin>, <Quantity 0.80370522 arcmin>],\n",
       " [<Quantity 1.9906143 arcmin>, <Quantity 0.11607646 arcmin>],\n",
       " [<Quantity 1.58595121 arcmin>, <Quantity 1.60927564 arcmin>],\n",
       " [<Quantity 0.26679089 arcmin>, <Quantity 1.04119982 arcmin>],\n",
       " [<Quantity 1.56869348 arcmin>, <Quantity 0.16940834 arcmin>],\n",
       " [<Quantity 0.61997759 arcmin>, <Quantity 1.42799367 arcmin>],\n",
       " [<Quantity 1.5223199 arcmin>, <Quantity 0.85968012 arcmin>],\n",
       " [<Quantity 0.70532579 arcmin>, <Quantity 0.80438272 arcmin>],\n",
       " [<Quantity 1.90269036 arcmin>, <Quantity 0.45812085 arcmin>],\n",
       " [<Quantity 1.27708516 arcmin>, <Quantity 0.49478815 arcmin>],\n",
       " [<Quantity 1.09646344 arcmin>, <Quantity 1.73070132 arcmin>],\n",
       " [<Quantity 0.63202026 arcmin>, <Quantity 1.37553426 arcmin>],\n",
       " [<Quantity 1.30748776 arcmin>, <Quantity 1.58760643 arcmin>],\n",
       " [<Quantity 1.25431941 arcmin>, <Quantity 1.19849764 arcmin>],\n",
       " [<Quantity 0.98309742 arcmin>, <Quantity 1.68155784 arcmin>],\n",
       " [<Quantity 1.62656705 arcmin>, <Quantity 1.07162301 arcmin>],\n",
       " [<Quantity 1.80683855 arcmin>, <Quantity 1.20851092 arcmin>],\n",
       " [<Quantity 0.29868846 arcmin>, <Quantity 1.15740124 arcmin>],\n",
       " [<Quantity 1.01635952 arcmin>, <Quantity 0.29494945 arcmin>],\n",
       " [<Quantity 1.84792853 arcmin>, <Quantity 0.38926789 arcmin>],\n",
       " [<Quantity 1.06327019 arcmin>, <Quantity 0.24712902 arcmin>],\n",
       " [<Quantity 0.55451067 arcmin>, <Quantity 1.79748771 arcmin>],\n",
       " [<Quantity 0.42821059 arcmin>, <Quantity 0.15038151 arcmin>],\n",
       " [<Quantity 1.46250235 arcmin>, <Quantity 1.49384071 arcmin>],\n",
       " [<Quantity 1.40909539 arcmin>, <Quantity 0.88000173 arcmin>],\n",
       " [<Quantity 0.14119044 arcmin>, <Quantity 1.62353385 arcmin>],\n",
       " [<Quantity 1.56501261 arcmin>, <Quantity 0.37663904 arcmin>],\n",
       " [<Quantity 0.9944305 arcmin>, <Quantity 0.52812536 arcmin>],\n",
       " [<Quantity 0.07989054 arcmin>, <Quantity 0.27695611 arcmin>],\n",
       " [<Quantity 1.97117659 arcmin>, <Quantity 0.43271333 arcmin>],\n",
       " [<Quantity 1.93890465 arcmin>, <Quantity 1.73327687 arcmin>],\n",
       " [<Quantity 1.73782443 arcmin>, <Quantity 1.49951824 arcmin>],\n",
       " [<Quantity 1.32155816 arcmin>, <Quantity 0.12209093 arcmin>],\n",
       " [<Quantity 0.33908874 arcmin>, <Quantity 1.94929154 arcmin>],\n",
       " [<Quantity 1.13949704 arcmin>, <Quantity 1.15776265 arcmin>],\n",
       " [<Quantity 0.70221578 arcmin>, <Quantity 0.20779901 arcmin>],\n",
       " [<Quantity 1.00503857 arcmin>, <Quantity 0.56110295 arcmin>],\n",
       " [<Quantity 1.01197052 arcmin>, <Quantity 1.4192971 arcmin>],\n",
       " [<Quantity 0.34540915 arcmin>, <Quantity 1.97647334 arcmin>],\n",
       " [<Quantity 0.688242 arcmin>, <Quantity 1.43083562 arcmin>],\n",
       " [<Quantity 1.30279864 arcmin>, <Quantity 1.83386765 arcmin>],\n",
       " [<Quantity 0.05419346 arcmin>, <Quantity 1.77798901 arcmin>],\n",
       " [<Quantity 1.28508758 arcmin>, <Quantity 0.46319955 arcmin>],\n",
       " [<Quantity 1.72341508 arcmin>, <Quantity 0.04715883 arcmin>],\n",
       " [<Quantity 1.44564404 arcmin>, <Quantity 0.28066999 arcmin>],\n",
       " [<Quantity 1.35879034 arcmin>, <Quantity 0.03236693 arcmin>],\n",
       " [<Quantity 1.0983072 arcmin>, <Quantity 1.25989833 arcmin>],\n",
       " [<Quantity 1.81579227 arcmin>, <Quantity 0.8046706 arcmin>],\n",
       " [<Quantity 0.01219528 arcmin>, <Quantity 0.05750389 arcmin>],\n",
       " [<Quantity 0.75149329 arcmin>, <Quantity 1.95895613 arcmin>],\n",
       " [<Quantity 1.27701441 arcmin>, <Quantity 0.34709438 arcmin>],\n",
       " [<Quantity 1.39936736 arcmin>, <Quantity 1.25832034 arcmin>],\n",
       " [<Quantity 1.01228295 arcmin>, <Quantity 1.81692638 arcmin>],\n",
       " [<Quantity 0.66454816 arcmin>, <Quantity 1.6366783 arcmin>],\n",
       " [<Quantity 0.92155875 arcmin>, <Quantity 0.96427128 arcmin>],\n",
       " [<Quantity 0.85245122 arcmin>, <Quantity 0.99140664 arcmin>],\n",
       " [<Quantity 1.8434384 arcmin>, <Quantity 1.08283283 arcmin>],\n",
       " [<Quantity 0.49039855 arcmin>, <Quantity 1.38916689 arcmin>],\n",
       " [<Quantity 1.62413218 arcmin>, <Quantity 0.75349991 arcmin>],\n",
       " [<Quantity 1.71651864 arcmin>, <Quantity 0.0607505 arcmin>],\n",
       " [<Quantity 1.72821001 arcmin>, <Quantity 1.56027717 arcmin>],\n",
       " [<Quantity 0.72760948 arcmin>, <Quantity 1.19656529 arcmin>],\n",
       " [<Quantity 1.97981126 arcmin>, <Quantity 1.87519786 arcmin>],\n",
       " [<Quantity 1.75611881 arcmin>, <Quantity 0.89999107 arcmin>],\n",
       " [<Quantity 1.36753028 arcmin>, <Quantity 1.2798125 arcmin>],\n",
       " [<Quantity 1.50899962 arcmin>, <Quantity 1.47634482 arcmin>],\n",
       " [<Quantity 0.90299649 arcmin>, <Quantity 0.28035024 arcmin>],\n",
       " [<Quantity 1.39305965 arcmin>, <Quantity 1.68114962 arcmin>],\n",
       " [<Quantity 1.83341196 arcmin>, <Quantity 1.72296945 arcmin>],\n",
       " [<Quantity 0.85015979 arcmin>, <Quantity 1.36188811 arcmin>],\n",
       " [<Quantity 0.86933826 arcmin>, <Quantity 1.71888311 arcmin>],\n",
       " [<Quantity 0.40571091 arcmin>, <Quantity 0.58811247 arcmin>],\n",
       " [<Quantity 1.17061362 arcmin>, <Quantity 1.62220424 arcmin>],\n",
       " [<Quantity 0.27408255 arcmin>, <Quantity 1.22126828 arcmin>],\n",
       " [<Quantity 0.19385733 arcmin>, <Quantity 1.4183678 arcmin>],\n",
       " [<Quantity 0.65607745 arcmin>, <Quantity 1.11168309 arcmin>],\n",
       " [<Quantity 0.07734692 arcmin>, <Quantity 1.9474991 arcmin>],\n",
       " [<Quantity 1.72635105 arcmin>, <Quantity 1.44685697 arcmin>],\n",
       " [<Quantity 0.84295948 arcmin>, <Quantity 1.67539598 arcmin>],\n",
       " [<Quantity 0.9008331 arcmin>, <Quantity 1.23548017 arcmin>],\n",
       " [<Quantity 1.54673804 arcmin>, <Quantity 1.97868519 arcmin>],\n",
       " [<Quantity 0.74574541 arcmin>, <Quantity 1.2172308 arcmin>],\n",
       " [<Quantity 1.33784344 arcmin>, <Quantity 0.40550336 arcmin>],\n",
       " [<Quantity 0.35610435 arcmin>, <Quantity 1.11023031 arcmin>],\n",
       " [<Quantity 1.64936825 arcmin>, <Quantity 1.64784394 arcmin>],\n",
       " [<Quantity 0.29877318 arcmin>, <Quantity 1.08770237 arcmin>],\n",
       " [<Quantity 0.31335125 arcmin>, <Quantity 0.70002189 arcmin>],\n",
       " [<Quantity 0.07758654 arcmin>, <Quantity 0.36920487 arcmin>],\n",
       " [<Quantity 0.64416352 arcmin>, <Quantity 1.32827505 arcmin>],\n",
       " [<Quantity 0.06265297 arcmin>, <Quantity 0.08774805 arcmin>],\n",
       " [<Quantity 1.05833113 arcmin>, <Quantity 0.35467868 arcmin>],\n",
       " [<Quantity 0.138416 arcmin>, <Quantity 0.74808825 arcmin>],\n",
       " [<Quantity 1.20913884 arcmin>, <Quantity 1.33972331 arcmin>],\n",
       " [<Quantity 1.66626116 arcmin>, <Quantity 1.3405642 arcmin>],\n",
       " [<Quantity 0.78706581 arcmin>, <Quantity 0.96291243 arcmin>],\n",
       " [<Quantity 0.33169872 arcmin>, <Quantity 1.49737845 arcmin>],\n",
       " [<Quantity 1.63320986 arcmin>, <Quantity 1.75335934 arcmin>],\n",
       " [<Quantity 1.88625594 arcmin>, <Quantity 0.26712071 arcmin>],\n",
       " [<Quantity 0.98427354 arcmin>, <Quantity 1.00924026 arcmin>],\n",
       " [<Quantity 1.00223663 arcmin>, <Quantity 0.59474334 arcmin>],\n",
       " [<Quantity 0.74028721 arcmin>, <Quantity 1.16630485 arcmin>],\n",
       " [<Quantity 0.31112467 arcmin>, <Quantity 0.37297409 arcmin>],\n",
       " [<Quantity 1.6164744 arcmin>, <Quantity 1.5980368 arcmin>],\n",
       " [<Quantity 0.65213087 arcmin>, <Quantity 1.30930882 arcmin>],\n",
       " [<Quantity 0.34677854 arcmin>, <Quantity 1.55010607 arcmin>],\n",
       " [<Quantity 1.50657106 arcmin>, <Quantity 1.9450044 arcmin>],\n",
       " [<Quantity 1.16710821 arcmin>, <Quantity 0.53629337 arcmin>],\n",
       " [<Quantity 0.71069182 arcmin>, <Quantity 1.5997448 arcmin>],\n",
       " [<Quantity 0.36859149 arcmin>, <Quantity 1.66823845 arcmin>],\n",
       " [<Quantity 0.94385544 arcmin>, <Quantity 1.69096983 arcmin>],\n",
       " [<Quantity 1.40803432 arcmin>, <Quantity 1.88977063 arcmin>],\n",
       " [<Quantity 0.32782354 arcmin>, <Quantity 0.0977235 arcmin>],\n",
       " [<Quantity 0.16359194 arcmin>, <Quantity 1.09016313 arcmin>],\n",
       " [<Quantity 0.87810838 arcmin>, <Quantity 1.97985622 arcmin>],\n",
       " [<Quantity 1.70412703 arcmin>, <Quantity 0.56618237 arcmin>],\n",
       " [<Quantity 0.48176851 arcmin>, <Quantity 1.70085164 arcmin>],\n",
       " [<Quantity 1.20141541 arcmin>, <Quantity 1.00976335 arcmin>],\n",
       " [<Quantity 0.63789371 arcmin>, <Quantity 0.31565917 arcmin>],\n",
       " [<Quantity 0.01269026 arcmin>, <Quantity 1.72690816 arcmin>],\n",
       " [<Quantity 0.34025093 arcmin>, <Quantity 1.80606944 arcmin>],\n",
       " [<Quantity 1.24599178 arcmin>, <Quantity 0.34630938 arcmin>],\n",
       " [<Quantity 0.70144257 arcmin>, <Quantity 1.62191588 arcmin>],\n",
       " [<Quantity 0.29600752 arcmin>, <Quantity 1.77734463 arcmin>],\n",
       " [<Quantity 1.08861986 arcmin>, <Quantity 1.34067773 arcmin>],\n",
       " [<Quantity 0.7740493 arcmin>, <Quantity 1.63274245 arcmin>],\n",
       " [<Quantity 1.30368663 arcmin>, <Quantity 1.44892512 arcmin>],\n",
       " [<Quantity 1.42666796 arcmin>, <Quantity 1.43436277 arcmin>],\n",
       " [<Quantity 1.29120123 arcmin>, <Quantity 1.58521449 arcmin>],\n",
       " [<Quantity 1.23600288 arcmin>, <Quantity 0.23457009 arcmin>],\n",
       " [<Quantity 1.81415002 arcmin>, <Quantity 0.62839117 arcmin>],\n",
       " [<Quantity 1.99701863 arcmin>, <Quantity 0.9625726 arcmin>],\n",
       " [<Quantity 1.78426994 arcmin>, <Quantity 1.13944457 arcmin>],\n",
       " [<Quantity 1.71451161 arcmin>, <Quantity 0.29753539 arcmin>],\n",
       " [<Quantity 0.79351664 arcmin>, <Quantity 0.00728117 arcmin>],\n",
       " [<Quantity 0.94796269 arcmin>, <Quantity 1.0054539 arcmin>],\n",
       " [<Quantity 0.77593202 arcmin>, <Quantity 0.973146 arcmin>],\n",
       " [<Quantity 1.00351009 arcmin>, <Quantity 1.04281387 arcmin>],\n",
       " [<Quantity 0.69574922 arcmin>, <Quantity 0.4007658 arcmin>],\n",
       " [<Quantity 0.19649151 arcmin>, <Quantity 0.91558779 arcmin>],\n",
       " [<Quantity 1.8340023 arcmin>, <Quantity 0.52195492 arcmin>],\n",
       " [<Quantity 0.63636623 arcmin>, <Quantity 1.4314808 arcmin>],\n",
       " [<Quantity 0.80017382 arcmin>, <Quantity 1.43672432 arcmin>],\n",
       " [<Quantity 1.71639026 arcmin>, <Quantity 0.82892803 arcmin>],\n",
       " [<Quantity 0.85833575 arcmin>, <Quantity 1.98776956 arcmin>],\n",
       " [<Quantity 0.97666875 arcmin>, <Quantity 0.16537912 arcmin>],\n",
       " [<Quantity 0.71789407 arcmin>, <Quantity 1.98480782 arcmin>],\n",
       " [<Quantity 1.39166388 arcmin>, <Quantity 1.36838807 arcmin>],\n",
       " [<Quantity 1.8905262 arcmin>, <Quantity 0.57724475 arcmin>],\n",
       " [<Quantity 0.38816819 arcmin>, <Quantity 1.08685716 arcmin>],\n",
       " [<Quantity 0.66213217 arcmin>, <Quantity 0.63005694 arcmin>],\n",
       " [<Quantity 1.95723258 arcmin>, <Quantity 1.63606449 arcmin>],\n",
       " [<Quantity 1.64784544 arcmin>, <Quantity 1.85365622 arcmin>],\n",
       " [<Quantity 1.37018147 arcmin>, <Quantity 1.26552732 arcmin>],\n",
       " [<Quantity 0.66706052 arcmin>, <Quantity 1.62359507 arcmin>],\n",
       " [<Quantity 0.15412988 arcmin>, <Quantity 0.56649637 arcmin>],\n",
       " [<Quantity 0.87567855 arcmin>, <Quantity 1.33765808 arcmin>],\n",
       " [<Quantity 0.0287157 arcmin>, <Quantity 0.88315055 arcmin>],\n",
       " [<Quantity 0.27872433 arcmin>, <Quantity 0.79736585 arcmin>],\n",
       " [<Quantity 0.59265101 arcmin>, <Quantity 0.37115451 arcmin>],\n",
       " [<Quantity 0.25575477 arcmin>, <Quantity 1.18311106 arcmin>],\n",
       " [<Quantity 1.79763564 arcmin>, <Quantity 0.55650925 arcmin>],\n",
       " [<Quantity 1.51142046 arcmin>, <Quantity 1.9769248 arcmin>],\n",
       " [<Quantity 0.327153 arcmin>, <Quantity 1.78398375 arcmin>],\n",
       " [<Quantity 0.12577905 arcmin>, <Quantity 1.22837496 arcmin>],\n",
       " [<Quantity 1.1322206 arcmin>, <Quantity 0.88883237 arcmin>],\n",
       " [<Quantity 0.13637296 arcmin>, <Quantity 1.06755662 arcmin>],\n",
       " [<Quantity 0.82514577 arcmin>, <Quantity 1.9624596 arcmin>],\n",
       " [<Quantity 1.93063199 arcmin>, <Quantity 0.25696923 arcmin>],\n",
       " [<Quantity 0.55929745 arcmin>, <Quantity 1.76590882 arcmin>],\n",
       " [<Quantity 1.42346678 arcmin>, <Quantity 0.4831709 arcmin>],\n",
       " [<Quantity 1.83530222 arcmin>, <Quantity 1.87987994 arcmin>],\n",
       " [<Quantity 0.83748797 arcmin>, <Quantity 0.73971022 arcmin>],\n",
       " [<Quantity 0.96462086 arcmin>, <Quantity 0.92980199 arcmin>],\n",
       " [<Quantity 1.91273018 arcmin>, <Quantity 0.96019554 arcmin>],\n",
       " [<Quantity 0.67422382 arcmin>, <Quantity 0.46031941 arcmin>],\n",
       " [<Quantity 1.05284086 arcmin>, <Quantity 0.18778187 arcmin>],\n",
       " [<Quantity 1.01769238 arcmin>, <Quantity 1.47447528 arcmin>],\n",
       " [<Quantity 0.07367168 arcmin>, <Quantity 0.18242856 arcmin>],\n",
       " [<Quantity 1.92914171 arcmin>, <Quantity 1.20182081 arcmin>],\n",
       " [<Quantity 1.40097908 arcmin>, <Quantity 0.85532077 arcmin>],\n",
       " [<Quantity 1.86365212 arcmin>, <Quantity 0.27172004 arcmin>],\n",
       " [<Quantity 0.44341103 arcmin>, <Quantity 0.85772021 arcmin>],\n",
       " [<Quantity 0.68607878 arcmin>, <Quantity 1.76714903 arcmin>],\n",
       " [<Quantity 0.7423248 arcmin>, <Quantity 1.3308242 arcmin>],\n",
       " [<Quantity 0.51194739 arcmin>, <Quantity 0.91061296 arcmin>],\n",
       " [<Quantity 1.72723529 arcmin>, <Quantity 0.29179181 arcmin>],\n",
       " [<Quantity 0.92511893 arcmin>, <Quantity 1.72460248 arcmin>],\n",
       " [<Quantity 1.01071577 arcmin>, <Quantity 0.04297906 arcmin>],\n",
       " [<Quantity 1.23077183 arcmin>, <Quantity 0.13239538 arcmin>],\n",
       " [<Quantity 1.48488228 arcmin>, <Quantity 1.80108115 arcmin>],\n",
       " [<Quantity 0.12839231 arcmin>, <Quantity 0.37973512 arcmin>],\n",
       " [<Quantity 0.52714868 arcmin>, <Quantity 0.26155353 arcmin>],\n",
       " [<Quantity 0.98199592 arcmin>, <Quantity 1.67285997 arcmin>],\n",
       " [<Quantity 1.43389945 arcmin>, <Quantity 1.49687359 arcmin>],\n",
       " [<Quantity 1.81149841 arcmin>, <Quantity 1.39086789 arcmin>],\n",
       " [<Quantity 1.75790996 arcmin>, <Quantity 0.44309154 arcmin>],\n",
       " [<Quantity 1.62144746 arcmin>, <Quantity 1.85310018 arcmin>],\n",
       " [<Quantity 0.69399694 arcmin>, <Quantity 0.27015309 arcmin>],\n",
       " [<Quantity 0.391362 arcmin>, <Quantity 0.55570723 arcmin>],\n",
       " [<Quantity 0.00976713 arcmin>, <Quantity 1.79221716 arcmin>],\n",
       " [<Quantity 0.25327267 arcmin>, <Quantity 1.08659238 arcmin>],\n",
       " [<Quantity 0.09912179 arcmin>, <Quantity 0.9558496 arcmin>],\n",
       " [<Quantity 0.15948062 arcmin>, <Quantity 0.23592583 arcmin>],\n",
       " [<Quantity 0.33264075 arcmin>, <Quantity 0.32716395 arcmin>],\n",
       " [<Quantity 0.52100256 arcmin>, <Quantity 0.09077076 arcmin>],\n",
       " [<Quantity 0.04639031 arcmin>, <Quantity 0.55351084 arcmin>],\n",
       " [<Quantity 1.74912074 arcmin>, <Quantity 0.38921811 arcmin>],\n",
       " [<Quantity 0.66401991 arcmin>, <Quantity 1.3952103 arcmin>],\n",
       " [<Quantity 1.91540732 arcmin>, <Quantity 0.21786061 arcmin>],\n",
       " [<Quantity 1.98269463 arcmin>, <Quantity 0.91065152 arcmin>],\n",
       " [<Quantity 1.56446046 arcmin>, <Quantity 0.6327109 arcmin>],\n",
       " [<Quantity 1.08188211 arcmin>, <Quantity 1.46546042 arcmin>],\n",
       " [<Quantity 1.67805932 arcmin>, <Quantity 1.27059233 arcmin>],\n",
       " [<Quantity 0.77120411 arcmin>, <Quantity 1.93166556 arcmin>],\n",
       " [<Quantity 1.08057581 arcmin>, <Quantity 1.54387039 arcmin>],\n",
       " [<Quantity 0.51265266 arcmin>, <Quantity 1.16546876 arcmin>],\n",
       " [<Quantity 0.08151565 arcmin>, <Quantity 0.78944819 arcmin>],\n",
       " [<Quantity 1.08506383 arcmin>, <Quantity 1.2483985 arcmin>],\n",
       " [<Quantity 0.469258 arcmin>, <Quantity 1.29758784 arcmin>],\n",
       " [<Quantity 0.52292933 arcmin>, <Quantity 0.23137525 arcmin>],\n",
       " [<Quantity 1.02398014 arcmin>, <Quantity 0.72701434 arcmin>],\n",
       " [<Quantity 0.27490962 arcmin>, <Quantity 1.54670648 arcmin>],\n",
       " [<Quantity 0.53329108 arcmin>, <Quantity 1.35013766 arcmin>],\n",
       " [<Quantity 0.15447799 arcmin>, <Quantity 1.95602319 arcmin>],\n",
       " [<Quantity 0.05201928 arcmin>, <Quantity 0.57477 arcmin>],\n",
       " [<Quantity 1.15966837 arcmin>, <Quantity 1.87214714 arcmin>],\n",
       " [<Quantity 1.07601677 arcmin>, <Quantity 1.02808041 arcmin>],\n",
       " [<Quantity 1.33237411 arcmin>, <Quantity 1.44522488 arcmin>],\n",
       " [<Quantity 1.33011394 arcmin>, <Quantity 0.96098806 arcmin>],\n",
       " [<Quantity 1.60251732 arcmin>, <Quantity 0.7066787 arcmin>],\n",
       " [<Quantity 1.41916945 arcmin>, <Quantity 1.13166059 arcmin>],\n",
       " [<Quantity 0.9649919 arcmin>, <Quantity 0.56091954 arcmin>],\n",
       " [<Quantity 1.1781733 arcmin>, <Quantity 0.90130129 arcmin>],\n",
       " [<Quantity 1.02117019 arcmin>, <Quantity 1.39426714 arcmin>],\n",
       " [<Quantity 1.61244179 arcmin>, <Quantity 0.01257827 arcmin>],\n",
       " [<Quantity 0.08270215 arcmin>, <Quantity 0.92540018 arcmin>],\n",
       " [<Quantity 1.75761377 arcmin>, <Quantity 1.62471977 arcmin>],\n",
       " [<Quantity 1.62380346 arcmin>, <Quantity 0.56309606 arcmin>],\n",
       " [<Quantity 1.59760525 arcmin>, <Quantity 1.71158585 arcmin>],\n",
       " [<Quantity 1.43604044 arcmin>, <Quantity 1.46211155 arcmin>],\n",
       " [<Quantity 0.3491947 arcmin>, <Quantity 1.35203423 arcmin>],\n",
       " [<Quantity 1.73980587 arcmin>, <Quantity 1.62748264 arcmin>],\n",
       " [<Quantity 1.12445365 arcmin>, <Quantity 1.33556668 arcmin>],\n",
       " [<Quantity 0.37888228 arcmin>, <Quantity 0.67157537 arcmin>],\n",
       " [<Quantity 1.21810451 arcmin>, <Quantity 0.02636624 arcmin>],\n",
       " [<Quantity 0.24930813 arcmin>, <Quantity 1.67678911 arcmin>],\n",
       " [<Quantity 0.11852949 arcmin>, <Quantity 1.88012853 arcmin>],\n",
       " [<Quantity 0.67379671 arcmin>, <Quantity 1.53956632 arcmin>],\n",
       " [<Quantity 0.91718509 arcmin>, <Quantity 0.00953752 arcmin>],\n",
       " [<Quantity 1.86862163 arcmin>, <Quantity 0.19033348 arcmin>],\n",
       " ...]"
      ]
     },
     "execution_count": 27,
     "metadata": {},
     "output_type": "execute_result"
    }
   ],
   "source": [
    "offsets"
   ]
  },
  {
   "cell_type": "code",
   "execution_count": 26,
   "metadata": {},
   "outputs": [],
   "source": [
    "stack = 0\n",
    "n = 0\n",
    "\n",
    "for i in range(to_return.shape[0]):\n",
    "    weight = act_sn[i]\n",
    "    stack += to_return[i,...,0]*weight\n",
    "    n += weight"
   ]
  },
  {
   "cell_type": "code",
   "execution_count": 27,
   "metadata": {},
   "outputs": [
    {
     "data": {
      "image/png": "[encoded data removed]",
      "text/plain": [
       "<Figure size 432x288 with 2 Axes>"
      ]
     },
     "metadata": {
      "needs_background": "light"
     },
     "output_type": "display_data"
    }
   ],
   "source": [
    "plt.imshow(stack/n)\n",
    "plt.colorbar()\n",
    "plt.show()\n",
    "plt.close()"
   ]
  },
  {
   "cell_type": "code",
   "execution_count": null,
   "metadata": {},
   "outputs": [],
   "source": []
  },
  {
   "cell_type": "code",
   "execution_count": null,
   "metadata": {},
   "outputs": [],
   "source": []
  },
  {
   "cell_type": "markdown",
   "metadata": {},
   "source": [
    "# Single Cluster y stamps"
   ]
  },
  {
   "cell_type": "code",
   "execution_count": 5,
   "metadata": {},
   "outputs": [],
   "source": [
    "path = '/project/r/rbond/jorlo/S18d_202006/filteredMaps/'\n",
    "\n",
    "ymap = enmap.read_map(path + 'stitched_Arnaud_M2e14_z0p4_filteredMap.fits')"
   ]
  },
  {
   "cell_type": "code",
   "execution_count": 6,
   "metadata": {},
   "outputs": [],
   "source": [
    "act_catalog = fits.open('/gpfs/fs0/project/r/rbond/jorlo/cluster_catalogs/DR5_cluster-catalog_v1.0b2.fits')\n",
    "ras, decs = act_catalog[1].data['RADeg'], act_catalog[1].data['decDeg']"
   ]
  },
  {
   "cell_type": "code",
   "execution_count": 13,
   "metadata": {},
   "outputs": [
    {
     "data": {
      "image/png": "[encoded data removed]",
      "text/plain": [
       "<Figure size 432x288 with 2 Axes>"
      ]
     },
     "metadata": {
      "needs_background": "light"
     },
     "output_type": "display_data"
    },
    {
     "data": {
      "image/png": "[encoded data removed]",
      "text/plain": [
       "<Figure size 432x288 with 2 Axes>"
      ]
     },
     "metadata": {
      "needs_background": "light"
     },
     "output_type": "display_data"
    },
    {
     "data": {
      "image/png": "[encoded data removed]",
      "text/plain": [
       "<Figure size 432x288 with 2 Axes>"
      ]
     },
     "metadata": {
      "needs_background": "light"
     },
     "output_type": "display_data"
    },
    {
     "data": {
      "image/png": "[encoded data removed]",
      "text/plain": [
       "<Figure size 432x288 with 2 Axes>"
      ]
     },
     "metadata": {
      "needs_background": "light"
     },
     "output_type": "display_data"
    },
    {
     "data": {
      "image/png": "[encoded data removed]",
      "text/plain": [
       "<Figure size 432x288 with 2 Axes>"
      ]
     },
     "metadata": {
      "needs_background": "light"
     },
     "output_type": "display_data"
    },
    {
     "data": {
      "image/png": "[encoded data removed]",
      "text/plain": [
       "<Figure size 432x288 with 2 Axes>"
      ]
     },
     "metadata": {
      "needs_background": "light"
     },
     "output_type": "display_data"
    },
    {
     "data": {
      "image/png": "[encoded data removed]",
      "text/plain": [
       "<Figure size 432x288 with 2 Axes>"
      ]
     },
     "metadata": {
      "needs_background": "light"
     },
     "output_type": "display_data"
    },
    {
     "data": {
      "image/png": "[encoded data removed]",
      "text/plain": [
       "<Figure size 432x288 with 2 Axes>"
      ]
     },
     "metadata": {
      "needs_background": "light"
     },
     "output_type": "display_data"
    },
    {
     "data": {
      "image/png": "[encoded data removed]",
      "text/plain": [
       "<Figure size 432x288 with 2 Axes>"
      ]
     },
     "metadata": {
      "needs_background": "light"
     },
     "output_type": "display_data"
    },
    {
     "data": {
      "image/png": "[encoded data removed]",
      "text/plain": [
       "<Figure size 432x288 with 2 Axes>"
      ]
     },
     "metadata": {
      "needs_background": "light"
     },
     "output_type": "display_data"
    }
   ],
   "source": [
    "to_return_y = []\n",
    "\n",
    "for i in range(10):\n",
    "    width = 3.5*utils.arcmin\n",
    "    \n",
    "    ra, dec = ras[i]*u.deg, decs[i]*u.deg    \n",
    "\n",
    "    stamp = reproject.thumbnails(ymap, ( dec.to(u.radian).value,ra.to(u.radian).value), r=width,\n",
    "                        apod = 2*utils.arcmin)\n",
    "    #stamp = normalize_map(stamp)\n",
    "    plt.imshow(stamp)\n",
    "    plt.colorbar()\n",
    "    plt.show()\n",
    "    plt.close()\n",
    "    #stamp = normalize_map(stamp)\n",
    "\n",
    "    to_return_y.append(stamp)\n",
    "to_return_y = np.stack(to_return_y, axis=0)\n",
    "to_return_y/= np.amax(to_return_y)\n",
    "pk.dump(to_return_y, open('/project/r/rbond/jorlo/datasets/act_y_stamps/test_clusters.pk', 'wb'))"
   ]
  },
  {
   "cell_type": "code",
   "execution_count": 14,
   "metadata": {},
   "outputs": [
    {
     "data": {
      "image/png": "[encoded data removed]",
      "text/plain": [
       "<Figure size 432x288 with 2 Axes>"
      ]
     },
     "metadata": {
      "needs_background": "light"
     },
     "output_type": "display_data"
    },
    {
     "data": {
      "image/png": "[encoded data removed]",
      "text/plain": [
       "<Figure size 432x288 with 2 Axes>"
      ]
     },
     "metadata": {
      "needs_background": "light"
     },
     "output_type": "display_data"
    },
    {
     "data": {
      "image/png": "[encoded data removed]",
      "text/plain": [
       "<Figure size 432x288 with 2 Axes>"
      ]
     },
     "metadata": {
      "needs_background": "light"
     },
     "output_type": "display_data"
    },
    {
     "data": {
      "image/png": "[encoded data removed]",
      "text/plain": [
       "<Figure size 432x288 with 2 Axes>"
      ]
     },
     "metadata": {
      "needs_background": "light"
     },
     "output_type": "display_data"
    },
    {
     "data": {
      "image/png": "[encoded data removed]",
      "text/plain": [
       "<Figure size 432x288 with 2 Axes>"
      ]
     },
     "metadata": {
      "needs_background": "light"
     },
     "output_type": "display_data"
    },
    {
     "data": {
      "image/png": "[encoded data removed]",
      "text/plain": [
       "<Figure size 432x288 with 2 Axes>"
      ]
     },
     "metadata": {
      "needs_background": "light"
     },
     "output_type": "display_data"
    },
    {
     "data": {
      "image/png": "[encoded data removed]",
      "text/plain": [
       "<Figure size 432x288 with 2 Axes>"
      ]
     },
     "metadata": {
      "needs_background": "light"
     },
     "output_type": "display_data"
    },
    {
     "data": {
      "image/png": "[encoded data removed]",
      "text/plain": [
       "<Figure size 432x288 with 2 Axes>"
      ]
     },
     "metadata": {
      "needs_background": "light"
     },
     "output_type": "display_data"
    },
    {
     "data": {
      "image/png": "[encoded data removed]",
      "text/plain": [
       "<Figure size 432x288 with 2 Axes>"
      ]
     },
     "metadata": {
      "needs_background": "light"
     },
     "output_type": "display_data"
    },
    {
     "data": {
      "image/png": "[encoded data removed]",
      "text/plain": [
       "<Figure size 432x288 with 2 Axes>"
      ]
     },
     "metadata": {
      "needs_background": "light"
     },
     "output_type": "display_data"
    }
   ],
   "source": [
    "for i in range(10):\n",
    "    plt.imshow(to_return_y[i,...])\n",
    "    plt.colorbar()\n",
    "    plt.show()\n",
    "    plt.close()"
   ]
  },
  {
   "cell_type": "code",
   "execution_count": 24,
   "metadata": {},
   "outputs": [],
   "source": [
    "to_return_y = []\n",
    "\n",
    "for i, name in enumerate(act_catalog[1].data['name']):\n",
    "    width = 4.5*utils.arcmin\n",
    "    \n",
    "    ra, dec = ras[i]*u.deg, decs[i]*u.deg    \n",
    "\n",
    "    stamp = reproject.thumbnails(ymap, ( dec.to(u.radian).value,ra.to(u.radian).value), r=width,\n",
    "                        apod = 2*utils.arcmin)\n",
    "    #stamp = normalize_map(stamp)\n",
    "    to_return_y.append(stamp)\n",
    "\n",
    "to_return_y = np.stack(to_return_y, axis=0)"
   ]
  },
  {
   "cell_type": "code",
   "execution_count": 25,
   "metadata": {},
   "outputs": [],
   "source": [
    "to_return_y/= np.amax(to_return_y)"
   ]
  },
  {
   "cell_type": "code",
   "execution_count": 26,
   "metadata": {},
   "outputs": [],
   "source": [
    "np.savez_compressed('/project/r/rbond/jorlo/datasets/act_y_stamps/all_clusters.npz', to_return_y)"
   ]
  },
  {
   "cell_type": "markdown",
   "metadata": {},
   "source": [
    "# ILC Compton-y"
   ]
  },
  {
   "cell_type": "code",
   "execution_count": 44,
   "metadata": {},
   "outputs": [],
   "source": [
    "path = '/project/r/rbond/msyriac/ilc_dr6v3/20220224/'\n",
    "\n",
    "ymap = enmap.read_map(path + 'ilc_SZ_yy.fits')\n",
    "mask = enmap.read_map(path + 'wide_mask_GAL080_apod_3.00_deg.fits')"
   ]
  },
  {
   "cell_type": "code",
   "execution_count": 45,
   "metadata": {},
   "outputs": [],
   "source": [
    "act_catalog = fits.open('/gpfs/fs0/project/r/rbond/jorlo/cluster_catalogs/DR5_cluster-catalog_v1.0b2.fits')\n",
    "ras, decs = act_catalog[1].data['RADeg'], act_catalog[1].data['decDeg']"
   ]
  },
  {
   "cell_type": "code",
   "execution_count": 46,
   "metadata": {},
   "outputs": [],
   "source": [
    "to_return_y = []\n",
    "\n",
    "for i , name in enumerate(act_catalog[1].data['name']):\n",
    "    width = 4.5*utils.arcmin\n",
    "    \n",
    "    ra, dec = ras[i]*u.deg, decs[i]*u.deg    \n",
    "    mask_stamp = reproject.thumbnails(mask, ( dec.to(u.radian).value,ra.to(u.radian).value), r=width,\n",
    "                        apod = 2*utils.arcmin)\n",
    "    \n",
    "    if np.any(mask_stamp < 1): continue\n",
    "    \n",
    "    stamp = reproject.thumbnails(ymap, ( dec.to(u.radian).value,ra.to(u.radian).value), r=width,\n",
    "                        apod = 2*utils.arcmin)\n",
    "   \n",
    "    to_return_y.append(stamp)\n",
    "\n",
    "to_return_y = np.stack(to_return_y, axis=0)"
   ]
  },
  {
   "cell_type": "code",
   "execution_count": 47,
   "metadata": {},
   "outputs": [],
   "source": [
    "np.savez_compressed('/project/r/rbond/jorlo/datasets/act_y_stamps/ilc_all_clusters.npz', to_return_y)"
   ]
  },
  {
   "cell_type": "markdown",
   "metadata": {},
   "source": [
    "## ILC Randoms"
   ]
  },
  {
   "cell_type": "code",
   "execution_count": 48,
   "metadata": {},
   "outputs": [],
   "source": [
    "path = '/project/r/rbond/msyriac/ilc_dr6v3/20220224/'\n",
    "\n",
    "ymap = enmap.read_map(path + 'ilc_SZ_yy.fits')\n",
    "mask = enmap.read_map(path + 'wide_mask_GAL080_apod_3.00_deg.fits')\n",
    "\n",
    "act_catalog = fits.open('/gpfs/fs0/project/r/rbond/jorlo/cluster_catalogs/DR5_cluster-catalog_v1.0b2.fits')\n",
    "ras, decs = act_catalog[1].data['RADeg'], act_catalog[1].data['decDeg']"
   ]
  },
  {
   "cell_type": "code",
   "execution_count": 66,
   "metadata": {
    "scrolled": true
   },
   "outputs": [],
   "source": [
    "to_return_randoms = []\n",
    "\n",
    "i = 0 \n",
    "\n",
    "for i in range(len(ras)):\n",
    "    width = 4.5*utils.arcmin\n",
    "    \n",
    "    ra, dec = ras[i]*u.deg, decs[i]*u.deg\n",
    "    \n",
    "    \n",
    "    theta, dr = np.random.uniform(0, 2*np.pi), np.random.uniform(5,10)\n",
    "    ra += np.cos(theta)*dr*u.arcmin\n",
    "    dec += np.sin(theta)*dr*u.arcmin\n",
    "    \n",
    "    mask_stamp = reproject.thumbnails(mask, ( dec.to(u.radian).value,ra.to(u.radian).value), r=width,\n",
    "                        apod = 2*utils.arcmin)\n",
    "    if mask_stamp.at([0,0])< 0.99: continue\n",
    "    '''\n",
    "    while np.any(mask_stamp < 0.9):\n",
    "        if mask_stamp.at([0,0])< 0.8: break\n",
    "        ra, dec = ras[i]*u.deg, decs[i]*u.deg\n",
    "    \n",
    "        theta, dr = np.random.uniform(0, 2*np.pi), np.random.uniform(5,10)\n",
    "        ra += np.cos(theta)*dr*u.arcmin\n",
    "        dec += np.sin(theta)*dr*u.arcmin\n",
    "\n",
    "        mask_stamp = reproject.thumbnails(mask, ( dec.to(u.radian).value,ra.to(u.radian).value), r=width,\n",
    "                            apod = 2*utils.arcmin)\n",
    "    '''\n",
    "    stamp = reproject.thumbnails(ymap, ( dec.to(u.radian).value,ra.to(u.radian).value), r=width,\n",
    "                        apod = 2*utils.arcmin)\n",
    "   \n",
    "    to_return_randoms.append(stamp)\n",
    "\n",
    "to_return_randoms = np.stack(to_return_randoms, axis=0)\n"
   ]
  },
  {
   "cell_type": "code",
   "execution_count": 67,
   "metadata": {},
   "outputs": [],
   "source": [
    "np.savez_compressed('/project/r/rbond/jorlo/datasets/act_y_stamps/ilc_randoms.npz', to_return_randoms)"
   ]
  },
  {
   "cell_type": "code",
   "execution_count": 68,
   "metadata": {},
   "outputs": [
    {
     "data": {
      "text/plain": [
       "(3875, 37, 37)"
      ]
     },
     "execution_count": 68,
     "metadata": {},
     "output_type": "execute_result"
    }
   ],
   "source": [
    "to_return_randoms.shape"
   ]
  },
  {
   "cell_type": "code",
   "execution_count": 69,
   "metadata": {},
   "outputs": [
    {
     "data": {
      "text/plain": [
       "(3474, 37, 37)"
      ]
     },
     "execution_count": 69,
     "metadata": {},
     "output_type": "execute_result"
    }
   ],
   "source": [
    "to_return_y.shape"
   ]
  },
  {
   "cell_type": "code",
   "execution_count": null,
   "metadata": {},
   "outputs": [],
   "source": []
  },
  {
   "cell_type": "code",
   "execution_count": 5,
   "metadata": {},
   "outputs": [],
   "source": [
    "#Paths to a couple coadded maps\n",
    "\n",
    "#path = '/home/r/rbond/sigurdkn/project/actpol/map_coadd/20200228/release2/'\n",
    "path = '/home/r/rbond/sigurdkn/project/actpol/map_coadd/20211219/release/'\n",
    "#path = '/project/r/rbond/jorlo/stitched_Beam_filteredMap.fits'\n",
    "freqs = ['220', '150', '090']\n",
    "\n",
    "#Unused code for taking a look at the maps\n",
    "#cur_map = enmap.read_map(path + 'act_planck_s08_s19_cmb_f{}_night_map.fits'.format(freqs[2]))\n",
    "cur_map = enmap.read_map(path + 'act_planck_daynight_f{}_map.fits'.format(freqs[2]))\n",
    "\n",
    "cur_map = cur_map[0]\n",
    "\n",
    "#plots = enplot.plot(cur_map,range=300,mask=0)\n",
    "#enplot.write(\"plots_example\",plots)\n",
    "\n",
    "#def eshow(x,**kwargs): enplot.show(enplot.plot(x,**kwargs))\n",
    "#enplot.show(enplot.plot(cur_map))"
   ]
  },
  {
   "cell_type": "code",
   "execution_count": 6,
   "metadata": {},
   "outputs": [],
   "source": [
    "cur_map.wcs"
   ]
  },
  {
   "cell_type": "code",
   "execution_count": 11,
   "metadata": {},
   "outputs": [],
   "source": [
    "from astropy.utils.data import get_pkg_data_filename\n",
    "\n",
    "wcs = cur_map.wcs\n",
    "\n",
    "plt.subplot(projection=wcs)\n",
    "plt.imshow(cur_map, vmin=-300, vmax=300)#, origin='lower')\n",
    "plt.grid(color='white', ls='solid')\n",
    "plt.xlabel('Galactic Longitude')\n",
    "plt.ylabel('Galactic Latitude')"
   ]
  },
  {
   "cell_type": "code",
   "execution_count": 11,
   "metadata": {},
   "outputs": [],
   "source": [
    "hdu.header"
   ]
  },
  {
   "cell_type": "code",
   "execution_count": 12,
   "metadata": {},
   "outputs": [],
   "source": [
    "plt.imshow(cur_map[0], vmin = -300, vmax = 300)"
   ]
  },
  {
   "cell_type": "code",
   "execution_count": 26,
   "metadata": {
    "scrolled": true
   },
   "outputs": [],
   "source": [
    "\n",
    "#Create a box\n",
    "ra_min = 0; ra_max = 10; dec_min=0; dec_max=10\n",
    "box = np.array([[dec_min,ra_min],[dec_max,ra_max]]) * utils.degree\n",
    "box = [[-1.0645054,   0.94960714], [-0.93651459,  1.25052841]]\n",
    "print(box)\n",
    "#Make jpg of box\n",
    "jpg = make_jpg('/home/r/rbond/sigurdkn/project/actpol/map_coadd/20211219/release/', box)\n",
    "\n",
    "#The image package allows us to turn the array into a jpg for saving\n",
    "im = Image.fromarray(jpg, 'RGB')\n",
    "im.save(\"test_jpg.jpeg\")"
   ]
  },
  {
   "cell_type": "code",
   "execution_count": 27,
   "metadata": {},
   "outputs": [],
   "source": [
    "cur_map = enmap.read_map(path + 'act_planck_daynight_f{}_map.fits'.format(freqs[2]), box = box)\n",
    "\n",
    "cur_map = cur_map[0]\n",
    "\n",
    "from astropy.utils.data import get_pkg_data_filename\n",
    "\n",
    "wcs = cur_map.wcs\n",
    "\n",
    "plt.subplot(projection=wcs)\n",
    "plt.imshow(cur_map, vmin=-300, vmax=300)#, origin='lower')\n",
    "plt.grid(color='white', ls='solid')\n",
    "plt.xlabel('Galactic Longitude')\n",
    "plt.ylabel('Galactic Latitude')"
   ]
  },
  {
   "cell_type": "code",
   "execution_count": 25,
   "metadata": {},
   "outputs": [],
   "source": [
    "jpg.shape"
   ]
  },
  {
   "cell_type": "code",
   "execution_count": 14,
   "metadata": {},
   "outputs": [],
   "source": [
    "plt.imshow(jpg[...,2])\n",
    "plt.colorbar()"
   ]
  },
  {
   "cell_type": "code",
   "execution_count": 15,
   "metadata": {},
   "outputs": [],
   "source": [
    "np.amax(jpg[...,2])"
   ]
  },
  {
   "cell_type": "code",
   "execution_count": 11,
   "metadata": {},
   "outputs": [],
   "source": [
    "for i in range(0, 360, 10):\n",
    "    ra_min = i; ra_max = i+10\n",
    "    dec_min = 0; dec_max = 10\n",
    "    #TODO: Galaxy masking\n",
    "    box = np.array([[dec_min,ra_min],[dec_max,ra_max]]) * utils.degree\n",
    "    cur_map = enmap.read_map(path + 'act_planck_daynight_f{}_map.fits'.format(freqs[2]), box=box)\n",
    "    plt.imshow(cur_map[0], vmin=-300, vmax = 300)\n",
    "    plt.show()\n",
    "    plt.close()"
   ]
  },
  {
   "cell_type": "code",
   "execution_count": 6,
   "metadata": {},
   "outputs": [],
   "source": [
    "plt.imshow(cur_map[0], vmin=-300, vmax = 300)"
   ]
  },
  {
   "cell_type": "code",
   "execution_count": 12,
   "metadata": {},
   "outputs": [],
   "source": [
    "act_catalog = fits.open('/gpfs/fs0/project/r/rbond/jorlo/cluster_catalogs/DR5_cluster-catalog_v1.0b2.fits')\n",
    "\n",
    "actRa = act_catalog[1].data['RADeg']\n",
    "actNames = act_catalog[1].data['name']\n",
    "actDec = act_catalog[1].data['decDeg']\n",
    "actRa, actDec = np.array(actRa), np.array(actDec)\n",
    "actSnr = act_catalog[1].data['fixed_SNR']\n",
    "actz = act_catalog[1].data['redshift']"
   ]
  },
  {
   "cell_type": "code",
   "execution_count": 13,
   "metadata": {
    "scrolled": true
   },
   "outputs": [],
   "source": [
    "#path = '/project/r/rbond/jorlo/S18d_202006/filteredMaps/'\n",
    "\n",
    "#tileName = tileFinder(actRa[0], actDec[0], s18d)\n",
    "#tile = enmap.read_map(path+tileName+'/Arnaud_M2e14_z0p4#'+tileName+'_filteredMap.fits')\n",
    "ra, dec = actRa[0]*u.deg, actDec[0]*u.deg\n",
    "stamp = reproject.thumbnails(cur_map, ( dec.to(u.radian).value,ra.to(u.radian).value), r=5*utils.arcmin,\n",
    "                            apod = 2*utils.arcmin)#5.*np.pi/(60*180))\n",
    "#plot = enplot.plot(stamp)\n",
    "#enplot.show(plot)"
   ]
  },
  {
   "cell_type": "code",
   "execution_count": 17,
   "metadata": {},
   "outputs": [],
   "source": [
    "plt.imshow(stamp[0])\n",
    "print(stamp.shape)\n",
    "plt.colorbar()"
   ]
  },
  {
   "cell_type": "code",
   "execution_count": 31,
   "metadata": {},
   "outputs": [],
   "source": [
    "print(min(np.abs(stamp.wcs.wcs.cdelt))*utils.degree/2)\n",
    "print(min(np.abs(stamp.wcs.wcs.cdelt))*utils.degree/2*(3600 * 180)/np.pi)\n",
    "print(0.004167*(60 * 180)/np.pi)"
   ]
  },
  {
   "cell_type": "code",
   "execution_count": 32,
   "metadata": {},
   "outputs": [],
   "source": [
    "print(10/41*60)"
   ]
  },
  {
   "cell_type": "code",
   "execution_count": 33,
   "metadata": {},
   "outputs": [],
   "source": [
    "print(cur_map.wcs.wcs.cdelt)\n",
    "print(stamp.wcs.wcs.cdelt)"
   ]
  },
  {
   "cell_type": "code",
   "execution_count": 34,
   "metadata": {},
   "outputs": [],
   "source": [
    "ra, dec = actRa[0], actDec[0]\n",
    "stamp1 = freq_cutout(ra, dec, cur_map, scale = 399, width = 5*utils.arcmin)\n",
    "plt.imshow(stamp1)\n",
    "print(stamp.shape)"
   ]
  },
  {
   "cell_type": "code",
   "execution_count": null,
   "metadata": {},
   "outputs": [],
   "source": [
    "stamp2 = freq_cutout(ra, dec, cur_map, scale = 399, width = 5*utils.arcmin)\n",
    "plt.imshow(stamp2)\n",
    "print(stamp.shape)"
   ]
  },
  {
   "cell_type": "code",
   "execution_count": null,
   "metadata": {},
   "outputs": [],
   "source": [
    "plt.imshow((stamp1-stamp2)/stamp1)\n",
    "plt.colorbar()\n",
    "\n"
   ]
  },
  {
   "cell_type": "code",
   "execution_count": null,
   "metadata": {},
   "outputs": [],
   "source": [
    "stamp = 0\n",
    "for i in range(len(actRa)):\n",
    "    ra, dec = actRa[i]*u.deg, actDec[i]*u.deg\n",
    "    full_box  = reproject.thumbnails(cur_map, (dec.to(u.radian).value, ra.to(u.radian).value), r=20.*np.pi/(60*180))\n",
    "    stamp+=full_box"
   ]
  },
  {
   "cell_type": "code",
   "execution_count": null,
   "metadata": {},
   "outputs": [],
   "source": []
  },
  {
   "cell_type": "code",
   "execution_count": null,
   "metadata": {},
   "outputs": [],
   "source": [
    "plt.imshow(stamp)"
   ]
  },
  {
   "cell_type": "code",
   "execution_count": null,
   "metadata": {},
   "outputs": [],
   "source": [
    "path = '/home/r/rbond/sigurdkn/project/actpol/map_coadd/20200228/release2/'\n",
    "\n",
    "freq_map_090 = enmap.read_map(path + 'act_planck_s08_s19_cmb_f090_night_map.fits')\n",
    "freq_map_150 = enmap.read_map(path + 'act_planck_s08_s19_cmb_f150_night_map.fits')\n",
    "freq_map_220 = enmap.read_map(path + 'act_planck_s08_s19_cmb_f220_night_map.fits')\n",
    "\n",
    "temp = cutout(actRa[:2], actDec[:2], freq_map_090, freq_map_150, freq_map_220, scale = 10)"
   ]
  },
  {
   "cell_type": "markdown",
   "metadata": {},
   "source": [
    "# WISE Stamping"
   ]
  },
  {
   "cell_type": "code",
   "execution_count": 3,
   "metadata": {},
   "outputs": [],
   "source": [
    "act_catalog = fits.open('/gpfs/fs0/project/r/rbond/jorlo/cluster_catalogs/DR5_cluster-catalog_v1.0b2.fits')\n",
    "\n",
    "ras, decs, zs = np.array(act_catalog[1].data['RADeg']), np.array(act_catalog[1].data['decDeg']), np.array(act_catalog[1].data['redshift'])\n",
    "\n",
    "c = SkyCoord(ras[500], decs[500], unit=\"deg\")\n",
    "paths = SkyView.get_images(position=c,\n",
    "                           survey=['WISE 3.4', 'WISE 4.6', 'WISE 12', 'WISE 22'],\n",
    "                          radius = 5*u.arcmin)"
   ]
  },
  {
   "cell_type": "code",
   "execution_count": null,
   "metadata": {},
   "outputs": [
    {
     "name": "stdout",
     "output_type": "stream",
     "text": [
      "2111\r"
     ]
    }
   ],
   "source": [
    "z_cut = 0.\n",
    "\n",
    "for i in range(len(ras)):\n",
    "    print(i, end = '\\r')\n",
    "    if zs[i] < z_cut: continue\n",
    "    if os.path.exists('/project/r/rbond/jorlo/datasets/act_centered_wise_stamps/cluster_{}.npz'.format(str(i).zfill(4))):\n",
    "        continue\n",
    "    try:\n",
    "        c = SkyCoord(ras[i], decs[i], unit=\"deg\")\n",
    "        paths = SkyView.get_images(position=c,\n",
    "                           survey=['WISE 3.4', 'WISE 4.6', 'WISE 12', 'WISE 22'],\n",
    "                          radius = 5*u.arcmin)\n",
    "    except: continue\n",
    "    \n",
    "    to_return = np.zeros([300, 300, 4])\n",
    "    \n",
    "    for j in range(4):\n",
    "        to_return[...,j] = paths[j][0].data\n",
    "        \n",
    "    np.savez_compressed('/project/r/rbond/jorlo/datasets/act_centered_wise_stamps/cluster_{}.npz'.format(str(i).zfill(4)), to_return)\n",
    "    \n",
    "    mask = make_mask_wise(paths[0][0].data, [150, 150], radius*2/300, size = 4.8)\n",
    "\n",
    "    #print(mask.shape)\n",
    "    np.savez_compressed(\"/project/r/rbond/jorlo/datasets/act_centered_wise_stamps/masks/{}_mask\".format(str(i).zfill(4)), mask)"
   ]
  },
  {
   "cell_type": "code",
   "execution_count": null,
   "metadata": {},
   "outputs": [
    {
     "name": "stdout",
     "output_type": "stream",
     "text": [
      "2306\r"
     ]
    }
   ],
   "source": [
    "for i in range(len(ras)):\n",
    "    print(i, end = '\\r')\n",
    "    if os.path.exists('/project/r/rbond/jorlo/datasets/act_centered_wise_stamps/randoms_{}.npz'.format(str(i).zfill(4))):\n",
    "        continue\n",
    "        \n",
    "    theta, dr = np.random.uniform(0, 2*np.pi), np.random.uniform(5,10)\n",
    "    ra, dec = ras[i]*u.deg+np.cos(theta)*dr*u.arcmin, decs[i]*u.deg+np.sin(theta)*dr*u.arcmin\n",
    "    c = SkyCoord(ra, dec)\n",
    "\n",
    "    try:\n",
    "        paths = SkyView.get_images(position=c,\n",
    "                           survey=['WISE 3.4', 'WISE 4.6', 'WISE 12', 'WISE 22'],\n",
    "                          radius = 7*u.arcmin)\n",
    "    except: continue\n",
    "    \n",
    "    to_return = np.zeros([300, 300, 4])\n",
    "    \n",
    "    for j in range(4):\n",
    "        to_return[...,j] = paths[j][0].data\n",
    "        \n",
    "    np.savez_compressed('/project/r/rbond/jorlo/datasets/act_centered_wise_stamps/randoms_{}.npz'.format(str(i).zfill(4)), to_return)"
   ]
  },
  {
   "cell_type": "code",
   "execution_count": 32,
   "metadata": {},
   "outputs": [
    {
     "name": "stdout",
     "output_type": "stream",
     "text": [
      "-0.016666666666666666\n"
     ]
    }
   ],
   "source": [
    "z_cut = 0.\n",
    "radius = 7\n",
    "\n",
    "for i in range(len(ras)):\n",
    "    print(i, end = '\\r')\n",
    "    if zs[i] < z_cut: continue\n",
    "    if os.path.exists('/project/r/rbond/jorlo/datasets/act_centered_wise_stamps/cluster_{}.npz'.format(str(i).zfill(4))):\n",
    "        continue\n",
    "    try:\n",
    "    offset_ra, offset_dec = np.random.rand()*2.5/60, np.random.rand()*2.5/60\n",
    "\n",
    "\n",
    "    c = SkyCoord(ras[i]+offset_ra, decs[i]+offset_dec, unit=\"deg\")\n",
    "    paths = SkyView.get_images(position=c,\n",
    "                               survey=['WISE 3.4', 'WISE 4.6', 'WISE 12', 'WISE 22'],\n",
    "                              radius = radius*u.arcmin)\n",
    "    \n",
    "    except: continue\n",
    "    \n",
    "    to_return = np.zeros([300, 300, 4])\n",
    "    \n",
    "    for j in range(4):\n",
    "        to_return[...,j] = paths[j][0].data\n",
    "        \n",
    "    np.savez_compressed('/project/r/rbond/jorlo/datasets/act_offset_wise_stamps/cluster_{}.npz'.format(str(i).zfill(4)), to_return)\n",
    "    mask = make_mask_wise(paths[0][0].data, [150+(offset_ra*60/(2*radius)*300), 150+(offset_dec*60/(2*radius)*300)], radius*2/300, size = 4.8)\n",
    "    np.savez_compressed(\"/project/r/rbond/jorlo/datasets/act_offset_wise_stamps/masks/{}_mask\".format(str(i).zfill(4)), mask)"
   ]
  },
  {
   "cell_type": "code",
   "execution_count": 44,
   "metadata": {},
   "outputs": [
    {
     "data": {
      "text/plain": [
       "<matplotlib.image.AxesImage at 0x7fe5d973c5e0>"
      ]
     },
     "execution_count": 44,
     "metadata": {},
     "output_type": "execute_result"
    },
    {
     "data": {
      "image/png": "[encoded data removed]",
      "text/plain": [
       "<Figure size 432x288 with 1 Axes>"
      ]
     },
     "metadata": {
      "needs_background": "light"
     },
     "output_type": "display_data"
    }
   ],
   "source": [
    "plt.imshow(mask)"
   ]
  },
  {
   "cell_type": "code",
   "execution_count": 43,
   "metadata": {},
   "outputs": [],
   "source": [
    "c = SkyCoord(ras[500], decs[500], unit=\"deg\")\n",
    "paths = SkyView.get_images(position=c,\n",
    "                           survey=['WISE 3.4', 'WISE 4.6', 'WISE 12', 'WISE 22'],\n",
    "                          radius = radius*u.arcmin)\n",
    "\n",
    "mask = make_mask_wise(paths[0][0].data, [150, 150], radius*2/300, size = 4.8)\n",
    "np.savez_compressed(\"/project/r/rbond/jorlo/datasets/act_centered_wise_stamps/masks/cluster_mask_{}\".format(str(i).zfill(4)), mask)"
   ]
  },
  {
   "cell_type": "code",
   "execution_count": 45,
   "metadata": {},
   "outputs": [],
   "source": [
    "for i, dirname in enumerate(os.listdir('/project/r/rbond/jorlo/datasets/act_centered_wise_stamps/')):\n",
    "    if dirname[0] == 'c':\n",
    "        np.savez_compressed(\"/project/r/rbond/jorlo/datasets/act_centered_wise_stamps/masks/cluster_mask_{}\".format(dirname[8:12]), mask)\n"
   ]
  },
  {
   "cell_type": "code",
   "execution_count": null,
   "metadata": {},
   "outputs": [],
   "source": []
  },
  {
   "cell_type": "code",
   "execution_count": null,
   "metadata": {},
   "outputs": [],
   "source": []
  }
 ],
 "metadata": {
  "kernelspec": {
   "display_name": "general",
   "language": "python",
   "name": "general"
  },
  "language_info": {
   "codemirror_mode": {
    "name": "ipython",
    "version": 3
   },
   "file_extension": ".py",
   "mimetype": "text/x-python",
   "name": "python",
   "nbconvert_exporter": "python",
   "pygments_lexer": "ipython3",
   "version": "3.9.18"
  }
 },
 "nbformat": 4,
 "nbformat_minor": 4
}
